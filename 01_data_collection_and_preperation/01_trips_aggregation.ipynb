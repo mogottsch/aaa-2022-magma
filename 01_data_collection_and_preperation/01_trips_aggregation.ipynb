{
 "cells": [
  {
   "cell_type": "code",
   "execution_count": 1,
   "metadata": {},
   "outputs": [],
   "source": [
    "import pandas as pd\n",
    "import h3"
   ]
  },
  {
   "cell_type": "code",
   "execution_count": 2,
   "metadata": {},
   "outputs": [],
   "source": [
    "import sys, os\n",
    "sys.path.append(os.path.abspath('..'))\n",
    "%load_ext autoreload\n",
    "%autoreload 2\n",
    "\n",
    "from modules.config import *"
   ]
  },
  {
   "cell_type": "code",
   "execution_count": 3,
   "metadata": {},
   "outputs": [
    {
     "data": {
      "text/html": [
       "<div>\n",
       "<style scoped>\n",
       "    .dataframe tbody tr th:only-of-type {\n",
       "        vertical-align: middle;\n",
       "    }\n",
       "\n",
       "    .dataframe tbody tr th {\n",
       "        vertical-align: top;\n",
       "    }\n",
       "\n",
       "    .dataframe thead th {\n",
       "        text-align: right;\n",
       "    }\n",
       "</style>\n",
       "<table border=\"1\" class=\"dataframe\">\n",
       "  <thead>\n",
       "    <tr style=\"text-align: right;\">\n",
       "      <th></th>\n",
       "      <th>p_spot_start</th>\n",
       "      <th>b_battery_pack_start</th>\n",
       "      <th>b_pedelec_battery_start</th>\n",
       "      <th>p_address_start</th>\n",
       "      <th>lat_start</th>\n",
       "      <th>b_lock_types</th>\n",
       "      <th>p_name_start</th>\n",
       "      <th>p_number_start</th>\n",
       "      <th>p_bikes_start</th>\n",
       "      <th>p_uid_start</th>\n",
       "      <th>...</th>\n",
       "      <th>p_booked_bikes_end</th>\n",
       "      <th>lng_end</th>\n",
       "      <th>p_bike_types_end</th>\n",
       "      <th>in_flexzone_end</th>\n",
       "      <th>in_free_flexzone_end</th>\n",
       "      <th>in_charged_flexzone_end</th>\n",
       "      <th>type</th>\n",
       "      <th>min_distance</th>\n",
       "      <th>duration</th>\n",
       "      <th>min_avg_speed</th>\n",
       "    </tr>\n",
       "  </thead>\n",
       "  <tbody>\n",
       "    <tr>\n",
       "      <th>4612</th>\n",
       "      <td>False</td>\n",
       "      <td>NaN</td>\n",
       "      <td>0.0</td>\n",
       "      <td>NaN</td>\n",
       "      <td>51.345996</td>\n",
       "      <td>frame_lock</td>\n",
       "      <td>BIKE 20236</td>\n",
       "      <td>0.0</td>\n",
       "      <td>1</td>\n",
       "      <td>12152153</td>\n",
       "      <td>...</td>\n",
       "      <td>0.0</td>\n",
       "      <td>12.377452</td>\n",
       "      <td>{\"71\": 1}</td>\n",
       "      <td>True</td>\n",
       "      <td>False</td>\n",
       "      <td>True</td>\n",
       "      <td>trip</td>\n",
       "      <td>2.504853</td>\n",
       "      <td>22.0</td>\n",
       "      <td>6.831417</td>\n",
       "    </tr>\n",
       "    <tr>\n",
       "      <th>6583</th>\n",
       "      <td>False</td>\n",
       "      <td>NaN</td>\n",
       "      <td>0.0</td>\n",
       "      <td>NaN</td>\n",
       "      <td>51.325287</td>\n",
       "      <td>frame_lock</td>\n",
       "      <td>BIKE 20236</td>\n",
       "      <td>0.0</td>\n",
       "      <td>1</td>\n",
       "      <td>12162631</td>\n",
       "      <td>...</td>\n",
       "      <td>0.0</td>\n",
       "      <td>12.403814</td>\n",
       "      <td>{\"71\": 1}</td>\n",
       "      <td>True</td>\n",
       "      <td>True</td>\n",
       "      <td>True</td>\n",
       "      <td>trip</td>\n",
       "      <td>2.676814</td>\n",
       "      <td>19.0</td>\n",
       "      <td>8.453096</td>\n",
       "    </tr>\n",
       "  </tbody>\n",
       "</table>\n",
       "<p>2 rows × 49 columns</p>\n",
       "</div>"
      ],
      "text/plain": [
       "      p_spot_start b_battery_pack_start  b_pedelec_battery_start  \\\n",
       "4612         False                  NaN                      0.0   \n",
       "6583         False                  NaN                      0.0   \n",
       "\n",
       "     p_address_start  lat_start b_lock_types p_name_start  p_number_start  \\\n",
       "4612             NaN  51.345996   frame_lock   BIKE 20236             0.0   \n",
       "6583             NaN  51.325287   frame_lock   BIKE 20236             0.0   \n",
       "\n",
       "      p_bikes_start  p_uid_start  ...  p_booked_bikes_end    lng_end  \\\n",
       "4612              1     12152153  ...                 0.0  12.377452   \n",
       "6583              1     12162631  ...                 0.0  12.403814   \n",
       "\n",
       "      p_bike_types_end in_flexzone_end in_free_flexzone_end  \\\n",
       "4612         {\"71\": 1}            True                False   \n",
       "6583         {\"71\": 1}            True                 True   \n",
       "\n",
       "      in_charged_flexzone_end  type  min_distance  duration  min_avg_speed  \n",
       "4612                     True  trip      2.504853      22.0       6.831417  \n",
       "6583                     True  trip      2.676814      19.0       8.453096  \n",
       "\n",
       "[2 rows x 49 columns]"
      ]
     },
     "execution_count": 3,
     "metadata": {},
     "output_type": "execute_result"
    }
   ],
   "source": [
    "trips = pd.read_pickle(TRIPS_PATH)\n",
    "relocations = pd.read_pickle(RELOCATIONS_PATH)\n",
    "movements = pd.read_pickle(MOVEMENTS_PATH)\n",
    "trips.head(2)"
   ]
  },
  {
   "cell_type": "code",
   "execution_count": 4,
   "metadata": {},
   "outputs": [],
   "source": [
    "trips[\"start_hex_id\"] = trips.apply(\n",
    "    lambda row: h3.geo_to_h3(row[\"lat_start\"], row[\"lng_start\"], H3_RESOLUTION), axis=1\n",
    ")\n",
    "trips[\"end_hex_id\"] = trips.apply(\n",
    "\tlambda row: h3.geo_to_h3(row[\"lat_end\"], row[\"lng_end\"], H3_RESOLUTION), axis=1\n",
    ")\n",
    "relocations[\"start_hex_id\"] = relocations.apply(\n",
    "\tlambda row: h3.geo_to_h3(row[\"lat_start\"], row[\"lng_start\"], H3_RESOLUTION), axis=1\n",
    ")\n",
    "relocations[\"end_hex_id\"] = relocations.apply(\n",
    "\tlambda row: h3.geo_to_h3(row[\"lat_end\"], row[\"lng_end\"], H3_RESOLUTION), axis=1\n",
    ")\n",
    "movements[\"start_hex_id\"] = movements.apply(\n",
    "\tlambda row: h3.geo_to_h3(row[\"lat_start\"], row[\"lng_start\"], H3_RESOLUTION), axis=1\n",
    ")\n",
    "movements[\"end_hex_id\"] = movements.apply(\n",
    "\tlambda row: h3.geo_to_h3(row[\"lat_end\"], row[\"lng_end\"], H3_RESOLUTION), axis=1\n",
    ")\n",
    "\n"
   ]
  },
  {
   "cell_type": "code",
   "execution_count": 5,
   "metadata": {},
   "outputs": [
    {
     "data": {
      "text/html": [
       "<div>\n",
       "<style scoped>\n",
       "    .dataframe tbody tr th:only-of-type {\n",
       "        vertical-align: middle;\n",
       "    }\n",
       "\n",
       "    .dataframe tbody tr th {\n",
       "        vertical-align: top;\n",
       "    }\n",
       "\n",
       "    .dataframe thead th {\n",
       "        text-align: right;\n",
       "    }\n",
       "</style>\n",
       "<table border=\"1\" class=\"dataframe\">\n",
       "  <thead>\n",
       "    <tr style=\"text-align: right;\">\n",
       "      <th></th>\n",
       "      <th>start_hex_id</th>\n",
       "      <th>lat_start</th>\n",
       "      <th>lng_start</th>\n",
       "      <th>end_hex_id</th>\n",
       "      <th>lat_end</th>\n",
       "      <th>lng_end</th>\n",
       "    </tr>\n",
       "  </thead>\n",
       "  <tbody>\n",
       "    <tr>\n",
       "      <th>4612</th>\n",
       "      <td>881f1a8cabfffff</td>\n",
       "      <td>51.345996</td>\n",
       "      <td>12.360209</td>\n",
       "      <td>881f1a1643fffff</td>\n",
       "      <td>51.326196</td>\n",
       "      <td>12.377452</td>\n",
       "    </tr>\n",
       "    <tr>\n",
       "      <th>6583</th>\n",
       "      <td>881f1a1643fffff</td>\n",
       "      <td>51.325287</td>\n",
       "      <td>12.377082</td>\n",
       "      <td>881f1ab965fffff</td>\n",
       "      <td>51.342644</td>\n",
       "      <td>12.403814</td>\n",
       "    </tr>\n",
       "  </tbody>\n",
       "</table>\n",
       "</div>"
      ],
      "text/plain": [
       "         start_hex_id  lat_start  lng_start       end_hex_id    lat_end  \\\n",
       "4612  881f1a8cabfffff  51.345996  12.360209  881f1a1643fffff  51.326196   \n",
       "6583  881f1a1643fffff  51.325287  12.377082  881f1ab965fffff  51.342644   \n",
       "\n",
       "        lng_end  \n",
       "4612  12.377452  \n",
       "6583  12.403814  "
      ]
     },
     "execution_count": 5,
     "metadata": {},
     "output_type": "execute_result"
    }
   ],
   "source": [
    "trips[\n",
    "    [\"start_hex_id\", \"lat_start\", \"lng_start\", \"end_hex_id\", \"lat_end\", \"lng_end\"]\n",
    "].head(2)\n"
   ]
  },
  {
   "cell_type": "markdown",
   "metadata": {},
   "source": [
    "### Aggregate Trips by Hexagons"
   ]
  },
  {
   "cell_type": "code",
   "execution_count": 6,
   "metadata": {},
   "outputs": [
    {
     "data": {
      "text/html": [
       "<div>\n",
       "<style scoped>\n",
       "    .dataframe tbody tr th:only-of-type {\n",
       "        vertical-align: middle;\n",
       "    }\n",
       "\n",
       "    .dataframe tbody tr th {\n",
       "        vertical-align: top;\n",
       "    }\n",
       "\n",
       "    .dataframe thead th {\n",
       "        text-align: right;\n",
       "    }\n",
       "</style>\n",
       "<table border=\"1\" class=\"dataframe\">\n",
       "  <thead>\n",
       "    <tr style=\"text-align: right;\">\n",
       "      <th></th>\n",
       "      <th></th>\n",
       "      <th>demand</th>\n",
       "    </tr>\n",
       "    <tr>\n",
       "      <th>start_hex_id</th>\n",
       "      <th>end_hex_id</th>\n",
       "      <th></th>\n",
       "    </tr>\n",
       "  </thead>\n",
       "  <tbody>\n",
       "    <tr>\n",
       "      <th>881f18411dfffff</th>\n",
       "      <th>881f1a8dd3fffff</th>\n",
       "      <td>1</td>\n",
       "    </tr>\n",
       "    <tr>\n",
       "      <th>881f184cadfffff</th>\n",
       "      <th>881f1a8d9bfffff</th>\n",
       "      <td>1</td>\n",
       "    </tr>\n",
       "  </tbody>\n",
       "</table>\n",
       "</div>"
      ],
      "text/plain": [
       "                                 demand\n",
       "start_hex_id    end_hex_id             \n",
       "881f18411dfffff 881f1a8dd3fffff       1\n",
       "881f184cadfffff 881f1a8d9bfffff       1"
      ]
     },
     "execution_count": 6,
     "metadata": {},
     "output_type": "execute_result"
    }
   ],
   "source": [
    "trips_grouped_spatial = (\n",
    "    trips.groupby(\n",
    "        [\"start_hex_id\", \"end_hex_id\"]\n",
    "    )\n",
    "    .size()\n",
    "    .to_frame(\"demand\")\n",
    ")\n",
    "trips_grouped_spatial.head(2)"
   ]
  },
  {
   "cell_type": "code",
   "execution_count": 7,
   "metadata": {},
   "outputs": [],
   "source": [
    "trips_grouped_spatial.to_pickle(TRIPS_GROUPED_SPATIAL_PATH)"
   ]
  },
  {
   "cell_type": "markdown",
   "metadata": {},
   "source": [
    "### Aggregate Trips Spatio-Temporally"
   ]
  },
  {
   "cell_type": "code",
   "execution_count": 8,
   "metadata": {},
   "outputs": [],
   "source": [
    "\n",
    "trips['datetime_start_floored'] = trips['datetime_start'].dt.floor(f'{TIME_INTERVAL_LENGTH}H')\n",
    "relocations['datetime_start_floored'] = relocations['datetime_start'].dt.floor(f'{TIME_INTERVAL_LENGTH}H')\n",
    "movements['datetime_start_floored'] = movements['datetime_start'].dt.floor(f'{TIME_INTERVAL_LENGTH}H')\n",
    "movements['datetime_end_floored'] = movements['datetime_end'].dt.floor(f'{TIME_INTERVAL_LENGTH}H')"
   ]
  },
  {
   "cell_type": "code",
   "execution_count": 9,
   "metadata": {},
   "outputs": [
    {
     "data": {
      "text/plain": [
       "4612   2019-01-22 12:00:00\n",
       "6583   2019-01-23 12:00:00\n",
       "Name: datetime_start_floored, dtype: datetime64[ns]"
      ]
     },
     "execution_count": 9,
     "metadata": {},
     "output_type": "execute_result"
    }
   ],
   "source": [
    "trips.datetime_start_floored.head(2)"
   ]
  },
  {
   "cell_type": "code",
   "execution_count": 10,
   "metadata": {},
   "outputs": [
    {
     "data": {
      "text/html": [
       "<div>\n",
       "<style scoped>\n",
       "    .dataframe tbody tr th:only-of-type {\n",
       "        vertical-align: middle;\n",
       "    }\n",
       "\n",
       "    .dataframe tbody tr th {\n",
       "        vertical-align: top;\n",
       "    }\n",
       "\n",
       "    .dataframe thead th {\n",
       "        text-align: right;\n",
       "    }\n",
       "</style>\n",
       "<table border=\"1\" class=\"dataframe\">\n",
       "  <thead>\n",
       "    <tr style=\"text-align: right;\">\n",
       "      <th></th>\n",
       "      <th></th>\n",
       "      <th></th>\n",
       "      <th>demand</th>\n",
       "    </tr>\n",
       "    <tr>\n",
       "      <th>datetime_start_floored</th>\n",
       "      <th>start_hex_id</th>\n",
       "      <th>end_hex_id</th>\n",
       "      <th></th>\n",
       "    </tr>\n",
       "  </thead>\n",
       "  <tbody>\n",
       "    <tr>\n",
       "      <th rowspan=\"2\" valign=\"top\">2019-01-20</th>\n",
       "      <th>881f1a1601fffff</th>\n",
       "      <th>881f1a1659fffff</th>\n",
       "      <td>3</td>\n",
       "    </tr>\n",
       "    <tr>\n",
       "      <th>881f1a1609fffff</th>\n",
       "      <th>881f1a1643fffff</th>\n",
       "      <td>2</td>\n",
       "    </tr>\n",
       "  </tbody>\n",
       "</table>\n",
       "</div>"
      ],
      "text/plain": [
       "                                                        demand\n",
       "datetime_start_floored start_hex_id    end_hex_id             \n",
       "2019-01-20             881f1a1601fffff 881f1a1659fffff       3\n",
       "                       881f1a1609fffff 881f1a1643fffff       2"
      ]
     },
     "execution_count": 10,
     "metadata": {},
     "output_type": "execute_result"
    }
   ],
   "source": [
    "trips_grouped = (\n",
    "    trips.groupby([\"datetime_start_floored\", \"start_hex_id\", \"end_hex_id\"])\n",
    "    .size()\n",
    "    .to_frame(\"demand\")\n",
    ")\n",
    "relocations_grouped = (\n",
    "    relocations.groupby([\"datetime_start_floored\", \"start_hex_id\", \"end_hex_id\"])\n",
    "    .size()\n",
    "    .to_frame(\"relocations\")\n",
    ")\n",
    "\n",
    "# we group movements by both start and end location and time, as we will use this\n",
    "# to accurately calculate the availability of bicycles at each location at each time\n",
    "movements_grouped = (\n",
    "    movements.groupby(\n",
    "        [\"datetime_start_floored\", \"datetime_end_floored\", \"start_hex_id\", \"end_hex_id\"]\n",
    "    )\n",
    "    .size()\n",
    "    .to_frame(\"movements\")\n",
    ")\n",
    "trips_grouped.head(2)\n"
   ]
  },
  {
   "cell_type": "code",
   "execution_count": 11,
   "metadata": {},
   "outputs": [],
   "source": [
    "trips_grouped.index.names = [\"time_interval_start\", \"start_hex_id\", \"end_hex_id\"]\n",
    "relocations_grouped.index.names = [\"time_interval_start\", \"start_hex_id\", \"end_hex_id\"]\n",
    "movements_grouped.index.names = [\"time_interval_start\", \"time_interval_end\", \"start_hex_id\", \"end_hex_id\"]"
   ]
  },
  {
   "cell_type": "code",
   "execution_count": 12,
   "metadata": {},
   "outputs": [],
   "source": [
    "trips_grouped.to_pickle(TRIPS_GROUPED_SPATIO_TEMPORAL_PATH)\n",
    "relocations_grouped.to_pickle(RELOCATIONS_GROUPED_SPATIO_TEMPORAL_PATH)\n",
    "movements_grouped.to_pickle(MOVEMENTS_GROUPED_SPATIO_TEMPORAL_PATH)"
   ]
  }
 ],
 "metadata": {
  "interpreter": {
   "hash": "6f128d9a36ac5782f4755de02247e2ed06e0bf1d935493c1f1cb8e21863a0d39"
  },
  "kernelspec": {
   "display_name": "Python 3.9.12 ('AAA_MAGMA')",
   "language": "python",
   "name": "python3"
  },
  "language_info": {
   "codemirror_mode": {
    "name": "ipython",
    "version": 3
   },
   "file_extension": ".py",
   "mimetype": "text/x-python",
   "name": "python",
   "nbconvert_exporter": "python",
   "pygments_lexer": "ipython3",
   "version": "3.9.12"
  },
  "orig_nbformat": 4
 },
 "nbformat": 4,
 "nbformat_minor": 2
}
