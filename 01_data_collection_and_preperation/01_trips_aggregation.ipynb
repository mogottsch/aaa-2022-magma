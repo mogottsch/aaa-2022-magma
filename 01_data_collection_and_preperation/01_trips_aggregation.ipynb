{
 "cells": [
  {
   "cell_type": "code",
   "execution_count": 1,
   "metadata": {},
   "outputs": [],
   "source": [
    "import pandas as pd\n",
    "import h3\n",
    "import itertools\n",
    "from tqdm.notebook import tqdm"
   ]
  },
  {
   "cell_type": "code",
   "execution_count": 2,
   "metadata": {},
   "outputs": [],
   "source": [
    "import sys, os\n",
    "sys.path.append(os.path.abspath('..'))\n",
    "%load_ext autoreload\n",
    "%autoreload 2\n",
    "\n",
    "from modules.config import *\n",
    "from modules.preprocessing import aggregate, reduce_mem_usage"
   ]
  },
  {
   "cell_type": "code",
   "execution_count": 3,
   "metadata": {},
   "outputs": [
    {
     "data": {
      "text/plain": "     p_spot_start b_lock_types p_terminal_type_start  p_place_type_start  \\\n500         False   frame_lock                  None                  12   \n747         False   frame_lock                  None                  12   \n\n     p_number_start  p_uid_start  b_number  b_boardcomputer  \\\n500             0.0     12086406     23316       7551004484   \n747             0.0     12100930     23316       7551004484   \n\n         datetime_start  lng_start  ...    lat_end  b_pedelec_battery_end  \\\n500 2019-01-20 01:54:00  12.319806  ...  51.338560                    0.0   \n747 2019-01-20 11:45:00  12.361363  ...  51.332102                    0.0   \n\n     p_bike_types_end  b_battery_pack_end in_free_flexzone_end  \\\n500         {\"71\": 1}                None                 True   \n747         {\"71\": 1}                None                False   \n\n     in_charged_flexzone_end  type  min_distance  duration  min_avg_speed  \n500                     True  trip      3.126285      14.0      13.398364  \n747                     True  trip      0.920725       6.0       9.207247  \n\n[2 rows x 47 columns]",
      "text/html": "<div>\n<style scoped>\n    .dataframe tbody tr th:only-of-type {\n        vertical-align: middle;\n    }\n\n    .dataframe tbody tr th {\n        vertical-align: top;\n    }\n\n    .dataframe thead th {\n        text-align: right;\n    }\n</style>\n<table border=\"1\" class=\"dataframe\">\n  <thead>\n    <tr style=\"text-align: right;\">\n      <th></th>\n      <th>p_spot_start</th>\n      <th>b_lock_types</th>\n      <th>p_terminal_type_start</th>\n      <th>p_place_type_start</th>\n      <th>p_number_start</th>\n      <th>p_uid_start</th>\n      <th>b_number</th>\n      <th>b_boardcomputer</th>\n      <th>datetime_start</th>\n      <th>lng_start</th>\n      <th>...</th>\n      <th>lat_end</th>\n      <th>b_pedelec_battery_end</th>\n      <th>p_bike_types_end</th>\n      <th>b_battery_pack_end</th>\n      <th>in_free_flexzone_end</th>\n      <th>in_charged_flexzone_end</th>\n      <th>type</th>\n      <th>min_distance</th>\n      <th>duration</th>\n      <th>min_avg_speed</th>\n    </tr>\n  </thead>\n  <tbody>\n    <tr>\n      <th>500</th>\n      <td>False</td>\n      <td>frame_lock</td>\n      <td>None</td>\n      <td>12</td>\n      <td>0.0</td>\n      <td>12086406</td>\n      <td>23316</td>\n      <td>7551004484</td>\n      <td>2019-01-20 01:54:00</td>\n      <td>12.319806</td>\n      <td>...</td>\n      <td>51.338560</td>\n      <td>0.0</td>\n      <td>{\"71\": 1}</td>\n      <td>None</td>\n      <td>True</td>\n      <td>True</td>\n      <td>trip</td>\n      <td>3.126285</td>\n      <td>14.0</td>\n      <td>13.398364</td>\n    </tr>\n    <tr>\n      <th>747</th>\n      <td>False</td>\n      <td>frame_lock</td>\n      <td>None</td>\n      <td>12</td>\n      <td>0.0</td>\n      <td>12100930</td>\n      <td>23316</td>\n      <td>7551004484</td>\n      <td>2019-01-20 11:45:00</td>\n      <td>12.361363</td>\n      <td>...</td>\n      <td>51.332102</td>\n      <td>0.0</td>\n      <td>{\"71\": 1}</td>\n      <td>None</td>\n      <td>False</td>\n      <td>True</td>\n      <td>trip</td>\n      <td>0.920725</td>\n      <td>6.0</td>\n      <td>9.207247</td>\n    </tr>\n  </tbody>\n</table>\n<p>2 rows × 47 columns</p>\n</div>"
     },
     "execution_count": 3,
     "metadata": {},
     "output_type": "execute_result"
    }
   ],
   "source": [
    "trips = pd.read_parquet(TRIPS_PATH.replace(\".pkl\", \".parquet\"))\n",
    "relocations = pd.read_parquet(RELOCATIONS_PATH.replace(\".pkl\", \".parquet\"))\n",
    "movements = pd.read_parquet(MOVEMENTS_PATH.replace(\".pkl\", \".parquet\"))\n",
    "trips.head(2)"
   ]
  },
  {
   "cell_type": "code",
   "execution_count": 4,
   "metadata": {},
   "outputs": [
    {
     "data": {
      "text/plain": "  0%|          | 0/36 [00:00<?, ?it/s]",
      "application/vnd.jupyter.widget-view+json": {
       "version_major": 2,
       "version_minor": 0,
       "model_id": "bc4b613757aa48c8a93754ce2d627af8"
      }
     },
     "metadata": {},
     "output_type": "display_data"
    }
   ],
   "source": [
    "trip_dfs = []\n",
    "relocation_dfs = []\n",
    "movement_dfs = []\n",
    "\n",
    "for h3_res, time_interval_length, df_type in tqdm(\n",
    "    list(\n",
    "        itertools.product(\n",
    "            CALC_H3_RESOLUTIONS,\n",
    "            CALC_TIME_INTERVAL_LENGTHS,\n",
    "            [\"trip\", \"relocation\", \"movement\"],\n",
    "        )\n",
    "    )\n",
    "):\n",
    "    df = aggregate(\n",
    "        trips\n",
    "        if df_type == \"trip\"\n",
    "        else relocations\n",
    "        if df_type == \"relocation\"\n",
    "        else movements,\n",
    "        h3_res,\n",
    "        time_interval_length,\n",
    "        start_and_end=df_type == \"movement\",\n",
    "    )\n",
    "    df = df.reset_index()\n",
    "    df[\"h3_res\"] = h3_res\n",
    "    df[\"time_interval_length\"] = time_interval_length\n",
    "\n",
    "    if df_type == \"trip\":\n",
    "        trip_dfs.append(df)\n",
    "    elif df_type == \"relocation\":\n",
    "        relocation_dfs.append(df)\n",
    "    elif df_type == \"movement\":\n",
    "        movement_dfs.append(df)\n"
   ]
  },
  {
   "cell_type": "code",
   "execution_count": 5,
   "metadata": {},
   "outputs": [
    {
     "data": {
      "text/plain": "  datetime_start_floored     start_hex_id       end_hex_id  demand  h3_res  \\\n0             2019-01-20  871f1a164ffffff  871f1a164ffffff       1       7   \n1             2019-01-20  871f1a164ffffff  871f1a8c8ffffff       2       7   \n\n   time_interval_length  \n0                     1  \n1                     1  ",
      "text/html": "<div>\n<style scoped>\n    .dataframe tbody tr th:only-of-type {\n        vertical-align: middle;\n    }\n\n    .dataframe tbody tr th {\n        vertical-align: top;\n    }\n\n    .dataframe thead th {\n        text-align: right;\n    }\n</style>\n<table border=\"1\" class=\"dataframe\">\n  <thead>\n    <tr style=\"text-align: right;\">\n      <th></th>\n      <th>datetime_start_floored</th>\n      <th>start_hex_id</th>\n      <th>end_hex_id</th>\n      <th>demand</th>\n      <th>h3_res</th>\n      <th>time_interval_length</th>\n    </tr>\n  </thead>\n  <tbody>\n    <tr>\n      <th>0</th>\n      <td>2019-01-20</td>\n      <td>871f1a164ffffff</td>\n      <td>871f1a164ffffff</td>\n      <td>1</td>\n      <td>7</td>\n      <td>1</td>\n    </tr>\n    <tr>\n      <th>1</th>\n      <td>2019-01-20</td>\n      <td>871f1a164ffffff</td>\n      <td>871f1a8c8ffffff</td>\n      <td>2</td>\n      <td>7</td>\n      <td>1</td>\n    </tr>\n  </tbody>\n</table>\n</div>"
     },
     "execution_count": 5,
     "metadata": {},
     "output_type": "execute_result"
    }
   ],
   "source": [
    "trip_df = pd.concat(trip_dfs)\n",
    "relocation_df = pd.concat(relocation_dfs)\n",
    "movement_df = pd.concat(movement_dfs)\n",
    "\n",
    "trip_df.head(2)"
   ]
  },
  {
   "cell_type": "code",
   "execution_count": 6,
   "metadata": {},
   "outputs": [
    {
     "data": {
      "text/plain": "227.1425552368164"
     },
     "execution_count": 6,
     "metadata": {},
     "output_type": "execute_result"
    }
   ],
   "source": [
    "trip_df.memory_usage().sum() / 1024**2"
   ]
  },
  {
   "cell_type": "code",
   "execution_count": 7,
   "metadata": {},
   "outputs": [
    {
     "name": "stdout",
     "output_type": "stream",
     "text": [
      "Memory usage of dataframe is 227.14 MB\n",
      "Memory usage after optimization is: 198.75 MB\n",
      "Decreased by 12.5%\n",
      "Memory usage of dataframe is 33.54 MB\n",
      "Memory usage after optimization is: 29.35 MB\n",
      "Decreased by 12.5%\n",
      "Memory usage of dataframe is 428.28 MB\n",
      "Memory usage after optimization is: 381.44 MB\n",
      "Decreased by 10.9%\n"
     ]
    }
   ],
   "source": [
    "trip_df = reduce_mem_usage(trip_df)\n",
    "relocation_df = reduce_mem_usage(relocation_df)\n",
    "movement_df = reduce_mem_usage(movement_df)"
   ]
  },
  {
   "cell_type": "code",
   "execution_count": 8,
   "metadata": {},
   "outputs": [],
   "source": [
    "trip_df.to_parquet(TRIPS_GROUPED_SPATIO_TEMPORAL_PATH)\n",
    "relocation_df.to_parquet(RELOCATIONS_GROUPED_SPATIO_TEMPORAL_PATH)\n",
    "movement_df.to_parquet(MOVEMENTS_GROUPED_SPATIO_TEMPORAL_PATH)"
   ]
  },
  {
   "cell_type": "code",
   "execution_count": 10,
   "outputs": [
    {
     "data": {
      "text/plain": "       datetime_start_floored     start_hex_id       end_hex_id  demand  \\\n0                  2019-01-20  871f1a164ffffff  871f1a164ffffff       1   \n1                  2019-01-20  871f1a164ffffff  871f1a8c8ffffff       2   \n2                  2019-01-20  871f1a164ffffff  871f1a8cbffffff       1   \n3                  2019-01-20  871f1a164ffffff  871f1a8d9ffffff       3   \n4                  2019-01-20  871f1a165ffffff  871f1ab96ffffff       1   \n...                       ...              ...              ...     ...   \n494293             2019-12-30  891f1abb267ffff  891f1abb27bffff       2   \n494294             2019-12-30  891f1abb27bffff  891f1abb243ffff       1   \n494295             2019-12-30  891f1abb63bffff  891f1a8cda7ffff       1   \n494296             2019-12-30  891f1abb63bffff  891f1ab968bffff       1   \n494297             2019-12-30  891f1abb63bffff  891f1ab96d7ffff       1   \n\n        h3_res  time_interval_length  \n0            7                     1  \n1            7                     1  \n2            7                     1  \n3            7                     1  \n4            7                     1  \n...        ...                   ...  \n494293       9                    24  \n494294       9                    24  \n494295       9                    24  \n494296       9                    24  \n494297       9                    24  \n\n[4253147 rows x 6 columns]",
      "text/html": "<div>\n<style scoped>\n    .dataframe tbody tr th:only-of-type {\n        vertical-align: middle;\n    }\n\n    .dataframe tbody tr th {\n        vertical-align: top;\n    }\n\n    .dataframe thead th {\n        text-align: right;\n    }\n</style>\n<table border=\"1\" class=\"dataframe\">\n  <thead>\n    <tr style=\"text-align: right;\">\n      <th></th>\n      <th>datetime_start_floored</th>\n      <th>start_hex_id</th>\n      <th>end_hex_id</th>\n      <th>demand</th>\n      <th>h3_res</th>\n      <th>time_interval_length</th>\n    </tr>\n  </thead>\n  <tbody>\n    <tr>\n      <th>0</th>\n      <td>2019-01-20</td>\n      <td>871f1a164ffffff</td>\n      <td>871f1a164ffffff</td>\n      <td>1</td>\n      <td>7</td>\n      <td>1</td>\n    </tr>\n    <tr>\n      <th>1</th>\n      <td>2019-01-20</td>\n      <td>871f1a164ffffff</td>\n      <td>871f1a8c8ffffff</td>\n      <td>2</td>\n      <td>7</td>\n      <td>1</td>\n    </tr>\n    <tr>\n      <th>2</th>\n      <td>2019-01-20</td>\n      <td>871f1a164ffffff</td>\n      <td>871f1a8cbffffff</td>\n      <td>1</td>\n      <td>7</td>\n      <td>1</td>\n    </tr>\n    <tr>\n      <th>3</th>\n      <td>2019-01-20</td>\n      <td>871f1a164ffffff</td>\n      <td>871f1a8d9ffffff</td>\n      <td>3</td>\n      <td>7</td>\n      <td>1</td>\n    </tr>\n    <tr>\n      <th>4</th>\n      <td>2019-01-20</td>\n      <td>871f1a165ffffff</td>\n      <td>871f1ab96ffffff</td>\n      <td>1</td>\n      <td>7</td>\n      <td>1</td>\n    </tr>\n    <tr>\n      <th>...</th>\n      <td>...</td>\n      <td>...</td>\n      <td>...</td>\n      <td>...</td>\n      <td>...</td>\n      <td>...</td>\n    </tr>\n    <tr>\n      <th>494293</th>\n      <td>2019-12-30</td>\n      <td>891f1abb267ffff</td>\n      <td>891f1abb27bffff</td>\n      <td>2</td>\n      <td>9</td>\n      <td>24</td>\n    </tr>\n    <tr>\n      <th>494294</th>\n      <td>2019-12-30</td>\n      <td>891f1abb27bffff</td>\n      <td>891f1abb243ffff</td>\n      <td>1</td>\n      <td>9</td>\n      <td>24</td>\n    </tr>\n    <tr>\n      <th>494295</th>\n      <td>2019-12-30</td>\n      <td>891f1abb63bffff</td>\n      <td>891f1a8cda7ffff</td>\n      <td>1</td>\n      <td>9</td>\n      <td>24</td>\n    </tr>\n    <tr>\n      <th>494296</th>\n      <td>2019-12-30</td>\n      <td>891f1abb63bffff</td>\n      <td>891f1ab968bffff</td>\n      <td>1</td>\n      <td>9</td>\n      <td>24</td>\n    </tr>\n    <tr>\n      <th>494297</th>\n      <td>2019-12-30</td>\n      <td>891f1abb63bffff</td>\n      <td>891f1ab96d7ffff</td>\n      <td>1</td>\n      <td>9</td>\n      <td>24</td>\n    </tr>\n  </tbody>\n</table>\n<p>4253147 rows × 6 columns</p>\n</div>"
     },
     "execution_count": 10,
     "metadata": {},
     "output_type": "execute_result"
    }
   ],
   "source": [
    "trip_df"
   ],
   "metadata": {
    "collapsed": false,
    "pycharm": {
     "name": "#%%\n"
    }
   }
  }
 ],
 "metadata": {
  "interpreter": {
   "hash": "6f128d9a36ac5782f4755de02247e2ed06e0bf1d935493c1f1cb8e21863a0d39"
  },
  "kernelspec": {
   "display_name": "Python 3.9.12 ('AAA_MAGMA')",
   "language": "python",
   "name": "python3"
  },
  "language_info": {
   "codemirror_mode": {
    "name": "ipython",
    "version": 3
   },
   "file_extension": ".py",
   "mimetype": "text/x-python",
   "name": "python",
   "nbconvert_exporter": "python",
   "pygments_lexer": "ipython3",
   "version": "3.9.12"
  },
  "orig_nbformat": 4
 },
 "nbformat": 4,
 "nbformat_minor": 2
}