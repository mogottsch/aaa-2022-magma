{
 "cells": [
  {
   "cell_type": "code",
   "execution_count": 32,
   "metadata": {},
   "outputs": [],
   "source": [
    "import pandas as pd\n",
    "import h3\n",
    "import itertools\n",
    "from tqdm.notebook import tqdm"
   ]
  },
  {
   "cell_type": "code",
   "execution_count": 33,
   "metadata": {},
   "outputs": [
    {
     "name": "stdout",
     "output_type": "stream",
     "text": [
      "The autoreload extension is already loaded. To reload it, use:\n",
      "  %reload_ext autoreload\n"
     ]
    }
   ],
   "source": [
    "import sys, os\n",
    "sys.path.append(os.path.abspath('..'))\n",
    "%load_ext autoreload\n",
    "%autoreload 2\n",
    "\n",
    "from modules.config import *\n",
    "from modules.preprocessing import aggregate, reduce_mem_usage"
   ]
  },
  {
   "cell_type": "code",
   "execution_count": 3,
   "metadata": {},
   "outputs": [
    {
     "data": {
      "text/html": [
       "<div>\n",
       "<style scoped>\n",
       "    .dataframe tbody tr th:only-of-type {\n",
       "        vertical-align: middle;\n",
       "    }\n",
       "\n",
       "    .dataframe tbody tr th {\n",
       "        vertical-align: top;\n",
       "    }\n",
       "\n",
       "    .dataframe thead th {\n",
       "        text-align: right;\n",
       "    }\n",
       "</style>\n",
       "<table border=\"1\" class=\"dataframe\">\n",
       "  <thead>\n",
       "    <tr style=\"text-align: right;\">\n",
       "      <th></th>\n",
       "      <th>p_spot_start</th>\n",
       "      <th>b_battery_pack_start</th>\n",
       "      <th>b_pedelec_battery_start</th>\n",
       "      <th>p_address_start</th>\n",
       "      <th>lat_start</th>\n",
       "      <th>b_lock_types</th>\n",
       "      <th>p_name_start</th>\n",
       "      <th>p_number_start</th>\n",
       "      <th>p_bikes_start</th>\n",
       "      <th>p_uid_start</th>\n",
       "      <th>...</th>\n",
       "      <th>p_terminal_type_end</th>\n",
       "      <th>p_booked_bikes_end</th>\n",
       "      <th>lng_end</th>\n",
       "      <th>p_bike_types_end</th>\n",
       "      <th>in_free_flexzone_end</th>\n",
       "      <th>in_charged_flexzone_end</th>\n",
       "      <th>type</th>\n",
       "      <th>min_distance</th>\n",
       "      <th>duration</th>\n",
       "      <th>min_avg_speed</th>\n",
       "    </tr>\n",
       "    <tr>\n",
       "      <th>index</th>\n",
       "      <th></th>\n",
       "      <th></th>\n",
       "      <th></th>\n",
       "      <th></th>\n",
       "      <th></th>\n",
       "      <th></th>\n",
       "      <th></th>\n",
       "      <th></th>\n",
       "      <th></th>\n",
       "      <th></th>\n",
       "      <th></th>\n",
       "      <th></th>\n",
       "      <th></th>\n",
       "      <th></th>\n",
       "      <th></th>\n",
       "      <th></th>\n",
       "      <th></th>\n",
       "      <th></th>\n",
       "      <th></th>\n",
       "      <th></th>\n",
       "      <th></th>\n",
       "    </tr>\n",
       "  </thead>\n",
       "  <tbody>\n",
       "    <tr>\n",
       "      <th>1242</th>\n",
       "      <td>False</td>\n",
       "      <td>None</td>\n",
       "      <td>0.0</td>\n",
       "      <td>None</td>\n",
       "      <td>51.361585</td>\n",
       "      <td>frame_lock</td>\n",
       "      <td>BIKE 23341</td>\n",
       "      <td>0.0</td>\n",
       "      <td>1</td>\n",
       "      <td>12110922</td>\n",
       "      <td>...</td>\n",
       "      <td>free</td>\n",
       "      <td>0.0</td>\n",
       "      <td>12.367135</td>\n",
       "      <td>{\"71\": 5}</td>\n",
       "      <td>True</td>\n",
       "      <td>True</td>\n",
       "      <td>trip</td>\n",
       "      <td>0.954800</td>\n",
       "      <td>7.0</td>\n",
       "      <td>8.183999</td>\n",
       "    </tr>\n",
       "    <tr>\n",
       "      <th>18171</th>\n",
       "      <td>False</td>\n",
       "      <td>None</td>\n",
       "      <td>0.0</td>\n",
       "      <td>None</td>\n",
       "      <td>51.306756</td>\n",
       "      <td>frame_lock</td>\n",
       "      <td>BIKE 23341</td>\n",
       "      <td>0.0</td>\n",
       "      <td>1</td>\n",
       "      <td>8507302</td>\n",
       "      <td>...</td>\n",
       "      <td>None</td>\n",
       "      <td>0.0</td>\n",
       "      <td>12.377438</td>\n",
       "      <td>{\"71\": 1}</td>\n",
       "      <td>False</td>\n",
       "      <td>True</td>\n",
       "      <td>trip</td>\n",
       "      <td>0.279204</td>\n",
       "      <td>295.0</td>\n",
       "      <td>0.056787</td>\n",
       "    </tr>\n",
       "  </tbody>\n",
       "</table>\n",
       "<p>2 rows × 47 columns</p>\n",
       "</div>"
      ],
      "text/plain": [
       "       p_spot_start b_battery_pack_start  b_pedelec_battery_start  \\\n",
       "index                                                               \n",
       "1242          False                 None                      0.0   \n",
       "18171         False                 None                      0.0   \n",
       "\n",
       "      p_address_start  lat_start b_lock_types p_name_start  p_number_start  \\\n",
       "index                                                                        \n",
       "1242             None  51.361585   frame_lock   BIKE 23341             0.0   \n",
       "18171            None  51.306756   frame_lock   BIKE 23341             0.0   \n",
       "\n",
       "       p_bikes_start  p_uid_start  ...  p_terminal_type_end  \\\n",
       "index                              ...                        \n",
       "1242               1     12110922  ...                 free   \n",
       "18171              1      8507302  ...                 None   \n",
       "\n",
       "      p_booked_bikes_end    lng_end p_bike_types_end in_free_flexzone_end  \\\n",
       "index                                                                       \n",
       "1242                 0.0  12.367135        {\"71\": 5}                 True   \n",
       "18171                0.0  12.377438        {\"71\": 1}                False   \n",
       "\n",
       "       in_charged_flexzone_end  type  min_distance  duration  min_avg_speed  \n",
       "index                                                                        \n",
       "1242                      True  trip      0.954800       7.0       8.183999  \n",
       "18171                     True  trip      0.279204     295.0       0.056787  \n",
       "\n",
       "[2 rows x 47 columns]"
      ]
     },
     "execution_count": 3,
     "metadata": {},
     "output_type": "execute_result"
    }
   ],
   "source": [
    "trips = pd.read_parquet(TRIPS_PATH.replace(\".pkl\", \".parquet\"))\n",
    "relocations = pd.read_parquet(RELOCATIONS_PATH.replace(\".pkl\", \".parquet\"))\n",
    "movements = pd.read_parquet(MOVEMENTS_PATH.replace(\".pkl\", \".parquet\"))\n",
    "trips.head(2)"
   ]
  },
  {
   "cell_type": "code",
   "execution_count": 4,
   "metadata": {},
   "outputs": [
    {
     "data": {
      "application/vnd.jupyter.widget-view+json": {
       "model_id": "f88198d24d6c447ba41c4d8c4d99f928",
       "version_major": 2,
       "version_minor": 0
      },
      "text/plain": [
       "  0%|          | 0/36 [00:00<?, ?it/s]"
      ]
     },
     "metadata": {},
     "output_type": "display_data"
    }
   ],
   "source": [
    "trip_dfs = []\n",
    "relocation_dfs = []\n",
    "movement_dfs = []\n",
    "\n",
    "for h3_res, time_interval_length, df_type in tqdm(\n",
    "    list(\n",
    "        itertools.product(\n",
    "            CALC_H3_RESOLUTIONS,\n",
    "            CALC_TIME_INTERVAL_LENGTHS,\n",
    "            [\"trip\", \"relocation\", \"movement\"],\n",
    "        )\n",
    "    )\n",
    "):\n",
    "    df = aggregate(\n",
    "        trips\n",
    "        if df_type == \"trip\"\n",
    "        else relocations\n",
    "        if df_type == \"relocation\"\n",
    "        else movements,\n",
    "        h3_res,\n",
    "        time_interval_length,\n",
    "        start_and_end=df_type == \"movement\",\n",
    "    )\n",
    "    df = df.reset_index()\n",
    "    df[\"h3_res\"] = h3_res\n",
    "    df[\"time_interval_length\"] = time_interval_length\n",
    "\n",
    "    if df_type == \"trip\":\n",
    "        trip_dfs.append(df)\n",
    "    elif df_type == \"relocation\":\n",
    "        relocation_dfs.append(df)\n",
    "    elif df_type == \"movement\":\n",
    "        movement_dfs.append(df)\n"
   ]
  },
  {
   "cell_type": "code",
   "execution_count": 5,
   "metadata": {},
   "outputs": [
    {
     "data": {
      "text/html": [
       "<div>\n",
       "<style scoped>\n",
       "    .dataframe tbody tr th:only-of-type {\n",
       "        vertical-align: middle;\n",
       "    }\n",
       "\n",
       "    .dataframe tbody tr th {\n",
       "        vertical-align: top;\n",
       "    }\n",
       "\n",
       "    .dataframe thead th {\n",
       "        text-align: right;\n",
       "    }\n",
       "</style>\n",
       "<table border=\"1\" class=\"dataframe\">\n",
       "  <thead>\n",
       "    <tr style=\"text-align: right;\">\n",
       "      <th></th>\n",
       "      <th>datetime_start_floored</th>\n",
       "      <th>start_hex_id</th>\n",
       "      <th>end_hex_id</th>\n",
       "      <th>demand</th>\n",
       "      <th>h3_res</th>\n",
       "      <th>time_interval_length</th>\n",
       "    </tr>\n",
       "  </thead>\n",
       "  <tbody>\n",
       "    <tr>\n",
       "      <th>0</th>\n",
       "      <td>2019-01-20</td>\n",
       "      <td>871f1a164ffffff</td>\n",
       "      <td>871f1a164ffffff</td>\n",
       "      <td>1</td>\n",
       "      <td>7</td>\n",
       "      <td>1</td>\n",
       "    </tr>\n",
       "    <tr>\n",
       "      <th>1</th>\n",
       "      <td>2019-01-20</td>\n",
       "      <td>871f1a164ffffff</td>\n",
       "      <td>871f1a8c8ffffff</td>\n",
       "      <td>2</td>\n",
       "      <td>7</td>\n",
       "      <td>1</td>\n",
       "    </tr>\n",
       "  </tbody>\n",
       "</table>\n",
       "</div>"
      ],
      "text/plain": [
       "  datetime_start_floored     start_hex_id       end_hex_id  demand  h3_res  \\\n",
       "0             2019-01-20  871f1a164ffffff  871f1a164ffffff       1       7   \n",
       "1             2019-01-20  871f1a164ffffff  871f1a8c8ffffff       2       7   \n",
       "\n",
       "   time_interval_length  \n",
       "0                     1  \n",
       "1                     1  "
      ]
     },
     "execution_count": 5,
     "metadata": {},
     "output_type": "execute_result"
    }
   ],
   "source": [
    "trip_df = pd.concat(trip_dfs)\n",
    "relocation_df = pd.concat(relocation_dfs)\n",
    "movement_df = pd.concat(movement_dfs)\n",
    "\n",
    "trip_df.head(2)"
   ]
  },
  {
   "cell_type": "code",
   "execution_count": 34,
   "metadata": {},
   "outputs": [
    {
     "data": {
      "text/plain": [
       "227.1425552368164"
      ]
     },
     "execution_count": 34,
     "metadata": {},
     "output_type": "execute_result"
    }
   ],
   "source": [
    "trip_df.memory_usage().sum() / 1024**2"
   ]
  },
  {
   "cell_type": "code",
   "execution_count": 36,
   "metadata": {},
   "outputs": [
    {
     "name": "stdout",
     "output_type": "stream",
     "text": [
      "Memory usage of dataframe is 198.75 MB\n",
      "Memory usage after optimization is: 198.75 MB\n",
      "Decreased by 0.0%\n",
      "Memory usage of dataframe is 33.54 MB\n",
      "Memory usage after optimization is: 29.35 MB\n",
      "Decreased by 12.5%\n",
      "Memory usage of dataframe is 428.28 MB\n",
      "Memory usage after optimization is: 381.44 MB\n",
      "Decreased by 10.9%\n"
     ]
    }
   ],
   "source": [
    "trip_df = reduce_mem_usage(trip_df)\n",
    "relocation_df = reduce_mem_usage(relocation_df)\n",
    "movement_df = reduce_mem_usage(movement_df)"
   ]
  },
  {
   "cell_type": "code",
   "execution_count": 37,
   "metadata": {},
   "outputs": [],
   "source": [
    "trip_df.to_parquet(TRIPS_GROUPED_SPATIO_TEMPORAL_PATH)\n",
    "relocation_df.to_parquet(RELOCATIONS_GROUPED_SPATIO_TEMPORAL_PATH)\n",
    "movement_df.to_parquet(MOVEMENTS_GROUPED_SPATIO_TEMPORAL_PATH)"
   ]
  }
 ],
 "metadata": {
  "interpreter": {
   "hash": "6f128d9a36ac5782f4755de02247e2ed06e0bf1d935493c1f1cb8e21863a0d39"
  },
  "kernelspec": {
   "display_name": "Python 3.9.12 ('AAA_MAGMA')",
   "language": "python",
   "name": "python3"
  },
  "language_info": {
   "codemirror_mode": {
    "name": "ipython",
    "version": 3
   },
   "file_extension": ".py",
   "mimetype": "text/x-python",
   "name": "python",
   "nbconvert_exporter": "python",
   "pygments_lexer": "ipython3",
   "version": "3.9.12"
  },
  "orig_nbformat": 4
 },
 "nbformat": 4,
 "nbformat_minor": 2
}
