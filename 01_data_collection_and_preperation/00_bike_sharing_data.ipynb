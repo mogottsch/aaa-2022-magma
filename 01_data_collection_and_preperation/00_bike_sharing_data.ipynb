{
 "cells": [
  {
   "cell_type": "code",
   "execution_count": 1,
   "metadata": {},
   "outputs": [],
   "source": [
    "import tarfile\n",
    "import pandas as pd\n",
    "import os\n",
    "from tqdm.notebook import tqdm"
   ]
  },
  {
   "cell_type": "code",
   "execution_count": 2,
   "metadata": {},
   "outputs": [],
   "source": [
    "data_dir_path = \"../00_data\"\n",
    "tarfile_path = os.path.join(data_dir_path, \"leipzig.tar\")\n",
    "unpacked_path = os.path.join(data_dir_path, \"leipzig\")\n"
   ]
  },
  {
   "cell_type": "code",
   "execution_count": 3,
   "metadata": {},
   "outputs": [],
   "source": [
    "# Unpack\n",
    "with tarfile.open(tarfile_path, 'r') as tar:\n",
    "\ttar.extractall(data_dir_path)"
   ]
  },
  {
   "cell_type": "code",
   "execution_count": 4,
   "metadata": {},
   "outputs": [
    {
     "data": {
      "text/plain": [
       "['../00_data/leipzig/2020/01/positions_nextbike_leipzig_2020_01_03.csv',\n",
       " '../00_data/leipzig/2020/01/positions_nextbike_leipzig_2020_01_13.csv',\n",
       " '../00_data/leipzig/2020/01/positions_nextbike_leipzig_2020_01_19.csv',\n",
       " '../00_data/leipzig/2020/01/positions_nextbike_leipzig_2020_01_06.csv',\n",
       " '../00_data/leipzig/2020/01/positions_nextbike_leipzig_2020_01_01.csv']"
      ]
     },
     "execution_count": 4,
     "metadata": {},
     "output_type": "execute_result"
    }
   ],
   "source": [
    "# find all csv files in the unpacked directory\n",
    "csv_files = []\n",
    "\n",
    "def get_csv_files_recursively(path):\n",
    "\tfor file in os.listdir(path):\n",
    "\t\tif os.path.isdir(os.path.join(path, file)):\n",
    "\t\t\tget_csv_files_recursively(os.path.join(path, file))\n",
    "\t\telif file.endswith(\".csv\"):\n",
    "\t\t\tcsv_files.append(os.path.join(path, file))\n",
    "\n",
    "get_csv_files_recursively(unpacked_path)\n",
    "\n",
    "csv_files[:5]"
   ]
  },
  {
   "cell_type": "code",
   "execution_count": 5,
   "metadata": {},
   "outputs": [],
   "source": [
    "data_df = pd.concat(map(pd.read_csv, csv_files))"
   ]
  },
  {
   "cell_type": "code",
   "execution_count": 6,
   "metadata": {},
   "outputs": [
    {
     "data": {
      "text/html": [
       "<div>\n",
       "<style scoped>\n",
       "    .dataframe tbody tr th:only-of-type {\n",
       "        vertical-align: middle;\n",
       "    }\n",
       "\n",
       "    .dataframe tbody tr th {\n",
       "        vertical-align: top;\n",
       "    }\n",
       "\n",
       "    .dataframe thead th {\n",
       "        text-align: right;\n",
       "    }\n",
       "</style>\n",
       "<table border=\"1\" class=\"dataframe\">\n",
       "  <thead>\n",
       "    <tr style=\"text-align: right;\">\n",
       "      <th></th>\n",
       "      <th>p_spot</th>\n",
       "      <th>p_free_racks</th>\n",
       "      <th>b_battery_pack</th>\n",
       "      <th>b_active</th>\n",
       "      <th>b_pedelec_battery</th>\n",
       "      <th>p_address</th>\n",
       "      <th>p_bike_racks</th>\n",
       "      <th>p_lat</th>\n",
       "      <th>b_lock_types</th>\n",
       "      <th>p_free_special_racks</th>\n",
       "      <th>...</th>\n",
       "      <th>p_booked_bikes</th>\n",
       "      <th>b_electric_lock</th>\n",
       "      <th>p_lng</th>\n",
       "      <th>p_rack_locks</th>\n",
       "      <th>b_number</th>\n",
       "      <th>p_bike_types</th>\n",
       "      <th>p_maintenance</th>\n",
       "      <th>p_special_racks</th>\n",
       "      <th>b_boardcomputer</th>\n",
       "      <th>city</th>\n",
       "    </tr>\n",
       "  </thead>\n",
       "  <tbody>\n",
       "    <tr>\n",
       "      <th>0</th>\n",
       "      <td>True</td>\n",
       "      <td>0</td>\n",
       "      <td>NaN</td>\n",
       "      <td>True</td>\n",
       "      <td>NaN</td>\n",
       "      <td>NaN</td>\n",
       "      <td>0</td>\n",
       "      <td>51.34397</td>\n",
       "      <td>frame_lock</td>\n",
       "      <td>0.0</td>\n",
       "      <td>...</td>\n",
       "      <td>0</td>\n",
       "      <td>True</td>\n",
       "      <td>12.383174</td>\n",
       "      <td>False</td>\n",
       "      <td>23138</td>\n",
       "      <td>{\"71\": 1}</td>\n",
       "      <td>False</td>\n",
       "      <td>0.0</td>\n",
       "      <td>7551005157</td>\n",
       "      <td>leipzig</td>\n",
       "    </tr>\n",
       "    <tr>\n",
       "      <th>1</th>\n",
       "      <td>True</td>\n",
       "      <td>0</td>\n",
       "      <td>NaN</td>\n",
       "      <td>True</td>\n",
       "      <td>NaN</td>\n",
       "      <td>NaN</td>\n",
       "      <td>0</td>\n",
       "      <td>51.34397</td>\n",
       "      <td>frame_lock</td>\n",
       "      <td>0.0</td>\n",
       "      <td>...</td>\n",
       "      <td>0</td>\n",
       "      <td>True</td>\n",
       "      <td>12.383174</td>\n",
       "      <td>False</td>\n",
       "      <td>23138</td>\n",
       "      <td>{\"71\": 3}</td>\n",
       "      <td>False</td>\n",
       "      <td>0.0</td>\n",
       "      <td>7551005157</td>\n",
       "      <td>leipzig</td>\n",
       "    </tr>\n",
       "  </tbody>\n",
       "</table>\n",
       "<p>2 rows × 31 columns</p>\n",
       "</div>"
      ],
      "text/plain": [
       "   p_spot  p_free_racks b_battery_pack  b_active  b_pedelec_battery p_address  \\\n",
       "0    True             0            NaN      True                NaN       NaN   \n",
       "1    True             0            NaN      True                NaN       NaN   \n",
       "\n",
       "   p_bike_racks     p_lat b_lock_types  p_free_special_racks  ...  \\\n",
       "0             0  51.34397   frame_lock                   0.0  ...   \n",
       "1             0  51.34397   frame_lock                   0.0  ...   \n",
       "\n",
       "  p_booked_bikes b_electric_lock      p_lng  p_rack_locks  b_number  \\\n",
       "0              0            True  12.383174         False     23138   \n",
       "1              0            True  12.383174         False     23138   \n",
       "\n",
       "   p_bike_types p_maintenance  p_special_racks b_boardcomputer     city  \n",
       "0     {\"71\": 1}         False              0.0      7551005157  leipzig  \n",
       "1     {\"71\": 3}         False              0.0      7551005157  leipzig  \n",
       "\n",
       "[2 rows x 31 columns]"
      ]
     },
     "execution_count": 6,
     "metadata": {},
     "output_type": "execute_result"
    }
   ],
   "source": [
    "data_df.head(2)"
   ]
  },
  {
   "cell_type": "code",
   "execution_count": 7,
   "metadata": {},
   "outputs": [
    {
     "data": {
      "text/plain": [
       "Index(['p_free_racks', 'b_active', 'p_bike_racks', 'p_free_special_racks',\n",
       "       'b_state', 'p_rack_locks', 'p_maintenance', 'p_special_racks', 'city'],\n",
       "      dtype='object')"
      ]
     },
     "execution_count": 7,
     "metadata": {},
     "output_type": "execute_result"
    }
   ],
   "source": [
    "# find columns with only one value\n",
    "columns_with_unique_values = data_df.columns[data_df.nunique() == 1]\n",
    "columns_with_unique_values"
   ]
  },
  {
   "cell_type": "code",
   "execution_count": 8,
   "metadata": {},
   "outputs": [],
   "source": [
    "\n",
    "data_df = data_df.drop(columns=columns_with_unique_values)\n"
   ]
  },
  {
   "cell_type": "code",
   "execution_count": 9,
   "metadata": {},
   "outputs": [],
   "source": [
    "data_df.datetime = pd.to_datetime(data_df.datetime)"
   ]
  },
  {
   "cell_type": "code",
   "execution_count": 10,
   "metadata": {},
   "outputs": [],
   "source": [
    "data_df = data_df.sort_values('datetime')"
   ]
  },
  {
   "cell_type": "code",
   "execution_count": 11,
   "metadata": {},
   "outputs": [],
   "source": [
    "data_df = data_df.reset_index(drop=True)"
   ]
  },
  {
   "cell_type": "code",
   "execution_count": 12,
   "metadata": {},
   "outputs": [],
   "source": [
    "trip_data = pd.DataFrame()"
   ]
  },
  {
   "cell_type": "code",
   "execution_count": 13,
   "metadata": {},
   "outputs": [],
   "source": [
    "trip_selector = (data_df.trip == 'start') | (data_df.trip == 'end')\n",
    "location_data_trips = data_df[trip_selector]"
   ]
  },
  {
   "cell_type": "code",
   "execution_count": 14,
   "metadata": {},
   "outputs": [
    {
     "data": {
      "text/html": [
       "<div>\n",
       "<style scoped>\n",
       "    .dataframe tbody tr th:only-of-type {\n",
       "        vertical-align: middle;\n",
       "    }\n",
       "\n",
       "    .dataframe tbody tr th {\n",
       "        vertical-align: top;\n",
       "    }\n",
       "\n",
       "    .dataframe thead th {\n",
       "        text-align: right;\n",
       "    }\n",
       "</style>\n",
       "<table border=\"1\" class=\"dataframe\">\n",
       "  <thead>\n",
       "    <tr style=\"text-align: right;\">\n",
       "      <th></th>\n",
       "      <th>p_spot_start</th>\n",
       "      <th>b_battery_pack_start</th>\n",
       "      <th>b_pedelec_battery_start</th>\n",
       "      <th>p_address_start</th>\n",
       "      <th>p_lat_start</th>\n",
       "      <th>b_lock_types_start</th>\n",
       "      <th>p_name_start</th>\n",
       "      <th>p_number_start</th>\n",
       "      <th>p_bikes_start</th>\n",
       "      <th>p_uid_start</th>\n",
       "      <th>...</th>\n",
       "      <th>p_bike_end</th>\n",
       "      <th>trip_end</th>\n",
       "      <th>p_terminal_type_end</th>\n",
       "      <th>b_bike_type_end</th>\n",
       "      <th>p_booked_bikes_end</th>\n",
       "      <th>b_electric_lock_end</th>\n",
       "      <th>p_lng_end</th>\n",
       "      <th>b_number_end</th>\n",
       "      <th>p_bike_types_end</th>\n",
       "      <th>b_boardcomputer_end</th>\n",
       "    </tr>\n",
       "  </thead>\n",
       "  <tbody>\n",
       "    <tr>\n",
       "      <th>8741</th>\n",
       "      <td>False</td>\n",
       "      <td>NaN</td>\n",
       "      <td>0.0</td>\n",
       "      <td>NaN</td>\n",
       "      <td>51.315696</td>\n",
       "      <td>frame_lock</td>\n",
       "      <td>BIKE 23138</td>\n",
       "      <td>0.0</td>\n",
       "      <td>1</td>\n",
       "      <td>12085233</td>\n",
       "      <td>...</td>\n",
       "      <td>True</td>\n",
       "      <td>end</td>\n",
       "      <td>NaN</td>\n",
       "      <td>71.0</td>\n",
       "      <td>0.0</td>\n",
       "      <td>True</td>\n",
       "      <td>12.326001</td>\n",
       "      <td>23138.0</td>\n",
       "      <td>{\"71\": 1}</td>\n",
       "      <td>7.551005e+09</td>\n",
       "    </tr>\n",
       "    <tr>\n",
       "      <th>9565</th>\n",
       "      <td>False</td>\n",
       "      <td>NaN</td>\n",
       "      <td>0.0</td>\n",
       "      <td>NaN</td>\n",
       "      <td>51.315696</td>\n",
       "      <td>frame_lock</td>\n",
       "      <td>BIKE 23138</td>\n",
       "      <td>0.0</td>\n",
       "      <td>1</td>\n",
       "      <td>12085233</td>\n",
       "      <td>...</td>\n",
       "      <td>True</td>\n",
       "      <td>end</td>\n",
       "      <td>NaN</td>\n",
       "      <td>71.0</td>\n",
       "      <td>0.0</td>\n",
       "      <td>True</td>\n",
       "      <td>12.326001</td>\n",
       "      <td>23138.0</td>\n",
       "      <td>{\"71\": 1}</td>\n",
       "      <td>7.551005e+09</td>\n",
       "    </tr>\n",
       "  </tbody>\n",
       "</table>\n",
       "<p>2 rows × 44 columns</p>\n",
       "</div>"
      ],
      "text/plain": [
       "      p_spot_start b_battery_pack_start  b_pedelec_battery_start  \\\n",
       "8741         False                  NaN                      0.0   \n",
       "9565         False                  NaN                      0.0   \n",
       "\n",
       "     p_address_start  p_lat_start b_lock_types_start p_name_start  \\\n",
       "8741             NaN    51.315696         frame_lock   BIKE 23138   \n",
       "9565             NaN    51.315696         frame_lock   BIKE 23138   \n",
       "\n",
       "      p_number_start  p_bikes_start  p_uid_start  ...  p_bike_end trip_end  \\\n",
       "8741             0.0              1     12085233  ...        True      end   \n",
       "9565             0.0              1     12085233  ...        True      end   \n",
       "\n",
       "      p_terminal_type_end b_bike_type_end p_booked_bikes_end  \\\n",
       "8741                  NaN            71.0                0.0   \n",
       "9565                  NaN            71.0                0.0   \n",
       "\n",
       "      b_electric_lock_end  p_lng_end  b_number_end  p_bike_types_end  \\\n",
       "8741                 True  12.326001       23138.0         {\"71\": 1}   \n",
       "9565                 True  12.326001       23138.0         {\"71\": 1}   \n",
       "\n",
       "      b_boardcomputer_end  \n",
       "8741         7.551005e+09  \n",
       "9565         7.551005e+09  \n",
       "\n",
       "[2 rows x 44 columns]"
      ]
     },
     "execution_count": 14,
     "metadata": {},
     "output_type": "execute_result"
    }
   ],
   "source": [
    "def create_trips(bike_number):\n",
    "    bike_locations = location_data_trips[location_data_trips.b_number == bike_number]\n",
    "    bike_start_locations = bike_locations\n",
    "    bike_end_locations = bike_locations.shift(-1)\n",
    "\n",
    "    bike_trips = bike_start_locations.merge(\n",
    "        bike_end_locations,\n",
    "        left_index=True,\n",
    "        right_index=True,\n",
    "        suffixes=(\"_start\", \"_end\"),\n",
    "    )\n",
    "\n",
    "    bike_trips = bike_trips.loc[bike_trips.trip_start == 'start']\n",
    "    bike_trips = bike_trips.loc[bike_trips.trip_start != bike_trips.trip_end]\n",
    "\n",
    "    return bike_trips\n",
    "create_trips(23138).head(2)\n"
   ]
  },
  {
   "cell_type": "code",
   "execution_count": 15,
   "metadata": {},
   "outputs": [
    {
     "data": {
      "text/plain": [
       "1054"
      ]
     },
     "execution_count": 15,
     "metadata": {},
     "output_type": "execute_result"
    }
   ],
   "source": [
    "unique_bike_numbers = location_data_trips.b_number.unique()\n",
    "len(unique_bike_numbers)"
   ]
  },
  {
   "cell_type": "code",
   "execution_count": 16,
   "metadata": {},
   "outputs": [
    {
     "data": {
      "application/vnd.jupyter.widget-view+json": {
       "model_id": "beabd831fb174c66ac65bc5450c4107f",
       "version_major": 2,
       "version_minor": 0
      },
      "text/plain": [
       "  0%|          | 0/1054 [00:00<?, ?it/s]"
      ]
     },
     "metadata": {},
     "output_type": "display_data"
    }
   ],
   "source": [
    "for bike_number in tqdm(unique_bike_numbers):\n",
    "\ttrip_data = pd.concat([trip_data, create_trips(bike_number)])"
   ]
  },
  {
   "cell_type": "code",
   "execution_count": 17,
   "metadata": {},
   "outputs": [
    {
     "name": "stderr",
     "output_type": "stream",
     "text": [
      "/tmp/ipykernel_218176/1383121795.py:1: FutureWarning: null_counts is deprecated. Use show_counts instead\n",
      "  trip_data.info(null_counts=True)\n"
     ]
    },
    {
     "name": "stdout",
     "output_type": "stream",
     "text": [
      "<class 'pandas.core.frame.DataFrame'>\n",
      "Int64Index: 821991 entries, 396 to 1990239\n",
      "Data columns (total 44 columns):\n",
      " #   Column                   Non-Null Count   Dtype         \n",
      "---  ------                   --------------   -----         \n",
      " 0   p_spot_start             821991 non-null  bool          \n",
      " 1   b_battery_pack_start     123 non-null     object        \n",
      " 2   b_pedelec_battery_start  86319 non-null   float64       \n",
      " 3   p_address_start          16333 non-null   object        \n",
      " 4   p_lat_start              821991 non-null  float64       \n",
      " 5   b_lock_types_start       821991 non-null  object        \n",
      " 6   p_name_start             821991 non-null  object        \n",
      " 7   p_number_start           821919 non-null  float64       \n",
      " 8   p_bikes_start            821991 non-null  int64         \n",
      " 9   p_uid_start              821991 non-null  int64         \n",
      " 10  p_place_type_start       821991 non-null  int64         \n",
      " 11  datetime_start           821991 non-null  datetime64[ns]\n",
      " 12  p_bike_start             821991 non-null  bool          \n",
      " 13  trip_start               821991 non-null  object        \n",
      " 14  p_terminal_type_start    83837 non-null   object        \n",
      " 15  b_bike_type_start        821991 non-null  int64         \n",
      " 16  p_booked_bikes_start     821991 non-null  int64         \n",
      " 17  b_electric_lock_start    821991 non-null  bool          \n",
      " 18  p_lng_start              821991 non-null  float64       \n",
      " 19  b_number_start           821991 non-null  int64         \n",
      " 20  p_bike_types_start       821991 non-null  object        \n",
      " 21  b_boardcomputer_start    821991 non-null  int64         \n",
      " 22  p_spot_end               821991 non-null  object        \n",
      " 23  b_battery_pack_end       116 non-null     object        \n",
      " 24  b_pedelec_battery_end    86294 non-null   float64       \n",
      " 25  p_address_end            14550 non-null   object        \n",
      " 26  p_lat_end                821991 non-null  float64       \n",
      " 27  b_lock_types_end         821991 non-null  object        \n",
      " 28  p_name_end               821991 non-null  object        \n",
      " 29  p_number_end             821938 non-null  float64       \n",
      " 30  p_bikes_end              821991 non-null  float64       \n",
      " 31  p_uid_end                821991 non-null  float64       \n",
      " 32  p_place_type_end         821991 non-null  float64       \n",
      " 33  datetime_end             821991 non-null  datetime64[ns]\n",
      " 34  p_bike_end               821991 non-null  object        \n",
      " 35  trip_end                 821991 non-null  object        \n",
      " 36  p_terminal_type_end      79043 non-null   object        \n",
      " 37  b_bike_type_end          821991 non-null  float64       \n",
      " 38  p_booked_bikes_end       821991 non-null  float64       \n",
      " 39  b_electric_lock_end      821991 non-null  object        \n",
      " 40  p_lng_end                821991 non-null  float64       \n",
      " 41  b_number_end             821991 non-null  float64       \n",
      " 42  p_bike_types_end         821991 non-null  object        \n",
      " 43  b_boardcomputer_end      821991 non-null  float64       \n",
      "dtypes: bool(3), datetime64[ns](2), float64(15), int64(7), object(17)\n",
      "memory usage: 265.7+ MB\n"
     ]
    }
   ],
   "source": [
    "trip_data.info(null_counts=True)"
   ]
  }
 ],
 "metadata": {
  "interpreter": {
   "hash": "6f128d9a36ac5782f4755de02247e2ed06e0bf1d935493c1f1cb8e21863a0d39"
  },
  "kernelspec": {
   "display_name": "Python 3.9.12 ('AAA_MAGMA')",
   "language": "python",
   "name": "python3"
  },
  "language_info": {
   "codemirror_mode": {
    "name": "ipython",
    "version": 3
   },
   "file_extension": ".py",
   "mimetype": "text/x-python",
   "name": "python",
   "nbconvert_exporter": "python",
   "pygments_lexer": "ipython3",
   "version": "3.9.12"
  },
  "orig_nbformat": 4
 },
 "nbformat": 4,
 "nbformat_minor": 2
}
