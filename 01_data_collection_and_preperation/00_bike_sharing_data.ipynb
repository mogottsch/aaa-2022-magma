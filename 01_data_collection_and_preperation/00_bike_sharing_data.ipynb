{
 "cells": [
  {
   "cell_type": "code",
   "execution_count": 64,
   "metadata": {},
   "outputs": [],
   "source": [
    "import tarfile\n",
    "import os\n",
    "\n",
    "import pandas as pd\n",
    "import numpy as np\n",
    "\n",
    "from tqdm.notebook import tqdm"
   ]
  },
  {
   "cell_type": "markdown",
   "metadata": {},
   "source": [
    "### Read & Merge CSV Files"
   ]
  },
  {
   "cell_type": "code",
   "execution_count": 65,
   "metadata": {},
   "outputs": [],
   "source": [
    "data_dir_path = \"../00_data\"\n",
    "tarfile_path = os.path.join(data_dir_path, \"leipzig.tar\")\n",
    "unpacked_path = os.path.join(data_dir_path, \"leipzig\")\n"
   ]
  },
  {
   "cell_type": "code",
   "execution_count": 66,
   "metadata": {},
   "outputs": [],
   "source": [
    "# Unpack\n",
    "with tarfile.open(tarfile_path, 'r') as tar:\n",
    "\ttar.extractall(data_dir_path)"
   ]
  },
  {
   "cell_type": "code",
   "execution_count": 67,
   "metadata": {},
   "outputs": [
    {
     "data": {
      "text/plain": [
       "['../00_data/leipzig/2020/01/positions_nextbike_leipzig_2020_01_03.csv',\n",
       " '../00_data/leipzig/2020/01/positions_nextbike_leipzig_2020_01_13.csv',\n",
       " '../00_data/leipzig/2020/01/positions_nextbike_leipzig_2020_01_19.csv',\n",
       " '../00_data/leipzig/2020/01/positions_nextbike_leipzig_2020_01_06.csv',\n",
       " '../00_data/leipzig/2020/01/positions_nextbike_leipzig_2020_01_01.csv']"
      ]
     },
     "execution_count": 67,
     "metadata": {},
     "output_type": "execute_result"
    }
   ],
   "source": [
    "# find all csv files in the unpacked directory\n",
    "csv_files = []\n",
    "\n",
    "def get_csv_files_recursively(path):\n",
    "\tfor file in os.listdir(path):\n",
    "\t\tif os.path.isdir(os.path.join(path, file)):\n",
    "\t\t\tget_csv_files_recursively(os.path.join(path, file))\n",
    "\t\telif file.endswith(\".csv\"):\n",
    "\t\t\tcsv_files.append(os.path.join(path, file))\n",
    "\n",
    "get_csv_files_recursively(unpacked_path)\n",
    "\n",
    "csv_files[:5]"
   ]
  },
  {
   "cell_type": "code",
   "execution_count": 68,
   "metadata": {},
   "outputs": [],
   "source": [
    "data_df = pd.concat(map(pd.read_csv, csv_files))"
   ]
  },
  {
   "cell_type": "code",
   "execution_count": 69,
   "metadata": {},
   "outputs": [
    {
     "data": {
      "text/html": [
       "<div>\n",
       "<style scoped>\n",
       "    .dataframe tbody tr th:only-of-type {\n",
       "        vertical-align: middle;\n",
       "    }\n",
       "\n",
       "    .dataframe tbody tr th {\n",
       "        vertical-align: top;\n",
       "    }\n",
       "\n",
       "    .dataframe thead th {\n",
       "        text-align: right;\n",
       "    }\n",
       "</style>\n",
       "<table border=\"1\" class=\"dataframe\">\n",
       "  <thead>\n",
       "    <tr style=\"text-align: right;\">\n",
       "      <th></th>\n",
       "      <th>p_spot</th>\n",
       "      <th>p_free_racks</th>\n",
       "      <th>b_battery_pack</th>\n",
       "      <th>b_active</th>\n",
       "      <th>b_pedelec_battery</th>\n",
       "      <th>p_address</th>\n",
       "      <th>p_bike_racks</th>\n",
       "      <th>p_lat</th>\n",
       "      <th>b_lock_types</th>\n",
       "      <th>p_free_special_racks</th>\n",
       "      <th>...</th>\n",
       "      <th>p_booked_bikes</th>\n",
       "      <th>b_electric_lock</th>\n",
       "      <th>p_lng</th>\n",
       "      <th>p_rack_locks</th>\n",
       "      <th>b_number</th>\n",
       "      <th>p_bike_types</th>\n",
       "      <th>p_maintenance</th>\n",
       "      <th>p_special_racks</th>\n",
       "      <th>b_boardcomputer</th>\n",
       "      <th>city</th>\n",
       "    </tr>\n",
       "  </thead>\n",
       "  <tbody>\n",
       "    <tr>\n",
       "      <th>0</th>\n",
       "      <td>True</td>\n",
       "      <td>0</td>\n",
       "      <td>NaN</td>\n",
       "      <td>True</td>\n",
       "      <td>NaN</td>\n",
       "      <td>NaN</td>\n",
       "      <td>0</td>\n",
       "      <td>51.34397</td>\n",
       "      <td>frame_lock</td>\n",
       "      <td>0.0</td>\n",
       "      <td>...</td>\n",
       "      <td>0</td>\n",
       "      <td>True</td>\n",
       "      <td>12.383174</td>\n",
       "      <td>False</td>\n",
       "      <td>23138</td>\n",
       "      <td>{\"71\": 1}</td>\n",
       "      <td>False</td>\n",
       "      <td>0.0</td>\n",
       "      <td>7551005157</td>\n",
       "      <td>leipzig</td>\n",
       "    </tr>\n",
       "    <tr>\n",
       "      <th>1</th>\n",
       "      <td>True</td>\n",
       "      <td>0</td>\n",
       "      <td>NaN</td>\n",
       "      <td>True</td>\n",
       "      <td>NaN</td>\n",
       "      <td>NaN</td>\n",
       "      <td>0</td>\n",
       "      <td>51.34397</td>\n",
       "      <td>frame_lock</td>\n",
       "      <td>0.0</td>\n",
       "      <td>...</td>\n",
       "      <td>0</td>\n",
       "      <td>True</td>\n",
       "      <td>12.383174</td>\n",
       "      <td>False</td>\n",
       "      <td>23138</td>\n",
       "      <td>{\"71\": 3}</td>\n",
       "      <td>False</td>\n",
       "      <td>0.0</td>\n",
       "      <td>7551005157</td>\n",
       "      <td>leipzig</td>\n",
       "    </tr>\n",
       "  </tbody>\n",
       "</table>\n",
       "<p>2 rows × 31 columns</p>\n",
       "</div>"
      ],
      "text/plain": [
       "   p_spot  p_free_racks b_battery_pack  b_active  b_pedelec_battery p_address  \\\n",
       "0    True             0            NaN      True                NaN       NaN   \n",
       "1    True             0            NaN      True                NaN       NaN   \n",
       "\n",
       "   p_bike_racks     p_lat b_lock_types  p_free_special_racks  ...  \\\n",
       "0             0  51.34397   frame_lock                   0.0  ...   \n",
       "1             0  51.34397   frame_lock                   0.0  ...   \n",
       "\n",
       "  p_booked_bikes b_electric_lock      p_lng  p_rack_locks  b_number  \\\n",
       "0              0            True  12.383174         False     23138   \n",
       "1              0            True  12.383174         False     23138   \n",
       "\n",
       "   p_bike_types p_maintenance  p_special_racks b_boardcomputer     city  \n",
       "0     {\"71\": 1}         False              0.0      7551005157  leipzig  \n",
       "1     {\"71\": 3}         False              0.0      7551005157  leipzig  \n",
       "\n",
       "[2 rows x 31 columns]"
      ]
     },
     "execution_count": 69,
     "metadata": {},
     "output_type": "execute_result"
    }
   ],
   "source": [
    "data_df.head(2)"
   ]
  },
  {
   "cell_type": "markdown",
   "metadata": {},
   "source": [
    "### Remove Insignificant Columns"
   ]
  },
  {
   "cell_type": "code",
   "execution_count": 70,
   "metadata": {},
   "outputs": [
    {
     "data": {
      "text/plain": [
       "Index(['p_free_racks', 'b_active', 'p_bike_racks', 'p_free_special_racks',\n",
       "       'b_state', 'p_rack_locks', 'p_maintenance', 'p_special_racks', 'city'],\n",
       "      dtype='object')"
      ]
     },
     "execution_count": 70,
     "metadata": {},
     "output_type": "execute_result"
    }
   ],
   "source": [
    "# find columns with only one value\n",
    "columns_with_unique_values = data_df.columns[data_df.nunique() == 1]\n",
    "columns_with_unique_values"
   ]
  },
  {
   "cell_type": "code",
   "execution_count": 71,
   "metadata": {},
   "outputs": [],
   "source": [
    "\n",
    "data_df = data_df.drop(columns=columns_with_unique_values)\n"
   ]
  },
  {
   "cell_type": "markdown",
   "metadata": {},
   "source": [
    "### Column Renaming"
   ]
  },
  {
   "cell_type": "code",
   "execution_count": 72,
   "metadata": {},
   "outputs": [],
   "source": [
    "rename_dict = {\n",
    "\t\"p_lat\": \"lat\",\n",
    "\t\"p_lng\": \"lng\",\n",
    "}\n",
    "\n",
    "data_df = data_df.rename(columns=rename_dict)"
   ]
  },
  {
   "cell_type": "markdown",
   "metadata": {},
   "source": [
    "### Merge Location Data Into Trip Data"
   ]
  },
  {
   "cell_type": "code",
   "execution_count": 73,
   "metadata": {},
   "outputs": [],
   "source": [
    "data_df.datetime = pd.to_datetime(data_df.datetime)"
   ]
  },
  {
   "cell_type": "code",
   "execution_count": 74,
   "metadata": {},
   "outputs": [],
   "source": [
    "data_df = data_df.sort_values('datetime')"
   ]
  },
  {
   "cell_type": "code",
   "execution_count": 75,
   "metadata": {},
   "outputs": [],
   "source": [
    "data_df = data_df.reset_index(drop=True)"
   ]
  },
  {
   "cell_type": "code",
   "execution_count": 76,
   "metadata": {},
   "outputs": [],
   "source": [
    "trips = pd.DataFrame()"
   ]
  },
  {
   "cell_type": "code",
   "execution_count": 77,
   "metadata": {},
   "outputs": [],
   "source": [
    "location_data_trips = data_df[(data_df.trip == 'start') | (data_df.trip == 'end')]"
   ]
  },
  {
   "cell_type": "code",
   "execution_count": 78,
   "metadata": {},
   "outputs": [],
   "source": [
    "def create_trips(bike_number):\n",
    "    bike_locations = location_data_trips[location_data_trips.b_number == bike_number]\n",
    "    bike_start_locations = bike_locations\n",
    "    bike_end_locations = bike_locations.shift(-1)\n",
    "\n",
    "    bike_trips = bike_start_locations.merge(\n",
    "        bike_end_locations,\n",
    "        left_index=True,\n",
    "        right_index=True,\n",
    "        suffixes=(\"_start\", \"_end\"),\n",
    "    )\n",
    "\n",
    "    bike_trips = bike_trips.loc[\n",
    "        (bike_trips.trip_start == \"start\") & (bike_trips.trip_end == \"end\")\n",
    "    ]\n",
    "\n",
    "    return bike_trips\n"
   ]
  },
  {
   "cell_type": "code",
   "execution_count": 79,
   "metadata": {},
   "outputs": [
    {
     "data": {
      "text/plain": [
       "1054"
      ]
     },
     "execution_count": 79,
     "metadata": {},
     "output_type": "execute_result"
    }
   ],
   "source": [
    "unique_bike_numbers = location_data_trips.b_number.unique()\n",
    "len(unique_bike_numbers)"
   ]
  },
  {
   "cell_type": "code",
   "execution_count": 80,
   "metadata": {},
   "outputs": [
    {
     "data": {
      "application/vnd.jupyter.widget-view+json": {
       "model_id": "a9e0ef0c3ff94ba487eb4a723185b763",
       "version_major": 2,
       "version_minor": 0
      },
      "text/plain": [
       "  0%|          | 0/1054 [00:00<?, ?it/s]"
      ]
     },
     "metadata": {},
     "output_type": "display_data"
    }
   ],
   "source": [
    "for bike_number in tqdm(unique_bike_numbers):\n",
    "\ttrips = pd.concat([trips, create_trips(bike_number)])"
   ]
  },
  {
   "cell_type": "code",
   "execution_count": 81,
   "metadata": {},
   "outputs": [
    {
     "data": {
      "text/html": [
       "<div>\n",
       "<style scoped>\n",
       "    .dataframe tbody tr th:only-of-type {\n",
       "        vertical-align: middle;\n",
       "    }\n",
       "\n",
       "    .dataframe tbody tr th {\n",
       "        vertical-align: top;\n",
       "    }\n",
       "\n",
       "    .dataframe thead th {\n",
       "        text-align: right;\n",
       "    }\n",
       "</style>\n",
       "<table border=\"1\" class=\"dataframe\">\n",
       "  <thead>\n",
       "    <tr style=\"text-align: right;\">\n",
       "      <th></th>\n",
       "      <th>p_spot_start</th>\n",
       "      <th>b_battery_pack_start</th>\n",
       "      <th>b_pedelec_battery_start</th>\n",
       "      <th>p_address_start</th>\n",
       "      <th>lat_start</th>\n",
       "      <th>b_lock_types_start</th>\n",
       "      <th>p_name_start</th>\n",
       "      <th>p_number_start</th>\n",
       "      <th>p_bikes_start</th>\n",
       "      <th>p_uid_start</th>\n",
       "      <th>...</th>\n",
       "      <th>p_bike_end</th>\n",
       "      <th>trip_end</th>\n",
       "      <th>p_terminal_type_end</th>\n",
       "      <th>b_bike_type_end</th>\n",
       "      <th>p_booked_bikes_end</th>\n",
       "      <th>b_electric_lock_end</th>\n",
       "      <th>lng_end</th>\n",
       "      <th>b_number_end</th>\n",
       "      <th>p_bike_types_end</th>\n",
       "      <th>b_boardcomputer_end</th>\n",
       "    </tr>\n",
       "  </thead>\n",
       "  <tbody>\n",
       "    <tr>\n",
       "      <th>396</th>\n",
       "      <td>False</td>\n",
       "      <td>NaN</td>\n",
       "      <td>0.0</td>\n",
       "      <td>NaN</td>\n",
       "      <td>51.321272</td>\n",
       "      <td>frame_lock</td>\n",
       "      <td>Karl-Tauchnitz-Straße &amp; Wundtstraße</td>\n",
       "      <td>0.0</td>\n",
       "      <td>1</td>\n",
       "      <td>12058006</td>\n",
       "      <td>...</td>\n",
       "      <td>True</td>\n",
       "      <td>end</td>\n",
       "      <td>NaN</td>\n",
       "      <td>71.0</td>\n",
       "      <td>0.0</td>\n",
       "      <td>True</td>\n",
       "      <td>12.341924</td>\n",
       "      <td>23255.0</td>\n",
       "      <td>{\"71\": 1}</td>\n",
       "      <td>7.551007e+09</td>\n",
       "    </tr>\n",
       "    <tr>\n",
       "      <th>2934</th>\n",
       "      <td>False</td>\n",
       "      <td>NaN</td>\n",
       "      <td>0.0</td>\n",
       "      <td>NaN</td>\n",
       "      <td>51.327567</td>\n",
       "      <td>frame_lock</td>\n",
       "      <td>BIKE 23255</td>\n",
       "      <td>0.0</td>\n",
       "      <td>1</td>\n",
       "      <td>12126492</td>\n",
       "      <td>...</td>\n",
       "      <td>True</td>\n",
       "      <td>end</td>\n",
       "      <td>NaN</td>\n",
       "      <td>71.0</td>\n",
       "      <td>0.0</td>\n",
       "      <td>True</td>\n",
       "      <td>12.368997</td>\n",
       "      <td>23255.0</td>\n",
       "      <td>{\"71\": 1}</td>\n",
       "      <td>7.551007e+09</td>\n",
       "    </tr>\n",
       "  </tbody>\n",
       "</table>\n",
       "<p>2 rows × 44 columns</p>\n",
       "</div>"
      ],
      "text/plain": [
       "      p_spot_start b_battery_pack_start  b_pedelec_battery_start  \\\n",
       "396          False                  NaN                      0.0   \n",
       "2934         False                  NaN                      0.0   \n",
       "\n",
       "     p_address_start  lat_start b_lock_types_start  \\\n",
       "396              NaN  51.321272         frame_lock   \n",
       "2934             NaN  51.327567         frame_lock   \n",
       "\n",
       "                             p_name_start  p_number_start  p_bikes_start  \\\n",
       "396   Karl-Tauchnitz-Straße & Wundtstraße             0.0              1   \n",
       "2934                           BIKE 23255             0.0              1   \n",
       "\n",
       "      p_uid_start  ...  p_bike_end trip_end  p_terminal_type_end  \\\n",
       "396      12058006  ...        True      end                  NaN   \n",
       "2934     12126492  ...        True      end                  NaN   \n",
       "\n",
       "     b_bike_type_end p_booked_bikes_end  b_electric_lock_end    lng_end  \\\n",
       "396             71.0                0.0                 True  12.341924   \n",
       "2934            71.0                0.0                 True  12.368997   \n",
       "\n",
       "      b_number_end  p_bike_types_end  b_boardcomputer_end  \n",
       "396        23255.0         {\"71\": 1}         7.551007e+09  \n",
       "2934       23255.0         {\"71\": 1}         7.551007e+09  \n",
       "\n",
       "[2 rows x 44 columns]"
      ]
     },
     "execution_count": 81,
     "metadata": {},
     "output_type": "execute_result"
    }
   ],
   "source": [
    "trips.head(2)"
   ]
  },
  {
   "cell_type": "markdown",
   "metadata": {},
   "source": [
    "### Remove Redundant Columns"
   ]
  },
  {
   "cell_type": "code",
   "execution_count": 82,
   "metadata": {},
   "outputs": [],
   "source": [
    "unchanging_columns = [\n",
    "\t'b_lock_types',\n",
    "\t'trip', # actually changing but implicitly given\n",
    "\t'b_bike_type',\n",
    "\t'b_electric_lock',\n",
    "\t'b_number',\n",
    "\t'b_boardcomputer'\n",
    "]\n"
   ]
  },
  {
   "cell_type": "code",
   "execution_count": 83,
   "metadata": {},
   "outputs": [],
   "source": [
    "unchanging_end = [col + \"_end\" for col in unchanging_columns]\n",
    "unchaning_rename_dict = {col + \"_start\": col for col in unchanging_columns}\n",
    "\n",
    "trips = trips.drop(columns=unchanging_end)\n",
    "trips = trips.rename(columns=unchaning_rename_dict)"
   ]
  },
  {
   "cell_type": "markdown",
   "metadata": {},
   "source": [
    "### Cleaning"
   ]
  },
  {
   "cell_type": "code",
   "execution_count": 84,
   "metadata": {},
   "outputs": [],
   "source": [
    "def haversine(lng1, lat1, lng2, lat2):\n",
    "    \"\"\"\n",
    "    Calculate the great circle distance between two points\n",
    "    on the earth (specified in decimal degrees)\n",
    "\n",
    "    All args must be of equal length.    \n",
    "    author: derricw (https://stackoverflow.com/questions/29545704/fast-haversine-approximation-python-pandas/29546836#29546836)\n",
    "    \"\"\"\n",
    "    lng1, lat1, lng2, lat2 = map(np.radians, [lng1, lat1, lng2, lat2])\n",
    "\n",
    "    dlng = lng2 - lng1\n",
    "    dlat = lat2 - lat1\n",
    "\n",
    "    a = np.sin(dlat/2.0)**2 + np.cos(lat1) * np.cos(lat2) * np.sin(dlng/2.0)**2\n",
    "\n",
    "    c = 2 * np.arcsin(np.sqrt(a))\n",
    "    km = 6367 * c\n",
    "    return km"
   ]
  },
  {
   "cell_type": "code",
   "execution_count": 85,
   "metadata": {},
   "outputs": [],
   "source": [
    "trips[\"min_distance\"] = haversine(\n",
    "    trips.lng_start, trips.lat_start, trips.lng_end, trips.lat_end\n",
    ")"
   ]
  },
  {
   "cell_type": "code",
   "execution_count": 86,
   "metadata": {},
   "outputs": [],
   "source": [
    "trips[\"duration\"] = (trips.datetime_end - trips.datetime_start).dt.total_seconds() / 60"
   ]
  },
  {
   "cell_type": "code",
   "execution_count": 87,
   "metadata": {},
   "outputs": [
    {
     "name": "stdout",
     "output_type": "stream",
     "text": [
      "minimum duration is 2.00 minutes\n",
      "maximum duration is 23.78 hours\n"
     ]
    }
   ],
   "source": [
    "print(f\"minimum duration is {trips.duration.min():.2f} minutes\")\n",
    "print(f\"maximum duration is {(trips.duration.max()/60):.2f} hours\")"
   ]
  },
  {
   "cell_type": "markdown",
   "metadata": {},
   "source": [
    "We'll keep this, explain later"
   ]
  },
  {
   "cell_type": "code",
   "execution_count": 88,
   "metadata": {},
   "outputs": [],
   "source": [
    "trips[\"min_avg_speed\"] = trips.min_distance / (trips.duration / 60) "
   ]
  },
  {
   "cell_type": "markdown",
   "metadata": {},
   "source": [
    "We will omit all trips that exceed the speed of 25kmh, which is the limit for e-bikes in germany [source](https://www.giant-bicycles.com/de/campaigns/wie-schnell-fahrt-ein-e-bike/21531). This seems plausible as trips that exceed this limit are very likely to be faulty because they would need to cycle faster than the maximum speed of e-bikes without any stops during the trip. Also, our distance column is calculated as the distance between the start and end station, which is a lower bound on the actual distance traveled. Therefore the actual distance traveled is most likely longer and the actual speed is most likely lower.\n",
    "\n"
   ]
  },
  {
   "cell_type": "code",
   "execution_count": 89,
   "metadata": {},
   "outputs": [
    {
     "name": "stdout",
     "output_type": "stream",
     "text": [
      "267 trips above speed limit, that is 0.0325%\n"
     ]
    }
   ],
   "source": [
    "speed_limit = 25\n",
    "trips_above_speed_limit = trips[trips.min_avg_speed > speed_limit]\n",
    "print(\n",
    "    f\"{len(trips_above_speed_limit)} trips above speed limit, \"\n",
    "    + f\"that is {len(trips_above_speed_limit) / len(trips) * 100:.4f}%\"\n",
    ")\n",
    "\n",
    "trips = trips[trips.min_avg_speed < speed_limit]"
   ]
  },
  {
   "cell_type": "code",
   "execution_count": 90,
   "metadata": {},
   "outputs": [],
   "source": [
    "location_data_first_last = data_df.loc[\n",
    "    (data_df[\"trip\"] == \"last\") | (data_df[\"trip\"] == \"first\")\n",
    "]\n",
    "\n",
    "\n",
    "def create_last_first_tuple(bike_number):\n",
    "    bike_locations = location_data_first_last[\n",
    "        location_data_first_last.b_number == bike_number\n",
    "    ]\n",
    "\n",
    "    bike_first_locations = bike_locations\n",
    "    bike_last_locations = bike_locations.shift(-1)\n",
    "\n",
    "    bike_first_last_tuple = bike_first_locations.merge(\n",
    "        bike_last_locations,\n",
    "        left_index=True,\n",
    "        right_index=True,\n",
    "        suffixes=(\"_first\", \"_last\"),\n",
    "    )\n",
    "\n",
    "    bike_first_last_tuple = bike_first_last_tuple.loc[\n",
    "        (bike_first_last_tuple.trip_first == \"first\")\n",
    "        & (bike_first_last_tuple.trip_last == \"last\")\n",
    "    ]\n",
    "\n",
    "    return bike_first_last_tuple\n"
   ]
  },
  {
   "cell_type": "code",
   "execution_count": 91,
   "metadata": {},
   "outputs": [
    {
     "data": {
      "application/vnd.jupyter.widget-view+json": {
       "model_id": "0ddf4077c64646c7848106b8fa442d8d",
       "version_major": 2,
       "version_minor": 0
      },
      "text/plain": [
       "  0%|          | 0/1054 [00:00<?, ?it/s]"
      ]
     },
     "metadata": {},
     "output_type": "display_data"
    }
   ],
   "source": [
    "last_first_tuples = pd.DataFrame()\n",
    "\n",
    "for bike_number in tqdm(unique_bike_numbers):\n",
    "    last_first_tuples = pd.concat([last_first_tuples, create_last_first_tuple(bike_number)])\n"
   ]
  },
  {
   "cell_type": "code",
   "execution_count": null,
   "metadata": {},
   "outputs": [],
   "source": [
    "last_first_tuples.head(2)"
   ]
  },
  {
   "cell_type": "code",
   "execution_count": 92,
   "metadata": {},
   "outputs": [],
   "source": [
    "last_first_tuples[\"distance\"] = haversine(\n",
    "    last_first_tuples.lng_first,\n",
    "    last_first_tuples.lat_first,\n",
    "    last_first_tuples.lng_last,\n",
    "    last_first_tuples.lat_last,\n",
    ")\n"
   ]
  },
  {
   "cell_type": "code",
   "execution_count": 97,
   "metadata": {},
   "outputs": [],
   "source": [
    "def describe(distances):\n",
    "\tminimum, maximum, mean, median = distances.min(), distances.max(), distances.mean(), distances.median()\n",
    "\tprint(f\"minimum distance is {minimum:.2f} meters\")\n",
    "\tprint(f\"maximum distance is {maximum:.2f} meters\")\n",
    "\tprint(f\"mean distance is {mean:.2f} meters\")\n",
    "\tprint(f\"median distance is {median:.2f} meters\")"
   ]
  },
  {
   "cell_type": "code",
   "execution_count": 98,
   "metadata": {},
   "outputs": [
    {
     "name": "stdout",
     "output_type": "stream",
     "text": [
      "minimum distance is 0.00 meters\n",
      "maximum distance is 783.35 meters\n",
      "mean distance is 1.77 meters\n",
      "median distance is 1.21 meters\n"
     ]
    }
   ],
   "source": [
    "describe(last_first_tuples.distance)"
   ]
  },
  {
   "cell_type": "code",
   "execution_count": null,
   "metadata": {},
   "outputs": [],
   "source": []
  },
  {
   "cell_type": "code",
   "execution_count": 93,
   "metadata": {},
   "outputs": [],
   "source": [
    "data_df['date'] = data_df.datetime.dt.date"
   ]
  },
  {
   "cell_type": "code",
   "execution_count": 94,
   "metadata": {},
   "outputs": [],
   "source": [
    "def create_end_last_tuple(bike_number):\n",
    "    last_trips_location = (\n",
    "        data_df.loc[(data_df.b_number == bike_number) & data_df[\"trip\"] == \"end\"]\n",
    "        .groupby(\"date\")\n",
    "        .last()\n",
    "    )\n",
    "    last_location = data_df.loc[\n",
    "        (data_df.b_number == bike_number) & data_df[\"trip\"] == \"last\"\n",
    "    ]\n",
    "\n",
    "    return last_trips_location.merge(\n",
    "        last_location,\n",
    "        on=\"date\",\n",
    "        suffixes=(\"_last\", \"_end\")\n",
    "    )\n"
   ]
  },
  {
   "cell_type": "code",
   "execution_count": 95,
   "metadata": {},
   "outputs": [
    {
     "data": {
      "application/vnd.jupyter.widget-view+json": {
       "model_id": "6aea3721fce04f79a171a8c6c466f809",
       "version_major": 2,
       "version_minor": 0
      },
      "text/plain": [
       "  0%|          | 0/1054 [00:00<?, ?it/s]"
      ]
     },
     "metadata": {},
     "output_type": "display_data"
    }
   ],
   "source": [
    "end_last_tuples = pd.DataFrame()\n",
    "\n",
    "for bike_number in tqdm(unique_bike_numbers):\n",
    "\tend_last_tuples = pd.concat([end_last_tuples, create_end_last_tuple(bike_number)])"
   ]
  },
  {
   "cell_type": "code",
   "execution_count": null,
   "metadata": {},
   "outputs": [],
   "source": [
    "end_last_tuples.head(2)"
   ]
  },
  {
   "cell_type": "code",
   "execution_count": 101,
   "metadata": {},
   "outputs": [],
   "source": [
    "end_last_tuples[\"distance\"] = haversine(\n",
    "    end_last_tuples.lng_last,\n",
    "    end_last_tuples.lat_last,\n",
    "    end_last_tuples.lng_end,\n",
    "    end_last_tuples.lat_end,\n",
    ")"
   ]
  },
  {
   "cell_type": "code",
   "execution_count": 102,
   "metadata": {},
   "outputs": [
    {
     "name": "stdout",
     "output_type": "stream",
     "text": [
      "minimum distance is nan meters\n",
      "maximum distance is nan meters\n",
      "mean distance is nan meters\n",
      "median distance is nan meters\n"
     ]
    }
   ],
   "source": [
    "describe(end_last_tuples.distance)"
   ]
  },
  {
   "cell_type": "code",
   "execution_count": null,
   "metadata": {},
   "outputs": [],
   "source": []
  }
 ],
 "metadata": {
  "interpreter": {
   "hash": "6f128d9a36ac5782f4755de02247e2ed06e0bf1d935493c1f1cb8e21863a0d39"
  },
  "kernelspec": {
   "display_name": "Python 3.9.12 ('AAA_MAGMA')",
   "language": "python",
   "name": "python3"
  },
  "language_info": {
   "codemirror_mode": {
    "name": "ipython",
    "version": 3
   },
   "file_extension": ".py",
   "mimetype": "text/x-python",
   "name": "python",
   "nbconvert_exporter": "python",
   "pygments_lexer": "ipython3",
   "version": "3.9.12"
  },
  "orig_nbformat": 4
 },
 "nbformat": 4,
 "nbformat_minor": 2
}
