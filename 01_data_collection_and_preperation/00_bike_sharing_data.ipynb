{
 "cells": [
  {
   "cell_type": "code",
   "execution_count": 5,
   "metadata": {},
   "outputs": [],
   "source": [
    "import tarfile\n",
    "import pandas as pd\n",
    "import os\n",
    "import shutil"
   ]
  },
  {
   "cell_type": "code",
   "execution_count": 8,
   "metadata": {},
   "outputs": [],
   "source": [
    "data_dir_path = \"../00_data\"\n",
    "tarfile_path = os.path.join(data_dir_path, \"leipzig.tar\")\n",
    "unpacked_path = os.path.join(data_dir_path, \"leipzig\")\n"
   ]
  },
  {
   "cell_type": "code",
   "execution_count": 10,
   "metadata": {},
   "outputs": [],
   "source": [
    "# Unpack\n",
    "with tarfile.open(tarfile_path, 'r') as tar:\n",
    "\ttar.extractall(data_dir_path)"
   ]
  },
  {
   "cell_type": "code",
   "execution_count": 16,
   "metadata": {},
   "outputs": [
    {
     "data": {
      "text/plain": [
       "['../00_data/leipzig/2020/01/positions_nextbike_leipzig_2020_01_03.csv',\n",
       " '../00_data/leipzig/2020/01/positions_nextbike_leipzig_2020_01_13.csv',\n",
       " '../00_data/leipzig/2020/01/positions_nextbike_leipzig_2020_01_19.csv',\n",
       " '../00_data/leipzig/2020/01/positions_nextbike_leipzig_2020_01_06.csv',\n",
       " '../00_data/leipzig/2020/01/positions_nextbike_leipzig_2020_01_01.csv']"
      ]
     },
     "execution_count": 16,
     "metadata": {},
     "output_type": "execute_result"
    }
   ],
   "source": [
    "# find all csv files in the unpacked directory\n",
    "csv_files = []\n",
    "\n",
    "def get_csv_files_recursively(path):\n",
    "\tfor file in os.listdir(path):\n",
    "\t\tif os.path.isdir(os.path.join(path, file)):\n",
    "\t\t\tget_csv_files_recursively(os.path.join(path, file))\n",
    "\t\telif file.endswith(\".csv\"):\n",
    "\t\t\tcsv_files.append(os.path.join(path, file))\n",
    "\n",
    "get_csv_files_recursively(unpacked_path)\n",
    "\n",
    "csv_files[:5]"
   ]
  },
  {
   "cell_type": "code",
   "execution_count": 17,
   "metadata": {},
   "outputs": [],
   "source": [
    "data_df = pd.concat(map(pd.read_csv, csv_files))"
   ]
  },
  {
   "cell_type": "code",
   "execution_count": 19,
   "metadata": {},
   "outputs": [
    {
     "data": {
      "text/html": [
       "<div>\n",
       "<style scoped>\n",
       "    .dataframe tbody tr th:only-of-type {\n",
       "        vertical-align: middle;\n",
       "    }\n",
       "\n",
       "    .dataframe tbody tr th {\n",
       "        vertical-align: top;\n",
       "    }\n",
       "\n",
       "    .dataframe thead th {\n",
       "        text-align: right;\n",
       "    }\n",
       "</style>\n",
       "<table border=\"1\" class=\"dataframe\">\n",
       "  <thead>\n",
       "    <tr style=\"text-align: right;\">\n",
       "      <th></th>\n",
       "      <th>p_spot</th>\n",
       "      <th>p_free_racks</th>\n",
       "      <th>b_battery_pack</th>\n",
       "      <th>b_active</th>\n",
       "      <th>b_pedelec_battery</th>\n",
       "      <th>p_address</th>\n",
       "      <th>p_bike_racks</th>\n",
       "      <th>p_lat</th>\n",
       "      <th>b_lock_types</th>\n",
       "      <th>p_free_special_racks</th>\n",
       "      <th>...</th>\n",
       "      <th>p_booked_bikes</th>\n",
       "      <th>b_electric_lock</th>\n",
       "      <th>p_lng</th>\n",
       "      <th>p_rack_locks</th>\n",
       "      <th>b_number</th>\n",
       "      <th>p_bike_types</th>\n",
       "      <th>p_maintenance</th>\n",
       "      <th>p_special_racks</th>\n",
       "      <th>b_boardcomputer</th>\n",
       "      <th>city</th>\n",
       "    </tr>\n",
       "  </thead>\n",
       "  <tbody>\n",
       "    <tr>\n",
       "      <th>0</th>\n",
       "      <td>True</td>\n",
       "      <td>0</td>\n",
       "      <td>NaN</td>\n",
       "      <td>True</td>\n",
       "      <td>NaN</td>\n",
       "      <td>NaN</td>\n",
       "      <td>0</td>\n",
       "      <td>51.34397</td>\n",
       "      <td>frame_lock</td>\n",
       "      <td>0.0</td>\n",
       "      <td>...</td>\n",
       "      <td>0</td>\n",
       "      <td>True</td>\n",
       "      <td>12.383174</td>\n",
       "      <td>False</td>\n",
       "      <td>23138</td>\n",
       "      <td>{\"71\": 1}</td>\n",
       "      <td>False</td>\n",
       "      <td>0.0</td>\n",
       "      <td>7551005157</td>\n",
       "      <td>leipzig</td>\n",
       "    </tr>\n",
       "    <tr>\n",
       "      <th>1</th>\n",
       "      <td>True</td>\n",
       "      <td>0</td>\n",
       "      <td>NaN</td>\n",
       "      <td>True</td>\n",
       "      <td>NaN</td>\n",
       "      <td>NaN</td>\n",
       "      <td>0</td>\n",
       "      <td>51.34397</td>\n",
       "      <td>frame_lock</td>\n",
       "      <td>0.0</td>\n",
       "      <td>...</td>\n",
       "      <td>0</td>\n",
       "      <td>True</td>\n",
       "      <td>12.383174</td>\n",
       "      <td>False</td>\n",
       "      <td>23138</td>\n",
       "      <td>{\"71\": 3}</td>\n",
       "      <td>False</td>\n",
       "      <td>0.0</td>\n",
       "      <td>7551005157</td>\n",
       "      <td>leipzig</td>\n",
       "    </tr>\n",
       "  </tbody>\n",
       "</table>\n",
       "<p>2 rows × 31 columns</p>\n",
       "</div>"
      ],
      "text/plain": [
       "   p_spot  p_free_racks b_battery_pack  b_active  b_pedelec_battery p_address  \\\n",
       "0    True             0            NaN      True                NaN       NaN   \n",
       "1    True             0            NaN      True                NaN       NaN   \n",
       "\n",
       "   p_bike_racks     p_lat b_lock_types  p_free_special_racks  ...  \\\n",
       "0             0  51.34397   frame_lock                   0.0  ...   \n",
       "1             0  51.34397   frame_lock                   0.0  ...   \n",
       "\n",
       "  p_booked_bikes b_electric_lock      p_lng  p_rack_locks  b_number  \\\n",
       "0              0            True  12.383174         False     23138   \n",
       "1              0            True  12.383174         False     23138   \n",
       "\n",
       "   p_bike_types p_maintenance  p_special_racks b_boardcomputer     city  \n",
       "0     {\"71\": 1}         False              0.0      7551005157  leipzig  \n",
       "1     {\"71\": 3}         False              0.0      7551005157  leipzig  \n",
       "\n",
       "[2 rows x 31 columns]"
      ]
     },
     "execution_count": 19,
     "metadata": {},
     "output_type": "execute_result"
    }
   ],
   "source": [
    "data_df.head(2)"
   ]
  }
 ],
 "metadata": {
  "interpreter": {
   "hash": "6f128d9a36ac5782f4755de02247e2ed06e0bf1d935493c1f1cb8e21863a0d39"
  },
  "kernelspec": {
   "display_name": "Python 3.9.12 ('AAA_MAGMA')",
   "language": "python",
   "name": "python3"
  },
  "language_info": {
   "codemirror_mode": {
    "name": "ipython",
    "version": 3
   },
   "file_extension": ".py",
   "mimetype": "text/x-python",
   "name": "python",
   "nbconvert_exporter": "python",
   "pygments_lexer": "ipython3",
   "version": "3.9.12"
  },
  "orig_nbformat": 4
 },
 "nbformat": 4,
 "nbformat_minor": 2
}
