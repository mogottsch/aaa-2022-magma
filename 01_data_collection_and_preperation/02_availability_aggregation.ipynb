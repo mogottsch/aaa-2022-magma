{
 "cells": [
  {
   "cell_type": "code",
   "execution_count": 1,
   "metadata": {},
   "outputs": [],
   "source": [
    "import pandas as pd\n",
    "import h3\n",
    "import matplotlib.pyplot as plt"
   ]
  },
  {
   "cell_type": "code",
   "execution_count": 2,
   "metadata": {},
   "outputs": [],
   "source": [
    "import sys, os\n",
    "sys.path.append(os.path.abspath('..'))\n",
    "%load_ext autoreload\n",
    "%autoreload 2\n",
    "\n",
    "from modules.config import *"
   ]
  },
  {
   "cell_type": "code",
   "execution_count": 3,
   "metadata": {},
   "outputs": [],
   "source": [
    "movements_grouped = pd.read_pickle(MOVEMENTS_GROUPED_SPATIO_TEMPORAL_PATH)\n",
    "movements = pd.read_pickle(MOVEMENTS_PATH)"
   ]
  },
  {
   "cell_type": "code",
   "execution_count": 4,
   "metadata": {},
   "outputs": [],
   "source": [
    "movements_grouped = movements_grouped.rename({'movements': 'n_bikes'}, axis=1)"
   ]
  },
  {
   "cell_type": "code",
   "execution_count": 5,
   "metadata": {},
   "outputs": [],
   "source": [
    "starting_movements = movements_grouped.reset_index().groupby(['time_interval_start', 'start_hex_id'])['n_bikes'].sum()\n",
    "ending_movements = movements_grouped.reset_index().groupby(['time_interval_end', 'end_hex_id'])['n_bikes'].sum()"
   ]
  },
  {
   "cell_type": "code",
   "execution_count": 6,
   "metadata": {},
   "outputs": [],
   "source": [
    "starting_movements.index.names = [\"datetime\", \"hex_id\"]\n",
    "ending_movements.index.names = [\"datetime\", \"hex_id\"]"
   ]
  },
  {
   "cell_type": "code",
   "execution_count": 7,
   "metadata": {},
   "outputs": [],
   "source": [
    "movements = movements.sort_values('datetime_start')\n",
    "first_locations = movements.groupby('b_number').first().reset_index()\n",
    "movements = movements.sort_values('datetime_end')\n",
    "last_locations = movements.groupby('b_number').last().reset_index()"
   ]
  },
  {
   "cell_type": "code",
   "execution_count": 8,
   "metadata": {},
   "outputs": [],
   "source": [
    "first_locations['hex_id'] = first_locations.apply(\n",
    "\tlambda row: h3.geo_to_h3(row[\"lat_start\"], row[\"lng_start\"], H3_RESOLUTION), axis=1\n",
    ")\n",
    "last_locations['hex_id'] = last_locations.apply(\n",
    "\tlambda row: h3.geo_to_h3(row[\"lat_end\"], row[\"lng_end\"], H3_RESOLUTION), axis=1\n",
    ")\n",
    "\n",
    "first_locations = first_locations.rename({'datetime_start': 'datetime'}, axis=1)\n",
    "last_locations = last_locations.rename({'datetime_end': 'datetime'}, axis=1)"
   ]
  },
  {
   "cell_type": "code",
   "execution_count": 9,
   "metadata": {},
   "outputs": [],
   "source": [
    "first_locations['datetime'] = first_locations['datetime'].dt.floor(f'{TIME_INTERVAL_LENGTH}H')\n",
    "last_locations['datetime'] = last_locations['datetime'].dt.floor(f'{TIME_INTERVAL_LENGTH}H')"
   ]
  },
  {
   "cell_type": "code",
   "execution_count": 10,
   "metadata": {},
   "outputs": [],
   "source": [
    "first_locations = first_locations.groupby(['datetime', 'hex_id'])['b_number'].count()\n",
    "last_locations = last_locations.groupby(['datetime', 'hex_id'])['b_number'].count()"
   ]
  },
  {
   "cell_type": "code",
   "execution_count": 11,
   "metadata": {},
   "outputs": [],
   "source": [
    "all_hex_ids = (\n",
    "    starting_movements.index.get_level_values(\"hex_id\")\n",
    "    .unique()\n",
    "    .union(ending_movements.index.get_level_values(\"hex_id\").unique())\n",
    "    .union(first_locations.index.get_level_values(\"hex_id\").unique())\n",
    "    .union(last_locations.index.get_level_values(\"hex_id\").unique())\n",
    ")\n",
    "daterange = pd.date_range(start=\"2019-01-01\", end=\"2019-12-31\", freq=f\"{TIME_INTERVAL_LENGTH}H\")"
   ]
  },
  {
   "cell_type": "code",
   "execution_count": 12,
   "metadata": {},
   "outputs": [],
   "source": [
    "full_index = pd.MultiIndex.from_product([daterange, all_hex_ids], names=[\"datetime\", \"hex_id\"])"
   ]
  },
  {
   "cell_type": "code",
   "execution_count": 13,
   "metadata": {},
   "outputs": [],
   "source": [
    "starting_movements = starting_movements.reindex(full_index, fill_value=0)\n",
    "ending_movements = ending_movements.reindex(full_index, fill_value=0)\n",
    "first_locations = first_locations.reindex(full_index, fill_value=0)\n",
    "last_locations = last_locations.reindex(full_index, fill_value=0)"
   ]
  },
  {
   "cell_type": "code",
   "execution_count": 14,
   "metadata": {},
   "outputs": [
    {
     "data": {
      "text/html": [
       "<div>\n",
       "<style scoped>\n",
       "    .dataframe tbody tr th:only-of-type {\n",
       "        vertical-align: middle;\n",
       "    }\n",
       "\n",
       "    .dataframe tbody tr th {\n",
       "        vertical-align: top;\n",
       "    }\n",
       "\n",
       "    .dataframe thead th {\n",
       "        text-align: right;\n",
       "    }\n",
       "</style>\n",
       "<table border=\"1\" class=\"dataframe\">\n",
       "  <thead>\n",
       "    <tr style=\"text-align: right;\">\n",
       "      <th></th>\n",
       "      <th></th>\n",
       "      <th>n_bikes</th>\n",
       "    </tr>\n",
       "    <tr>\n",
       "      <th>datetime</th>\n",
       "      <th>hex_id</th>\n",
       "      <th></th>\n",
       "    </tr>\n",
       "  </thead>\n",
       "  <tbody>\n",
       "    <tr>\n",
       "      <th rowspan=\"2\" valign=\"top\">2019-01-01</th>\n",
       "      <th>881f1a1401fffff</th>\n",
       "      <td>0</td>\n",
       "    </tr>\n",
       "    <tr>\n",
       "      <th>881f1a140bfffff</th>\n",
       "      <td>0</td>\n",
       "    </tr>\n",
       "  </tbody>\n",
       "</table>\n",
       "</div>"
      ],
      "text/plain": [
       "                            n_bikes\n",
       "datetime   hex_id                  \n",
       "2019-01-01 881f1a1401fffff        0\n",
       "           881f1a140bfffff        0"
      ]
     },
     "execution_count": 14,
     "metadata": {},
     "output_type": "execute_result"
    }
   ],
   "source": [
    "net = (\n",
    "    (ending_movements  - starting_movements + first_locations - last_locations)\n",
    "    .to_frame('n_bikes')\n",
    "    .reset_index()\n",
    "    .rename(columns={\"level_0\": \"hex_id\"})\n",
    "    .sort_values(\"datetime\")\n",
    "    .groupby([\"datetime\", \"hex_id\"])\n",
    "    .sum()\n",
    ")\t\n",
    "net.head(2)"
   ]
  },
  {
   "cell_type": "code",
   "execution_count": 15,
   "metadata": {},
   "outputs": [
    {
     "data": {
      "text/plain": [
       "0"
      ]
     },
     "execution_count": 15,
     "metadata": {},
     "output_type": "execute_result"
    }
   ],
   "source": [
    "nr = net.reset_index()\n",
    "nr[nr['hex_id'] == '881948b1d5fffff']['n_bikes'].sum()"
   ]
  },
  {
   "cell_type": "code",
   "execution_count": 16,
   "metadata": {},
   "outputs": [
    {
     "data": {
      "text/plain": [
       "hex_id\n",
       "881f1a1401fffff    0\n",
       "881f1a8da9fffff    0\n",
       "881f1a8db9fffff    0\n",
       "881f1a8db7fffff    0\n",
       "881f1a8db5fffff    0\n",
       "                  ..\n",
       "881f1a1745fffff    0\n",
       "881f1a1743fffff    0\n",
       "881f1a1741fffff    0\n",
       "881f1a173dfffff    0\n",
       "881f1abb6dfffff    0\n",
       "Name: n_bikes, Length: 310, dtype: int64"
      ]
     },
     "execution_count": 16,
     "metadata": {},
     "output_type": "execute_result"
    }
   ],
   "source": [
    "nr.groupby('hex_id').n_bikes.sum().sort_values(ascending=False)"
   ]
  },
  {
   "cell_type": "code",
   "execution_count": 17,
   "metadata": {},
   "outputs": [],
   "source": [
    "net.index.names = ['datetime', 'hex_id']"
   ]
  },
  {
   "cell_type": "code",
   "execution_count": 18,
   "metadata": {},
   "outputs": [
    {
     "data": {
      "text/html": [
       "<div>\n",
       "<style scoped>\n",
       "    .dataframe tbody tr th:only-of-type {\n",
       "        vertical-align: middle;\n",
       "    }\n",
       "\n",
       "    .dataframe tbody tr th {\n",
       "        vertical-align: top;\n",
       "    }\n",
       "\n",
       "    .dataframe thead th {\n",
       "        text-align: right;\n",
       "    }\n",
       "</style>\n",
       "<table border=\"1\" class=\"dataframe\">\n",
       "  <thead>\n",
       "    <tr style=\"text-align: right;\">\n",
       "      <th></th>\n",
       "      <th></th>\n",
       "      <th>n_bikes</th>\n",
       "    </tr>\n",
       "    <tr>\n",
       "      <th>datetime</th>\n",
       "      <th>hex_id</th>\n",
       "      <th></th>\n",
       "    </tr>\n",
       "  </thead>\n",
       "  <tbody>\n",
       "    <tr>\n",
       "      <th rowspan=\"2\" valign=\"top\">2019-01-01</th>\n",
       "      <th>881f1a1401fffff</th>\n",
       "      <td>0</td>\n",
       "    </tr>\n",
       "    <tr>\n",
       "      <th>881f1a140bfffff</th>\n",
       "      <td>0</td>\n",
       "    </tr>\n",
       "  </tbody>\n",
       "</table>\n",
       "</div>"
      ],
      "text/plain": [
       "                            n_bikes\n",
       "datetime   hex_id                  \n",
       "2019-01-01 881f1a1401fffff        0\n",
       "           881f1a140bfffff        0"
      ]
     },
     "execution_count": 18,
     "metadata": {},
     "output_type": "execute_result"
    }
   ],
   "source": [
    "availability = net.groupby(level=-1).cumsum()\n",
    "availability.head(2)"
   ]
  },
  {
   "cell_type": "code",
   "execution_count": 19,
   "metadata": {},
   "outputs": [],
   "source": [
    "ar = availability.reset_index()"
   ]
  },
  {
   "cell_type": "code",
   "execution_count": 20,
   "metadata": {},
   "outputs": [
    {
     "data": {
      "image/png": "[encoded data removed]",
      "text/plain": [
       "<Figure size 432x288 with 1 Axes>"
      ]
     },
     "metadata": {
      "needs_background": "light"
     },
     "output_type": "display_data"
    }
   ],
   "source": [
    "ar[ar['hex_id'] == '881f1ab969fffff'].plot(x='datetime', y='n_bikes')\n",
    "plt.show()"
   ]
  },
  {
   "cell_type": "code",
   "execution_count": 23,
   "metadata": {},
   "outputs": [
    {
     "data": {
      "image/png": "[encoded data removed]",
      "text/plain": [
       "<Figure size 432x288 with 1 Axes>"
      ]
     },
     "metadata": {
      "needs_background": "light"
     },
     "output_type": "display_data"
    }
   ],
   "source": [
    "ar[ar['hex_id'] == '881f1a1649fffff'].plot(x='datetime', y='n_bikes')\n",
    "plt.show()"
   ]
  },
  {
   "cell_type": "code",
   "execution_count": 24,
   "metadata": {},
   "outputs": [
    {
     "data": {
      "image/png": "[encoded data removed]",
      "text/plain": [
       "<Figure size 432x288 with 1 Axes>"
      ]
     },
     "metadata": {
      "needs_background": "light"
     },
     "output_type": "display_data"
    }
   ],
   "source": [
    "ar.groupby('datetime').sum().plot()\n",
    "plt.show()"
   ]
  },
  {
   "cell_type": "code",
   "execution_count": 25,
   "metadata": {},
   "outputs": [],
   "source": [
    "availability.reset_index(drop=True).to_pickle(AVAILABILITY_PATH)"
   ]
  }
 ],
 "metadata": {
  "interpreter": {
   "hash": "6f128d9a36ac5782f4755de02247e2ed06e0bf1d935493c1f1cb8e21863a0d39"
  },
  "kernelspec": {
   "display_name": "Python 3.9.12 ('AAA_MAGMA')",
   "language": "python",
   "name": "python3"
  },
  "language_info": {
   "codemirror_mode": {
    "name": "ipython",
    "version": 3
   },
   "file_extension": ".py",
   "mimetype": "text/x-python",
   "name": "python",
   "nbconvert_exporter": "python",
   "pygments_lexer": "ipython3",
   "version": "3.9.12"
  },
  "orig_nbformat": 4
 },
 "nbformat": 4,
 "nbformat_minor": 2
}
