{
 "cells": [
  {
   "cell_type": "code",
   "execution_count": 1,
   "metadata": {},
   "outputs": [],
   "source": [
    "import pandas as pd\n",
    "import matplotlib.pyplot as plt\n",
    "import itertools\n",
    "from tqdm.notebook import tqdm"
   ]
  },
  {
   "cell_type": "code",
   "execution_count": 2,
   "metadata": {},
   "outputs": [],
   "source": [
    "import sys, os\n",
    "sys.path.append(os.path.abspath('..'))\n",
    "%load_ext autoreload\n",
    "%autoreload 2\n",
    "\n",
    "from modules.config import *\n",
    "from modules.preprocessing import calculate_availability"
   ]
  },
  {
   "cell_type": "code",
   "execution_count": 3,
   "metadata": {},
   "outputs": [],
   "source": [
    "movements_grouped = pd.read_parquet(MOVEMENTS_GROUPED_SPATIO_TEMPORAL_PATH)\n",
    "movements = pd.read_parquet(MOVEMENTS_PATH)"
   ]
  },
  {
   "cell_type": "code",
   "execution_count": 4,
   "metadata": {},
   "outputs": [
    {
     "data": {
      "text/html": [
       "<div>\n",
       "<style scoped>\n",
       "    .dataframe tbody tr th:only-of-type {\n",
       "        vertical-align: middle;\n",
       "    }\n",
       "\n",
       "    .dataframe tbody tr th {\n",
       "        vertical-align: top;\n",
       "    }\n",
       "\n",
       "    .dataframe thead th {\n",
       "        text-align: right;\n",
       "    }\n",
       "</style>\n",
       "<table border=\"1\" class=\"dataframe\">\n",
       "  <thead>\n",
       "    <tr style=\"text-align: right;\">\n",
       "      <th></th>\n",
       "      <th>datetime_start_floored</th>\n",
       "      <th>datetime_end_floored</th>\n",
       "      <th>start_hex_id</th>\n",
       "      <th>end_hex_id</th>\n",
       "      <th>n_bikes</th>\n",
       "      <th>h3_res</th>\n",
       "      <th>time_interval_length</th>\n",
       "    </tr>\n",
       "    <tr>\n",
       "      <th>index</th>\n",
       "      <th></th>\n",
       "      <th></th>\n",
       "      <th></th>\n",
       "      <th></th>\n",
       "      <th></th>\n",
       "      <th></th>\n",
       "      <th></th>\n",
       "    </tr>\n",
       "  </thead>\n",
       "  <tbody>\n",
       "    <tr>\n",
       "      <th>0</th>\n",
       "      <td>2019-01-20</td>\n",
       "      <td>2019-01-20</td>\n",
       "      <td>871f1a164ffffff</td>\n",
       "      <td>871f1a164ffffff</td>\n",
       "      <td>2</td>\n",
       "      <td>7</td>\n",
       "      <td>1</td>\n",
       "    </tr>\n",
       "    <tr>\n",
       "      <th>1</th>\n",
       "      <td>2019-01-20</td>\n",
       "      <td>2019-01-20</td>\n",
       "      <td>871f1a164ffffff</td>\n",
       "      <td>871f1a8cbffffff</td>\n",
       "      <td>1</td>\n",
       "      <td>7</td>\n",
       "      <td>1</td>\n",
       "    </tr>\n",
       "  </tbody>\n",
       "</table>\n",
       "</div>"
      ],
      "text/plain": [
       "      datetime_start_floored datetime_end_floored     start_hex_id  \\\n",
       "index                                                                \n",
       "0                 2019-01-20           2019-01-20  871f1a164ffffff   \n",
       "1                 2019-01-20           2019-01-20  871f1a164ffffff   \n",
       "\n",
       "            end_hex_id  n_bikes  h3_res  time_interval_length  \n",
       "index                                                          \n",
       "0      871f1a164ffffff        2       7                     1  \n",
       "1      871f1a8cbffffff        1       7                     1  "
      ]
     },
     "execution_count": 4,
     "metadata": {},
     "output_type": "execute_result"
    }
   ],
   "source": [
    "movements_grouped = movements_grouped.rename({'demand': 'n_bikes'}, axis=1)\n",
    "movements_grouped.head(2)"
   ]
  },
  {
   "cell_type": "code",
   "execution_count": 5,
   "metadata": {},
   "outputs": [],
   "source": [
    "movements = movements.sort_values('datetime_start')\n",
    "first_locations = movements.groupby('b_number').first().reset_index()\n",
    "movements = movements.sort_values('datetime_end')\n",
    "last_locations = movements.groupby('b_number').last().reset_index()"
   ]
  },
  {
   "cell_type": "code",
   "execution_count": 6,
   "metadata": {},
   "outputs": [
    {
     "data": {
      "text/html": [
       "<div>\n",
       "<style scoped>\n",
       "    .dataframe tbody tr th:only-of-type {\n",
       "        vertical-align: middle;\n",
       "    }\n",
       "\n",
       "    .dataframe tbody tr th {\n",
       "        vertical-align: top;\n",
       "    }\n",
       "\n",
       "    .dataframe thead th {\n",
       "        text-align: right;\n",
       "    }\n",
       "</style>\n",
       "<table border=\"1\" class=\"dataframe\">\n",
       "  <thead>\n",
       "    <tr style=\"text-align: right;\">\n",
       "      <th></th>\n",
       "      <th>datetime_start_floored</th>\n",
       "      <th>datetime_end_floored</th>\n",
       "      <th>start_hex_id</th>\n",
       "      <th>end_hex_id</th>\n",
       "      <th>n_bikes</th>\n",
       "    </tr>\n",
       "    <tr>\n",
       "      <th>index</th>\n",
       "      <th></th>\n",
       "      <th></th>\n",
       "      <th></th>\n",
       "      <th></th>\n",
       "      <th></th>\n",
       "    </tr>\n",
       "  </thead>\n",
       "  <tbody>\n",
       "    <tr>\n",
       "      <th>0</th>\n",
       "      <td>2019-01-20</td>\n",
       "      <td>2019-01-20</td>\n",
       "      <td>881f1a1601fffff</td>\n",
       "      <td>881f1a1601fffff</td>\n",
       "      <td>4</td>\n",
       "    </tr>\n",
       "    <tr>\n",
       "      <th>1</th>\n",
       "      <td>2019-01-20</td>\n",
       "      <td>2019-01-20</td>\n",
       "      <td>881f1a1601fffff</td>\n",
       "      <td>881f1a1659fffff</td>\n",
       "      <td>3</td>\n",
       "    </tr>\n",
       "  </tbody>\n",
       "</table>\n",
       "</div>"
      ],
      "text/plain": [
       "      datetime_start_floored datetime_end_floored     start_hex_id  \\\n",
       "index                                                                \n",
       "0                 2019-01-20           2019-01-20  881f1a1601fffff   \n",
       "1                 2019-01-20           2019-01-20  881f1a1601fffff   \n",
       "\n",
       "            end_hex_id  n_bikes  \n",
       "index                            \n",
       "0      881f1a1601fffff        4  \n",
       "1      881f1a1659fffff        3  "
      ]
     },
     "execution_count": 6,
     "metadata": {},
     "output_type": "execute_result"
    }
   ],
   "source": [
    "movements_grouped_spec = movements_grouped[\n",
    "    (movements_grouped[\"h3_res\"] == H3_RESOLUTION)\n",
    "    & (movements_grouped[\"time_interval_length\"] == TIME_INTERVAL_LENGTH)\n",
    "]\n",
    "movements_grouped_spec = movements_grouped_spec.drop(\n",
    "    columns=[\"h3_res\", \"time_interval_length\"]\n",
    ")\n",
    "movements_grouped_spec.head(2)\n"
   ]
  },
  {
   "cell_type": "code",
   "execution_count": 7,
   "metadata": {},
   "outputs": [],
   "source": [
    "first_locations = first_locations.rename(\n",
    "    columns={\"lat_start\": \"lat\", \"lng_start\": \"lng\", \"datetime_start\": \"datetime\"}\n",
    ")\n",
    "# drop all except\n",
    "last_locations = last_locations.rename(\n",
    "    columns={\"lat_end\": \"lat\", \"lng_end\": \"lng\", \"datetime_end\": \"datetime\"}\n",
    ")\n"
   ]
  },
  {
   "cell_type": "markdown",
   "metadata": {},
   "source": [
    "We now calculate the availability of bicycles per hexagon and time interval.  \n",
    "Intuitively, our approach can be described by the following steps:\n",
    "1. Spawn/create each bicycle in the hexagon where it is first seen at the\n",
    "correct time to get a base number for the availability (+1 for hexagon at\n",
    "specific time interval).\n",
    "2. update the availability at each hexagon and time interval as described by the\n",
    "entries in `movements_grouped` (+incoming bikes, -outgoing bikes for each\n",
    "hexagon at each time interval).  \n",
    "3. despawn/remove each bicycles in the hexagon where it is last seen at the\n",
    "correct time (-1 for hexagon at specific time interval)."
   ]
  },
  {
   "cell_type": "code",
   "execution_count": 8,
   "metadata": {},
   "outputs": [],
   "source": [
    "availability = calculate_availability(\n",
    "    movements_grouped_spec,\n",
    "    first_locations,\n",
    "    last_locations,\n",
    "    H3_RESOLUTION,\n",
    "    TIME_INTERVAL_LENGTH,\n",
    ")\n"
   ]
  },
  {
   "cell_type": "code",
   "execution_count": 9,
   "metadata": {},
   "outputs": [],
   "source": [
    "ar = availability.reset_index()"
   ]
  },
  {
   "cell_type": "code",
   "execution_count": 10,
   "metadata": {},
   "outputs": [
    {
     "data": {
      "image/png": "[encoded data removed]",
      "text/plain": [
       "<Figure size 432x288 with 1 Axes>"
      ]
     },
     "metadata": {
      "needs_background": "light"
     },
     "output_type": "display_data"
    }
   ],
   "source": [
    "ar.groupby('datetime').sum().plot()\n",
    "plt.show()"
   ]
  },
  {
   "cell_type": "code",
   "execution_count": 11,
   "metadata": {},
   "outputs": [
    {
     "data": {
      "application/vnd.jupyter.widget-view+json": {
       "model_id": "0aad18186e004432a041266958f71c25",
       "version_major": 2,
       "version_minor": 0
      },
      "text/plain": [
       "  0%|          | 0/12 [00:00<?, ?it/s]"
      ]
     },
     "metadata": {},
     "output_type": "display_data"
    }
   ],
   "source": [
    "results = {}\n",
    "for h3_res, time_interval_length in tqdm(\n",
    "    list(itertools.product(CALC_H3_RESOLUTIONS, CALC_TIME_INTERVAL_LENGTHS))\n",
    "):\n",
    "    movements_grouped_spec = movements_grouped[\n",
    "        (movements_grouped[\"h3_res\"] == h3_res)\n",
    "        & (movements_grouped[\"time_interval_length\"] == time_interval_length)\n",
    "    ]\n",
    "    movements_grouped_spec = movements_grouped_spec.drop(\n",
    "        columns=[\"h3_res\", \"time_interval_length\"]\n",
    "    )\n",
    "    results[(h3_res, time_interval_length)] = calculate_availability(\n",
    "        movements_grouped_spec,\n",
    "        first_locations,\n",
    "        last_locations,\n",
    "        h3_res,\n",
    "        time_interval_length,\n",
    "    )\n"
   ]
  },
  {
   "cell_type": "code",
   "execution_count": 12,
   "metadata": {},
   "outputs": [],
   "source": [
    "availability = pd.concat(results)"
   ]
  },
  {
   "cell_type": "code",
   "execution_count": 13,
   "metadata": {},
   "outputs": [],
   "source": [
    "availability.index.names = ['h3_res', 'time_interval_length', 'datetime', 'hex_id']"
   ]
  },
  {
   "cell_type": "code",
   "execution_count": 14,
   "metadata": {},
   "outputs": [],
   "source": [
    "ar = availability.xs((8,1)).reset_index()"
   ]
  },
  {
   "cell_type": "code",
   "execution_count": 15,
   "metadata": {},
   "outputs": [
    {
     "data": {
      "image/png": "[encoded data removed]",
      "text/plain": [
       "<Figure size 432x288 with 1 Axes>"
      ]
     },
     "metadata": {
      "needs_background": "light"
     },
     "output_type": "display_data"
    }
   ],
   "source": [
    "ar.groupby('datetime').sum().plot()\n",
    "plt.show()"
   ]
  },
  {
   "cell_type": "code",
   "execution_count": 16,
   "metadata": {},
   "outputs": [
    {
     "data": {
      "text/plain": [
       "70"
      ]
     },
     "execution_count": 16,
     "metadata": {},
     "output_type": "execute_result"
    }
   ],
   "source": [
    "ar.n_bikes.max()"
   ]
  },
  {
   "cell_type": "code",
   "execution_count": 17,
   "metadata": {},
   "outputs": [
    {
     "data": {
      "text/html": [
       "<div>\n",
       "<style scoped>\n",
       "    .dataframe tbody tr th:only-of-type {\n",
       "        vertical-align: middle;\n",
       "    }\n",
       "\n",
       "    .dataframe tbody tr th {\n",
       "        vertical-align: top;\n",
       "    }\n",
       "\n",
       "    .dataframe thead th {\n",
       "        text-align: right;\n",
       "    }\n",
       "</style>\n",
       "<table border=\"1\" class=\"dataframe\">\n",
       "  <thead>\n",
       "    <tr style=\"text-align: right;\">\n",
       "      <th></th>\n",
       "      <th></th>\n",
       "      <th></th>\n",
       "      <th></th>\n",
       "      <th>n_bikes</th>\n",
       "    </tr>\n",
       "    <tr>\n",
       "      <th>h3_res</th>\n",
       "      <th>time_interval_length</th>\n",
       "      <th>datetime</th>\n",
       "      <th>hex_id</th>\n",
       "      <th></th>\n",
       "    </tr>\n",
       "  </thead>\n",
       "  <tbody>\n",
       "    <tr>\n",
       "      <th rowspan=\"3\" valign=\"top\">7</th>\n",
       "      <th rowspan=\"3\" valign=\"top\">1</th>\n",
       "      <th rowspan=\"3\" valign=\"top\">2019-01-01</th>\n",
       "      <th>871f1a140ffffff</th>\n",
       "      <td>0</td>\n",
       "    </tr>\n",
       "    <tr>\n",
       "      <th>871f1a144ffffff</th>\n",
       "      <td>0</td>\n",
       "    </tr>\n",
       "    <tr>\n",
       "      <th>871f1a145ffffff</th>\n",
       "      <td>0</td>\n",
       "    </tr>\n",
       "  </tbody>\n",
       "</table>\n",
       "</div>"
      ],
      "text/plain": [
       "                                                        n_bikes\n",
       "h3_res time_interval_length datetime   hex_id                  \n",
       "7      1                    2019-01-01 871f1a140ffffff        0\n",
       "                                       871f1a144ffffff        0\n",
       "                                       871f1a145ffffff        0"
      ]
     },
     "execution_count": 17,
     "metadata": {},
     "output_type": "execute_result"
    }
   ],
   "source": [
    "availability.head(3)"
   ]
  }
 ],
 "metadata": {
  "interpreter": {
   "hash": "6f128d9a36ac5782f4755de02247e2ed06e0bf1d935493c1f1cb8e21863a0d39"
  },
  "kernelspec": {
   "display_name": "Python 3.9.12 ('AAA_MAGMA')",
   "language": "python",
   "name": "python3"
  },
  "language_info": {
   "codemirror_mode": {
    "name": "ipython",
    "version": 3
   },
   "file_extension": ".py",
   "mimetype": "text/x-python",
   "name": "python",
   "nbconvert_exporter": "python",
   "pygments_lexer": "ipython3",
   "version": "3.9.12"
  },
  "orig_nbformat": 4
 },
 "nbformat": 4,
 "nbformat_minor": 2
}
