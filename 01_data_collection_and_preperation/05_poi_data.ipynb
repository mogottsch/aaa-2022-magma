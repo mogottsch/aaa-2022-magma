{
 "cells": [
  {
   "cell_type": "code",
   "execution_count": 1,
   "metadata": {},
   "outputs": [],
   "source": [
    "import requests\n",
    "import pandas as pd\n",
    "import h3\n",
    "import json"
   ]
  },
  {
   "cell_type": "code",
   "execution_count": 2,
   "metadata": {},
   "outputs": [],
   "source": [
    "import sys, os\n",
    "\n",
    "sys.path.append(os.path.abspath('..'))\n",
    "%load_ext autoreload\n",
    "%autoreload 2\n",
    "from modules.config import *\n",
    "\n",
    "sys.path.append(os.path.abspath(os.path.join(\"..\", \"utils\")))\n",
    "from overpass_meta import get_meta_data\n",
    "\n",
    "overpass_meta = get_meta_data()"
   ]
  },
  {
   "cell_type": "code",
   "execution_count": 3,
   "metadata": {},
   "outputs": [],
   "source": [
    "def get_file_path(category):\n",
    "    return os.path.join(REPO_DATA_DIR_PATH, overpass_meta[category][\"filename\"])\n",
    "\n",
    "def poi_file_exists(category):\n",
    "    return os.path.isfile(get_file_path(category))\n",
    "\n",
    "\n",
    "def read_poi_file(category):\n",
    "    with open(get_file_path(category)) as f:\n",
    "        data = json.load(f)\n",
    "    return data\n",
    "\n",
    "\n",
    "def save_poi_file(category, data):\n",
    "    with open(get_file_path(category), \"w\") as f:\n",
    "        json.dump(data, f)\n",
    "\n",
    "\n",
    "def fetch_poi_data(category):\n",
    "    response = requests.get(\n",
    "        \"http://overpass-api.de/api/interpreter\",\n",
    "        params={\"data\": overpass_meta[category][\"query\"]},\n",
    "    )\n",
    "    data = response.json()\n",
    "    save_poi_file(category, data)\n",
    "    return data\n",
    "\n",
    "def get_poi_data(category):\n",
    "    if poi_file_exists(category):\n",
    "        return read_poi_file(category)\n",
    "    return fetch_poi_data(category)\n"
   ]
  },
  {
   "cell_type": "code",
   "execution_count": 4,
   "metadata": {},
   "outputs": [
    {
     "data": {
      "text/html": [
       "<div>\n",
       "<style scoped>\n",
       "    .dataframe tbody tr th:only-of-type {\n",
       "        vertical-align: middle;\n",
       "    }\n",
       "\n",
       "    .dataframe tbody tr th {\n",
       "        vertical-align: top;\n",
       "    }\n",
       "\n",
       "    .dataframe thead th {\n",
       "        text-align: right;\n",
       "    }\n",
       "</style>\n",
       "<table border=\"1\" class=\"dataframe\">\n",
       "  <thead>\n",
       "    <tr style=\"text-align: right;\">\n",
       "      <th></th>\n",
       "      <th>type</th>\n",
       "      <th>id</th>\n",
       "      <th>lat</th>\n",
       "      <th>lon</th>\n",
       "      <th>tags</th>\n",
       "      <th>category</th>\n",
       "      <th>amenity</th>\n",
       "    </tr>\n",
       "  </thead>\n",
       "  <tbody>\n",
       "    <tr>\n",
       "      <th>0</th>\n",
       "      <td>node</td>\n",
       "      <td>30162037</td>\n",
       "      <td>51.344661</td>\n",
       "      <td>12.272481</td>\n",
       "      <td>{'addr:city': 'Leipzig', 'addr:country': 'DE',...</td>\n",
       "      <td>sustenance</td>\n",
       "      <td>restaurant</td>\n",
       "    </tr>\n",
       "    <tr>\n",
       "      <th>1</th>\n",
       "      <td>node</td>\n",
       "      <td>49531558</td>\n",
       "      <td>51.316443</td>\n",
       "      <td>12.382568</td>\n",
       "      <td>{'amenity': 'cafe', 'name': 'eis fichte MCL', ...</td>\n",
       "      <td>sustenance</td>\n",
       "      <td>cafe</td>\n",
       "    </tr>\n",
       "  </tbody>\n",
       "</table>\n",
       "</div>"
      ],
      "text/plain": [
       "   type        id        lat        lon  \\\n",
       "0  node  30162037  51.344661  12.272481   \n",
       "1  node  49531558  51.316443  12.382568   \n",
       "\n",
       "                                                tags    category     amenity  \n",
       "0  {'addr:city': 'Leipzig', 'addr:country': 'DE',...  sustenance  restaurant  \n",
       "1  {'amenity': 'cafe', 'name': 'eis fichte MCL', ...  sustenance        cafe  "
      ]
     },
     "execution_count": 4,
     "metadata": {},
     "output_type": "execute_result"
    }
   ],
   "source": [
    "# load sustenance data into a dataframe\n",
    "sustenance_data = get_poi_data(\"sustenance\")\n",
    "sustenance_df = pd.DataFrame(sustenance_data[\"elements\"])\n",
    "sustenance_df[\"category\"] = \"sustenance\"\n",
    "sustenance_df[\"amenity\"] = sustenance_df[\"tags\"].apply(lambda tags: tags[\"amenity\"])\n",
    "sustenance_df.head(2)"
   ]
  },
  {
   "cell_type": "code",
   "execution_count": 5,
   "metadata": {},
   "outputs": [
    {
     "data": {
      "text/html": [
       "<div>\n",
       "<style scoped>\n",
       "    .dataframe tbody tr th:only-of-type {\n",
       "        vertical-align: middle;\n",
       "    }\n",
       "\n",
       "    .dataframe tbody tr th {\n",
       "        vertical-align: top;\n",
       "    }\n",
       "\n",
       "    .dataframe thead th {\n",
       "        text-align: right;\n",
       "    }\n",
       "</style>\n",
       "<table border=\"1\" class=\"dataframe\">\n",
       "  <thead>\n",
       "    <tr style=\"text-align: right;\">\n",
       "      <th></th>\n",
       "      <th>type</th>\n",
       "      <th>id</th>\n",
       "      <th>lat</th>\n",
       "      <th>lon</th>\n",
       "      <th>tags</th>\n",
       "      <th>category</th>\n",
       "    </tr>\n",
       "  </thead>\n",
       "  <tbody>\n",
       "    <tr>\n",
       "      <th>0</th>\n",
       "      <td>node</td>\n",
       "      <td>12277458</td>\n",
       "      <td>51.380110</td>\n",
       "      <td>12.406596</td>\n",
       "      <td>{'bus': 'yes', 'highway': 'bus_stop', 'name': ...</td>\n",
       "      <td>public_transport</td>\n",
       "    </tr>\n",
       "    <tr>\n",
       "      <th>1</th>\n",
       "      <td>node</td>\n",
       "      <td>12351651</td>\n",
       "      <td>51.376061</td>\n",
       "      <td>12.384200</td>\n",
       "      <td>{'bus': 'yes', 'local_ref': '0612', 'name': 'D...</td>\n",
       "      <td>public_transport</td>\n",
       "    </tr>\n",
       "  </tbody>\n",
       "</table>\n",
       "</div>"
      ],
      "text/plain": [
       "   type        id        lat        lon  \\\n",
       "0  node  12277458  51.380110  12.406596   \n",
       "1  node  12351651  51.376061  12.384200   \n",
       "\n",
       "                                                tags          category  \n",
       "0  {'bus': 'yes', 'highway': 'bus_stop', 'name': ...  public_transport  \n",
       "1  {'bus': 'yes', 'local_ref': '0612', 'name': 'D...  public_transport  "
      ]
     },
     "execution_count": 5,
     "metadata": {},
     "output_type": "execute_result"
    }
   ],
   "source": [
    "# load public transport data into a dataframe\n",
    "public_transport_data = get_poi_data(\"public_transport\")\n",
    "public_transport_df = pd.DataFrame(public_transport_data[\"elements\"])\n",
    "public_transport_df[\"category\"] = \"public_transport\"\n",
    "public_transport_df.head(2)"
   ]
  },
  {
   "cell_type": "code",
   "execution_count": 6,
   "metadata": {},
   "outputs": [
    {
     "data": {
      "text/html": [
       "<div>\n",
       "<style scoped>\n",
       "    .dataframe tbody tr th:only-of-type {\n",
       "        vertical-align: middle;\n",
       "    }\n",
       "\n",
       "    .dataframe tbody tr th {\n",
       "        vertical-align: top;\n",
       "    }\n",
       "\n",
       "    .dataframe thead th {\n",
       "        text-align: right;\n",
       "    }\n",
       "</style>\n",
       "<table border=\"1\" class=\"dataframe\">\n",
       "  <thead>\n",
       "    <tr style=\"text-align: right;\">\n",
       "      <th></th>\n",
       "      <th>type</th>\n",
       "      <th>id</th>\n",
       "      <th>lat</th>\n",
       "      <th>lon</th>\n",
       "      <th>tags</th>\n",
       "      <th>category</th>\n",
       "      <th>amenity</th>\n",
       "    </tr>\n",
       "  </thead>\n",
       "  <tbody>\n",
       "    <tr>\n",
       "      <th>0</th>\n",
       "      <td>node</td>\n",
       "      <td>264496513</td>\n",
       "      <td>51.337711</td>\n",
       "      <td>12.373673</td>\n",
       "      <td>{'addr:city': 'Leipzig', 'addr:country': 'DE',...</td>\n",
       "      <td>education</td>\n",
       "      <td>university</td>\n",
       "    </tr>\n",
       "    <tr>\n",
       "      <th>1</th>\n",
       "      <td>node</td>\n",
       "      <td>266977484</td>\n",
       "      <td>51.375002</td>\n",
       "      <td>12.411598</td>\n",
       "      <td>{'addr:city': 'Leipzig', 'addr:postcode': '043...</td>\n",
       "      <td>education</td>\n",
       "      <td>library</td>\n",
       "    </tr>\n",
       "  </tbody>\n",
       "</table>\n",
       "</div>"
      ],
      "text/plain": [
       "   type         id        lat        lon  \\\n",
       "0  node  264496513  51.337711  12.373673   \n",
       "1  node  266977484  51.375002  12.411598   \n",
       "\n",
       "                                                tags   category     amenity  \n",
       "0  {'addr:city': 'Leipzig', 'addr:country': 'DE',...  education  university  \n",
       "1  {'addr:city': 'Leipzig', 'addr:postcode': '043...  education     library  "
      ]
     },
     "execution_count": 6,
     "metadata": {},
     "output_type": "execute_result"
    }
   ],
   "source": [
    "# load education data into a dataframe\n",
    "education_data = get_poi_data(\"education\")\n",
    "education_df = pd.DataFrame(education_data[\"elements\"])\n",
    "education_df[\"category\"] = \"education\"\n",
    "education_df[\"amenity\"] = education_df[\"tags\"].apply(lambda tags: tags[\"amenity\"])\n",
    "education_df.head(2)"
   ]
  },
  {
   "cell_type": "code",
   "execution_count": 7,
   "metadata": {},
   "outputs": [
    {
     "data": {
      "text/html": [
       "<div>\n",
       "<style scoped>\n",
       "    .dataframe tbody tr th:only-of-type {\n",
       "        vertical-align: middle;\n",
       "    }\n",
       "\n",
       "    .dataframe tbody tr th {\n",
       "        vertical-align: top;\n",
       "    }\n",
       "\n",
       "    .dataframe thead th {\n",
       "        text-align: right;\n",
       "    }\n",
       "</style>\n",
       "<table border=\"1\" class=\"dataframe\">\n",
       "  <thead>\n",
       "    <tr style=\"text-align: right;\">\n",
       "      <th></th>\n",
       "      <th>type</th>\n",
       "      <th>id</th>\n",
       "      <th>lat</th>\n",
       "      <th>lon</th>\n",
       "      <th>tags</th>\n",
       "      <th>category</th>\n",
       "      <th>amenity</th>\n",
       "    </tr>\n",
       "  </thead>\n",
       "  <tbody>\n",
       "    <tr>\n",
       "      <th>0</th>\n",
       "      <td>node</td>\n",
       "      <td>26022810</td>\n",
       "      <td>51.337641</td>\n",
       "      <td>12.333334</td>\n",
       "      <td>{'amenity': 'theatre', 'name': 'Theater der Ju...</td>\n",
       "      <td>arts_and_culture</td>\n",
       "      <td>theatre</td>\n",
       "    </tr>\n",
       "    <tr>\n",
       "      <th>1</th>\n",
       "      <td>node</td>\n",
       "      <td>26022926</td>\n",
       "      <td>51.336158</td>\n",
       "      <td>12.339108</td>\n",
       "      <td>{'addr:city': 'Leipzig', 'addr:postcode': '041...</td>\n",
       "      <td>arts_and_culture</td>\n",
       "      <td>theatre</td>\n",
       "    </tr>\n",
       "  </tbody>\n",
       "</table>\n",
       "</div>"
      ],
      "text/plain": [
       "   type        id        lat        lon  \\\n",
       "0  node  26022810  51.337641  12.333334   \n",
       "1  node  26022926  51.336158  12.339108   \n",
       "\n",
       "                                                tags          category  \\\n",
       "0  {'amenity': 'theatre', 'name': 'Theater der Ju...  arts_and_culture   \n",
       "1  {'addr:city': 'Leipzig', 'addr:postcode': '041...  arts_and_culture   \n",
       "\n",
       "   amenity  \n",
       "0  theatre  \n",
       "1  theatre  "
      ]
     },
     "execution_count": 7,
     "metadata": {},
     "output_type": "execute_result"
    }
   ],
   "source": [
    "# load arts and culture data into a dataframe\n",
    "arts_and_culture_data = get_poi_data(\"arts_and_culture\")\n",
    "arts_and_culture_df = pd.DataFrame(arts_and_culture_data[\"elements\"])\n",
    "arts_and_culture_df[\"category\"] = \"arts_and_culture\"\n",
    "arts_and_culture_df[\"amenity\"] = arts_and_culture_df[\"tags\"].apply(\n",
    "    lambda tags: tags[\"amenity\"]\n",
    ")\n",
    "arts_and_culture_df.head(2)"
   ]
  },
  {
   "cell_type": "code",
   "execution_count": 8,
   "metadata": {},
   "outputs": [
    {
     "data": {
      "text/html": [
       "<div>\n",
       "<style scoped>\n",
       "    .dataframe tbody tr th:only-of-type {\n",
       "        vertical-align: middle;\n",
       "    }\n",
       "\n",
       "    .dataframe tbody tr th {\n",
       "        vertical-align: top;\n",
       "    }\n",
       "\n",
       "    .dataframe thead th {\n",
       "        text-align: right;\n",
       "    }\n",
       "</style>\n",
       "<table border=\"1\" class=\"dataframe\">\n",
       "  <thead>\n",
       "    <tr style=\"text-align: right;\">\n",
       "      <th></th>\n",
       "      <th>type</th>\n",
       "      <th>id</th>\n",
       "      <th>lat</th>\n",
       "      <th>lon</th>\n",
       "      <th>tags</th>\n",
       "      <th>category</th>\n",
       "    </tr>\n",
       "  </thead>\n",
       "  <tbody>\n",
       "    <tr>\n",
       "      <th>0</th>\n",
       "      <td>node</td>\n",
       "      <td>260629059</td>\n",
       "      <td>51.339999</td>\n",
       "      <td>12.377531</td>\n",
       "      <td>{'addr:city': 'Leipzig', 'addr:country': 'DE',...</td>\n",
       "      <td>sports</td>\n",
       "    </tr>\n",
       "    <tr>\n",
       "      <th>1</th>\n",
       "      <td>node</td>\n",
       "      <td>264978890</td>\n",
       "      <td>51.344140</td>\n",
       "      <td>12.394389</td>\n",
       "      <td>{'created_by': 'Potlatch 0.9c', 'leisure': 'sp...</td>\n",
       "      <td>sports</td>\n",
       "    </tr>\n",
       "  </tbody>\n",
       "</table>\n",
       "</div>"
      ],
      "text/plain": [
       "   type         id        lat        lon  \\\n",
       "0  node  260629059  51.339999  12.377531   \n",
       "1  node  264978890  51.344140  12.394389   \n",
       "\n",
       "                                                tags category  \n",
       "0  {'addr:city': 'Leipzig', 'addr:country': 'DE',...   sports  \n",
       "1  {'created_by': 'Potlatch 0.9c', 'leisure': 'sp...   sports  "
      ]
     },
     "execution_count": 8,
     "metadata": {},
     "output_type": "execute_result"
    }
   ],
   "source": [
    "# load sports data into a dataframe\n",
    "sports_data = get_poi_data(\"sports\")\n",
    "sports_df = pd.DataFrame(sports_data[\"elements\"])\n",
    "sports_df[\"category\"] = \"sports\"\n",
    "sports_df.head(2)"
   ]
  },
  {
   "cell_type": "code",
   "execution_count": 9,
   "metadata": {},
   "outputs": [
    {
     "data": {
      "text/html": [
       "<div>\n",
       "<style scoped>\n",
       "    .dataframe tbody tr th:only-of-type {\n",
       "        vertical-align: middle;\n",
       "    }\n",
       "\n",
       "    .dataframe tbody tr th {\n",
       "        vertical-align: top;\n",
       "    }\n",
       "\n",
       "    .dataframe thead th {\n",
       "        text-align: right;\n",
       "    }\n",
       "</style>\n",
       "<table border=\"1\" class=\"dataframe\">\n",
       "  <thead>\n",
       "    <tr style=\"text-align: right;\">\n",
       "      <th></th>\n",
       "      <th>lat</th>\n",
       "      <th>lon</th>\n",
       "      <th>category</th>\n",
       "      <th>amenity</th>\n",
       "    </tr>\n",
       "  </thead>\n",
       "  <tbody>\n",
       "    <tr>\n",
       "      <th>0</th>\n",
       "      <td>51.344661</td>\n",
       "      <td>12.272481</td>\n",
       "      <td>sustenance</td>\n",
       "      <td>restaurant</td>\n",
       "    </tr>\n",
       "    <tr>\n",
       "      <th>1</th>\n",
       "      <td>51.316443</td>\n",
       "      <td>12.382568</td>\n",
       "      <td>sustenance</td>\n",
       "      <td>cafe</td>\n",
       "    </tr>\n",
       "  </tbody>\n",
       "</table>\n",
       "</div>"
      ],
      "text/plain": [
       "         lat        lon    category     amenity\n",
       "0  51.344661  12.272481  sustenance  restaurant\n",
       "1  51.316443  12.382568  sustenance        cafe"
      ]
     },
     "execution_count": 9,
     "metadata": {},
     "output_type": "execute_result"
    }
   ],
   "source": [
    "# concatenate all dataframes\n",
    "poi_df = pd.concat(\n",
    "    [sustenance_df, public_transport_df, education_df, arts_and_culture_df, sports_df]\n",
    ")\n",
    "poi_df = poi_df.drop(columns={\"type\", \"id\", \"tags\"})\n",
    "poi_df.head(2)"
   ]
  },
  {
   "cell_type": "code",
   "execution_count": 10,
   "metadata": {},
   "outputs": [
    {
     "name": "stdout",
     "output_type": "stream",
     "text": [
      "The number of pois in category sustenance: 1455\n",
      "The number of pois in category public transport: 1701\n",
      "The number of pois in category education: 167\n",
      "The number of pois in category arts and culture: 51\n",
      "The number of pois in category sports: 127\n"
     ]
    }
   ],
   "source": [
    "print(f\"The number of pois in category sustenance: {sustenance_df.index.size}\")\n",
    "print(f\"The number of pois in category public transport: {public_transport_df.index.size}\")\n",
    "print(f\"The number of pois in category education: {education_df.index.size}\")\n",
    "print(f\"The number of pois in category arts and culture: {arts_and_culture_df.index.size}\")\n",
    "print(f\"The number of pois in category sports: {sports_df.index.size}\")"
   ]
  },
  {
   "cell_type": "code",
   "execution_count": 11,
   "metadata": {},
   "outputs": [],
   "source": [
    "poi_df.to_pickle(os.path.join(PROCESSED_DATA_DIR_PATH, \"poi_data.pkl\"))"
   ]
  },
  {
   "cell_type": "markdown",
   "metadata": {},
   "source": [
    "## Compute number of pois per hexagon"
   ]
  },
  {
   "cell_type": "code",
   "execution_count": 12,
   "metadata": {},
   "outputs": [],
   "source": [
    "# this function will compute hex id based on latitude and longitude\n",
    "def convert_to_hex(latitude, longitude):\n",
    "    return h3.geo_to_h3(lat=latitude, lng=longitude, resolution=H3_RESOLUTION)"
   ]
  },
  {
   "cell_type": "code",
   "execution_count": 13,
   "metadata": {},
   "outputs": [
    {
     "data": {
      "text/html": [
       "<div>\n",
       "<style scoped>\n",
       "    .dataframe tbody tr th:only-of-type {\n",
       "        vertical-align: middle;\n",
       "    }\n",
       "\n",
       "    .dataframe tbody tr th {\n",
       "        vertical-align: top;\n",
       "    }\n",
       "\n",
       "    .dataframe thead th {\n",
       "        text-align: right;\n",
       "    }\n",
       "</style>\n",
       "<table border=\"1\" class=\"dataframe\">\n",
       "  <thead>\n",
       "    <tr style=\"text-align: right;\">\n",
       "      <th></th>\n",
       "      <th>lat</th>\n",
       "      <th>lon</th>\n",
       "      <th>category</th>\n",
       "      <th>amenity</th>\n",
       "      <th>hex</th>\n",
       "    </tr>\n",
       "  </thead>\n",
       "  <tbody>\n",
       "    <tr>\n",
       "      <th>0</th>\n",
       "      <td>51.344661</td>\n",
       "      <td>12.272481</td>\n",
       "      <td>sustenance</td>\n",
       "      <td>restaurant</td>\n",
       "      <td>881f1a8dc9fffff</td>\n",
       "    </tr>\n",
       "    <tr>\n",
       "      <th>1</th>\n",
       "      <td>51.316443</td>\n",
       "      <td>12.382568</td>\n",
       "      <td>sustenance</td>\n",
       "      <td>cafe</td>\n",
       "      <td>881f1a1609fffff</td>\n",
       "    </tr>\n",
       "  </tbody>\n",
       "</table>\n",
       "</div>"
      ],
      "text/plain": [
       "         lat        lon    category     amenity              hex\n",
       "0  51.344661  12.272481  sustenance  restaurant  881f1a8dc9fffff\n",
       "1  51.316443  12.382568  sustenance        cafe  881f1a1609fffff"
      ]
     },
     "execution_count": 13,
     "metadata": {},
     "output_type": "execute_result"
    }
   ],
   "source": [
    "# compute the hexagon id for each point of interest\n",
    "poi_df[\"hex\"] = poi_df.apply(lambda poi: convert_to_hex(poi[\"lat\"], poi[\"lon\"]), axis=1)\n",
    "poi_df.head(2)"
   ]
  },
  {
   "cell_type": "code",
   "execution_count": 14,
   "metadata": {},
   "outputs": [
    {
     "data": {
      "text/html": [
       "<div>\n",
       "<style scoped>\n",
       "    .dataframe tbody tr th:only-of-type {\n",
       "        vertical-align: middle;\n",
       "    }\n",
       "\n",
       "    .dataframe tbody tr th {\n",
       "        vertical-align: top;\n",
       "    }\n",
       "\n",
       "    .dataframe thead th {\n",
       "        text-align: right;\n",
       "    }\n",
       "</style>\n",
       "<table border=\"1\" class=\"dataframe\">\n",
       "  <thead>\n",
       "    <tr style=\"text-align: right;\">\n",
       "      <th></th>\n",
       "      <th>hex</th>\n",
       "      <th>category</th>\n",
       "      <th>pois</th>\n",
       "    </tr>\n",
       "  </thead>\n",
       "  <tbody>\n",
       "    <tr>\n",
       "      <th>0</th>\n",
       "      <td>881f1a10d1fffff</td>\n",
       "      <td>public_transport</td>\n",
       "      <td>3</td>\n",
       "    </tr>\n",
       "    <tr>\n",
       "      <th>1</th>\n",
       "      <td>881f1a10d9fffff</td>\n",
       "      <td>public_transport</td>\n",
       "      <td>2</td>\n",
       "    </tr>\n",
       "  </tbody>\n",
       "</table>\n",
       "</div>"
      ],
      "text/plain": [
       "               hex          category  pois\n",
       "0  881f1a10d1fffff  public_transport     3\n",
       "1  881f1a10d9fffff  public_transport     2"
      ]
     },
     "execution_count": 14,
     "metadata": {},
     "output_type": "execute_result"
    }
   ],
   "source": [
    "# create a dataframe with the number of points of interest in each hexagon\n",
    "# and each category that occurs in the poi dataframe\n",
    "all_hexagons_with_poi = poi_df.groupby([\"hex\", \"category\"]).size().to_frame()\n",
    "all_hexagons_with_poi = all_hexagons_with_poi.reset_index()\n",
    "all_hexagons_with_poi = all_hexagons_with_poi.rename(columns={0: \"pois\"})\n",
    "all_hexagons_with_poi.head(2)"
   ]
  },
  {
   "cell_type": "code",
   "execution_count": 15,
   "metadata": {},
   "outputs": [
    {
     "data": {
      "text/html": [
       "<div>\n",
       "<style scoped>\n",
       "    .dataframe tbody tr th:only-of-type {\n",
       "        vertical-align: middle;\n",
       "    }\n",
       "\n",
       "    .dataframe tbody tr th {\n",
       "        vertical-align: top;\n",
       "    }\n",
       "\n",
       "    .dataframe thead th {\n",
       "        text-align: right;\n",
       "    }\n",
       "</style>\n",
       "<table border=\"1\" class=\"dataframe\">\n",
       "  <thead>\n",
       "    <tr style=\"text-align: right;\">\n",
       "      <th></th>\n",
       "      <th>hex</th>\n",
       "      <th>hex_and_neighbors</th>\n",
       "    </tr>\n",
       "  </thead>\n",
       "  <tbody>\n",
       "    <tr>\n",
       "      <th>0</th>\n",
       "      <td>881f1a10d1fffff</td>\n",
       "      <td>[881f1a10d9fffff, 881f1a10d3fffff, 881f1a10dbf...</td>\n",
       "    </tr>\n",
       "    <tr>\n",
       "      <th>1</th>\n",
       "      <td>881f1a10d9fffff</td>\n",
       "      <td>[881f1a1765fffff, 881f1a10d9fffff, 881f1a10dbf...</td>\n",
       "    </tr>\n",
       "  </tbody>\n",
       "</table>\n",
       "</div>"
      ],
      "text/plain": [
       "               hex                                  hex_and_neighbors\n",
       "0  881f1a10d1fffff  [881f1a10d9fffff, 881f1a10d3fffff, 881f1a10dbf...\n",
       "1  881f1a10d9fffff  [881f1a1765fffff, 881f1a10d9fffff, 881f1a10dbf..."
      ]
     },
     "execution_count": 15,
     "metadata": {},
     "output_type": "execute_result"
    }
   ],
   "source": [
    "# create a dataframe with all hexagons\n",
    "# create a column 'hex_and_neighbors' which contains a set of hexagons\n",
    "# this set consists of the hexagon from column 'hex' and its 6 neighbors\n",
    "hexagons_df = pd.DataFrame()\n",
    "hexagons_df[\"hex\"] = all_hexagons_with_poi['hex'].unique()\n",
    "hexagons_df[\"hex_and_neighbors\"] = hexagons_df.apply(\n",
    "    lambda row: list(h3.k_ring(row[\"hex\"], 1)), axis=1\n",
    ")\n",
    "hexagons_df.head(2)"
   ]
  },
  {
   "cell_type": "code",
   "execution_count": 16,
   "metadata": {},
   "outputs": [],
   "source": [
    "# this function will return the sum of points of interest in a given category for a given set of hexagons\n",
    "def calculate_poi(hex_and_neighbors, category):\n",
    "    return all_hexagons_with_poi[\n",
    "        (\n",
    "            (all_hexagons_with_poi[\"hex\"].isin(hex_and_neighbors))\n",
    "            & (all_hexagons_with_poi[\"category\"] == category)\n",
    "        )\n",
    "    ][\"pois\"].sum()"
   ]
  },
  {
   "cell_type": "code",
   "execution_count": 17,
   "metadata": {},
   "outputs": [
    {
     "data": {
      "text/html": [
       "<div>\n",
       "<style scoped>\n",
       "    .dataframe tbody tr th:only-of-type {\n",
       "        vertical-align: middle;\n",
       "    }\n",
       "\n",
       "    .dataframe tbody tr th {\n",
       "        vertical-align: top;\n",
       "    }\n",
       "\n",
       "    .dataframe thead th {\n",
       "        text-align: right;\n",
       "    }\n",
       "</style>\n",
       "<table border=\"1\" class=\"dataframe\">\n",
       "  <thead>\n",
       "    <tr style=\"text-align: right;\">\n",
       "      <th></th>\n",
       "      <th>hex</th>\n",
       "      <th>hex_and_neighbors</th>\n",
       "      <th>sustenance_poi</th>\n",
       "      <th>public_transport_poi</th>\n",
       "      <th>education_poi</th>\n",
       "      <th>arts_and_culture_poi</th>\n",
       "      <th>sports_poi</th>\n",
       "    </tr>\n",
       "  </thead>\n",
       "  <tbody>\n",
       "    <tr>\n",
       "      <th>0</th>\n",
       "      <td>881f1a10d1fffff</td>\n",
       "      <td>[881f1a10d9fffff, 881f1a10d3fffff, 881f1a10dbf...</td>\n",
       "      <td>0</td>\n",
       "      <td>6</td>\n",
       "      <td>0</td>\n",
       "      <td>0</td>\n",
       "      <td>0</td>\n",
       "    </tr>\n",
       "    <tr>\n",
       "      <th>1</th>\n",
       "      <td>881f1a10d9fffff</td>\n",
       "      <td>[881f1a1765fffff, 881f1a10d9fffff, 881f1a10dbf...</td>\n",
       "      <td>0</td>\n",
       "      <td>6</td>\n",
       "      <td>0</td>\n",
       "      <td>0</td>\n",
       "      <td>0</td>\n",
       "    </tr>\n",
       "  </tbody>\n",
       "</table>\n",
       "</div>"
      ],
      "text/plain": [
       "               hex                                  hex_and_neighbors  \\\n",
       "0  881f1a10d1fffff  [881f1a10d9fffff, 881f1a10d3fffff, 881f1a10dbf...   \n",
       "1  881f1a10d9fffff  [881f1a1765fffff, 881f1a10d9fffff, 881f1a10dbf...   \n",
       "\n",
       "   sustenance_poi  public_transport_poi  education_poi  arts_and_culture_poi  \\\n",
       "0               0                     6              0                     0   \n",
       "1               0                     6              0                     0   \n",
       "\n",
       "   sports_poi  \n",
       "0           0  \n",
       "1           0  "
      ]
     },
     "execution_count": 17,
     "metadata": {},
     "output_type": "execute_result"
    }
   ],
   "source": [
    "# compute the number of pois in each category for each hexagon and its neighbors\n",
    "categories = [\n",
    "    'sustenance',\n",
    "    'public_transport',\n",
    "    'education',\n",
    "    'arts_and_culture',\n",
    "    'sports'\n",
    "]\n",
    "\n",
    "for category in categories:\n",
    "    hexagons_df[f\"{category}_poi\"] = hexagons_df[\"hex_and_neighbors\"].apply(\n",
    "    lambda row: calculate_poi(row, category)\n",
    ")\n",
    "\n",
    "hexagons_df.head(2)"
   ]
  },
  {
   "cell_type": "code",
   "execution_count": 18,
   "metadata": {},
   "outputs": [],
   "source": [
    "hexagons_df.to_pickle(HEXAGON_WITH_POIS_PATH)"
   ]
  }
 ],
 "metadata": {
  "interpreter": {
   "hash": "dfe5d669475e0224b78c5039dd4048f8afdfbc0a8400e3514111f5faddc37912"
  },
  "kernelspec": {
   "display_name": "Python 3.9.12 ('AAA')",
   "language": "python",
   "name": "python3"
  },
  "language_info": {
   "codemirror_mode": {
    "name": "ipython",
    "version": 3
   },
   "file_extension": ".py",
   "mimetype": "text/x-python",
   "name": "python",
   "nbconvert_exporter": "python",
   "pygments_lexer": "ipython3",
   "version": "3.9.12"
  },
  "orig_nbformat": 4
 },
 "nbformat": 4,
 "nbformat_minor": 2
}
