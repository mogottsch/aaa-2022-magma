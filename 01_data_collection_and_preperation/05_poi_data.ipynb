{
 "cells": [
  {
   "cell_type": "code",
   "execution_count": 1,
   "metadata": {},
   "outputs": [],
   "source": [
    "import requests\n",
    "import pandas as pd\n",
    "import h3\n",
    "import json"
   ]
  },
  {
   "cell_type": "code",
   "execution_count": 2,
   "metadata": {},
   "outputs": [],
   "source": [
    "import sys, os\n",
    "\n",
    "sys.path.append(os.path.abspath('..'))\n",
    "%load_ext autoreload\n",
    "%autoreload 2\n",
    "from modules.config import *\n",
    "\n",
    "sys.path.append(os.path.abspath(os.path.join(\"..\", \"utils\")))\n",
    "from overpass_meta import get_meta_data\n",
    "\n",
    "overpass_meta = get_meta_data()"
   ]
  },
  {
   "cell_type": "code",
   "execution_count": 3,
   "metadata": {},
   "outputs": [],
   "source": [
    "def get_file_path(category):\n",
    "    return os.path.join(REPO_DATA_DIR_PATH, overpass_meta[category][\"filename\"])\n",
    "\n",
    "def poi_file_exists(category):\n",
    "    return os.path.isfile(get_file_path(category))\n",
    "\n",
    "\n",
    "def read_poi_file(category):\n",
    "    with open(get_file_path(category)) as f:\n",
    "        data = json.load(f)\n",
    "    return data\n",
    "\n",
    "\n",
    "def save_poi_file(category, data):\n",
    "    with open(get_file_path(category), \"w\") as f:\n",
    "        json.dump(data, f)\n",
    "\n",
    "\n",
    "def fetch_poi_data(category):\n",
    "    response = requests.get(\n",
    "        \"http://overpass-api.de/api/interpreter\",\n",
    "        params={\"data\": overpass_meta[category][\"query\"]},\n",
    "    )\n",
    "    data = response.json()\n",
    "    save_poi_file(category, data)\n",
    "    return data\n",
    "\n",
    "def get_poi_data(category):\n",
    "    if poi_file_exists(category):\n",
    "        return read_poi_file(category)\n",
    "    return fetch_poi_data(category)\n"
   ]
  },
  {
   "cell_type": "code",
   "execution_count": 4,
   "metadata": {},
   "outputs": [
    {
     "data": {
      "text/html": [
       "<div>\n",
       "<style scoped>\n",
       "    .dataframe tbody tr th:only-of-type {\n",
       "        vertical-align: middle;\n",
       "    }\n",
       "\n",
       "    .dataframe tbody tr th {\n",
       "        vertical-align: top;\n",
       "    }\n",
       "\n",
       "    .dataframe thead th {\n",
       "        text-align: right;\n",
       "    }\n",
       "</style>\n",
       "<table border=\"1\" class=\"dataframe\">\n",
       "  <thead>\n",
       "    <tr style=\"text-align: right;\">\n",
       "      <th></th>\n",
       "      <th>type</th>\n",
       "      <th>id</th>\n",
       "      <th>lat</th>\n",
       "      <th>lon</th>\n",
       "      <th>tags</th>\n",
       "      <th>category</th>\n",
       "      <th>amenity</th>\n",
       "    </tr>\n",
       "  </thead>\n",
       "  <tbody>\n",
       "    <tr>\n",
       "      <th>0</th>\n",
       "      <td>node</td>\n",
       "      <td>30162037</td>\n",
       "      <td>51.344661</td>\n",
       "      <td>12.272481</td>\n",
       "      <td>{'addr:city': 'Leipzig', 'addr:country': 'DE',...</td>\n",
       "      <td>sustenance</td>\n",
       "      <td>restaurant</td>\n",
       "    </tr>\n",
       "    <tr>\n",
       "      <th>1</th>\n",
       "      <td>node</td>\n",
       "      <td>49531558</td>\n",
       "      <td>51.316443</td>\n",
       "      <td>12.382568</td>\n",
       "      <td>{'amenity': 'cafe', 'name': 'eis fichte MCL', ...</td>\n",
       "      <td>sustenance</td>\n",
       "      <td>cafe</td>\n",
       "    </tr>\n",
       "  </tbody>\n",
       "</table>\n",
       "</div>"
      ],
      "text/plain": [
       "   type        id        lat        lon  \\\n",
       "0  node  30162037  51.344661  12.272481   \n",
       "1  node  49531558  51.316443  12.382568   \n",
       "\n",
       "                                                tags    category     amenity  \n",
       "0  {'addr:city': 'Leipzig', 'addr:country': 'DE',...  sustenance  restaurant  \n",
       "1  {'amenity': 'cafe', 'name': 'eis fichte MCL', ...  sustenance        cafe  "
      ]
     },
     "execution_count": 4,
     "metadata": {},
     "output_type": "execute_result"
    }
   ],
   "source": [
    "# load sustenance data into a dataframe\n",
    "sustenance_data = get_poi_data(\"sustenance\")\n",
    "sustenance_df = pd.DataFrame(sustenance_data[\"elements\"])\n",
    "sustenance_df[\"category\"] = \"sustenance\"\n",
    "sustenance_df[\"amenity\"] = sustenance_df[\"tags\"].apply(lambda tags: tags[\"amenity\"])\n",
    "sustenance_df.head(2)"
   ]
  },
  {
   "cell_type": "code",
   "execution_count": 5,
   "metadata": {},
   "outputs": [
    {
     "data": {
      "text/html": [
       "<div>\n",
       "<style scoped>\n",
       "    .dataframe tbody tr th:only-of-type {\n",
       "        vertical-align: middle;\n",
       "    }\n",
       "\n",
       "    .dataframe tbody tr th {\n",
       "        vertical-align: top;\n",
       "    }\n",
       "\n",
       "    .dataframe thead th {\n",
       "        text-align: right;\n",
       "    }\n",
       "</style>\n",
       "<table border=\"1\" class=\"dataframe\">\n",
       "  <thead>\n",
       "    <tr style=\"text-align: right;\">\n",
       "      <th></th>\n",
       "      <th>type</th>\n",
       "      <th>id</th>\n",
       "      <th>lat</th>\n",
       "      <th>lon</th>\n",
       "      <th>tags</th>\n",
       "      <th>category</th>\n",
       "    </tr>\n",
       "  </thead>\n",
       "  <tbody>\n",
       "    <tr>\n",
       "      <th>0</th>\n",
       "      <td>node</td>\n",
       "      <td>12277458</td>\n",
       "      <td>51.380110</td>\n",
       "      <td>12.406596</td>\n",
       "      <td>{'bus': 'yes', 'highway': 'bus_stop', 'name': ...</td>\n",
       "      <td>public_transport</td>\n",
       "    </tr>\n",
       "    <tr>\n",
       "      <th>1</th>\n",
       "      <td>node</td>\n",
       "      <td>12351651</td>\n",
       "      <td>51.376061</td>\n",
       "      <td>12.384200</td>\n",
       "      <td>{'bus': 'yes', 'local_ref': '0612', 'name': 'D...</td>\n",
       "      <td>public_transport</td>\n",
       "    </tr>\n",
       "  </tbody>\n",
       "</table>\n",
       "</div>"
      ],
      "text/plain": [
       "   type        id        lat        lon  \\\n",
       "0  node  12277458  51.380110  12.406596   \n",
       "1  node  12351651  51.376061  12.384200   \n",
       "\n",
       "                                                tags          category  \n",
       "0  {'bus': 'yes', 'highway': 'bus_stop', 'name': ...  public_transport  \n",
       "1  {'bus': 'yes', 'local_ref': '0612', 'name': 'D...  public_transport  "
      ]
     },
     "execution_count": 5,
     "metadata": {},
     "output_type": "execute_result"
    }
   ],
   "source": [
    "# load public transport data into a dataframe\n",
    "public_transport_data = get_poi_data(\"public_transport\")\n",
    "public_transport_df = pd.DataFrame(public_transport_data[\"elements\"])\n",
    "public_transport_df[\"category\"] = \"public_transport\"\n",
    "public_transport_df.head(2)"
   ]
  },
  {
   "cell_type": "code",
   "execution_count": 6,
   "metadata": {},
   "outputs": [
    {
     "data": {
      "text/html": [
       "<div>\n",
       "<style scoped>\n",
       "    .dataframe tbody tr th:only-of-type {\n",
       "        vertical-align: middle;\n",
       "    }\n",
       "\n",
       "    .dataframe tbody tr th {\n",
       "        vertical-align: top;\n",
       "    }\n",
       "\n",
       "    .dataframe thead th {\n",
       "        text-align: right;\n",
       "    }\n",
       "</style>\n",
       "<table border=\"1\" class=\"dataframe\">\n",
       "  <thead>\n",
       "    <tr style=\"text-align: right;\">\n",
       "      <th></th>\n",
       "      <th>type</th>\n",
       "      <th>id</th>\n",
       "      <th>lat</th>\n",
       "      <th>lon</th>\n",
       "      <th>tags</th>\n",
       "      <th>category</th>\n",
       "      <th>amenity</th>\n",
       "    </tr>\n",
       "  </thead>\n",
       "  <tbody>\n",
       "    <tr>\n",
       "      <th>0</th>\n",
       "      <td>node</td>\n",
       "      <td>264496513</td>\n",
       "      <td>51.337711</td>\n",
       "      <td>12.373673</td>\n",
       "      <td>{'addr:city': 'Leipzig', 'addr:country': 'DE',...</td>\n",
       "      <td>education</td>\n",
       "      <td>university</td>\n",
       "    </tr>\n",
       "    <tr>\n",
       "      <th>1</th>\n",
       "      <td>node</td>\n",
       "      <td>266977484</td>\n",
       "      <td>51.375002</td>\n",
       "      <td>12.411598</td>\n",
       "      <td>{'addr:city': 'Leipzig', 'addr:postcode': '043...</td>\n",
       "      <td>education</td>\n",
       "      <td>library</td>\n",
       "    </tr>\n",
       "  </tbody>\n",
       "</table>\n",
       "</div>"
      ],
      "text/plain": [
       "   type         id        lat        lon  \\\n",
       "0  node  264496513  51.337711  12.373673   \n",
       "1  node  266977484  51.375002  12.411598   \n",
       "\n",
       "                                                tags   category     amenity  \n",
       "0  {'addr:city': 'Leipzig', 'addr:country': 'DE',...  education  university  \n",
       "1  {'addr:city': 'Leipzig', 'addr:postcode': '043...  education     library  "
      ]
     },
     "execution_count": 6,
     "metadata": {},
     "output_type": "execute_result"
    }
   ],
   "source": [
    "# load education data into a dataframe\n",
    "education_data = get_poi_data(\"education\")\n",
    "education_df = pd.DataFrame(education_data[\"elements\"])\n",
    "education_df[\"category\"] = \"education\"\n",
    "education_df[\"amenity\"] = education_df[\"tags\"].apply(lambda tags: tags[\"amenity\"])\n",
    "education_df.head(2)"
   ]
  },
  {
   "cell_type": "code",
   "execution_count": 7,
   "metadata": {},
   "outputs": [
    {
     "data": {
      "text/html": [
       "<div>\n",
       "<style scoped>\n",
       "    .dataframe tbody tr th:only-of-type {\n",
       "        vertical-align: middle;\n",
       "    }\n",
       "\n",
       "    .dataframe tbody tr th {\n",
       "        vertical-align: top;\n",
       "    }\n",
       "\n",
       "    .dataframe thead th {\n",
       "        text-align: right;\n",
       "    }\n",
       "</style>\n",
       "<table border=\"1\" class=\"dataframe\">\n",
       "  <thead>\n",
       "    <tr style=\"text-align: right;\">\n",
       "      <th></th>\n",
       "      <th>type</th>\n",
       "      <th>id</th>\n",
       "      <th>lat</th>\n",
       "      <th>lon</th>\n",
       "      <th>tags</th>\n",
       "      <th>category</th>\n",
       "      <th>amenity</th>\n",
       "    </tr>\n",
       "  </thead>\n",
       "  <tbody>\n",
       "    <tr>\n",
       "      <th>0</th>\n",
       "      <td>node</td>\n",
       "      <td>26022810</td>\n",
       "      <td>51.337641</td>\n",
       "      <td>12.333334</td>\n",
       "      <td>{'amenity': 'theatre', 'name': 'Theater der Ju...</td>\n",
       "      <td>arts_and_culture</td>\n",
       "      <td>theatre</td>\n",
       "    </tr>\n",
       "    <tr>\n",
       "      <th>1</th>\n",
       "      <td>node</td>\n",
       "      <td>26022926</td>\n",
       "      <td>51.336158</td>\n",
       "      <td>12.339108</td>\n",
       "      <td>{'addr:city': 'Leipzig', 'addr:postcode': '041...</td>\n",
       "      <td>arts_and_culture</td>\n",
       "      <td>theatre</td>\n",
       "    </tr>\n",
       "  </tbody>\n",
       "</table>\n",
       "</div>"
      ],
      "text/plain": [
       "   type        id        lat        lon  \\\n",
       "0  node  26022810  51.337641  12.333334   \n",
       "1  node  26022926  51.336158  12.339108   \n",
       "\n",
       "                                                tags          category  \\\n",
       "0  {'amenity': 'theatre', 'name': 'Theater der Ju...  arts_and_culture   \n",
       "1  {'addr:city': 'Leipzig', 'addr:postcode': '041...  arts_and_culture   \n",
       "\n",
       "   amenity  \n",
       "0  theatre  \n",
       "1  theatre  "
      ]
     },
     "execution_count": 7,
     "metadata": {},
     "output_type": "execute_result"
    }
   ],
   "source": [
    "# load arts and culture data into a dataframe\n",
    "arts_and_culture_data = get_poi_data(\"arts_and_culture\")\n",
    "arts_and_culture_df = pd.DataFrame(arts_and_culture_data[\"elements\"])\n",
    "arts_and_culture_df[\"category\"] = \"arts_and_culture\"\n",
    "arts_and_culture_df[\"amenity\"] = arts_and_culture_df[\"tags\"].apply(\n",
    "    lambda tags: tags[\"amenity\"]\n",
    ")\n",
    "arts_and_culture_df.head(2)"
   ]
  },
  {
   "cell_type": "code",
   "execution_count": 8,
   "metadata": {},
   "outputs": [
    {
     "data": {
      "text/html": [
       "<div>\n",
       "<style scoped>\n",
       "    .dataframe tbody tr th:only-of-type {\n",
       "        vertical-align: middle;\n",
       "    }\n",
       "\n",
       "    .dataframe tbody tr th {\n",
       "        vertical-align: top;\n",
       "    }\n",
       "\n",
       "    .dataframe thead th {\n",
       "        text-align: right;\n",
       "    }\n",
       "</style>\n",
       "<table border=\"1\" class=\"dataframe\">\n",
       "  <thead>\n",
       "    <tr style=\"text-align: right;\">\n",
       "      <th></th>\n",
       "      <th>type</th>\n",
       "      <th>id</th>\n",
       "      <th>lat</th>\n",
       "      <th>lon</th>\n",
       "      <th>tags</th>\n",
       "      <th>category</th>\n",
       "    </tr>\n",
       "  </thead>\n",
       "  <tbody>\n",
       "    <tr>\n",
       "      <th>0</th>\n",
       "      <td>node</td>\n",
       "      <td>260629059</td>\n",
       "      <td>51.339999</td>\n",
       "      <td>12.377531</td>\n",
       "      <td>{'addr:city': 'Leipzig', 'addr:country': 'DE',...</td>\n",
       "      <td>sports</td>\n",
       "    </tr>\n",
       "    <tr>\n",
       "      <th>1</th>\n",
       "      <td>node</td>\n",
       "      <td>264978890</td>\n",
       "      <td>51.344140</td>\n",
       "      <td>12.394389</td>\n",
       "      <td>{'created_by': 'Potlatch 0.9c', 'leisure': 'sp...</td>\n",
       "      <td>sports</td>\n",
       "    </tr>\n",
       "  </tbody>\n",
       "</table>\n",
       "</div>"
      ],
      "text/plain": [
       "   type         id        lat        lon  \\\n",
       "0  node  260629059  51.339999  12.377531   \n",
       "1  node  264978890  51.344140  12.394389   \n",
       "\n",
       "                                                tags category  \n",
       "0  {'addr:city': 'Leipzig', 'addr:country': 'DE',...   sports  \n",
       "1  {'created_by': 'Potlatch 0.9c', 'leisure': 'sp...   sports  "
      ]
     },
     "execution_count": 8,
     "metadata": {},
     "output_type": "execute_result"
    }
   ],
   "source": [
    "# load sports data into a dataframe\n",
    "sports_data = get_poi_data(\"sports\")\n",
    "sports_df = pd.DataFrame(sports_data[\"elements\"])\n",
    "sports_df[\"category\"] = \"sports\"\n",
    "sports_df.head(2)"
   ]
  },
  {
   "cell_type": "code",
   "execution_count": 9,
   "metadata": {},
   "outputs": [
    {
     "data": {
      "text/html": [
       "<div>\n",
       "<style scoped>\n",
       "    .dataframe tbody tr th:only-of-type {\n",
       "        vertical-align: middle;\n",
       "    }\n",
       "\n",
       "    .dataframe tbody tr th {\n",
       "        vertical-align: top;\n",
       "    }\n",
       "\n",
       "    .dataframe thead th {\n",
       "        text-align: right;\n",
       "    }\n",
       "</style>\n",
       "<table border=\"1\" class=\"dataframe\">\n",
       "  <thead>\n",
       "    <tr style=\"text-align: right;\">\n",
       "      <th></th>\n",
       "      <th>lat</th>\n",
       "      <th>lon</th>\n",
       "      <th>category</th>\n",
       "      <th>amenity</th>\n",
       "    </tr>\n",
       "  </thead>\n",
       "  <tbody>\n",
       "    <tr>\n",
       "      <th>0</th>\n",
       "      <td>51.344661</td>\n",
       "      <td>12.272481</td>\n",
       "      <td>sustenance</td>\n",
       "      <td>restaurant</td>\n",
       "    </tr>\n",
       "    <tr>\n",
       "      <th>1</th>\n",
       "      <td>51.316443</td>\n",
       "      <td>12.382568</td>\n",
       "      <td>sustenance</td>\n",
       "      <td>cafe</td>\n",
       "    </tr>\n",
       "  </tbody>\n",
       "</table>\n",
       "</div>"
      ],
      "text/plain": [
       "         lat        lon    category     amenity\n",
       "0  51.344661  12.272481  sustenance  restaurant\n",
       "1  51.316443  12.382568  sustenance        cafe"
      ]
     },
     "execution_count": 9,
     "metadata": {},
     "output_type": "execute_result"
    }
   ],
   "source": [
    "# concatenate all dataframes\n",
    "poi_df = pd.concat(\n",
    "    [sustenance_df, public_transport_df, education_df, arts_and_culture_df, sports_df]\n",
    ")\n",
    "poi_df = poi_df.drop(columns={\"type\", \"id\", \"tags\"})\n",
    "poi_df.head(2)"
   ]
  },
  {
   "cell_type": "code",
   "execution_count": 10,
   "metadata": {},
   "outputs": [
    {
     "name": "stdout",
     "output_type": "stream",
     "text": [
      "The number of pois in category sustenance: 1455\n",
      "The number of pois in category public transport: 1701\n",
      "The number of pois in category education: 167\n",
      "The number of pois in category arts and culture: 51\n",
      "The number of pois in category sports: 127\n"
     ]
    }
   ],
   "source": [
    "print(f\"The number of pois in category sustenance: {sustenance_df.index.size}\")\n",
    "print(f\"The number of pois in category public transport: {public_transport_df.index.size}\")\n",
    "print(f\"The number of pois in category education: {education_df.index.size}\")\n",
    "print(f\"The number of pois in category arts and culture: {arts_and_culture_df.index.size}\")\n",
    "print(f\"The number of pois in category sports: {sports_df.index.size}\")"
   ]
  },
  {
   "cell_type": "code",
   "execution_count": 11,
   "metadata": {},
   "outputs": [],
   "source": [
    "poi_df.to_parquet(os.path.join(PROCESSED_DATA_DIR_PATH, \"poi_data.pkl\"))"
   ]
  },
  {
   "cell_type": "markdown",
   "metadata": {},
   "source": [
    "## Compute number of pois per hexagon"
   ]
  },
  {
   "cell_type": "code",
   "execution_count": 12,
   "metadata": {},
   "outputs": [],
   "source": [
    "# this function will compute hex id based on latitude and longitude\n",
    "def convert_to_hex(latitude, longitude, resolution):\n",
    "    return h3.geo_to_h3(lat=latitude, lng=longitude, resolution=resolution)"
   ]
  },
  {
   "cell_type": "code",
   "execution_count": 13,
   "metadata": {},
   "outputs": [
    {
     "name": "stdout",
     "output_type": "stream",
     "text": [
      "               hex          category  pois  h3_res\n",
      "0  871f1a10dffffff  public_transport     6       7\n",
      "1  871f1a12dffffff  public_transport    11       7\n",
      "185\n",
      "               hex          category  pois  h3_res\n",
      "0  881f1a10d1fffff  public_transport     3       8\n",
      "1  881f1a10d9fffff  public_transport     2       8\n",
      "613\n",
      "               hex          category  pois  h3_res\n",
      "0  891f1a10d13ffff  public_transport     1       9\n",
      "1  891f1a10d8fffff  public_transport     2       9\n",
      "1392\n"
     ]
    }
   ],
   "source": [
    "# compute the hexagon id for each point of interest\n",
    "dfs = []\n",
    "for resolution in CALC_H3_RESOLUTIONS:\n",
    "    hex_name = \"hex_\"+str(resolution)\n",
    "    poi_df[hex_name] = poi_df.apply(lambda poi: convert_to_hex(poi[\"lat\"], poi[\"lon\"], resolution), axis=1)\n",
    "\n",
    "    all_hexagons_with_poi = poi_df.groupby([hex_name, \"category\"]).size().to_frame()\n",
    "    all_hexagons_with_poi = all_hexagons_with_poi.reset_index()\n",
    "    all_hexagons_with_poi[\"h3_res\"] = resolution\n",
    "    all_hexagons_with_poi = all_hexagons_with_poi.rename(columns={0: \"pois\", hex_name: \"hex\"})\n",
    "    dfs.append(all_hexagons_with_poi)\n",
    "    print(all_hexagons_with_poi.head(2))\n",
    "    print(len(all_hexagons_with_poi.index))"
   ]
  },
  {
   "cell_type": "code",
   "execution_count": 14,
   "metadata": {},
   "outputs": [
    {
     "data": {
      "text/html": [
       "<div>\n",
       "<style scoped>\n",
       "    .dataframe tbody tr th:only-of-type {\n",
       "        vertical-align: middle;\n",
       "    }\n",
       "\n",
       "    .dataframe tbody tr th {\n",
       "        vertical-align: top;\n",
       "    }\n",
       "\n",
       "    .dataframe thead th {\n",
       "        text-align: right;\n",
       "    }\n",
       "</style>\n",
       "<table border=\"1\" class=\"dataframe\">\n",
       "  <thead>\n",
       "    <tr style=\"text-align: right;\">\n",
       "      <th></th>\n",
       "      <th>hex</th>\n",
       "      <th>category</th>\n",
       "      <th>pois</th>\n",
       "      <th>h3_res</th>\n",
       "    </tr>\n",
       "  </thead>\n",
       "  <tbody>\n",
       "    <tr>\n",
       "      <th>0</th>\n",
       "      <td>871f1a10dffffff</td>\n",
       "      <td>public_transport</td>\n",
       "      <td>6</td>\n",
       "      <td>7</td>\n",
       "    </tr>\n",
       "    <tr>\n",
       "      <th>1</th>\n",
       "      <td>871f1a12dffffff</td>\n",
       "      <td>public_transport</td>\n",
       "      <td>11</td>\n",
       "      <td>7</td>\n",
       "    </tr>\n",
       "    <tr>\n",
       "      <th>2</th>\n",
       "      <td>871f1a12dffffff</td>\n",
       "      <td>sustenance</td>\n",
       "      <td>6</td>\n",
       "      <td>7</td>\n",
       "    </tr>\n",
       "    <tr>\n",
       "      <th>3</th>\n",
       "      <td>871f1a144ffffff</td>\n",
       "      <td>public_transport</td>\n",
       "      <td>3</td>\n",
       "      <td>7</td>\n",
       "    </tr>\n",
       "    <tr>\n",
       "      <th>4</th>\n",
       "      <td>871f1a144ffffff</td>\n",
       "      <td>sustenance</td>\n",
       "      <td>3</td>\n",
       "      <td>7</td>\n",
       "    </tr>\n",
       "    <tr>\n",
       "      <th>...</th>\n",
       "      <td>...</td>\n",
       "      <td>...</td>\n",
       "      <td>...</td>\n",
       "      <td>...</td>\n",
       "    </tr>\n",
       "    <tr>\n",
       "      <th>2185</th>\n",
       "      <td>891f1abb68fffff</td>\n",
       "      <td>public_transport</td>\n",
       "      <td>1</td>\n",
       "      <td>9</td>\n",
       "    </tr>\n",
       "    <tr>\n",
       "      <th>2186</th>\n",
       "      <td>891f1abb6a7ffff</td>\n",
       "      <td>sustenance</td>\n",
       "      <td>1</td>\n",
       "      <td>9</td>\n",
       "    </tr>\n",
       "    <tr>\n",
       "      <th>2187</th>\n",
       "      <td>891f1abb6abffff</td>\n",
       "      <td>public_transport</td>\n",
       "      <td>1</td>\n",
       "      <td>9</td>\n",
       "    </tr>\n",
       "    <tr>\n",
       "      <th>2188</th>\n",
       "      <td>891f1abb6abffff</td>\n",
       "      <td>sports</td>\n",
       "      <td>1</td>\n",
       "      <td>9</td>\n",
       "    </tr>\n",
       "    <tr>\n",
       "      <th>2189</th>\n",
       "      <td>891f1abb6abffff</td>\n",
       "      <td>sustenance</td>\n",
       "      <td>2</td>\n",
       "      <td>9</td>\n",
       "    </tr>\n",
       "  </tbody>\n",
       "</table>\n",
       "<p>2190 rows × 4 columns</p>\n",
       "</div>"
      ],
      "text/plain": [
       "                  hex          category  pois  h3_res\n",
       "0     871f1a10dffffff  public_transport     6       7\n",
       "1     871f1a12dffffff  public_transport    11       7\n",
       "2     871f1a12dffffff        sustenance     6       7\n",
       "3     871f1a144ffffff  public_transport     3       7\n",
       "4     871f1a144ffffff        sustenance     3       7\n",
       "...               ...               ...   ...     ...\n",
       "2185  891f1abb68fffff  public_transport     1       9\n",
       "2186  891f1abb6a7ffff        sustenance     1       9\n",
       "2187  891f1abb6abffff  public_transport     1       9\n",
       "2188  891f1abb6abffff            sports     1       9\n",
       "2189  891f1abb6abffff        sustenance     2       9\n",
       "\n",
       "[2190 rows x 4 columns]"
      ]
     },
     "execution_count": 14,
     "metadata": {},
     "output_type": "execute_result"
    }
   ],
   "source": [
    "all_hexagons_with_poi = pd.concat(dfs, ignore_index=True, axis=0)\n",
    "all_hexagons_with_poi"
   ]
  },
  {
   "cell_type": "code",
   "execution_count": 16,
   "metadata": {},
   "outputs": [
    {
     "ename": "AttributeError",
     "evalue": "'DataFrame' object has no attribute 'unique'",
     "output_type": "error",
     "traceback": [
      "\u001b[1;31m---------------------------------------------------------------------------\u001b[0m",
      "\u001b[1;31mAttributeError\u001b[0m                            Traceback (most recent call last)",
      "\u001b[1;32mc:\\Dev\\aaa-2022-magma\\01_data_collection_and_preperation\\05_poi_data.ipynb Cell 16'\u001b[0m in \u001b[0;36m<cell line: 4>\u001b[1;34m()\u001b[0m\n\u001b[0;32m      <a href='vscode-notebook-cell:/c%3A/Dev/aaa-2022-magma/01_data_collection_and_preperation/05_poi_data.ipynb#ch0000015?line=0'>1</a>\u001b[0m \u001b[39m# create a dataframe with all hexagons\u001b[39;00m\n\u001b[0;32m      <a href='vscode-notebook-cell:/c%3A/Dev/aaa-2022-magma/01_data_collection_and_preperation/05_poi_data.ipynb#ch0000015?line=1'>2</a>\u001b[0m \u001b[39m# create a column 'hex_and_neighbors' which contains a set of hexagons\u001b[39;00m\n\u001b[0;32m      <a href='vscode-notebook-cell:/c%3A/Dev/aaa-2022-magma/01_data_collection_and_preperation/05_poi_data.ipynb#ch0000015?line=2'>3</a>\u001b[0m \u001b[39m# this set consists of the hexagon from column 'hex' and its 6 neighbors\u001b[39;00m\n\u001b[1;32m----> <a href='vscode-notebook-cell:/c%3A/Dev/aaa-2022-magma/01_data_collection_and_preperation/05_poi_data.ipynb#ch0000015?line=3'>4</a>\u001b[0m hexagons_df \u001b[39m=\u001b[39m all_hexagons_with_poi[[\u001b[39m\"\u001b[39;49m\u001b[39mhex\u001b[39;49m\u001b[39m\"\u001b[39;49m, \u001b[39m\"\u001b[39;49m\u001b[39mh3_res\u001b[39;49m\u001b[39m\"\u001b[39;49m]]\u001b[39m.\u001b[39;49munique()\u001b[39m.\u001b[39mcopy()\n\u001b[0;32m      <a href='vscode-notebook-cell:/c%3A/Dev/aaa-2022-magma/01_data_collection_and_preperation/05_poi_data.ipynb#ch0000015?line=4'>5</a>\u001b[0m hexagons_df[\u001b[39m\"\u001b[39m\u001b[39mhex_and_neighbors\u001b[39m\u001b[39m\"\u001b[39m] \u001b[39m=\u001b[39m hexagons_df\u001b[39m.\u001b[39mapply(\n\u001b[0;32m      <a href='vscode-notebook-cell:/c%3A/Dev/aaa-2022-magma/01_data_collection_and_preperation/05_poi_data.ipynb#ch0000015?line=5'>6</a>\u001b[0m     \u001b[39mlambda\u001b[39;00m row: \u001b[39mlist\u001b[39m(h3\u001b[39m.\u001b[39mk_ring(row[\u001b[39m\"\u001b[39m\u001b[39mhex\u001b[39m\u001b[39m\"\u001b[39m], \u001b[39m1\u001b[39m)), axis\u001b[39m=\u001b[39m\u001b[39m1\u001b[39m\n\u001b[0;32m      <a href='vscode-notebook-cell:/c%3A/Dev/aaa-2022-magma/01_data_collection_and_preperation/05_poi_data.ipynb#ch0000015?line=6'>7</a>\u001b[0m )\n\u001b[0;32m      <a href='vscode-notebook-cell:/c%3A/Dev/aaa-2022-magma/01_data_collection_and_preperation/05_poi_data.ipynb#ch0000015?line=7'>8</a>\u001b[0m hexagons_df\n",
      "File \u001b[1;32mc:\\Users\\kuian\\miniconda3\\envs\\AAA\\lib\\site-packages\\pandas\\core\\generic.py:5575\u001b[0m, in \u001b[0;36mNDFrame.__getattr__\u001b[1;34m(self, name)\u001b[0m\n\u001b[0;32m   <a href='file:///c%3A/Users/kuian/miniconda3/envs/AAA/lib/site-packages/pandas/core/generic.py?line=5567'>5568</a>\u001b[0m \u001b[39mif\u001b[39;00m (\n\u001b[0;32m   <a href='file:///c%3A/Users/kuian/miniconda3/envs/AAA/lib/site-packages/pandas/core/generic.py?line=5568'>5569</a>\u001b[0m     name \u001b[39mnot\u001b[39;00m \u001b[39min\u001b[39;00m \u001b[39mself\u001b[39m\u001b[39m.\u001b[39m_internal_names_set\n\u001b[0;32m   <a href='file:///c%3A/Users/kuian/miniconda3/envs/AAA/lib/site-packages/pandas/core/generic.py?line=5569'>5570</a>\u001b[0m     \u001b[39mand\u001b[39;00m name \u001b[39mnot\u001b[39;00m \u001b[39min\u001b[39;00m \u001b[39mself\u001b[39m\u001b[39m.\u001b[39m_metadata\n\u001b[0;32m   <a href='file:///c%3A/Users/kuian/miniconda3/envs/AAA/lib/site-packages/pandas/core/generic.py?line=5570'>5571</a>\u001b[0m     \u001b[39mand\u001b[39;00m name \u001b[39mnot\u001b[39;00m \u001b[39min\u001b[39;00m \u001b[39mself\u001b[39m\u001b[39m.\u001b[39m_accessors\n\u001b[0;32m   <a href='file:///c%3A/Users/kuian/miniconda3/envs/AAA/lib/site-packages/pandas/core/generic.py?line=5571'>5572</a>\u001b[0m     \u001b[39mand\u001b[39;00m \u001b[39mself\u001b[39m\u001b[39m.\u001b[39m_info_axis\u001b[39m.\u001b[39m_can_hold_identifiers_and_holds_name(name)\n\u001b[0;32m   <a href='file:///c%3A/Users/kuian/miniconda3/envs/AAA/lib/site-packages/pandas/core/generic.py?line=5572'>5573</a>\u001b[0m ):\n\u001b[0;32m   <a href='file:///c%3A/Users/kuian/miniconda3/envs/AAA/lib/site-packages/pandas/core/generic.py?line=5573'>5574</a>\u001b[0m     \u001b[39mreturn\u001b[39;00m \u001b[39mself\u001b[39m[name]\n\u001b[1;32m-> <a href='file:///c%3A/Users/kuian/miniconda3/envs/AAA/lib/site-packages/pandas/core/generic.py?line=5574'>5575</a>\u001b[0m \u001b[39mreturn\u001b[39;00m \u001b[39mobject\u001b[39;49m\u001b[39m.\u001b[39;49m\u001b[39m__getattribute__\u001b[39;49m(\u001b[39mself\u001b[39;49m, name)\n",
      "\u001b[1;31mAttributeError\u001b[0m: 'DataFrame' object has no attribute 'unique'"
     ]
    }
   ],
   "source": [
    "# create a dataframe with all hexagons\n",
    "# create a column 'hex_and_neighbors' which contains a set of hexagons\n",
    "# this set consists of the hexagon from column 'hex' and its 6 neighbors\n",
    "hexagons_df = all_hexagons_with_poi[[\"hex\", \"h3_res\"]].drop_duplicates().copy()\n",
    "hexagons_df[\"hex_and_neighbors\"] = hexagons_df.apply(\n",
    "    lambda row: list(h3.k_ring(row[\"hex\"], 1)), axis=1\n",
    ")\n",
    "hexagons_df"
   ]
  },
  {
   "cell_type": "code",
   "execution_count": null,
   "metadata": {},
   "outputs": [
    {
     "data": {
      "text/plain": [
       "1270"
      ]
     },
     "execution_count": 39,
     "metadata": {},
     "output_type": "execute_result"
    }
   ],
   "source": [
    "hexagons_df['hex'].unique().size"
   ]
  },
  {
   "cell_type": "code",
   "execution_count": null,
   "metadata": {},
   "outputs": [],
   "source": [
    "# this function will return the sum of points of interest in a given category for a given set of hexagons\n",
    "def calculate_poi(hex_and_neighbors, category):\n",
    "    return all_hexagons_with_poi[\n",
    "        (\n",
    "            (all_hexagons_with_poi[\"hex\"].isin(hex_and_neighbors))\n",
    "            & (all_hexagons_with_poi[\"category\"] == category)\n",
    "        )\n",
    "    ][\"pois\"].sum()"
   ]
  },
  {
   "cell_type": "code",
   "execution_count": null,
   "metadata": {},
   "outputs": [
    {
     "data": {
      "text/html": [
       "<div>\n",
       "<style scoped>\n",
       "    .dataframe tbody tr th:only-of-type {\n",
       "        vertical-align: middle;\n",
       "    }\n",
       "\n",
       "    .dataframe tbody tr th {\n",
       "        vertical-align: top;\n",
       "    }\n",
       "\n",
       "    .dataframe thead th {\n",
       "        text-align: right;\n",
       "    }\n",
       "</style>\n",
       "<table border=\"1\" class=\"dataframe\">\n",
       "  <thead>\n",
       "    <tr style=\"text-align: right;\">\n",
       "      <th></th>\n",
       "      <th>hex</th>\n",
       "      <th>h3_res</th>\n",
       "      <th>hex_and_neighbors</th>\n",
       "      <th>sustenance_poi</th>\n",
       "      <th>public_transport_poi</th>\n",
       "      <th>education_poi</th>\n",
       "      <th>arts_and_culture_poi</th>\n",
       "      <th>sports_poi</th>\n",
       "    </tr>\n",
       "  </thead>\n",
       "  <tbody>\n",
       "    <tr>\n",
       "      <th>0</th>\n",
       "      <td>871f1a10dffffff</td>\n",
       "      <td>7</td>\n",
       "      <td>[871f1a108ffffff, 871f1a172ffffff, 871f1a10cff...</td>\n",
       "      <td>1</td>\n",
       "      <td>11</td>\n",
       "      <td>0</td>\n",
       "      <td>0</td>\n",
       "      <td>0</td>\n",
       "    </tr>\n",
       "    <tr>\n",
       "      <th>1</th>\n",
       "      <td>871f1a12dffffff</td>\n",
       "      <td>7</td>\n",
       "      <td>[871f1a129ffffff, 871f1a12dffffff, 871f1a8daff...</td>\n",
       "      <td>21</td>\n",
       "      <td>73</td>\n",
       "      <td>7</td>\n",
       "      <td>0</td>\n",
       "      <td>4</td>\n",
       "    </tr>\n",
       "  </tbody>\n",
       "</table>\n",
       "</div>"
      ],
      "text/plain": [
       "               hex  h3_res                                  hex_and_neighbors  \\\n",
       "0  871f1a10dffffff       7  [871f1a108ffffff, 871f1a172ffffff, 871f1a10cff...   \n",
       "1  871f1a12dffffff       7  [871f1a129ffffff, 871f1a12dffffff, 871f1a8daff...   \n",
       "\n",
       "   sustenance_poi  public_transport_poi  education_poi  arts_and_culture_poi  \\\n",
       "0               1                    11              0                     0   \n",
       "1              21                    73              7                     0   \n",
       "\n",
       "   sports_poi  \n",
       "0           0  \n",
       "1           4  "
      ]
     },
     "execution_count": 17,
     "metadata": {},
     "output_type": "execute_result"
    }
   ],
   "source": [
    "# compute the number of pois in each category for each hexagon and its neighbors\n",
    "categories = [\n",
    "    'sustenance',\n",
    "    'public_transport',\n",
    "    'education',\n",
    "    'arts_and_culture',\n",
    "    'sports'\n",
    "]\n",
    "\n",
    "for category in categories:\n",
    "    hexagons_df[f\"{category}_poi\"] = hexagons_df[\"hex_and_neighbors\"].apply(\n",
    "    lambda row: calculate_poi(row, category)\n",
    ")\n",
    "\n",
    "hexagons_df.head(2)"
   ]
  },
  {
   "cell_type": "code",
   "execution_count": null,
   "metadata": {},
   "outputs": [],
   "source": [
    "hexagons_df.to_parquet(HEXAGON_WITH_POIS_PATH)"
   ]
  },
  {
   "cell_type": "code",
   "execution_count": null,
   "metadata": {},
   "outputs": [],
   "source": []
  }
 ],
 "metadata": {
  "interpreter": {
   "hash": "dfe5d669475e0224b78c5039dd4048f8afdfbc0a8400e3514111f5faddc37912"
  },
  "kernelspec": {
   "display_name": "Python 3.9.12 ('AAA')",
   "language": "python",
   "name": "python3"
  },
  "language_info": {
   "codemirror_mode": {
    "name": "ipython",
    "version": 3
   },
   "file_extension": ".py",
   "mimetype": "text/x-python",
   "name": "python",
   "nbconvert_exporter": "python",
   "pygments_lexer": "ipython3",
   "version": "3.9.12"
  },
  "orig_nbformat": 4
 },
 "nbformat": 4,
 "nbformat_minor": 2
}