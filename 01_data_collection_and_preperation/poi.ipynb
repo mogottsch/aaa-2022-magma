{
 "cells": [
  {
   "cell_type": "code",
   "execution_count": 1,
   "metadata": {},
   "outputs": [
    {
     "ename": "ModuleNotFoundError",
     "evalue": "No module named 'h3'",
     "output_type": "error",
     "traceback": [
      "\u001b[1;31m---------------------------------------------------------------------------\u001b[0m",
      "\u001b[1;31mModuleNotFoundError\u001b[0m                       Traceback (most recent call last)",
      "\u001b[1;32mc:\\Dev\\aaa-2022-magma\\01_data_collection_and_preperation\\poi.ipynb Cell 1'\u001b[0m in \u001b[0;36m<cell line: 3>\u001b[1;34m()\u001b[0m\n\u001b[0;32m      <a href='vscode-notebook-cell:/c%3A/Dev/aaa-2022-magma/01_data_collection_and_preperation/poi.ipynb#ch0000000?line=0'>1</a>\u001b[0m \u001b[39mimport\u001b[39;00m \u001b[39mrequests\u001b[39;00m\n\u001b[0;32m      <a href='vscode-notebook-cell:/c%3A/Dev/aaa-2022-magma/01_data_collection_and_preperation/poi.ipynb#ch0000000?line=1'>2</a>\u001b[0m \u001b[39mimport\u001b[39;00m \u001b[39mpandas\u001b[39;00m \u001b[39mas\u001b[39;00m \u001b[39mpd\u001b[39;00m\n\u001b[1;32m----> <a href='vscode-notebook-cell:/c%3A/Dev/aaa-2022-magma/01_data_collection_and_preperation/poi.ipynb#ch0000000?line=2'>3</a>\u001b[0m \u001b[39mimport\u001b[39;00m \u001b[39mh3\u001b[39;00m\n\u001b[0;32m      <a href='vscode-notebook-cell:/c%3A/Dev/aaa-2022-magma/01_data_collection_and_preperation/poi.ipynb#ch0000000?line=3'>4</a>\u001b[0m \u001b[39mimport\u001b[39;00m \u001b[39mjson\u001b[39;00m\n",
      "\u001b[1;31mModuleNotFoundError\u001b[0m: No module named 'h3'"
     ]
    }
   ],
   "source": [
    "import requests\n",
    "import pandas as pd\n",
    "import h3\n",
    "import json"
   ]
  },
  {
   "cell_type": "code",
   "execution_count": null,
   "metadata": {},
   "outputs": [],
   "source": [
    "import sys, os\n",
    "\n",
    "sys.path.append(os.path.abspath(os.path.join(\"..\", \"utils\")))\n",
    "from overpass_meta import get_meta_data\n",
    "\n",
    "overpass_meta = get_meta_data()"
   ]
  },
  {
   "cell_type": "code",
   "execution_count": null,
   "metadata": {},
   "outputs": [],
   "source": [
    "query = \"\"\"\n",
    "[out:json];    \n",
    "relation[\"name\"=\"Leipzig\"][\"admin_level\"=\"6\"];\n",
    "out body;\n",
    ">;\n",
    "out skel qt;\n",
    "\"\"\"\n",
    "\n",
    "response = requests.get(\n",
    "    \"http://overpass-api.de/api/interpreter\",\n",
    "    params={\"data\": query},\n",
    ")\n",
    "data = response.json()\n"
   ]
  },
  {
   "cell_type": "code",
   "execution_count": null,
   "metadata": {},
   "outputs": [],
   "source": [
    "def poi_file_exists(category):\n",
    "    return os.path.isfile(overpass_meta[category][\"filepath\"])\n",
    "\n",
    "\n",
    "def read_poi_file(category):\n",
    "    with open(overpass_meta[category][\"filepath\"]) as f:\n",
    "        data = json.load(f)\n",
    "    return data\n",
    "\n",
    "\n",
    "def save_poi_file(category, data):\n",
    "    with open(overpass_meta[category][\"filepath\"], \"w\") as f:\n",
    "        json.dump(data, f)\n",
    "\n",
    "\n",
    "def fetch_poi_data(category):\n",
    "    response = requests.get(\n",
    "        \"http://overpass-api.de/api/interpreter\",\n",
    "        params={\"data\": overpass_meta[category][\"query\"]},\n",
    "    )\n",
    "    data = response.json()\n",
    "    save_poi_file(category, data)\n",
    "    return data\n",
    "\n",
    "\n",
    "def get_poi_data(category):\n",
    "    if poi_file_exists(category):\n",
    "        return read_poi_file(category)\n",
    "    return fetch_poi_data(category)\n"
   ]
  },
  {
   "cell_type": "code",
   "execution_count": null,
   "metadata": {},
   "outputs": [],
   "source": [
    "# load sustenance data into a dataframe\n",
    "sustenance_data = get_poi_data(\"sustenance\")\n",
    "sustenance_df = pd.DataFrame(sustenance_data[\"elements\"])\n",
    "sustenance_df[\"category\"] = \"sustenance\"\n",
    "sustenance_df[\"amenity\"] = sustenance_df[\"tags\"].apply(lambda tags: tags[\"amenity\"])\n",
    "sustenance_df.head(2)"
   ]
  },
  {
   "cell_type": "code",
   "execution_count": null,
   "metadata": {},
   "outputs": [],
   "source": [
    "# load public transport data into a dataframe\n",
    "public_transport_data = get_poi_data(\"public_transport\")\n",
    "public_transport_df = pd.DataFrame(public_transport_data[\"elements\"])\n",
    "public_transport_df[\"category\"] = \"public_transport\"\n",
    "public_transport_df.head(2)"
   ]
  },
  {
   "cell_type": "code",
   "execution_count": null,
   "metadata": {},
   "outputs": [],
   "source": [
    "# load education data into a dataframe\n",
    "education_data = get_poi_data(\"education\")\n",
    "education_df = pd.DataFrame(education_data[\"elements\"])\n",
    "education_df[\"category\"] = \"education\"\n",
    "education_df[\"amenity\"] = education_df[\"tags\"].apply(lambda tags: tags[\"amenity\"])\n",
    "education_df.head(2)"
   ]
  },
  {
   "cell_type": "code",
   "execution_count": null,
   "metadata": {},
   "outputs": [],
   "source": [
    "# load arts and culture data into a dataframe\n",
    "arts_and_culture_data = get_poi_data(\"arts_and_culture\")\n",
    "arts_and_culture_df = pd.DataFrame(arts_and_culture_data[\"elements\"])\n",
    "arts_and_culture_df[\"category\"] = \"arts_and_culture\"\n",
    "arts_and_culture_df[\"amenity\"] = arts_and_culture_df[\"tags\"].apply(\n",
    "    lambda tags: tags[\"amenity\"]\n",
    ")\n",
    "arts_and_culture_df.head(2)"
   ]
  },
  {
   "cell_type": "code",
   "execution_count": null,
   "metadata": {},
   "outputs": [],
   "source": [
    "# load sports data into a dataframe\n",
    "sports_data = get_poi_data(\"sports\")\n",
    "sports_df = pd.DataFrame(sports_data[\"elements\"])\n",
    "sports_df[\"category\"] = \"sports\"\n",
    "sports_df.head(2)"
   ]
  },
  {
   "cell_type": "code",
   "execution_count": null,
   "metadata": {},
   "outputs": [],
   "source": [
    "# concatenate all dataframes\n",
    "poi_df = pd.concat(\n",
    "    [sustenance_df, public_transport_df, education_df, arts_and_culture_df, sports_df]\n",
    ")\n",
    "poi_df = poi_df.drop(columns={\"type\", \"id\", \"tags\"})\n",
    "poi_df.head(2)"
   ]
  },
  {
   "cell_type": "code",
   "execution_count": null,
   "metadata": {},
   "outputs": [],
   "source": [
    "poi_df.to_pickle(POIS_PATH)"
   ]
  },
  {
   "cell_type": "markdown",
   "metadata": {},
   "source": [
    "## Compute number of pois per hexagon"
   ]
  },
  {
   "cell_type": "code",
   "execution_count": null,
   "metadata": {},
   "outputs": [],
   "source": [
    "trips_df = pd.read_csv(TRIPS_PATH)"
   ]
  },
  {
   "cell_type": "code",
   "execution_count": null,
   "metadata": {},
   "outputs": [],
   "source": [
    "sys.path.append(os.path.abspath('..', \"modules\"))\n",
    "%load_ext autoreload\n",
    "%autoreload 2\n",
    "from modules.config import *"
   ]
  },
  {
   "cell_type": "code",
   "execution_count": null,
   "metadata": {},
   "outputs": [],
   "source": [
    "def convert_to_hex(latitude, longitude):\n",
    "    return h3.geo_to_h3(lat=latitude, lng=longitude, resolution=H3_RESOLUTION)"
   ]
  },
  {
   "cell_type": "code",
   "execution_count": null,
   "metadata": {},
   "outputs": [],
   "source": [
    "# compute the hexagon id for each point of interest\n",
    "poi_df[\"hex\"] = poi_df.apply(lambda poi: convert_to_hex(poi[\"lat\"], poi[\"lon\"]), axis=1)\n",
    "poi_df.head(2)"
   ]
  },
  {
   "cell_type": "code",
   "execution_count": null,
   "metadata": {},
   "outputs": [],
   "source": [
    "# create a dataframe with the number of points of interest in each hexagon\n",
    "# and each category that occurs in the poi dataframe\n",
    "all_hexagons_with_poi = poi_df.groupby([\"hex\", \"category\"]).size().to_frame()\n",
    "all_hexagons_with_poi = all_hexagons_with_poi.reset_index()\n",
    "all_hexagons_with_poi = all_hexagons_with_poi.rename(columns={0: \"number of poi\"})\n",
    "all_hexagons_with_poi.head(2)"
   ]
  },
  {
   "cell_type": "code",
   "execution_count": null,
   "metadata": {},
   "outputs": [],
   "source": [
    "# create a dataframe with all hexagons where at least one trip started or ended\n",
    "hexagons_df = pd.DataFrame()\n",
    "hexagons_df[\"hex\"] = pd.concat([trips_df[\"start_hex\"], trips_df[\"end_hex\"]]).unique()\n",
    "hexagons_df.head(2)"
   ]
  },
  {
   "cell_type": "code",
   "execution_count": null,
   "metadata": {},
   "outputs": [],
   "source": [
    "# create a column 'hex_and_neighbors' which contains a set of hexagons\n",
    "# this set consists of the hexagon from column 'hex' and its 6 neighbors\n",
    "hexagons_df[\"hex_and_neighbors\"] = hexagons_df.apply(\n",
    "    lambda row: list(h3.k_ring(row[\"hex\"], 1)), axis=1\n",
    ")\n",
    "hexagons_df.head(2)"
   ]
  },
  {
   "cell_type": "code",
   "execution_count": null,
   "metadata": {},
   "outputs": [],
   "source": [
    "# this function will return the sum of points of interest in a given category for a given set of hexagons\n",
    "def calculate_poi(hex_and_neighbors, category):\n",
    "    return all_hexagons_with_poi[\n",
    "        (\n",
    "            (all_hexagons_with_poi[\"hex\"].isin(hex_and_neighbors))\n",
    "            & (all_hexagons_with_poi[\"category\"] == category)\n",
    "        )\n",
    "    ][\"number of poi\"].sum()"
   ]
  },
  {
   "cell_type": "code",
   "execution_count": null,
   "metadata": {},
   "outputs": [],
   "source": [
    "# compute the number of poi in each category for each hexagon and its neighbors\n",
    "categories = [\n",
    "    'sustenance',\n",
    "    'public_transport',\n",
    "    'education',\n",
    "    'arts_and_culture',\n",
    "    'sports'\n",
    "]\n",
    "\n",
    "for category in categories:\n",
    "    hexagons_df[f\"{category}_poi\"] = hexagons_df[\"hex_and_neighbors\"].apply(\n",
    "    lambda row: calculate_poi(row, category)\n",
    ")\n",
    "\n",
    "hexagons_df.head(2)"
   ]
  },
  {
   "cell_type": "code",
   "execution_count": null,
   "metadata": {},
   "outputs": [],
   "source": [
    "# original_data_df = pd.read_csv(ORIGINAL_DATA_MERGED_PATH)\n",
    "\n",
    "# import folium\n",
    "\n",
    "# fmap = folium.Map(location=[data_df.lat.mean(), data_df.lng.mean()], zoom_start=12)\n",
    "# folium.features.Choropleth(\n",
    "# \tgeo_data=flexzone_loose.geometry.map(lambda polygon: shapely.ops.transform(lambda x, y: (y, x), polygon)).to_json(),\n",
    "# ).add_to(fmap)\n",
    "\n",
    "# for index, row in data_geodf[:1000].iterrows():\n",
    "# \tfolium.CircleMarker(\n",
    "# \t\tlocation=[row.lat, row.lng],\n",
    "# \t\tradius=1,\n",
    "# \t\tcolor=\"red\",\n",
    "# \t\tfill=True,\n",
    "# \t\tfill_color=\"red\",\n",
    "# \t\tfill_opacity=0.5,\n",
    "# \t).add_to(fmap)\n",
    "\t\n",
    "\n",
    "# fmap"
   ]
  },
  {
   "cell_type": "code",
   "execution_count": null,
   "metadata": {},
   "outputs": [],
   "source": [
    "trips_df = pd.merge(trips_df, hexagons_df, left_on=\"start_hex\", right_on=\"hex\")\n",
    "trips_df = trips_df.drop(columns={\"hex\", \"hex_and_neighbors\"})\n",
    "\n",
    "# add '_start' suffix to poi columns\n",
    "trips_df = trips_df.rename(\n",
    "    columns={\n",
    "        \"sustenance_poi\": \"sustenance_poi_start\",\n",
    "        \"public_transport_poi\": \"public_transport_poi_start\",\n",
    "        \"education_poi\": \"education_poi_start\",\n",
    "        \"arts_and_culture_poi\": \"arts_and_culture_poi_start\",\n",
    "        \"sports_poi\": \"sports_poi_start\",\n",
    "    }\n",
    ")\n",
    "trips_df.head(2)"
   ]
  },
  {
   "cell_type": "code",
   "execution_count": null,
   "metadata": {},
   "outputs": [],
   "source": [
    "trips_df = pd.merge(trips_df, hexagons_df, left_on=\"end_hex\", right_on=\"hex\")\n",
    "trips_df = trips_df.drop(columns={\"hex\", \"hex_and_neighbors\"})\n",
    "\n",
    "# add '_end' suffix to poi columns\n",
    "trips_df = trips_df.rename(\n",
    "    columns={\n",
    "        \"sustenance_poi\": \"sustenance_poi_end\",\n",
    "        \"public_transport_poi\": \"public_transport_poi_end\",\n",
    "        \"education_poi\": \"education_poi_end\",\n",
    "        \"arts_and_culture_poi\": \"arts_and_culture_poi_end\",\n",
    "        \"sports_poi\": \"sports_poi_end\",\n",
    "    }\n",
    ")\n",
    "trips_df.head(2)"
   ]
  },
  {
   "cell_type": "code",
   "execution_count": null,
   "metadata": {},
   "outputs": [],
   "source": [
    "trips_df.to_pickle(TRIPS_PATH)"
   ]
  }
 ],
 "metadata": {
  "interpreter": {
   "hash": "0567cc45d79ddb68decc459118f3905ee918a1aa6d6b8564d5a8efcc0e025ad2"
  },
  "kernelspec": {
   "display_name": "Python 3.10.4 ('aaa_magma')",
   "language": "python",
   "name": "python3"
  },
  "language_info": {
   "codemirror_mode": {
    "name": "ipython",
    "version": 3
   },
   "file_extension": ".py",
   "mimetype": "text/x-python",
   "name": "python",
   "nbconvert_exporter": "python",
   "pygments_lexer": "ipython3",
   "version": "3.10.4"
  },
  "orig_nbformat": 4
 },
 "nbformat": 4,
 "nbformat_minor": 2
}
