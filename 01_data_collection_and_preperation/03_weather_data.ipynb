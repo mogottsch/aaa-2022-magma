{
 "cells": [
  {
   "cell_type": "markdown",
   "id": "85f81a02",
   "metadata": {},
   "source": [
    "# Weather Data\n",
    "\n",
    "In this notebook, we import the weather data, process it and join it on the trips."
   ]
  },
  {
   "cell_type": "code",
   "execution_count": 1,
   "id": "4467ba91",
   "metadata": {},
   "outputs": [],
   "source": [
    "import numpy as np\n",
    "import pandas as pd"
   ]
  },
  {
   "cell_type": "code",
   "execution_count": 2,
   "metadata": {
    "collapsed": false,
    "pycharm": {
     "name": "#%%\n"
    }
   },
   "outputs": [],
   "source": [
    "import sys, os\n",
    "sys.path.append(os.path.abspath('..'))\n",
    "%load_ext autoreload\n",
    "%autoreload 2\n",
    "\n",
    "from modules.config import WEATHER_AGGR_TEMPORAL_PATH"
   ]
  },
  {
   "cell_type": "code",
   "execution_count": 3,
   "id": "ca695129",
   "metadata": {
    "scrolled": true
   },
   "outputs": [],
   "source": [
    "# Station ID for Leipzig-Holzhausen \n",
    "# https://www.dwd.de/DE/leistungen/klimadatendeutschland/statliste/statlex_html.html?view=nasPublication&nn=16102\n",
    "\n",
    "# data air temperature\n",
    "# https://opendata.dwd.de/climate_environment/CDC/observations_germany/climate/hourly/air_temperature/historical/stundenwerte_TU_02928_19510101_20211231_hist.zip\n",
    "df_temp = pd.read_csv('../00_data/repo_data/weather/stundenwerte_TU_02928_19510101_20211231_hist/produkt_tu_stunde_19510101_20211231_02928.txt', delimiter=\";\")\n",
    "\n",
    "# data precipiation\n",
    "# https://opendata.dwd.de/climate_environment/CDC/observations_germany/climate/hourly/precipitation/historical/stundenwerte_RR_02928_19970407_20211231_hist.zip\n",
    "df_precip = pd.read_csv('../00_data/repo_data/weather/stundenwerte_RR_02928_19970407_20211231_hist/produkt_rr_stunde_19970407_20211231_02928.txt', delimiter=\";\")\n",
    "\n",
    "# data wind\n",
    "# https://opendata.dwd.de/climate_environment/CDC/observations_germany/climate/hourly/wind/historical/stundenwerte_FF_02928_19580101_20211231_hist.zip\n",
    "df_wind = pd.read_csv('../00_data/repo_data/weather/stundenwerte_FF_02928_19580101_20211231_hist/produkt_ff_stunde_19580101_20211231_02928.txt', delimiter = \";\")\n",
    "\n",
    "# data cloud cover\n",
    "# https://opendata.dwd.de/climate_environment/CDC/observations_germany/climate/hourly/cloudiness/historical/stundenwerte_N_02928_19970407_20211231_hist.zip\n",
    "df_cloud = pd.read_csv('../00_data/repo_data/weather/stundenwerte_N_02928_19970407_20211231_hist/produkt_n_stunde_19970407_20211231_02928.txt', delimiter = \";\")\n"
   ]
  },
  {
   "cell_type": "markdown",
   "metadata": {
    "collapsed": false
   },
   "source": [
    "Clean the data:\n",
    "- remove unnecessary features\n",
    "- restrict time frame to 2019\n",
    "- convert 'MESS_DATUM' feature to timestamp and set as index"
   ]
  },
  {
   "cell_type": "code",
   "execution_count": 4,
   "id": "74069a03",
   "metadata": {},
   "outputs": [],
   "source": [
    "df_temp.drop(['STATIONS_ID','eor', 'QN_9', 'RF_TU'], inplace=True, axis=1)\n",
    "# description of columns\n",
    "# https://opendata.dwd.de/climate_environment/CDC/observations_germany/climate/hourly/air_temperature/historical/DESCRIPTION_obsgermany_climate_hourly_tu_historical_en.pdf\n",
    "df_temp.rename(columns = {'TT_TU':'temperature'},inplace = True)\n",
    "\n",
    "df_temp = df_temp[df_temp['MESS_DATUM'].between(2019000000, 2019311223)]\n",
    "\n",
    "df_temp['MESS_DATUM'] = list([pd.to_datetime(x, format='%Y%m%d%H') for x in df_temp['MESS_DATUM'].to_list()])\n",
    "df_temp.set_index('MESS_DATUM', inplace=True)"
   ]
  },
  {
   "cell_type": "code",
   "execution_count": 5,
   "id": "457de6bc",
   "metadata": {},
   "outputs": [],
   "source": [
    "df_precip.drop(['STATIONS_ID','eor', 'QN_8','  R1','WRTR'], inplace=True, axis=1)\n",
    "# description of columns\n",
    "# https://opendata.dwd.de/climate_environment/CDC/observations_germany/climate/hourly/precipitation/historical/DESCRIPTION_obsgermany_climate_hourly_precipitation_historical_en.pdf\n",
    "df_precip.rename(columns = {'RS_IND':'precipitation'}, inplace = True)\n",
    "\n",
    "df_precip = df_precip[df_precip['MESS_DATUM'].between(2019000000, 2019311223)]\n",
    "\n",
    "df_precip['MESS_DATUM'] = list([pd.to_datetime(x, format='%Y%m%d%H') for x in df_precip['MESS_DATUM'].to_list()])\n",
    "df_precip.set_index('MESS_DATUM', inplace=True)"
   ]
  },
  {
   "cell_type": "code",
   "execution_count": 6,
   "id": "6a571ea3",
   "metadata": {},
   "outputs": [],
   "source": [
    "df_wind.drop(['STATIONS_ID','eor','QN_3', '   D'], inplace=True, axis=1)\n",
    "# description of columns\n",
    "# https://opendata.dwd.de/climate_environment/CDC/observations_germany/climate/hourly/wind/historical/DESCRIPTION_obsgermany_climate_hourly_wind_historical_en.pdf\n",
    "df_wind.rename(columns = {'   F':'mean_wind_speed'}, inplace = True)\n",
    "\n",
    "df_wind = df_wind[df_wind['MESS_DATUM'].between(2019000000, 2019311223)]\n",
    "\n",
    "df_wind['MESS_DATUM'] = list([pd.to_datetime(x, format='%Y%m%d%H') for x in df_wind['MESS_DATUM'].to_list()])\n",
    "df_wind.set_index('MESS_DATUM', inplace=True)"
   ]
  },
  {
   "cell_type": "code",
   "execution_count": 7,
   "id": "2ed1dce9",
   "metadata": {},
   "outputs": [],
   "source": [
    "df_cloud.drop(['STATIONS_ID','eor', 'QN_8', 'V_N_I'], inplace=True, axis=1)\n",
    "# description of columns\n",
    "# https://opendata.dwd.de/climate_environment/CDC/observations_germany/climate/hourly/cloudiness/historical/DESCRIPTION_obsgermany_climate_hourly_cloudiness_historical_en.pdf\n",
    "df_cloud.rename(columns = {' V_N':'total_cloud_cover'}, inplace = True)\n",
    "\n",
    "df_cloud = df_cloud[df_cloud['MESS_DATUM'].between(2019000000, 2019311223)]\n",
    "\n",
    "df_cloud['MESS_DATUM'] = list([pd.to_datetime(x, format='%Y%m%d%H') for x in df_cloud['MESS_DATUM'].to_list()])\n",
    "df_cloud.set_index('MESS_DATUM', inplace=True)"
   ]
  },
  {
   "cell_type": "markdown",
   "metadata": {
    "collapsed": false
   },
   "source": [
    "Create dataframe with every hour in 2019"
   ]
  },
  {
   "cell_type": "code",
   "execution_count": 8,
   "metadata": {
    "collapsed": false,
    "pycharm": {
     "name": "#%%\n"
    }
   },
   "outputs": [
    {
     "data": {
      "text/html": [
       "<div>\n",
       "<style scoped>\n",
       "    .dataframe tbody tr th:only-of-type {\n",
       "        vertical-align: middle;\n",
       "    }\n",
       "\n",
       "    .dataframe tbody tr th {\n",
       "        vertical-align: top;\n",
       "    }\n",
       "\n",
       "    .dataframe thead th {\n",
       "        text-align: right;\n",
       "    }\n",
       "</style>\n",
       "<table border=\"1\" class=\"dataframe\">\n",
       "  <thead>\n",
       "    <tr style=\"text-align: right;\">\n",
       "      <th></th>\n",
       "    </tr>\n",
       "    <tr>\n",
       "      <th>MESS_DATUM</th>\n",
       "    </tr>\n",
       "  </thead>\n",
       "  <tbody>\n",
       "    <tr>\n",
       "      <th>2019-01-01 00:00:00</th>\n",
       "    </tr>\n",
       "    <tr>\n",
       "      <th>2019-01-01 01:00:00</th>\n",
       "    </tr>\n",
       "    <tr>\n",
       "      <th>2019-01-01 02:00:00</th>\n",
       "    </tr>\n",
       "    <tr>\n",
       "      <th>2019-01-01 03:00:00</th>\n",
       "    </tr>\n",
       "    <tr>\n",
       "      <th>2019-01-01 04:00:00</th>\n",
       "    </tr>\n",
       "  </tbody>\n",
       "</table>\n",
       "</div>"
      ],
      "text/plain": [
       "Empty DataFrame\n",
       "Columns: []\n",
       "Index: [2019-01-01 00:00:00, 2019-01-01 01:00:00, 2019-01-01 02:00:00, 2019-01-01 03:00:00, 2019-01-01 04:00:00]"
      ]
     },
     "execution_count": 8,
     "metadata": {},
     "output_type": "execute_result"
    }
   ],
   "source": [
    "hour_data = {'MESS_DATUM': pd.date_range('2019-01-01T00', '2019-12-31T23', freq='H')}\n",
    "time_range = pd.DataFrame(hour_data)\n",
    "time_range.set_index('MESS_DATUM', inplace=True)\n",
    "time_range.head()"
   ]
  },
  {
   "cell_type": "markdown",
   "metadata": {
    "collapsed": false
   },
   "source": [
    "Merge weather data into hour dataframe"
   ]
  },
  {
   "cell_type": "code",
   "execution_count": 9,
   "id": "7d9f33f1",
   "metadata": {},
   "outputs": [
    {
     "data": {
      "text/html": [
       "<div>\n",
       "<style scoped>\n",
       "    .dataframe tbody tr th:only-of-type {\n",
       "        vertical-align: middle;\n",
       "    }\n",
       "\n",
       "    .dataframe tbody tr th {\n",
       "        vertical-align: top;\n",
       "    }\n",
       "\n",
       "    .dataframe thead th {\n",
       "        text-align: right;\n",
       "    }\n",
       "</style>\n",
       "<table border=\"1\" class=\"dataframe\">\n",
       "  <thead>\n",
       "    <tr style=\"text-align: right;\">\n",
       "      <th></th>\n",
       "      <th>temperature</th>\n",
       "      <th>mean_wind_speed</th>\n",
       "      <th>total_cloud_cover</th>\n",
       "      <th>precipitation</th>\n",
       "    </tr>\n",
       "    <tr>\n",
       "      <th>MESS_DATUM</th>\n",
       "      <th></th>\n",
       "      <th></th>\n",
       "      <th></th>\n",
       "      <th></th>\n",
       "    </tr>\n",
       "  </thead>\n",
       "  <tbody>\n",
       "    <tr>\n",
       "      <th>2019-01-01 00:00:00</th>\n",
       "      <td>7.4</td>\n",
       "      <td>2.8</td>\n",
       "      <td>8.0</td>\n",
       "      <td>0.0</td>\n",
       "    </tr>\n",
       "    <tr>\n",
       "      <th>2019-01-01 01:00:00</th>\n",
       "      <td>7.7</td>\n",
       "      <td>2.9</td>\n",
       "      <td>8.0</td>\n",
       "      <td>0.0</td>\n",
       "    </tr>\n",
       "    <tr>\n",
       "      <th>2019-01-01 02:00:00</th>\n",
       "      <td>7.7</td>\n",
       "      <td>3.7</td>\n",
       "      <td>8.0</td>\n",
       "      <td>0.0</td>\n",
       "    </tr>\n",
       "    <tr>\n",
       "      <th>2019-01-01 03:00:00</th>\n",
       "      <td>7.7</td>\n",
       "      <td>3.2</td>\n",
       "      <td>8.0</td>\n",
       "      <td>0.0</td>\n",
       "    </tr>\n",
       "    <tr>\n",
       "      <th>2019-01-01 04:00:00</th>\n",
       "      <td>7.6</td>\n",
       "      <td>3.3</td>\n",
       "      <td>8.0</td>\n",
       "      <td>0.0</td>\n",
       "    </tr>\n",
       "    <tr>\n",
       "      <th>...</th>\n",
       "      <td>...</td>\n",
       "      <td>...</td>\n",
       "      <td>...</td>\n",
       "      <td>...</td>\n",
       "    </tr>\n",
       "    <tr>\n",
       "      <th>2019-12-31 19:00:00</th>\n",
       "      <td>2.8</td>\n",
       "      <td>2.3</td>\n",
       "      <td>1.0</td>\n",
       "      <td>0.0</td>\n",
       "    </tr>\n",
       "    <tr>\n",
       "      <th>2019-12-31 20:00:00</th>\n",
       "      <td>2.4</td>\n",
       "      <td>2.0</td>\n",
       "      <td>5.0</td>\n",
       "      <td>0.0</td>\n",
       "    </tr>\n",
       "    <tr>\n",
       "      <th>2019-12-31 21:00:00</th>\n",
       "      <td>2.7</td>\n",
       "      <td>2.3</td>\n",
       "      <td>7.0</td>\n",
       "      <td>0.0</td>\n",
       "    </tr>\n",
       "    <tr>\n",
       "      <th>2019-12-31 22:00:00</th>\n",
       "      <td>2.8</td>\n",
       "      <td>2.3</td>\n",
       "      <td>7.0</td>\n",
       "      <td>0.0</td>\n",
       "    </tr>\n",
       "    <tr>\n",
       "      <th>2019-12-31 23:00:00</th>\n",
       "      <td>2.9</td>\n",
       "      <td>2.0</td>\n",
       "      <td>7.0</td>\n",
       "      <td>0.0</td>\n",
       "    </tr>\n",
       "  </tbody>\n",
       "</table>\n",
       "<p>8760 rows × 4 columns</p>\n",
       "</div>"
      ],
      "text/plain": [
       "                     temperature  mean_wind_speed  total_cloud_cover  \\\n",
       "MESS_DATUM                                                             \n",
       "2019-01-01 00:00:00          7.4              2.8                8.0   \n",
       "2019-01-01 01:00:00          7.7              2.9                8.0   \n",
       "2019-01-01 02:00:00          7.7              3.7                8.0   \n",
       "2019-01-01 03:00:00          7.7              3.2                8.0   \n",
       "2019-01-01 04:00:00          7.6              3.3                8.0   \n",
       "...                          ...              ...                ...   \n",
       "2019-12-31 19:00:00          2.8              2.3                1.0   \n",
       "2019-12-31 20:00:00          2.4              2.0                5.0   \n",
       "2019-12-31 21:00:00          2.7              2.3                7.0   \n",
       "2019-12-31 22:00:00          2.8              2.3                7.0   \n",
       "2019-12-31 23:00:00          2.9              2.0                7.0   \n",
       "\n",
       "                     precipitation  \n",
       "MESS_DATUM                          \n",
       "2019-01-01 00:00:00            0.0  \n",
       "2019-01-01 01:00:00            0.0  \n",
       "2019-01-01 02:00:00            0.0  \n",
       "2019-01-01 03:00:00            0.0  \n",
       "2019-01-01 04:00:00            0.0  \n",
       "...                            ...  \n",
       "2019-12-31 19:00:00            0.0  \n",
       "2019-12-31 20:00:00            0.0  \n",
       "2019-12-31 21:00:00            0.0  \n",
       "2019-12-31 22:00:00            0.0  \n",
       "2019-12-31 23:00:00            0.0  \n",
       "\n",
       "[8760 rows x 4 columns]"
      ]
     },
     "execution_count": 9,
     "metadata": {},
     "output_type": "execute_result"
    }
   ],
   "source": [
    "df_weather = time_range.join(df_temp).join(df_wind).join(df_cloud).join(df_precip)\n",
    "\n",
    "df_weather"
   ]
  },
  {
   "cell_type": "markdown",
   "metadata": {
    "collapsed": false,
    "pycharm": {
     "name": "#%% md\n"
    }
   },
   "source": [
    "Check for missing, null or inconsistent data"
   ]
  },
  {
   "cell_type": "code",
   "execution_count": 10,
   "metadata": {
    "collapsed": false,
    "pycharm": {
     "name": "#%%\n"
    }
   },
   "outputs": [
    {
     "data": {
      "text/plain": [
       "temperature            0\n",
       "mean_wind_speed      153\n",
       "total_cloud_cover    443\n",
       "precipitation         73\n",
       "dtype: int64"
      ]
     },
     "execution_count": 10,
     "metadata": {},
     "output_type": "execute_result"
    }
   ],
   "source": [
    "df_weather.isna().sum()"
   ]
  },
  {
   "cell_type": "code",
   "execution_count": 11,
   "metadata": {
    "collapsed": false,
    "pycharm": {
     "name": "#%%\n"
    }
   },
   "outputs": [
    {
     "data": {
      "text/html": [
       "<div>\n",
       "<style scoped>\n",
       "    .dataframe tbody tr th:only-of-type {\n",
       "        vertical-align: middle;\n",
       "    }\n",
       "\n",
       "    .dataframe tbody tr th {\n",
       "        vertical-align: top;\n",
       "    }\n",
       "\n",
       "    .dataframe thead th {\n",
       "        text-align: right;\n",
       "    }\n",
       "</style>\n",
       "<table border=\"1\" class=\"dataframe\">\n",
       "  <thead>\n",
       "    <tr style=\"text-align: right;\">\n",
       "      <th></th>\n",
       "      <th>temperature</th>\n",
       "      <th>mean_wind_speed</th>\n",
       "      <th>total_cloud_cover</th>\n",
       "      <th>precipitation</th>\n",
       "    </tr>\n",
       "  </thead>\n",
       "  <tbody>\n",
       "    <tr>\n",
       "      <th>count</th>\n",
       "      <td>8760.000000</td>\n",
       "      <td>8607.000000</td>\n",
       "      <td>8317.000000</td>\n",
       "      <td>8687.000000</td>\n",
       "    </tr>\n",
       "    <tr>\n",
       "      <th>mean</th>\n",
       "      <td>-0.747386</td>\n",
       "      <td>1.799268</td>\n",
       "      <td>5.601539</td>\n",
       "      <td>-4.528606</td>\n",
       "    </tr>\n",
       "    <tr>\n",
       "      <th>std</th>\n",
       "      <td>109.713974</td>\n",
       "      <td>24.162461</td>\n",
       "      <td>3.180506</td>\n",
       "      <td>68.487075</td>\n",
       "    </tr>\n",
       "    <tr>\n",
       "      <th>min</th>\n",
       "      <td>-999.000000</td>\n",
       "      <td>-999.000000</td>\n",
       "      <td>0.000000</td>\n",
       "      <td>-999.000000</td>\n",
       "    </tr>\n",
       "    <tr>\n",
       "      <th>25%</th>\n",
       "      <td>4.900000</td>\n",
       "      <td>1.400000</td>\n",
       "      <td>3.000000</td>\n",
       "      <td>0.000000</td>\n",
       "    </tr>\n",
       "    <tr>\n",
       "      <th>50%</th>\n",
       "      <td>10.100000</td>\n",
       "      <td>2.200000</td>\n",
       "      <td>7.000000</td>\n",
       "      <td>0.000000</td>\n",
       "    </tr>\n",
       "    <tr>\n",
       "      <th>75%</th>\n",
       "      <td>16.900000</td>\n",
       "      <td>3.100000</td>\n",
       "      <td>8.000000</td>\n",
       "      <td>0.000000</td>\n",
       "    </tr>\n",
       "    <tr>\n",
       "      <th>max</th>\n",
       "      <td>37.800000</td>\n",
       "      <td>10.100000</td>\n",
       "      <td>8.000000</td>\n",
       "      <td>1.000000</td>\n",
       "    </tr>\n",
       "  </tbody>\n",
       "</table>\n",
       "</div>"
      ],
      "text/plain": [
       "       temperature  mean_wind_speed  total_cloud_cover  precipitation\n",
       "count  8760.000000      8607.000000        8317.000000    8687.000000\n",
       "mean     -0.747386         1.799268           5.601539      -4.528606\n",
       "std     109.713974        24.162461           3.180506      68.487075\n",
       "min    -999.000000      -999.000000           0.000000    -999.000000\n",
       "25%       4.900000         1.400000           3.000000       0.000000\n",
       "50%      10.100000         2.200000           7.000000       0.000000\n",
       "75%      16.900000         3.100000           8.000000       0.000000\n",
       "max      37.800000        10.100000           8.000000       1.000000"
      ]
     },
     "execution_count": 11,
     "metadata": {},
     "output_type": "execute_result"
    }
   ],
   "source": [
    "df_weather.describe()"
   ]
  },
  {
   "cell_type": "markdown",
   "metadata": {
    "collapsed": false
   },
   "source": [
    "Replace -999 with NaN values for interpolation"
   ]
  },
  {
   "cell_type": "code",
   "execution_count": 12,
   "metadata": {
    "collapsed": false,
    "pycharm": {
     "name": "#%%\n"
    }
   },
   "outputs": [],
   "source": [
    "df_weather.replace(-999, np.NaN, inplace= True)"
   ]
  },
  {
   "cell_type": "code",
   "execution_count": 13,
   "metadata": {
    "collapsed": false,
    "pycharm": {
     "name": "#%%\n"
    }
   },
   "outputs": [
    {
     "data": {
      "text/plain": [
       "temperature          104\n",
       "mean_wind_speed      158\n",
       "total_cloud_cover    443\n",
       "precipitation        114\n",
       "dtype: int64"
      ]
     },
     "execution_count": 13,
     "metadata": {},
     "output_type": "execute_result"
    }
   ],
   "source": [
    "df_weather.isna().sum()"
   ]
  },
  {
   "cell_type": "markdown",
   "metadata": {
    "collapsed": false
   },
   "source": [
    "Interpolate missing data"
   ]
  },
  {
   "cell_type": "code",
   "execution_count": 14,
   "metadata": {
    "collapsed": false,
    "pycharm": {
     "name": "#%%\n"
    }
   },
   "outputs": [],
   "source": [
    "df_weather.interpolate(method=\"time\", inplace=True)\n",
    "\n",
    "# round interpolated values so they match the 0/1 or 0-8 value set\n",
    "df_weather['precipitation'] = df_weather['precipitation'].round()\n",
    "df_weather['total_cloud_cover'] = df_weather['total_cloud_cover'].round()"
   ]
  },
  {
   "cell_type": "markdown",
   "metadata": {
    "collapsed": false
   },
   "source": [
    "Aggregate the weather data with different time-intervals"
   ]
  },
  {
   "cell_type": "code",
   "execution_count": 15,
   "metadata": {
    "collapsed": false,
    "pycharm": {
     "name": "#%%\n"
    }
   },
   "outputs": [],
   "source": [
    "def aggregate(weather_data):\n",
    "\n",
    "    time_intervals = [1,2,6,24]\n",
    "    data_1 = pd.DataFrame()\n",
    "    data_2 = pd.DataFrame()\n",
    "    data_6 = pd.DataFrame()\n",
    "    data_24 = pd.DataFrame()\n",
    "\n",
    "    for i in time_intervals:\n",
    "        df = weather_data.copy()\n",
    "        max_data = df.resample(f\"{i}H\").max().rename(columns = {'temperature': 'max_temperature', 'mean_wind_speed' : 'max_mean_wind_speed', 'precipitation' : 'max_precipitation','total_cloud_cover' : 'max_total_cloud_cover'})\n",
    "        min_data = df.resample(f\"{i}H\").min().rename(columns = {'temperature': 'min_temperature', 'mean_wind_speed' : 'min_mean_wind_speed', 'precipitation' : 'min_precipitation', 'total_cloud_cover' : 'min_total_cloud_cover'})\n",
    "        mean_data = df.resample(f\"{i}H\").mean().rename(columns = {'temperature': 'mean_temperature', 'mean_wind_speed' : 'mean_mean_wind_speed', 'precipitation' : 'mean_precipitation','total_cloud_cover' : 'mean_total_cloud_cover'})\n",
    "        sum_data = df.resample(f\"{i}H\").sum().rename(columns = {'temperature': 'sum_temperature', 'mean_wind_speed' : 'sum_mean_wind_speed', 'precipitation' : 'sum_precipitation','total_cloud_cover' : 'sum_total_cloud_cover'})\n",
    "\n",
    "        if(i == 1):\n",
    "            data_1 = pd.concat([min_data, max_data, mean_data, sum_data], axis=1)\n",
    "            data_1['time_interval_length'] = i\n",
    "            data_1.reset_index()\n",
    "            continue\n",
    "\n",
    "        if(i == 2):\n",
    "            data_2 = pd.concat([min_data, max_data, mean_data, sum_data], axis=1)\n",
    "            data_2['time_interval_length'] = i\n",
    "            data_2.reset_index()\n",
    "            continue\n",
    "\n",
    "        if(i == 6):\n",
    "            data_6 = pd.concat([min_data, max_data, mean_data, sum_data], axis=1)\n",
    "            data_6['time_interval_length'] = i\n",
    "            data_6.reset_index()\n",
    "            continue\n",
    "\n",
    "        if(i == 24):\n",
    "            data_24 = pd.concat([min_data, max_data, mean_data, sum_data], axis=1)\n",
    "            data_24['time_interval_length'] = i\n",
    "            data_24.reset_index()\n",
    "\n",
    "        return pd.concat([data_1, data_2, data_6, data_24], axis=0)"
   ]
  },
  {
   "cell_type": "code",
   "execution_count": 16,
   "metadata": {
    "collapsed": false,
    "pycharm": {
     "name": "#%%\n"
    }
   },
   "outputs": [
    {
     "data": {
      "text/html": [
       "<div>\n",
       "<style scoped>\n",
       "    .dataframe tbody tr th:only-of-type {\n",
       "        vertical-align: middle;\n",
       "    }\n",
       "\n",
       "    .dataframe tbody tr th {\n",
       "        vertical-align: top;\n",
       "    }\n",
       "\n",
       "    .dataframe thead th {\n",
       "        text-align: right;\n",
       "    }\n",
       "</style>\n",
       "<table border=\"1\" class=\"dataframe\">\n",
       "  <thead>\n",
       "    <tr style=\"text-align: right;\">\n",
       "      <th></th>\n",
       "      <th>min_temperature</th>\n",
       "      <th>max_temperature</th>\n",
       "      <th>mean_temperature</th>\n",
       "      <th>mean_mean_wind_speed</th>\n",
       "      <th>mean_total_cloud_cover</th>\n",
       "      <th>sum_precipitation</th>\n",
       "      <th>time_interval_length</th>\n",
       "    </tr>\n",
       "    <tr>\n",
       "      <th>MESS_DATUM</th>\n",
       "      <th></th>\n",
       "      <th></th>\n",
       "      <th></th>\n",
       "      <th></th>\n",
       "      <th></th>\n",
       "      <th></th>\n",
       "      <th></th>\n",
       "    </tr>\n",
       "  </thead>\n",
       "  <tbody>\n",
       "    <tr>\n",
       "      <th>2019-01-01 00:00:00</th>\n",
       "      <td>7.4</td>\n",
       "      <td>7.4</td>\n",
       "      <td>7.400000</td>\n",
       "      <td>2.800000</td>\n",
       "      <td>8.000000</td>\n",
       "      <td>0.0</td>\n",
       "      <td>1</td>\n",
       "    </tr>\n",
       "    <tr>\n",
       "      <th>2019-01-01 01:00:00</th>\n",
       "      <td>7.7</td>\n",
       "      <td>7.7</td>\n",
       "      <td>7.700000</td>\n",
       "      <td>2.900000</td>\n",
       "      <td>8.000000</td>\n",
       "      <td>0.0</td>\n",
       "      <td>1</td>\n",
       "    </tr>\n",
       "    <tr>\n",
       "      <th>2019-01-01 02:00:00</th>\n",
       "      <td>7.7</td>\n",
       "      <td>7.7</td>\n",
       "      <td>7.700000</td>\n",
       "      <td>3.700000</td>\n",
       "      <td>8.000000</td>\n",
       "      <td>0.0</td>\n",
       "      <td>1</td>\n",
       "    </tr>\n",
       "    <tr>\n",
       "      <th>2019-01-01 03:00:00</th>\n",
       "      <td>7.7</td>\n",
       "      <td>7.7</td>\n",
       "      <td>7.700000</td>\n",
       "      <td>3.200000</td>\n",
       "      <td>8.000000</td>\n",
       "      <td>0.0</td>\n",
       "      <td>1</td>\n",
       "    </tr>\n",
       "    <tr>\n",
       "      <th>2019-01-01 04:00:00</th>\n",
       "      <td>7.6</td>\n",
       "      <td>7.6</td>\n",
       "      <td>7.600000</td>\n",
       "      <td>3.300000</td>\n",
       "      <td>8.000000</td>\n",
       "      <td>0.0</td>\n",
       "      <td>1</td>\n",
       "    </tr>\n",
       "    <tr>\n",
       "      <th>...</th>\n",
       "      <td>...</td>\n",
       "      <td>...</td>\n",
       "      <td>...</td>\n",
       "      <td>...</td>\n",
       "      <td>...</td>\n",
       "      <td>...</td>\n",
       "      <td>...</td>\n",
       "    </tr>\n",
       "    <tr>\n",
       "      <th>2019-12-27 00:00:00</th>\n",
       "      <td>0.5</td>\n",
       "      <td>4.3</td>\n",
       "      <td>2.483333</td>\n",
       "      <td>1.591667</td>\n",
       "      <td>7.666667</td>\n",
       "      <td>8.0</td>\n",
       "      <td>24</td>\n",
       "    </tr>\n",
       "    <tr>\n",
       "      <th>2019-12-28 00:00:00</th>\n",
       "      <td>-3.6</td>\n",
       "      <td>1.6</td>\n",
       "      <td>-0.008333</td>\n",
       "      <td>1.291667</td>\n",
       "      <td>7.750000</td>\n",
       "      <td>1.0</td>\n",
       "      <td>24</td>\n",
       "    </tr>\n",
       "    <tr>\n",
       "      <th>2019-12-29 00:00:00</th>\n",
       "      <td>-4.0</td>\n",
       "      <td>2.5</td>\n",
       "      <td>-0.725000</td>\n",
       "      <td>1.766667</td>\n",
       "      <td>7.041667</td>\n",
       "      <td>0.0</td>\n",
       "      <td>24</td>\n",
       "    </tr>\n",
       "    <tr>\n",
       "      <th>2019-12-30 00:00:00</th>\n",
       "      <td>1.3</td>\n",
       "      <td>9.6</td>\n",
       "      <td>4.841667</td>\n",
       "      <td>2.700000</td>\n",
       "      <td>6.791667</td>\n",
       "      <td>0.0</td>\n",
       "      <td>24</td>\n",
       "    </tr>\n",
       "    <tr>\n",
       "      <th>2019-12-31 00:00:00</th>\n",
       "      <td>2.4</td>\n",
       "      <td>6.7</td>\n",
       "      <td>4.612500</td>\n",
       "      <td>2.629167</td>\n",
       "      <td>4.666667</td>\n",
       "      <td>0.0</td>\n",
       "      <td>24</td>\n",
       "    </tr>\n",
       "  </tbody>\n",
       "</table>\n",
       "<p>14965 rows × 7 columns</p>\n",
       "</div>"
      ],
      "text/plain": [
       "                     min_temperature  max_temperature  mean_temperature  \\\n",
       "MESS_DATUM                                                                \n",
       "2019-01-01 00:00:00              7.4              7.4          7.400000   \n",
       "2019-01-01 01:00:00              7.7              7.7          7.700000   \n",
       "2019-01-01 02:00:00              7.7              7.7          7.700000   \n",
       "2019-01-01 03:00:00              7.7              7.7          7.700000   \n",
       "2019-01-01 04:00:00              7.6              7.6          7.600000   \n",
       "...                              ...              ...               ...   \n",
       "2019-12-27 00:00:00              0.5              4.3          2.483333   \n",
       "2019-12-28 00:00:00             -3.6              1.6         -0.008333   \n",
       "2019-12-29 00:00:00             -4.0              2.5         -0.725000   \n",
       "2019-12-30 00:00:00              1.3              9.6          4.841667   \n",
       "2019-12-31 00:00:00              2.4              6.7          4.612500   \n",
       "\n",
       "                     mean_mean_wind_speed  mean_total_cloud_cover  \\\n",
       "MESS_DATUM                                                          \n",
       "2019-01-01 00:00:00              2.800000                8.000000   \n",
       "2019-01-01 01:00:00              2.900000                8.000000   \n",
       "2019-01-01 02:00:00              3.700000                8.000000   \n",
       "2019-01-01 03:00:00              3.200000                8.000000   \n",
       "2019-01-01 04:00:00              3.300000                8.000000   \n",
       "...                                   ...                     ...   \n",
       "2019-12-27 00:00:00              1.591667                7.666667   \n",
       "2019-12-28 00:00:00              1.291667                7.750000   \n",
       "2019-12-29 00:00:00              1.766667                7.041667   \n",
       "2019-12-30 00:00:00              2.700000                6.791667   \n",
       "2019-12-31 00:00:00              2.629167                4.666667   \n",
       "\n",
       "                     sum_precipitation  time_interval_length  \n",
       "MESS_DATUM                                                    \n",
       "2019-01-01 00:00:00                0.0                     1  \n",
       "2019-01-01 01:00:00                0.0                     1  \n",
       "2019-01-01 02:00:00                0.0                     1  \n",
       "2019-01-01 03:00:00                0.0                     1  \n",
       "2019-01-01 04:00:00                0.0                     1  \n",
       "...                                ...                   ...  \n",
       "2019-12-27 00:00:00                8.0                    24  \n",
       "2019-12-28 00:00:00                1.0                    24  \n",
       "2019-12-29 00:00:00                0.0                    24  \n",
       "2019-12-30 00:00:00                0.0                    24  \n",
       "2019-12-31 00:00:00                0.0                    24  \n",
       "\n",
       "[14965 rows x 7 columns]"
      ]
     },
     "execution_count": 16,
     "metadata": {},
     "output_type": "execute_result"
    }
   ],
   "source": [
    "agg_weather = aggregate(df_weather)\n",
    "#print(agg_weather. columns)\n",
    "\n",
    "agg_weather = agg_weather[['min_temperature','max_temperature', 'mean_temperature', 'mean_mean_wind_speed', 'mean_total_cloud_cover', 'sum_precipitation', 'time_interval_length']]\n",
    "\n",
    "agg_weather"
   ]
  },
  {
   "cell_type": "markdown",
   "metadata": {
    "collapsed": false
   },
   "source": [
    "Export as parquet"
   ]
  },
  {
   "cell_type": "code",
   "execution_count": 17,
   "metadata": {
    "collapsed": false,
    "pycharm": {
     "name": "#%%\n"
    }
   },
   "outputs": [],
   "source": [
    "agg_weather.to_parquet(WEATHER_AGGR_TEMPORAL_PATH)"
   ]
  }
 ],
 "metadata": {
  "kernelspec": {
   "display_name": "Python 3.9.13 ('AAA_MAGMA')",
   "language": "python",
   "name": "python3"
  },
  "language_info": {
   "codemirror_mode": {
    "name": "ipython",
    "version": 3
   },
   "file_extension": ".py",
   "mimetype": "text/x-python",
   "name": "python",
   "nbconvert_exporter": "python",
   "pygments_lexer": "ipython3",
   "version": "3.9.13"
  },
  "vscode": {
   "interpreter": {
    "hash": "480189c8b893ba0e665d676e4d8fbaa7064789f8cb0c8dbdf4a412ac1da4cf12"
   }
  }
 },
 "nbformat": 4,
 "nbformat_minor": 5
}
