{
 "cells": [
  {
   "cell_type": "code",
   "execution_count": 1,
   "metadata": {},
   "outputs": [],
   "source": [
    "from typing import Callable\n",
    "from time import time\n",
    "import pandas as pd\n",
    "\n",
    "# for neural networks\n",
    "from keras.models import Sequential\n",
    "from keras.layers import Dense, Dropout\n",
    "import tensorflow as tf\n",
    "\n",
    "# for evaluation & preprocessing\n",
    "from sklearn.model_selection import (\n",
    "    train_test_split,\n",
    "    ParameterGrid,\n",
    ")\n",
    "from sklearn.preprocessing import StandardScaler\n",
    "from sklearn.metrics import (\n",
    "    mean_squared_error,\n",
    "    mean_absolute_error,\n",
    ")\n",
    "import sys, os\n",
    "sys.path.append(os.path.abspath(os.path.join(\"..\")))\n",
    "\n",
    "# for displaying results & feedback\n",
    "# from tabulate import tabulate\n",
    "import matplotlib.pyplot as plt\n",
    "from tqdm.notebook import tqdm"
   ]
  },
  {
   "cell_type": "code",
   "execution_count": 2,
   "metadata": {},
   "outputs": [],
   "source": [
    "import sys, os\n",
    "\n",
    "sys.path.append(os.path.abspath('..'))\n",
    "%load_ext autoreload\n",
    "%autoreload 2\n",
    "from modules.config import *"
   ]
  },
  {
   "cell_type": "code",
   "execution_count": 3,
   "metadata": {},
   "outputs": [
    {
     "data": {
      "text/html": [
       "<div>\n",
       "<style scoped>\n",
       "    .dataframe tbody tr th:only-of-type {\n",
       "        vertical-align: middle;\n",
       "    }\n",
       "\n",
       "    .dataframe tbody tr th {\n",
       "        vertical-align: top;\n",
       "    }\n",
       "\n",
       "    .dataframe thead th {\n",
       "        text-align: right;\n",
       "    }\n",
       "</style>\n",
       "<table border=\"1\" class=\"dataframe\">\n",
       "  <thead>\n",
       "    <tr style=\"text-align: right;\">\n",
       "      <th></th>\n",
       "      <th>demand</th>\n",
       "      <th>hour</th>\n",
       "      <th>day</th>\n",
       "      <th>weekday</th>\n",
       "      <th>month</th>\n",
       "      <th>sustenance_poi_start</th>\n",
       "      <th>public_transport_poi_start</th>\n",
       "      <th>education_poi_start</th>\n",
       "      <th>arts_and_culture_poi_start</th>\n",
       "      <th>sports_poi_start</th>\n",
       "      <th>...</th>\n",
       "      <th>end_881f1abb2dfffff</th>\n",
       "      <th>end_881f1abb31fffff</th>\n",
       "      <th>end_881f1abb35fffff</th>\n",
       "      <th>end_881f1abb39fffff</th>\n",
       "      <th>end_881f1abb61fffff</th>\n",
       "      <th>end_881f1abb63fffff</th>\n",
       "      <th>end_881f1abb65fffff</th>\n",
       "      <th>end_881f1abb67fffff</th>\n",
       "      <th>end_881f1abb69fffff</th>\n",
       "      <th>end_881f1abb6bfffff</th>\n",
       "    </tr>\n",
       "  </thead>\n",
       "  <tbody>\n",
       "    <tr>\n",
       "      <th>0</th>\n",
       "      <td>3</td>\n",
       "      <td>0</td>\n",
       "      <td>20</td>\n",
       "      <td>6</td>\n",
       "      <td>1</td>\n",
       "      <td>82</td>\n",
       "      <td>80</td>\n",
       "      <td>11</td>\n",
       "      <td>5</td>\n",
       "      <td>5</td>\n",
       "      <td>...</td>\n",
       "      <td>0</td>\n",
       "      <td>0</td>\n",
       "      <td>0</td>\n",
       "      <td>0</td>\n",
       "      <td>0</td>\n",
       "      <td>0</td>\n",
       "      <td>0</td>\n",
       "      <td>0</td>\n",
       "      <td>0</td>\n",
       "      <td>0</td>\n",
       "    </tr>\n",
       "    <tr>\n",
       "      <th>1</th>\n",
       "      <td>1</td>\n",
       "      <td>12</td>\n",
       "      <td>30</td>\n",
       "      <td>2</td>\n",
       "      <td>1</td>\n",
       "      <td>82</td>\n",
       "      <td>80</td>\n",
       "      <td>11</td>\n",
       "      <td>5</td>\n",
       "      <td>5</td>\n",
       "      <td>...</td>\n",
       "      <td>0</td>\n",
       "      <td>0</td>\n",
       "      <td>0</td>\n",
       "      <td>0</td>\n",
       "      <td>0</td>\n",
       "      <td>0</td>\n",
       "      <td>0</td>\n",
       "      <td>0</td>\n",
       "      <td>0</td>\n",
       "      <td>0</td>\n",
       "    </tr>\n",
       "  </tbody>\n",
       "</table>\n",
       "<p>2 rows × 469 columns</p>\n",
       "</div>"
      ],
      "text/plain": [
       "   demand  hour  day  weekday  month  sustenance_poi_start  \\\n",
       "0       3     0   20        6      1                    82   \n",
       "1       1    12   30        2      1                    82   \n",
       "\n",
       "   public_transport_poi_start  education_poi_start  \\\n",
       "0                          80                   11   \n",
       "1                          80                   11   \n",
       "\n",
       "   arts_and_culture_poi_start  sports_poi_start  ...  end_881f1abb2dfffff  \\\n",
       "0                           5                 5  ...                    0   \n",
       "1                           5                 5  ...                    0   \n",
       "\n",
       "   end_881f1abb31fffff  end_881f1abb35fffff  end_881f1abb39fffff  \\\n",
       "0                    0                    0                    0   \n",
       "1                    0                    0                    0   \n",
       "\n",
       "   end_881f1abb61fffff  end_881f1abb63fffff  end_881f1abb65fffff  \\\n",
       "0                    0                    0                    0   \n",
       "1                    0                    0                    0   \n",
       "\n",
       "   end_881f1abb67fffff  end_881f1abb69fffff  end_881f1abb6bfffff  \n",
       "0                    0                    0                    0  \n",
       "1                    0                    0                    0  \n",
       "\n",
       "[2 rows x 469 columns]"
      ]
     },
     "execution_count": 3,
     "metadata": {},
     "output_type": "execute_result"
    }
   ],
   "source": [
    "model_data = pd.read_pickle(MODEL_DATA_PATH)\n",
    "model_data.head(2)"
   ]
  },
  {
   "cell_type": "code",
   "execution_count": 4,
   "metadata": {},
   "outputs": [
    {
     "name": "stdout",
     "output_type": "stream",
     "text": [
      "Size of the train dataset is: 260545\n",
      "Size of the validation dataset is: 55831\n",
      "Size of the test dataset is: 55832\n"
     ]
    }
   ],
   "source": [
    "y = model_data[\"demand\"]\n",
    "X = model_data.drop(columns=[\"demand\"])\n",
    "\n",
    "X_train, X_rest, y_train, y_rest = train_test_split(X, y, train_size=0.7, random_state=42)\n",
    "X_valid, X_test, y_valid, y_test = train_test_split(X_rest, y_rest, test_size=0.5, random_state=42)\n",
    "\n",
    "print(f\"Size of the train dataset is: {X_train.shape[0]}\")\n",
    "print(f\"Size of the validation dataset is: {X_valid.shape[0]}\")\n",
    "print(f\"Size of the test dataset is: {X_test.shape[0]}\")"
   ]
  },
  {
   "cell_type": "code",
   "execution_count": 5,
   "metadata": {},
   "outputs": [],
   "source": [
    "X_train = StandardScaler().fit_transform(X_train)\n",
    "X_valid = StandardScaler().fit_transform(X_valid)\n",
    "X_test = StandardScaler().fit_transform(X_test)"
   ]
  },
  {
   "cell_type": "code",
   "execution_count": 6,
   "metadata": {},
   "outputs": [
    {
     "data": {
      "text/plain": [
       "(260545, 468)"
      ]
     },
     "execution_count": 6,
     "metadata": {},
     "output_type": "execute_result"
    }
   ],
   "source": [
    "X_train.shape"
   ]
  },
  {
   "cell_type": "code",
   "execution_count": 7,
   "metadata": {},
   "outputs": [],
   "source": [
    "def mean_average_percentage_error(y_true, y_pred):\n",
    "    return mean_absolute_error(y_true, y_pred) / y_true.mean()\n",
    "\n",
    "\n",
    "def root_mean_squared_error(y_true, y_pred):\n",
    "    return mean_squared_error(y_true, y_pred) ** 0.5"
   ]
  },
  {
   "cell_type": "code",
   "execution_count": 8,
   "metadata": {},
   "outputs": [],
   "source": [
    "# hyperparameters\n",
    "# n"
   ]
  },
  {
   "cell_type": "code",
   "execution_count": 9,
   "metadata": {},
   "outputs": [
    {
     "name": "stdout",
     "output_type": "stream",
     "text": [
      "Epoch 1/20\n",
      "522/522 [==============================] - 4s 5ms/step - loss: 1.2750 - mae: 0.6684\n",
      "Epoch 2/20\n",
      "522/522 [==============================] - 3s 6ms/step - loss: 1.0626 - mae: 0.6173\n",
      "Epoch 3/20\n",
      "522/522 [==============================] - 3s 6ms/step - loss: 0.9560 - mae: 0.5878\n",
      "Epoch 4/20\n",
      "522/522 [==============================] - 3s 6ms/step - loss: 0.9157 - mae: 0.5761\n",
      "Epoch 5/20\n",
      "522/522 [==============================] - 3s 6ms/step - loss: 0.8988 - mae: 0.5708\n",
      "Epoch 6/20\n",
      "522/522 [==============================] - 3s 6ms/step - loss: 0.8831 - mae: 0.5662\n",
      "Epoch 7/20\n",
      "522/522 [==============================] - 3s 6ms/step - loss: 0.8777 - mae: 0.5647\n",
      "Epoch 8/20\n",
      "522/522 [==============================] - 3s 6ms/step - loss: 0.8679 - mae: 0.5611\n",
      "Epoch 9/20\n",
      "522/522 [==============================] - 3s 6ms/step - loss: 0.8638 - mae: 0.5595\n",
      "Epoch 10/20\n",
      "522/522 [==============================] - 3s 6ms/step - loss: 0.8630 - mae: 0.5595\n",
      "Epoch 11/20\n",
      "522/522 [==============================] - 3s 5ms/step - loss: 0.8569 - mae: 0.5575\n",
      "Epoch 12/20\n",
      "522/522 [==============================] - 3s 6ms/step - loss: 0.8532 - mae: 0.5563\n",
      "Epoch 13/20\n",
      "522/522 [==============================] - 3s 6ms/step - loss: 0.8523 - mae: 0.5566\n",
      "Epoch 14/20\n",
      "522/522 [==============================] - 3s 6ms/step - loss: 0.8486 - mae: 0.5547\n",
      "Epoch 15/20\n",
      "522/522 [==============================] - 3s 6ms/step - loss: 0.8416 - mae: 0.5521\n",
      "Epoch 16/20\n",
      "522/522 [==============================] - 3s 5ms/step - loss: 0.8439 - mae: 0.5531\n",
      "Epoch 17/20\n",
      "522/522 [==============================] - 3s 6ms/step - loss: 0.8419 - mae: 0.5516\n",
      "Epoch 18/20\n",
      "522/522 [==============================] - 3s 6ms/step - loss: 0.8426 - mae: 0.5527\n",
      "Epoch 19/20\n",
      "522/522 [==============================] - 3s 6ms/step - loss: 0.8364 - mae: 0.5499\n",
      "Epoch 20/20\n",
      "522/522 [==============================] - 3s 6ms/step - loss: 0.8343 - mae: 0.5498\n"
     ]
    },
    {
     "data": {
      "text/plain": [
       "<keras.callbacks.History at 0x1544cdfff70>"
      ]
     },
     "execution_count": 9,
     "metadata": {},
     "output_type": "execute_result"
    }
   ],
   "source": [
    "model = Sequential()\n",
    "model.add(Dense(100, activation='relu', input_shape=(X_train.shape[1],)))\n",
    "model.add(Dense(100, activation='relu'))\n",
    "model.add(Dense(1))\n",
    "\n",
    "model.compile(optimizer='adam', loss='mean_squared_error', metrics=['mae'])\n",
    "\n",
    "model.fit(X_train, y_train, epochs=20, batch_size=500)"
   ]
  },
  {
   "cell_type": "code",
   "execution_count": 10,
   "metadata": {},
   "outputs": [
    {
     "name": "stdout",
     "output_type": "stream",
     "text": [
      "1745/1745 [==============================] - 3s 2ms/step\n"
     ]
    }
   ],
   "source": [
    "y_pred = model.predict(X_test)"
   ]
  },
  {
   "cell_type": "code",
   "execution_count": 11,
   "metadata": {},
   "outputs": [
    {
     "name": "stdout",
     "output_type": "stream",
     "text": [
      "MSE :0.8567572350345711\n",
      "MAE :0.5365295392882945\n",
      "MAPE :0.3485956016099248\n",
      "RMSE :0.9256118166027112\n"
     ]
    }
   ],
   "source": [
    "print(f\"MSE: {mean_squared_error(y_test, y_pred)}\")\n",
    "print(f\"MAE: {mean_absolute_error(y_test, y_pred)}\")\n",
    "print(f\"MAPE: {mean_average_percentage_error(y_test, y_pred)}\")\n",
    "print(f\"RMSE: {root_mean_squared_error(y_test, y_pred)}\")"
   ]
  },
  {
   "cell_type": "code",
   "execution_count": null,
   "metadata": {},
   "outputs": [],
   "source": []
  }
 ],
 "metadata": {
  "interpreter": {
   "hash": "dfe5d669475e0224b78c5039dd4048f8afdfbc0a8400e3514111f5faddc37912"
  },
  "kernelspec": {
   "display_name": "Python 3.9.12 ('AAA')",
   "language": "python",
   "name": "python3"
  },
  "language_info": {
   "codemirror_mode": {
    "name": "ipython",
    "version": 3
   },
   "file_extension": ".py",
   "mimetype": "text/x-python",
   "name": "python",
   "nbconvert_exporter": "python",
   "pygments_lexer": "ipython3",
   "version": "3.9.12"
  },
  "orig_nbformat": 4
 },
 "nbformat": 4,
 "nbformat_minor": 2
}
