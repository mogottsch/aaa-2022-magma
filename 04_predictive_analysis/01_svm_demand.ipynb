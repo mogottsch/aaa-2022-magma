{
 "cells": [
  {
   "cell_type": "code",
   "execution_count": 10,
   "metadata": {},
   "outputs": [
    {
     "name": "stdout",
     "output_type": "stream",
     "text": [
      "The autoreload extension is already loaded. To reload it, use:\n",
      "  %reload_ext autoreload\n"
     ]
    }
   ],
   "source": [
    "import pandas as pd\n",
    "from itertools import product\n",
    "from tqdm.notebook import tqdm\n",
    "\n",
    "import sys, os\n",
    "\n",
    "sys.path.append(os.path.abspath('..'))\n",
    "%load_ext autoreload\n",
    "%autoreload 2\n",
    "from modules.config import *\n",
    "from modules.storage import (\n",
    "    get_demand_model_data,\n",
    "    store_results\n",
    ")\n",
    "from modules.svm import *"
   ]
  },
  {
   "cell_type": "code",
   "execution_count": 11,
   "metadata": {},
   "outputs": [],
   "source": [
    "def get_svm_metas():\n",
    "    return [\n",
    "        {'kernel': ['linear'], 'C': [0.1, 1, 10, 100],  'gamma': [-1],                          'degree': [-1],         'max_iter': [1000000]},\n",
    "        {'kernel': ['rbf'],    'C': [0.1, 1, 10, 100],  'gamma': [0.1, 0.01, 0.001, 0.0001],    'degree': [-1],         'max_iter': [1000000]},\n",
    "        {'kernel': ['poly'],   'C': [1, 10, 100, 1000], 'gamma': [-1],                          'degree': [2, 3, 4, 5], 'max_iter': [1000000]}\n",
    "    ]"
   ]
  },
  {
   "cell_type": "code",
   "execution_count": 12,
   "metadata": {},
   "outputs": [],
   "source": [
    "def execute_stage(path, h3_res, time_interval_length, get_available_model_metas_for_stage, do_evaluate_model, silent):\n",
    "    all_possible_metas = get_svm_metas()\n",
    "    metas = get_available_model_metas_for_stage(h3_res, time_interval_length, all_possible_metas)\n",
    "    \n",
    "    iterator = metas if silent else tqdm(metas)\n",
    "    for param_grid in iterator:\n",
    "        if not silent:\n",
    "            feedback = f\"h3: {h3_res} | t:{time_interval_length} | - \" + param_grid[0][\"kernel\"][0]\n",
    "            tqdm.write(feedback, end=\"\\r\")\n",
    "        \n",
    "        model_data_train, model_data_test = get_demand_model_data(h3_res, time_interval_length)\n",
    "        if len(model_data_train) > 50000:\n",
    "            model_data_train = model_data_train.sample(50000)\n",
    "\n",
    "        X_train, X_test, y_train, y_test = split_and_scale_data(model_data_train, model_data_test)\n",
    "        models = train_model(param_grid, X_train, y_train)\n",
    "        results = get_results(models, h3_res, time_interval_length, do_evaluate_model, X_test, y_test)\n",
    "        store_results(results, path)  \n",
    "        \n",
    "        if not silent:\n",
    "            tqdm.write(feedback + \" ✓\")"
   ]
  },
  {
   "cell_type": "code",
   "execution_count": 13,
   "metadata": {},
   "outputs": [
    {
     "data": {
      "application/vnd.jupyter.widget-view+json": {
       "model_id": "f7bd3f7c14fc4135a5709f262c70f309",
       "version_major": 2,
       "version_minor": 0
      },
      "text/plain": [
       "  0%|          | 0/1 [00:00<?, ?it/s]"
      ]
     },
     "metadata": {},
     "output_type": "display_data"
    },
    {
     "name": "stdout",
     "output_type": "stream",
     "text": [
      "[{'kernel': ['linear'], 'C': [0.1], 'max_iter': [1000000]}]\n"
     ]
    }
   ],
   "source": [
    "execute_stage(\n",
    "    SVM_FIRST_STAGE_RESULTS_PATH,\n",
    "    TUNE_H3_RESOLUTION,\n",
    "    TUNE_TIME_INTERVAL_LENGTH,\n",
    "    get_availabe_models_metas_first_stage,\n",
    "    do_evaluate_model=False,\n",
    "    silent=False,\n",
    ")"
   ]
  },
  {
   "cell_type": "code",
   "execution_count": 10,
   "metadata": {},
   "outputs": [
    {
     "data": {
      "text/html": [
       "<div>\n",
       "<style scoped>\n",
       "    .dataframe tbody tr th:only-of-type {\n",
       "        vertical-align: middle;\n",
       "    }\n",
       "\n",
       "    .dataframe tbody tr th {\n",
       "        vertical-align: top;\n",
       "    }\n",
       "\n",
       "    .dataframe thead th {\n",
       "        text-align: right;\n",
       "    }\n",
       "</style>\n",
       "<table border=\"1\" class=\"dataframe\">\n",
       "  <thead>\n",
       "    <tr style=\"text-align: right;\">\n",
       "      <th></th>\n",
       "      <th>iter</th>\n",
       "      <th>n_resources</th>\n",
       "      <th>mean_fit_time</th>\n",
       "      <th>std_fit_time</th>\n",
       "      <th>mean_score_time</th>\n",
       "      <th>std_score_time</th>\n",
       "      <th>param_C</th>\n",
       "      <th>param_kernel</th>\n",
       "      <th>param_max_iter</th>\n",
       "      <th>params</th>\n",
       "      <th>...</th>\n",
       "      <th>split2_train_score</th>\n",
       "      <th>split3_train_score</th>\n",
       "      <th>split4_train_score</th>\n",
       "      <th>mean_train_score</th>\n",
       "      <th>std_train_score</th>\n",
       "      <th>n_iter</th>\n",
       "      <th>h3_res</th>\n",
       "      <th>time_interval_length</th>\n",
       "      <th>param_gamma</th>\n",
       "      <th>param_degree</th>\n",
       "    </tr>\n",
       "  </thead>\n",
       "  <tbody>\n",
       "    <tr>\n",
       "      <th>4</th>\n",
       "      <td>0</td>\n",
       "      <td>8290</td>\n",
       "      <td>54.808515</td>\n",
       "      <td>0.629360</td>\n",
       "      <td>11.699974</td>\n",
       "      <td>0.465198</td>\n",
       "      <td>1.0</td>\n",
       "      <td>rbf</td>\n",
       "      <td>1000000</td>\n",
       "      <td>{'C': 1.0, 'degree': None, 'gamma': 0.01, 'ker...</td>\n",
       "      <td>...</td>\n",
       "      <td>-1.240730</td>\n",
       "      <td>-1.419944</td>\n",
       "      <td>-1.493995</td>\n",
       "      <td>-1.319479</td>\n",
       "      <td>0.116704</td>\n",
       "      <td>434001</td>\n",
       "      <td>8</td>\n",
       "      <td>6</td>\n",
       "      <td>0.010</td>\n",
       "      <td>NaN</td>\n",
       "    </tr>\n",
       "    <tr>\n",
       "      <th>7</th>\n",
       "      <td>0</td>\n",
       "      <td>8290</td>\n",
       "      <td>61.887783</td>\n",
       "      <td>2.143711</td>\n",
       "      <td>13.117010</td>\n",
       "      <td>0.575450</td>\n",
       "      <td>10.0</td>\n",
       "      <td>rbf</td>\n",
       "      <td>1000000</td>\n",
       "      <td>{'C': 10.0, 'degree': None, 'gamma': 0.01, 'ke...</td>\n",
       "      <td>...</td>\n",
       "      <td>-0.968602</td>\n",
       "      <td>-1.101078</td>\n",
       "      <td>-1.162574</td>\n",
       "      <td>-1.023994</td>\n",
       "      <td>0.091734</td>\n",
       "      <td>0</td>\n",
       "      <td>8</td>\n",
       "      <td>6</td>\n",
       "      <td>0.010</td>\n",
       "      <td>NaN</td>\n",
       "    </tr>\n",
       "    <tr>\n",
       "      <th>11</th>\n",
       "      <td>0</td>\n",
       "      <td>8290</td>\n",
       "      <td>61.977852</td>\n",
       "      <td>1.651096</td>\n",
       "      <td>8.008226</td>\n",
       "      <td>0.643548</td>\n",
       "      <td>100.0</td>\n",
       "      <td>rbf</td>\n",
       "      <td>1000000</td>\n",
       "      <td>{'C': 100.0, 'degree': None, 'gamma': 0.001, '...</td>\n",
       "      <td>...</td>\n",
       "      <td>-1.251774</td>\n",
       "      <td>-1.431241</td>\n",
       "      <td>-1.494112</td>\n",
       "      <td>-1.327835</td>\n",
       "      <td>0.114344</td>\n",
       "      <td>0</td>\n",
       "      <td>8</td>\n",
       "      <td>6</td>\n",
       "      <td>0.001</td>\n",
       "      <td>NaN</td>\n",
       "    </tr>\n",
       "    <tr>\n",
       "      <th>21</th>\n",
       "      <td>0</td>\n",
       "      <td>8290</td>\n",
       "      <td>72.496359</td>\n",
       "      <td>2.332309</td>\n",
       "      <td>11.504219</td>\n",
       "      <td>0.713604</td>\n",
       "      <td>10.0</td>\n",
       "      <td>poly</td>\n",
       "      <td>1000000</td>\n",
       "      <td>{'C': 10.0, 'degree': 2.0, 'gamma': None, 'ker...</td>\n",
       "      <td>...</td>\n",
       "      <td>-1.278043</td>\n",
       "      <td>-1.453530</td>\n",
       "      <td>-1.513180</td>\n",
       "      <td>-1.352580</td>\n",
       "      <td>0.110961</td>\n",
       "      <td>0</td>\n",
       "      <td>8</td>\n",
       "      <td>6</td>\n",
       "      <td>NaN</td>\n",
       "      <td>2.0</td>\n",
       "    </tr>\n",
       "    <tr>\n",
       "      <th>16</th>\n",
       "      <td>2</td>\n",
       "      <td>74610</td>\n",
       "      <td>9881.552610</td>\n",
       "      <td>513.575073</td>\n",
       "      <td>284.903122</td>\n",
       "      <td>5.123617</td>\n",
       "      <td>10.0</td>\n",
       "      <td>rbf</td>\n",
       "      <td>1000000</td>\n",
       "      <td>{'C': 10.0, 'degree': None, 'gamma': 0.01, 'ke...</td>\n",
       "      <td>...</td>\n",
       "      <td>-1.367001</td>\n",
       "      <td>-1.403957</td>\n",
       "      <td>-1.402731</td>\n",
       "      <td>-1.397316</td>\n",
       "      <td>0.020037</td>\n",
       "      <td>0</td>\n",
       "      <td>8</td>\n",
       "      <td>6</td>\n",
       "      <td>0.010</td>\n",
       "      <td>NaN</td>\n",
       "    </tr>\n",
       "  </tbody>\n",
       "</table>\n",
       "<p>5 rows × 30 columns</p>\n",
       "</div>"
      ],
      "text/plain": [
       "    iter  n_resources  mean_fit_time  std_fit_time  mean_score_time  \\\n",
       "4      0         8290      54.808515      0.629360        11.699974   \n",
       "7      0         8290      61.887783      2.143711        13.117010   \n",
       "11     0         8290      61.977852      1.651096         8.008226   \n",
       "21     0         8290      72.496359      2.332309        11.504219   \n",
       "16     2        74610    9881.552610    513.575073       284.903122   \n",
       "\n",
       "    std_score_time  param_C param_kernel  param_max_iter  \\\n",
       "4         0.465198      1.0          rbf         1000000   \n",
       "7         0.575450     10.0          rbf         1000000   \n",
       "11        0.643548    100.0          rbf         1000000   \n",
       "21        0.713604     10.0         poly         1000000   \n",
       "16        5.123617     10.0          rbf         1000000   \n",
       "\n",
       "                                               params  ...  \\\n",
       "4   {'C': 1.0, 'degree': None, 'gamma': 0.01, 'ker...  ...   \n",
       "7   {'C': 10.0, 'degree': None, 'gamma': 0.01, 'ke...  ...   \n",
       "11  {'C': 100.0, 'degree': None, 'gamma': 0.001, '...  ...   \n",
       "21  {'C': 10.0, 'degree': 2.0, 'gamma': None, 'ker...  ...   \n",
       "16  {'C': 10.0, 'degree': None, 'gamma': 0.01, 'ke...  ...   \n",
       "\n",
       "    split2_train_score  split3_train_score  split4_train_score  \\\n",
       "4            -1.240730           -1.419944           -1.493995   \n",
       "7            -0.968602           -1.101078           -1.162574   \n",
       "11           -1.251774           -1.431241           -1.494112   \n",
       "21           -1.278043           -1.453530           -1.513180   \n",
       "16           -1.367001           -1.403957           -1.402731   \n",
       "\n",
       "    mean_train_score  std_train_score  n_iter  h3_res  time_interval_length  \\\n",
       "4          -1.319479         0.116704  434001       8                     6   \n",
       "7          -1.023994         0.091734       0       8                     6   \n",
       "11         -1.327835         0.114344       0       8                     6   \n",
       "21         -1.352580         0.110961       0       8                     6   \n",
       "16         -1.397316         0.020037       0       8                     6   \n",
       "\n",
       "    param_gamma  param_degree  \n",
       "4         0.010           NaN  \n",
       "7         0.010           NaN  \n",
       "11        0.001           NaN  \n",
       "21          NaN           2.0  \n",
       "16        0.010           NaN  \n",
       "\n",
       "[5 rows x 30 columns]"
      ]
     },
     "execution_count": 10,
     "metadata": {},
     "output_type": "execute_result"
    }
   ],
   "source": [
    "results = pd.read_parquet(SVM_FIRST_STAGE_RESULTS_PATH)\n",
    "results.sort_values(by=['mean_test_score'], ascending=False).head(5)"
   ]
  },
  {
   "cell_type": "code",
   "execution_count": 6,
   "metadata": {},
   "outputs": [
    {
     "data": {
      "text/plain": [
       "373066"
      ]
     },
     "execution_count": 6,
     "metadata": {},
     "output_type": "execute_result"
    }
   ],
   "source": [
    "results.sort_values(by='mean_test_score', ascending=False).groupby('param_kernel').mean_test_score.first()"
   ]
  },
  {
   "cell_type": "code",
   "execution_count": null,
   "metadata": {},
   "outputs": [],
   "source": [
    "results.groupby('param_kernel').mean_fit_time.sum() / 60"
   ]
  },
  {
   "cell_type": "code",
   "execution_count": 7,
   "metadata": {},
   "outputs": [],
   "source": [
    "# resolutions = list(product(PREDICTIVE_H3_RESOLUTIONS, CALC_TIME_INTERVAL_LENGTHS))\n",
    "# resolutions = resolutions + (ADDITIONAL_PREDICTIVE_RESOLUTIONS)\n",
    "# resolutions"
   ]
  },
  {
   "cell_type": "code",
   "execution_count": 8,
   "metadata": {},
   "outputs": [],
   "source": [
    "# for h3_res, time_interval_length in tqdm(resolutions):\n",
    "#     execute_stage(\n",
    "#         SVM_SECOND_STAGE_RESULTS_PATH,\n",
    "#         h3_res,\n",
    "#         time_interval_length,\n",
    "#         get_availabe_models_metas_second_stage,\n",
    "#         do_evaluate_model=True,\n",
    "#         silent=True,\n",
    "#     )"
   ]
  },
  {
   "cell_type": "code",
   "execution_count": 9,
   "metadata": {},
   "outputs": [],
   "source": [
    "# results = pd.read_parquet(SVM_FIRST_STAGE_RESULTS_PATH)\n",
    "# results.sort_values(by=['mean_train_score'], ascending=False).head(2)"
   ]
  },
  {
   "cell_type": "code",
   "execution_count": 10,
   "metadata": {},
   "outputs": [],
   "source": [
    "# results_final = pd.read_parquet(SVM_SECOND_STAGE_RESULTS_PATH)\n",
    "# results_final"
   ]
  },
  {
   "cell_type": "code",
   "execution_count": null,
   "metadata": {},
   "outputs": [],
   "source": []
  }
 ],
 "metadata": {
  "kernelspec": {
   "display_name": "Python 3.9.13 ('AAA_MAGMA')",
   "language": "python",
   "name": "python3"
  },
  "language_info": {
   "codemirror_mode": {
    "name": "ipython",
    "version": 3
   },
   "file_extension": ".py",
   "mimetype": "text/x-python",
   "name": "python",
   "nbconvert_exporter": "python",
   "pygments_lexer": "ipython3",
   "version": "3.9.13"
  },
  "orig_nbformat": 4,
  "vscode": {
   "interpreter": {
    "hash": "480189c8b893ba0e665d676e4d8fbaa7064789f8cb0c8dbdf4a412ac1da4cf12"
   }
  }
 },
 "nbformat": 4,
 "nbformat_minor": 2
}
