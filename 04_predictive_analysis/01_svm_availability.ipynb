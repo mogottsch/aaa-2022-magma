{
 "cells": [
  {
   "cell_type": "code",
   "execution_count": 12,
   "metadata": {},
   "outputs": [
    {
     "name": "stdout",
     "output_type": "stream",
     "text": [
      "The autoreload extension is already loaded. To reload it, use:\n",
      "  %reload_ext autoreload\n"
     ]
    }
   ],
   "source": [
    "import pandas as pd\n",
    "from itertools import product\n",
    "from tqdm.notebook import tqdm\n",
    "\n",
    "import sys, os\n",
    "\n",
    "sys.path.append(os.path.abspath('..'))\n",
    "%load_ext autoreload\n",
    "%autoreload 2\n",
    "from modules.storage import get_availability_model_data, get_demand_model_data\n",
    "from modules.config import *\n",
    "from modules.svm import *"
   ]
  },
  {
   "cell_type": "code",
   "execution_count": 2,
   "metadata": {},
   "outputs": [],
   "source": [
    "all_possible_metas = [\n",
    "    {'kernel': ['linear'], 'C': [0.1, 1, 10, 100],  'gamma': [-1],                          'degree': [-1],         'max_iter': [1000000]},\n",
    "    {'kernel': ['rbf'],    'C': [0.1, 1, 10, 100],  'gamma': [0.1, 0.01, 0.001, 0.0001],    'degree': [-1],         'max_iter': [1000000]},\n",
    "    {'kernel': ['poly'],   'C': [1, 10, 100, 1000], 'gamma': [-1],                          'degree': [2, 3, 4, 5], 'max_iter': [1000000]}\n",
    "]"
   ]
  },
  {
   "cell_type": "code",
   "execution_count": 3,
   "metadata": {},
   "outputs": [
    {
     "data": {
      "application/vnd.jupyter.widget-view+json": {
       "model_id": "75b5b8e6acee4addb9a2e7c596812b2c",
       "version_major": 2,
       "version_minor": 0
      },
      "text/plain": [
       "  0%|          | 0/3 [00:00<?, ?it/s]"
      ]
     },
     "metadata": {},
     "output_type": "display_data"
    },
    {
     "name": "stdout",
     "output_type": "stream",
     "text": [
      "h3: 8 | t:6 | - linear ✓\n",
      "h3: 8 | t:6 | - rbf ✓\n",
      "h3: 8 | t:6 | - poly ✓\n"
     ]
    }
   ],
   "source": [
    "execute_stage(\n",
    "    'first_stage',\n",
    "    SVM_FIRST_STAGE_AVAILABILITY_RESULTS_PATH,\n",
    "    SVM_SECOND_STAGE_AVAILABILITY_RESULTS_PATH,\n",
    "    TUNE_H3_RESOLUTION,\n",
    "    TUNE_TIME_INTERVAL_LENGTH,\n",
    "    all_possible_metas,\n",
    "    get_availability_model_data,\n",
    ")"
   ]
  },
  {
   "cell_type": "code",
   "execution_count": 4,
   "metadata": {},
   "outputs": [
    {
     "data": {
      "text/html": [
       "<div>\n",
       "<style scoped>\n",
       "    .dataframe tbody tr th:only-of-type {\n",
       "        vertical-align: middle;\n",
       "    }\n",
       "\n",
       "    .dataframe tbody tr th {\n",
       "        vertical-align: top;\n",
       "    }\n",
       "\n",
       "    .dataframe thead th {\n",
       "        text-align: right;\n",
       "    }\n",
       "</style>\n",
       "<table border=\"1\" class=\"dataframe\">\n",
       "  <thead>\n",
       "    <tr style=\"text-align: right;\">\n",
       "      <th></th>\n",
       "      <th>iter</th>\n",
       "      <th>n_resources</th>\n",
       "      <th>mean_fit_time</th>\n",
       "      <th>std_fit_time</th>\n",
       "      <th>mean_score_time</th>\n",
       "      <th>std_score_time</th>\n",
       "      <th>param_C</th>\n",
       "      <th>param_kernel</th>\n",
       "      <th>param_max_iter</th>\n",
       "      <th>params</th>\n",
       "      <th>...</th>\n",
       "      <th>split2_train_score</th>\n",
       "      <th>split3_train_score</th>\n",
       "      <th>split4_train_score</th>\n",
       "      <th>mean_train_score</th>\n",
       "      <th>std_train_score</th>\n",
       "      <th>n_iter</th>\n",
       "      <th>h3_res</th>\n",
       "      <th>time_interval_length</th>\n",
       "      <th>param_gamma</th>\n",
       "      <th>param_degree</th>\n",
       "    </tr>\n",
       "  </thead>\n",
       "  <tbody>\n",
       "    <tr>\n",
       "      <th>28</th>\n",
       "      <td>2</td>\n",
       "      <td>29997</td>\n",
       "      <td>463.720999</td>\n",
       "      <td>2.45666</td>\n",
       "      <td>49.799192</td>\n",
       "      <td>0.942428</td>\n",
       "      <td>10.0</td>\n",
       "      <td>rbf</td>\n",
       "      <td>1000000</td>\n",
       "      <td>{'C': 10.0, 'degree': None, 'gamma': 0.01, 'ke...</td>\n",
       "      <td>...</td>\n",
       "      <td>-2.821923</td>\n",
       "      <td>-2.886414</td>\n",
       "      <td>-2.811045</td>\n",
       "      <td>-2.827429</td>\n",
       "      <td>0.033092</td>\n",
       "      <td>0</td>\n",
       "      <td>8</td>\n",
       "      <td>6</td>\n",
       "      <td>0.010</td>\n",
       "      <td>NaN</td>\n",
       "    </tr>\n",
       "    <tr>\n",
       "      <th>29</th>\n",
       "      <td>2</td>\n",
       "      <td>29997</td>\n",
       "      <td>540.428711</td>\n",
       "      <td>8.05105</td>\n",
       "      <td>71.109758</td>\n",
       "      <td>2.550832</td>\n",
       "      <td>100.0</td>\n",
       "      <td>rbf</td>\n",
       "      <td>1000000</td>\n",
       "      <td>{'C': 100.0, 'degree': None, 'gamma': 0.001, '...</td>\n",
       "      <td>...</td>\n",
       "      <td>-3.781805</td>\n",
       "      <td>-3.847124</td>\n",
       "      <td>-3.746924</td>\n",
       "      <td>-3.780303</td>\n",
       "      <td>0.039700</td>\n",
       "      <td>0</td>\n",
       "      <td>8</td>\n",
       "      <td>6</td>\n",
       "      <td>0.001</td>\n",
       "      <td>NaN</td>\n",
       "    </tr>\n",
       "  </tbody>\n",
       "</table>\n",
       "<p>2 rows × 30 columns</p>\n",
       "</div>"
      ],
      "text/plain": [
       "    iter  n_resources  mean_fit_time  std_fit_time  mean_score_time  \\\n",
       "28     2        29997     463.720999       2.45666        49.799192   \n",
       "29     2        29997     540.428711       8.05105        71.109758   \n",
       "\n",
       "    std_score_time  param_C param_kernel  param_max_iter  \\\n",
       "28        0.942428     10.0          rbf         1000000   \n",
       "29        2.550832    100.0          rbf         1000000   \n",
       "\n",
       "                                               params  ...  \\\n",
       "28  {'C': 10.0, 'degree': None, 'gamma': 0.01, 'ke...  ...   \n",
       "29  {'C': 100.0, 'degree': None, 'gamma': 0.001, '...  ...   \n",
       "\n",
       "    split2_train_score  split3_train_score  split4_train_score  \\\n",
       "28           -2.821923           -2.886414           -2.811045   \n",
       "29           -3.781805           -3.847124           -3.746924   \n",
       "\n",
       "    mean_train_score  std_train_score  n_iter  h3_res  time_interval_length  \\\n",
       "28         -2.827429         0.033092       0       8                     6   \n",
       "29         -3.780303         0.039700       0       8                     6   \n",
       "\n",
       "    param_gamma  param_degree  \n",
       "28        0.010           NaN  \n",
       "29        0.001           NaN  \n",
       "\n",
       "[2 rows x 30 columns]"
      ]
     },
     "execution_count": 4,
     "metadata": {},
     "output_type": "execute_result"
    }
   ],
   "source": [
    "results = pd.read_parquet(SVM_FIRST_STAGE_AVAILABILITY_RESULTS_PATH)\n",
    "results.sort_values(by=['mean_test_score'], ascending=False).head(2)"
   ]
  },
  {
   "cell_type": "code",
   "execution_count": 5,
   "metadata": {},
   "outputs": [
    {
     "data": {
      "text/html": [
       "<div>\n",
       "<style scoped>\n",
       "    .dataframe tbody tr th:only-of-type {\n",
       "        vertical-align: middle;\n",
       "    }\n",
       "\n",
       "    .dataframe tbody tr th {\n",
       "        vertical-align: top;\n",
       "    }\n",
       "\n",
       "    .dataframe thead th {\n",
       "        text-align: right;\n",
       "    }\n",
       "</style>\n",
       "<table border=\"1\" class=\"dataframe\">\n",
       "  <thead>\n",
       "    <tr style=\"text-align: right;\">\n",
       "      <th></th>\n",
       "      <th>mean_test_score</th>\n",
       "      <th>param_C</th>\n",
       "      <th>param_degree</th>\n",
       "      <th>param_gamma</th>\n",
       "    </tr>\n",
       "    <tr>\n",
       "      <th>param_kernel</th>\n",
       "      <th></th>\n",
       "      <th></th>\n",
       "      <th></th>\n",
       "      <th></th>\n",
       "    </tr>\n",
       "  </thead>\n",
       "  <tbody>\n",
       "    <tr>\n",
       "      <th>linear</th>\n",
       "      <td>-9.184871</td>\n",
       "      <td>0.1</td>\n",
       "      <td>NaN</td>\n",
       "      <td>NaN</td>\n",
       "    </tr>\n",
       "    <tr>\n",
       "      <th>poly</th>\n",
       "      <td>-5.031879</td>\n",
       "      <td>10.0</td>\n",
       "      <td>5.0</td>\n",
       "      <td>NaN</td>\n",
       "    </tr>\n",
       "    <tr>\n",
       "      <th>rbf</th>\n",
       "      <td>-4.852768</td>\n",
       "      <td>10.0</td>\n",
       "      <td>NaN</td>\n",
       "      <td>0.01</td>\n",
       "    </tr>\n",
       "  </tbody>\n",
       "</table>\n",
       "</div>"
      ],
      "text/plain": [
       "              mean_test_score  param_C  param_degree  param_gamma\n",
       "param_kernel                                                     \n",
       "linear              -9.184871      0.1           NaN          NaN\n",
       "poly                -5.031879     10.0           5.0          NaN\n",
       "rbf                 -4.852768     10.0           NaN         0.01"
      ]
     },
     "execution_count": 5,
     "metadata": {},
     "output_type": "execute_result"
    }
   ],
   "source": [
    "results.sort_values(by='mean_test_score', ascending=False).groupby('param_kernel')[[\n",
    "    'mean_test_score',\n",
    "    'param_C',\n",
    "    'param_degree',\n",
    "    'param_gamma',\n",
    "]].first()"
   ]
  },
  {
   "cell_type": "code",
   "execution_count": 6,
   "metadata": {},
   "outputs": [
    {
     "data": {
      "text/plain": [
       "param_kernel\n",
       "linear    42.648204\n",
       "poly      28.595425\n",
       "rbf       28.346588\n",
       "Name: mean_fit_time, dtype: float64"
      ]
     },
     "execution_count": 6,
     "metadata": {},
     "output_type": "execute_result"
    }
   ],
   "source": [
    "results.groupby('param_kernel').mean_fit_time.sum() / 60"
   ]
  },
  {
   "cell_type": "code",
   "execution_count": 9,
   "metadata": {},
   "outputs": [
    {
     "data": {
      "text/plain": [
       "[(7, 1), (7, 2), (7, 6), (7, 24), (8, 1), (8, 2), (8, 6), (8, 24), (9, 24)]"
      ]
     },
     "execution_count": 9,
     "metadata": {},
     "output_type": "execute_result"
    }
   ],
   "source": [
    "resolutions = list(product(PREDICTIVE_H3_RESOLUTIONS, CALC_TIME_INTERVAL_LENGTHS))\n",
    "resolutions = resolutions + (ADDITIONAL_PREDICTIVE_RESOLUTIONS)\n",
    "resolutions"
   ]
  },
  {
   "cell_type": "code",
   "execution_count": 8,
   "metadata": {},
   "outputs": [
    {
     "data": {
      "application/vnd.jupyter.widget-view+json": {
       "model_id": "cd770f12b3914eb39c1c4c083bbab2a9",
       "version_major": 2,
       "version_minor": 0
      },
      "text/plain": [
       "  0%|          | 0/9 [00:00<?, ?it/s]"
      ]
     },
     "metadata": {},
     "output_type": "display_data"
    },
    {
     "name": "stderr",
     "output_type": "stream",
     "text": [
      "c:\\Dev\\miniconda\\envs\\AAA_MAGMA\\lib\\site-packages\\sklearn\\svm\\_base.py:301: ConvergenceWarning: Solver terminated early (max_iter=1000000).  Consider pre-processing your data with StandardScaler or MinMaxScaler.\n",
      "  warnings.warn(\n",
      "c:\\Dev\\miniconda\\envs\\AAA_MAGMA\\lib\\site-packages\\sklearn\\svm\\_base.py:301: ConvergenceWarning: Solver terminated early (max_iter=1000000).  Consider pre-processing your data with StandardScaler or MinMaxScaler.\n",
      "  warnings.warn(\n",
      "c:\\Dev\\miniconda\\envs\\AAA_MAGMA\\lib\\site-packages\\sklearn\\svm\\_base.py:301: ConvergenceWarning: Solver terminated early (max_iter=1000000).  Consider pre-processing your data with StandardScaler or MinMaxScaler.\n",
      "  warnings.warn(\n",
      "c:\\Dev\\miniconda\\envs\\AAA_MAGMA\\lib\\site-packages\\sklearn\\svm\\_base.py:301: ConvergenceWarning: Solver terminated early (max_iter=1000000).  Consider pre-processing your data with StandardScaler or MinMaxScaler.\n",
      "  warnings.warn(\n"
     ]
    }
   ],
   "source": [
    "for h3_res, time_interval_length in tqdm(resolutions):\n",
    "    execute_stage(\n",
    "        'second_stage',\n",
    "        SVM_FIRST_STAGE_AVAILABILITY_RESULTS_PATH,\n",
    "        SVM_SECOND_STAGE_AVAILABILITY_RESULTS_PATH,\n",
    "        h3_res,\n",
    "        time_interval_length,\n",
    "        all_possible_metas,\n",
    "        get_availability_model_data,\n",
    "    )"
   ]
  },
  {
   "cell_type": "code",
   "execution_count": 2,
   "metadata": {},
   "outputs": [
    {
     "data": {
      "text/html": [
       "<div>\n",
       "<style scoped>\n",
       "    .dataframe tbody tr th:only-of-type {\n",
       "        vertical-align: middle;\n",
       "    }\n",
       "\n",
       "    .dataframe tbody tr th {\n",
       "        vertical-align: top;\n",
       "    }\n",
       "\n",
       "    .dataframe thead th {\n",
       "        text-align: right;\n",
       "    }\n",
       "</style>\n",
       "<table border=\"1\" class=\"dataframe\">\n",
       "  <thead>\n",
       "    <tr style=\"text-align: right;\">\n",
       "      <th></th>\n",
       "      <th>iter</th>\n",
       "      <th>n_resources</th>\n",
       "      <th>mean_fit_time</th>\n",
       "      <th>std_fit_time</th>\n",
       "      <th>mean_score_time</th>\n",
       "      <th>std_score_time</th>\n",
       "      <th>param_C</th>\n",
       "      <th>param_degree</th>\n",
       "      <th>param_kernel</th>\n",
       "      <th>param_max_iter</th>\n",
       "      <th>...</th>\n",
       "      <th>std_train_score</th>\n",
       "      <th>n_iter</th>\n",
       "      <th>h3_res</th>\n",
       "      <th>time_interval_length</th>\n",
       "      <th>test_mse</th>\n",
       "      <th>test_rmse</th>\n",
       "      <th>test_mae</th>\n",
       "      <th>test_non_zero_mape</th>\n",
       "      <th>test_zero_accuracy</th>\n",
       "      <th>param_gamma</th>\n",
       "    </tr>\n",
       "  </thead>\n",
       "  <tbody>\n",
       "    <tr>\n",
       "      <th>4</th>\n",
       "      <td>0</td>\n",
       "      <td>30000</td>\n",
       "      <td>310.643826</td>\n",
       "      <td>13.076152</td>\n",
       "      <td>48.003316</td>\n",
       "      <td>16.295280</td>\n",
       "      <td>1000.0</td>\n",
       "      <td>3.0</td>\n",
       "      <td>poly</td>\n",
       "      <td>1000000</td>\n",
       "      <td>...</td>\n",
       "      <td>0.000426</td>\n",
       "      <td>340381</td>\n",
       "      <td>8</td>\n",
       "      <td>1</td>\n",
       "      <td>5.296453</td>\n",
       "      <td>2.301402</td>\n",
       "      <td>1.119507</td>\n",
       "      <td>0.561435</td>\n",
       "      <td>0.771392</td>\n",
       "      <td>NaN</td>\n",
       "    </tr>\n",
       "    <tr>\n",
       "      <th>2</th>\n",
       "      <td>0</td>\n",
       "      <td>30000</td>\n",
       "      <td>523.972428</td>\n",
       "      <td>2.821114</td>\n",
       "      <td>19.061841</td>\n",
       "      <td>3.267338</td>\n",
       "      <td>1000.0</td>\n",
       "      <td>3.0</td>\n",
       "      <td>poly</td>\n",
       "      <td>1000000</td>\n",
       "      <td>...</td>\n",
       "      <td>0.049703</td>\n",
       "      <td>1000000</td>\n",
       "      <td>7</td>\n",
       "      <td>6</td>\n",
       "      <td>44.422623</td>\n",
       "      <td>6.665030</td>\n",
       "      <td>2.735564</td>\n",
       "      <td>0.347723</td>\n",
       "      <td>0.749638</td>\n",
       "      <td>NaN</td>\n",
       "    </tr>\n",
       "    <tr>\n",
       "      <th>0</th>\n",
       "      <td>0</td>\n",
       "      <td>30000</td>\n",
       "      <td>577.687461</td>\n",
       "      <td>3.801555</td>\n",
       "      <td>21.593391</td>\n",
       "      <td>3.182233</td>\n",
       "      <td>1000.0</td>\n",
       "      <td>3.0</td>\n",
       "      <td>poly</td>\n",
       "      <td>1000000</td>\n",
       "      <td>...</td>\n",
       "      <td>0.097518</td>\n",
       "      <td>1000000</td>\n",
       "      <td>7</td>\n",
       "      <td>1</td>\n",
       "      <td>83.411424</td>\n",
       "      <td>9.132985</td>\n",
       "      <td>5.459168</td>\n",
       "      <td>0.584643</td>\n",
       "      <td>0.430922</td>\n",
       "      <td>NaN</td>\n",
       "    </tr>\n",
       "    <tr>\n",
       "      <th>1</th>\n",
       "      <td>0</td>\n",
       "      <td>30000</td>\n",
       "      <td>561.610503</td>\n",
       "      <td>7.675842</td>\n",
       "      <td>20.243817</td>\n",
       "      <td>5.246130</td>\n",
       "      <td>1000.0</td>\n",
       "      <td>3.0</td>\n",
       "      <td>poly</td>\n",
       "      <td>1000000</td>\n",
       "      <td>...</td>\n",
       "      <td>0.634361</td>\n",
       "      <td>1000000</td>\n",
       "      <td>7</td>\n",
       "      <td>2</td>\n",
       "      <td>60.470063</td>\n",
       "      <td>7.776250</td>\n",
       "      <td>3.757289</td>\n",
       "      <td>0.464416</td>\n",
       "      <td>0.515026</td>\n",
       "      <td>NaN</td>\n",
       "    </tr>\n",
       "    <tr>\n",
       "      <th>3</th>\n",
       "      <td>0</td>\n",
       "      <td>9855</td>\n",
       "      <td>114.029170</td>\n",
       "      <td>0.765888</td>\n",
       "      <td>1.757612</td>\n",
       "      <td>0.414131</td>\n",
       "      <td>1000.0</td>\n",
       "      <td>3.0</td>\n",
       "      <td>poly</td>\n",
       "      <td>1000000</td>\n",
       "      <td>...</td>\n",
       "      <td>0.550676</td>\n",
       "      <td>1000000</td>\n",
       "      <td>7</td>\n",
       "      <td>24</td>\n",
       "      <td>93.021669</td>\n",
       "      <td>9.644774</td>\n",
       "      <td>4.488505</td>\n",
       "      <td>0.336382</td>\n",
       "      <td>0.574531</td>\n",
       "      <td>NaN</td>\n",
       "    </tr>\n",
       "  </tbody>\n",
       "</table>\n",
       "<p>5 rows × 35 columns</p>\n",
       "</div>"
      ],
      "text/plain": [
       "   iter  n_resources  mean_fit_time  std_fit_time  mean_score_time  \\\n",
       "4     0        30000     310.643826     13.076152        48.003316   \n",
       "2     0        30000     523.972428      2.821114        19.061841   \n",
       "0     0        30000     577.687461      3.801555        21.593391   \n",
       "1     0        30000     561.610503      7.675842        20.243817   \n",
       "3     0         9855     114.029170      0.765888         1.757612   \n",
       "\n",
       "   std_score_time  param_C  param_degree param_kernel  param_max_iter  ...  \\\n",
       "4       16.295280   1000.0           3.0         poly         1000000  ...   \n",
       "2        3.267338   1000.0           3.0         poly         1000000  ...   \n",
       "0        3.182233   1000.0           3.0         poly         1000000  ...   \n",
       "1        5.246130   1000.0           3.0         poly         1000000  ...   \n",
       "3        0.414131   1000.0           3.0         poly         1000000  ...   \n",
       "\n",
       "  std_train_score   n_iter  h3_res  time_interval_length   test_mse  \\\n",
       "4        0.000426   340381       8                     1   5.296453   \n",
       "2        0.049703  1000000       7                     6  44.422623   \n",
       "0        0.097518  1000000       7                     1  83.411424   \n",
       "1        0.634361  1000000       7                     2  60.470063   \n",
       "3        0.550676  1000000       7                    24  93.021669   \n",
       "\n",
       "   test_rmse  test_mae  test_non_zero_mape  test_zero_accuracy  param_gamma  \n",
       "4   2.301402  1.119507            0.561435            0.771392          NaN  \n",
       "2   6.665030  2.735564            0.347723            0.749638          NaN  \n",
       "0   9.132985  5.459168            0.584643            0.430922          NaN  \n",
       "1   7.776250  3.757289            0.464416            0.515026          NaN  \n",
       "3   9.644774  4.488505            0.336382            0.574531          NaN  \n",
       "\n",
       "[5 rows x 35 columns]"
      ]
     },
     "execution_count": 2,
     "metadata": {},
     "output_type": "execute_result"
    }
   ],
   "source": [
    "results = pd.read_parquet(SVM_SECOND_STAGE_AVAILABILITY_RESULTS_PATH)\n",
    "results.sort_values(by=['mean_test_score'], ascending=False)"
   ]
  },
  {
   "cell_type": "code",
   "execution_count": null,
   "metadata": {},
   "outputs": [],
   "source": [
    "results_first_stage = pd.read_parquet(SVM_FIRST_STAGE_AVAILABILITY_RESULTS_PATH)\n",
    "results_second_stage = pd.read_parquet(SVM_SECOND_STAGE_AVAILABILITY_RESULTS_PATH)\n",
    "results_first_stage.to_parquet(os.path.join(REPO_DATA_DIR_PATH, f\"{str(SVM_MAX_TRAIN_SET_SIZE)}_svm_first_stage_availability_results.parquet\"))\n",
    "results_second_stage.to_parquet(os.path.join(REPO_DATA_DIR_PATH, f\"{str(SVM_MAX_TRAIN_SET_SIZE)}_svm_second_stage_availability_results.parquet\"))"
   ]
  },
  {
   "cell_type": "code",
   "execution_count": 15,
   "metadata": {},
   "outputs": [
    {
     "data": {
      "application/vnd.jupyter.widget-view+json": {
       "model_id": "18ce135f8f024950a4c66e7e465730aa",
       "version_major": 2,
       "version_minor": 0
      },
      "text/plain": [
       "  0%|          | 0/9 [00:00<?, ?it/s]"
      ]
     },
     "metadata": {},
     "output_type": "display_data"
    },
    {
     "name": "stdout",
     "output_type": "stream",
     "text": [
      "7\n",
      "1\n",
      "471798\n",
      "7\n",
      "2\n",
      "235926\n",
      "7\n",
      "6\n",
      "78678\n",
      "7\n",
      "24\n",
      "19710\n",
      "8\n",
      "1\n",
      "2035721\n",
      "8\n",
      "2\n",
      "1017977\n",
      "8\n",
      "6\n",
      "339481\n",
      "8\n",
      "24\n",
      "85045\n",
      "9\n",
      "24\n",
      "263895\n"
     ]
    }
   ],
   "source": [
    "for h3_res, time_interval_length in tqdm(resolutions):\n",
    "    model_data_train, model_data_test = get_availability_model_data(h3_res, time_interval_length)\n",
    "    print(f\"h3_res: {h3_res}; time_interval_length: {time_interval_length}; data size: {len(model_data_train) + len(model_data_test)}\")"
   ]
  },
  {
   "cell_type": "code",
   "execution_count": 16,
   "metadata": {},
   "outputs": [
    {
     "data": {
      "application/vnd.jupyter.widget-view+json": {
       "model_id": "61021dfdc48342c08b6bb1b8f3efa802",
       "version_major": 2,
       "version_minor": 0
      },
      "text/plain": [
       "  0%|          | 0/9 [00:00<?, ?it/s]"
      ]
     },
     "metadata": {},
     "output_type": "display_data"
    },
    {
     "name": "stdout",
     "output_type": "stream",
     "text": [
      "h3_res: 7; time_interval_length: 1; data size: 252834\n",
      "h3_res: 7; time_interval_length: 2; data size: 185117\n",
      "h3_res: 7; time_interval_length: 6; data size: 105181\n",
      "h3_res: 7; time_interval_length: 24; data size: 47421\n",
      "h3_res: 8; time_interval_length: 1; data size: 483664\n",
      "h3_res: 8; time_interval_length: 2; data size: 449030\n",
      "h3_res: 8; time_interval_length: 6; data size: 373066\n",
      "h3_res: 8; time_interval_length: 24; data size: 259991\n",
      "h3_res: 9; time_interval_length: 24; data size: 474837\n"
     ]
    }
   ],
   "source": [
    "for h3_res, time_interval_length in tqdm(resolutions):\n",
    "    model_data_train, model_data_test = get_demand_model_data(h3_res, time_interval_length)\n",
    "    print(f\"h3_res: {h3_res}; time_interval_length: {time_interval_length}; data size: {len(model_data_train) + len(model_data_test)}\")"
   ]
  },
  {
   "cell_type": "code",
   "execution_count": null,
   "metadata": {},
   "outputs": [],
   "source": []
  }
 ],
 "metadata": {
  "kernelspec": {
   "display_name": "Python 3.9.13 ('AAA_MAGMA')",
   "language": "python",
   "name": "python3"
  },
  "language_info": {
   "codemirror_mode": {
    "name": "ipython",
    "version": 3
   },
   "file_extension": ".py",
   "mimetype": "text/x-python",
   "name": "python",
   "nbconvert_exporter": "python",
   "pygments_lexer": "ipython3",
   "version": "3.9.13"
  },
  "orig_nbformat": 4,
  "vscode": {
   "interpreter": {
    "hash": "480189c8b893ba0e665d676e4d8fbaa7064789f8cb0c8dbdf4a412ac1da4cf12"
   }
  }
 },
 "nbformat": 4,
 "nbformat_minor": 2
}
