{
 "cells": [
  {
   "cell_type": "code",
   "execution_count": 1,
   "metadata": {},
   "outputs": [],
   "source": [
    "import pandas as pd\n",
    "import numpy as np"
   ]
  },
  {
   "cell_type": "code",
   "execution_count": 2,
   "metadata": {},
   "outputs": [],
   "source": [
    "import sys, os\n",
    "\n",
    "sys.path.append(os.path.abspath('..'))\n",
    "%load_ext autoreload\n",
    "%autoreload 2\n",
    "from modules.config import *"
   ]
  },
  {
   "cell_type": "code",
   "execution_count": 3,
   "metadata": {},
   "outputs": [
    {
     "data": {
      "text/html": [
       "<div>\n",
       "<style scoped>\n",
       "    .dataframe tbody tr th:only-of-type {\n",
       "        vertical-align: middle;\n",
       "    }\n",
       "\n",
       "    .dataframe tbody tr th {\n",
       "        vertical-align: top;\n",
       "    }\n",
       "\n",
       "    .dataframe thead th {\n",
       "        text-align: right;\n",
       "    }\n",
       "</style>\n",
       "<table border=\"1\" class=\"dataframe\">\n",
       "  <thead>\n",
       "    <tr style=\"text-align: right;\">\n",
       "      <th></th>\n",
       "      <th>datetime_start_floored</th>\n",
       "      <th>start_hex_id</th>\n",
       "      <th>end_hex_id</th>\n",
       "      <th>demand</th>\n",
       "      <th>h3_res</th>\n",
       "      <th>time_interval_length</th>\n",
       "    </tr>\n",
       "  </thead>\n",
       "  <tbody>\n",
       "    <tr>\n",
       "      <th>0</th>\n",
       "      <td>2019-01-20</td>\n",
       "      <td>871f1a164ffffff</td>\n",
       "      <td>871f1a164ffffff</td>\n",
       "      <td>1</td>\n",
       "      <td>7</td>\n",
       "      <td>1</td>\n",
       "    </tr>\n",
       "    <tr>\n",
       "      <th>1</th>\n",
       "      <td>2019-01-20</td>\n",
       "      <td>871f1a164ffffff</td>\n",
       "      <td>871f1a8c8ffffff</td>\n",
       "      <td>2</td>\n",
       "      <td>7</td>\n",
       "      <td>1</td>\n",
       "    </tr>\n",
       "  </tbody>\n",
       "</table>\n",
       "</div>"
      ],
      "text/plain": [
       "  datetime_start_floored     start_hex_id       end_hex_id  demand  h3_res  \\\n",
       "0             2019-01-20  871f1a164ffffff  871f1a164ffffff       1       7   \n",
       "1             2019-01-20  871f1a164ffffff  871f1a8c8ffffff       2       7   \n",
       "\n",
       "   time_interval_length  \n",
       "0                     1  \n",
       "1                     1  "
      ]
     },
     "execution_count": 3,
     "metadata": {},
     "output_type": "execute_result"
    }
   ],
   "source": [
    "# import aggregated trips and reset index\n",
    "trips_aggregated_df = pd.read_parquet(TRIPS_GROUPED_SPATIO_TEMPORAL_PATH)\n",
    "trips_aggregated_df.head(2)"
   ]
  },
  {
   "cell_type": "code",
   "execution_count": 4,
   "metadata": {},
   "outputs": [
    {
     "name": "stdout",
     "output_type": "stream",
     "text": [
      "[7 8]\n",
      "2161033\n"
     ]
    }
   ],
   "source": [
    "trips_aggregated_df = trips_aggregated_df[trips_aggregated_df['h3_res'].apply(lambda x: x in PREDICTIVE_H3_RESOLUTIONS)]\n",
    "print(trips_aggregated_df.h3_res.unique())\n",
    "print(trips_aggregated_df.index.size)"
   ]
  },
  {
   "cell_type": "code",
   "execution_count": 5,
   "metadata": {},
   "outputs": [
    {
     "data": {
      "text/html": [
       "<div>\n",
       "<style scoped>\n",
       "    .dataframe tbody tr th:only-of-type {\n",
       "        vertical-align: middle;\n",
       "    }\n",
       "\n",
       "    .dataframe tbody tr th {\n",
       "        vertical-align: top;\n",
       "    }\n",
       "\n",
       "    .dataframe thead th {\n",
       "        text-align: right;\n",
       "    }\n",
       "</style>\n",
       "<table border=\"1\" class=\"dataframe\">\n",
       "  <thead>\n",
       "    <tr style=\"text-align: right;\">\n",
       "      <th></th>\n",
       "      <th>start_hex_id</th>\n",
       "      <th>end_hex_id</th>\n",
       "      <th>demand</th>\n",
       "      <th>h3_res</th>\n",
       "      <th>time_interval_length</th>\n",
       "      <th>hour</th>\n",
       "      <th>day</th>\n",
       "      <th>weekday</th>\n",
       "      <th>month</th>\n",
       "    </tr>\n",
       "  </thead>\n",
       "  <tbody>\n",
       "    <tr>\n",
       "      <th>0</th>\n",
       "      <td>871f1a164ffffff</td>\n",
       "      <td>871f1a164ffffff</td>\n",
       "      <td>1</td>\n",
       "      <td>7</td>\n",
       "      <td>1</td>\n",
       "      <td>0</td>\n",
       "      <td>20</td>\n",
       "      <td>6</td>\n",
       "      <td>1</td>\n",
       "    </tr>\n",
       "    <tr>\n",
       "      <th>1</th>\n",
       "      <td>871f1a164ffffff</td>\n",
       "      <td>871f1a8c8ffffff</td>\n",
       "      <td>2</td>\n",
       "      <td>7</td>\n",
       "      <td>1</td>\n",
       "      <td>0</td>\n",
       "      <td>20</td>\n",
       "      <td>6</td>\n",
       "      <td>1</td>\n",
       "    </tr>\n",
       "  </tbody>\n",
       "</table>\n",
       "</div>"
      ],
      "text/plain": [
       "      start_hex_id       end_hex_id  demand  h3_res  time_interval_length  \\\n",
       "0  871f1a164ffffff  871f1a164ffffff       1       7                     1   \n",
       "1  871f1a164ffffff  871f1a8c8ffffff       2       7                     1   \n",
       "\n",
       "   hour  day  weekday  month  \n",
       "0     0   20        6      1  \n",
       "1     0   20        6      1  "
      ]
     },
     "execution_count": 5,
     "metadata": {},
     "output_type": "execute_result"
    }
   ],
   "source": [
    "# add time features\n",
    "trips_aggregated_df['hour'] = trips_aggregated_df.datetime_start_floored.dt.hour\n",
    "trips_aggregated_df['day'] = trips_aggregated_df.datetime_start_floored.dt.day\n",
    "trips_aggregated_df['weekday'] = trips_aggregated_df.datetime_start_floored.dt.weekday\n",
    "trips_aggregated_df['month'] = trips_aggregated_df.datetime_start_floored.dt.month\n",
    "trips_aggregated_df = trips_aggregated_df.drop(columns=['datetime_start_floored'])\n",
    "trips_aggregated_df.head(2)"
   ]
  },
  {
   "cell_type": "code",
   "execution_count": 7,
   "metadata": {},
   "outputs": [
    {
     "ename": "MemoryError",
     "evalue": "Unable to allocate 22.2 GiB for an array with shape (17, 174903069) and data type int64",
     "output_type": "error",
     "traceback": [
      "\u001b[1;31m---------------------------------------------------------------------------\u001b[0m",
      "\u001b[1;31mMemoryError\u001b[0m                               Traceback (most recent call last)",
      "\u001b[1;32mc:\\Dev\\aaa-2022-magma\\04_predictive_analysis\\00_feature_generation.ipynb Cell 6'\u001b[0m in \u001b[0;36m<cell line: 4>\u001b[1;34m()\u001b[0m\n\u001b[0;32m      <a href='vscode-notebook-cell:/c%3A/Dev/aaa-2022-magma/04_predictive_analysis/00_feature_generation.ipynb#ch0000004?line=0'>1</a>\u001b[0m \u001b[39m# add poi data on start and end hexagon of the trip\u001b[39;00m\n\u001b[0;32m      <a href='vscode-notebook-cell:/c%3A/Dev/aaa-2022-magma/04_predictive_analysis/00_feature_generation.ipynb#ch0000004?line=1'>2</a>\u001b[0m hexagons_with_pois_df \u001b[39m=\u001b[39m pd\u001b[39m.\u001b[39mread_parquet(HEXAGON_WITH_POIS_PATH)\n\u001b[1;32m----> <a href='vscode-notebook-cell:/c%3A/Dev/aaa-2022-magma/04_predictive_analysis/00_feature_generation.ipynb#ch0000004?line=3'>4</a>\u001b[0m trips_aggregated_df \u001b[39m=\u001b[39m pd\u001b[39m.\u001b[39;49mmerge(trips_aggregated_df, hexagons_with_pois_df, left_on\u001b[39m=\u001b[39;49m\u001b[39m\"\u001b[39;49m\u001b[39mstart_hex_id\u001b[39;49m\u001b[39m\"\u001b[39;49m, right_on\u001b[39m=\u001b[39;49m\u001b[39m\"\u001b[39;49m\u001b[39mhex\u001b[39;49m\u001b[39m\"\u001b[39;49m)\n\u001b[0;32m      <a href='vscode-notebook-cell:/c%3A/Dev/aaa-2022-magma/04_predictive_analysis/00_feature_generation.ipynb#ch0000004?line=4'>5</a>\u001b[0m trips_aggregated_df \u001b[39m=\u001b[39m trips_aggregated_df\u001b[39m.\u001b[39mdrop(columns\u001b[39m=\u001b[39m{\u001b[39m\"\u001b[39m\u001b[39mhex\u001b[39m\u001b[39m\"\u001b[39m, \u001b[39m\"\u001b[39m\u001b[39mhex_and_neighbors\u001b[39m\u001b[39m\"\u001b[39m, \u001b[39m\"\u001b[39m\u001b[39mh3_res_x\u001b[39m\u001b[39m\"\u001b[39m})\n\u001b[0;32m      <a href='vscode-notebook-cell:/c%3A/Dev/aaa-2022-magma/04_predictive_analysis/00_feature_generation.ipynb#ch0000004?line=6'>7</a>\u001b[0m \u001b[39m# add '_start' suffix to poi columns\u001b[39;00m\n",
      "File \u001b[1;32mc:\\Users\\kuian\\miniconda3\\envs\\AAA\\lib\\site-packages\\pandas\\core\\reshape\\merge.py:122\u001b[0m, in \u001b[0;36mmerge\u001b[1;34m(left, right, how, on, left_on, right_on, left_index, right_index, sort, suffixes, copy, indicator, validate)\u001b[0m\n\u001b[0;32m     <a href='file:///c%3A/Users/kuian/miniconda3/envs/AAA/lib/site-packages/pandas/core/reshape/merge.py?line=89'>90</a>\u001b[0m \u001b[39m@Substitution\u001b[39m(\u001b[39m\"\u001b[39m\u001b[39m\\n\u001b[39;00m\u001b[39mleft : DataFrame or named Series\u001b[39m\u001b[39m\"\u001b[39m)\n\u001b[0;32m     <a href='file:///c%3A/Users/kuian/miniconda3/envs/AAA/lib/site-packages/pandas/core/reshape/merge.py?line=90'>91</a>\u001b[0m \u001b[39m@Appender\u001b[39m(_merge_doc, indents\u001b[39m=\u001b[39m\u001b[39m0\u001b[39m)\n\u001b[0;32m     <a href='file:///c%3A/Users/kuian/miniconda3/envs/AAA/lib/site-packages/pandas/core/reshape/merge.py?line=91'>92</a>\u001b[0m \u001b[39mdef\u001b[39;00m \u001b[39mmerge\u001b[39m(\n\u001b[1;32m   (...)\u001b[0m\n\u001b[0;32m    <a href='file:///c%3A/Users/kuian/miniconda3/envs/AAA/lib/site-packages/pandas/core/reshape/merge.py?line=104'>105</a>\u001b[0m     validate: \u001b[39mstr\u001b[39m \u001b[39m|\u001b[39m \u001b[39mNone\u001b[39;00m \u001b[39m=\u001b[39m \u001b[39mNone\u001b[39;00m,\n\u001b[0;32m    <a href='file:///c%3A/Users/kuian/miniconda3/envs/AAA/lib/site-packages/pandas/core/reshape/merge.py?line=105'>106</a>\u001b[0m ) \u001b[39m-\u001b[39m\u001b[39m>\u001b[39m DataFrame:\n\u001b[0;32m    <a href='file:///c%3A/Users/kuian/miniconda3/envs/AAA/lib/site-packages/pandas/core/reshape/merge.py?line=106'>107</a>\u001b[0m     op \u001b[39m=\u001b[39m _MergeOperation(\n\u001b[0;32m    <a href='file:///c%3A/Users/kuian/miniconda3/envs/AAA/lib/site-packages/pandas/core/reshape/merge.py?line=107'>108</a>\u001b[0m         left,\n\u001b[0;32m    <a href='file:///c%3A/Users/kuian/miniconda3/envs/AAA/lib/site-packages/pandas/core/reshape/merge.py?line=108'>109</a>\u001b[0m         right,\n\u001b[1;32m   (...)\u001b[0m\n\u001b[0;32m    <a href='file:///c%3A/Users/kuian/miniconda3/envs/AAA/lib/site-packages/pandas/core/reshape/merge.py?line=119'>120</a>\u001b[0m         validate\u001b[39m=\u001b[39mvalidate,\n\u001b[0;32m    <a href='file:///c%3A/Users/kuian/miniconda3/envs/AAA/lib/site-packages/pandas/core/reshape/merge.py?line=120'>121</a>\u001b[0m     )\n\u001b[1;32m--> <a href='file:///c%3A/Users/kuian/miniconda3/envs/AAA/lib/site-packages/pandas/core/reshape/merge.py?line=121'>122</a>\u001b[0m     \u001b[39mreturn\u001b[39;00m op\u001b[39m.\u001b[39;49mget_result()\n",
      "File \u001b[1;32mc:\\Users\\kuian\\miniconda3\\envs\\AAA\\lib\\site-packages\\pandas\\core\\reshape\\merge.py:725\u001b[0m, in \u001b[0;36m_MergeOperation.get_result\u001b[1;34m(self)\u001b[0m\n\u001b[0;32m    <a href='file:///c%3A/Users/kuian/miniconda3/envs/AAA/lib/site-packages/pandas/core/reshape/merge.py?line=721'>722</a>\u001b[0m lindexers \u001b[39m=\u001b[39m {\u001b[39m1\u001b[39m: left_indexer} \u001b[39mif\u001b[39;00m left_indexer \u001b[39mis\u001b[39;00m \u001b[39mnot\u001b[39;00m \u001b[39mNone\u001b[39;00m \u001b[39melse\u001b[39;00m {}\n\u001b[0;32m    <a href='file:///c%3A/Users/kuian/miniconda3/envs/AAA/lib/site-packages/pandas/core/reshape/merge.py?line=722'>723</a>\u001b[0m rindexers \u001b[39m=\u001b[39m {\u001b[39m1\u001b[39m: right_indexer} \u001b[39mif\u001b[39;00m right_indexer \u001b[39mis\u001b[39;00m \u001b[39mnot\u001b[39;00m \u001b[39mNone\u001b[39;00m \u001b[39melse\u001b[39;00m {}\n\u001b[1;32m--> <a href='file:///c%3A/Users/kuian/miniconda3/envs/AAA/lib/site-packages/pandas/core/reshape/merge.py?line=724'>725</a>\u001b[0m result_data \u001b[39m=\u001b[39m concatenate_managers(\n\u001b[0;32m    <a href='file:///c%3A/Users/kuian/miniconda3/envs/AAA/lib/site-packages/pandas/core/reshape/merge.py?line=725'>726</a>\u001b[0m     [(\u001b[39mself\u001b[39;49m\u001b[39m.\u001b[39;49mleft\u001b[39m.\u001b[39;49m_mgr, lindexers), (\u001b[39mself\u001b[39;49m\u001b[39m.\u001b[39;49mright\u001b[39m.\u001b[39;49m_mgr, rindexers)],\n\u001b[0;32m    <a href='file:///c%3A/Users/kuian/miniconda3/envs/AAA/lib/site-packages/pandas/core/reshape/merge.py?line=726'>727</a>\u001b[0m     axes\u001b[39m=\u001b[39;49m[llabels\u001b[39m.\u001b[39;49mappend(rlabels), join_index],\n\u001b[0;32m    <a href='file:///c%3A/Users/kuian/miniconda3/envs/AAA/lib/site-packages/pandas/core/reshape/merge.py?line=727'>728</a>\u001b[0m     concat_axis\u001b[39m=\u001b[39;49m\u001b[39m0\u001b[39;49m,\n\u001b[0;32m    <a href='file:///c%3A/Users/kuian/miniconda3/envs/AAA/lib/site-packages/pandas/core/reshape/merge.py?line=728'>729</a>\u001b[0m     copy\u001b[39m=\u001b[39;49m\u001b[39mself\u001b[39;49m\u001b[39m.\u001b[39;49mcopy,\n\u001b[0;32m    <a href='file:///c%3A/Users/kuian/miniconda3/envs/AAA/lib/site-packages/pandas/core/reshape/merge.py?line=729'>730</a>\u001b[0m )\n\u001b[0;32m    <a href='file:///c%3A/Users/kuian/miniconda3/envs/AAA/lib/site-packages/pandas/core/reshape/merge.py?line=731'>732</a>\u001b[0m typ \u001b[39m=\u001b[39m \u001b[39mself\u001b[39m\u001b[39m.\u001b[39mleft\u001b[39m.\u001b[39m_constructor\n\u001b[0;32m    <a href='file:///c%3A/Users/kuian/miniconda3/envs/AAA/lib/site-packages/pandas/core/reshape/merge.py?line=732'>733</a>\u001b[0m result \u001b[39m=\u001b[39m typ(result_data)\u001b[39m.\u001b[39m__finalize__(\u001b[39mself\u001b[39m, method\u001b[39m=\u001b[39m\u001b[39mself\u001b[39m\u001b[39m.\u001b[39m_merge_type)\n",
      "File \u001b[1;32mc:\\Users\\kuian\\miniconda3\\envs\\AAA\\lib\\site-packages\\pandas\\core\\internals\\concat.py:202\u001b[0m, in \u001b[0;36mconcatenate_managers\u001b[1;34m(mgrs_indexers, axes, concat_axis, copy)\u001b[0m\n\u001b[0;32m    <a href='file:///c%3A/Users/kuian/miniconda3/envs/AAA/lib/site-packages/pandas/core/internals/concat.py?line=194'>195</a>\u001b[0m \u001b[39m# Assertions disabled for performance\u001b[39;00m\n\u001b[0;32m    <a href='file:///c%3A/Users/kuian/miniconda3/envs/AAA/lib/site-packages/pandas/core/internals/concat.py?line=195'>196</a>\u001b[0m \u001b[39m# for tup in mgrs_indexers:\u001b[39;00m\n\u001b[0;32m    <a href='file:///c%3A/Users/kuian/miniconda3/envs/AAA/lib/site-packages/pandas/core/internals/concat.py?line=196'>197</a>\u001b[0m \u001b[39m#    # caller is responsible for ensuring this\u001b[39;00m\n\u001b[0;32m    <a href='file:///c%3A/Users/kuian/miniconda3/envs/AAA/lib/site-packages/pandas/core/internals/concat.py?line=197'>198</a>\u001b[0m \u001b[39m#    indexers = tup[1]\u001b[39;00m\n\u001b[0;32m    <a href='file:///c%3A/Users/kuian/miniconda3/envs/AAA/lib/site-packages/pandas/core/internals/concat.py?line=198'>199</a>\u001b[0m \u001b[39m#    assert concat_axis not in indexers\u001b[39;00m\n\u001b[0;32m    <a href='file:///c%3A/Users/kuian/miniconda3/envs/AAA/lib/site-packages/pandas/core/internals/concat.py?line=200'>201</a>\u001b[0m \u001b[39mif\u001b[39;00m concat_axis \u001b[39m==\u001b[39m \u001b[39m0\u001b[39m:\n\u001b[1;32m--> <a href='file:///c%3A/Users/kuian/miniconda3/envs/AAA/lib/site-packages/pandas/core/internals/concat.py?line=201'>202</a>\u001b[0m     \u001b[39mreturn\u001b[39;00m _concat_managers_axis0(mgrs_indexers, axes, copy)\n\u001b[0;32m    <a href='file:///c%3A/Users/kuian/miniconda3/envs/AAA/lib/site-packages/pandas/core/internals/concat.py?line=203'>204</a>\u001b[0m mgrs_indexers \u001b[39m=\u001b[39m _maybe_reindex_columns_na_proxy(axes, mgrs_indexers)\n\u001b[0;32m    <a href='file:///c%3A/Users/kuian/miniconda3/envs/AAA/lib/site-packages/pandas/core/internals/concat.py?line=205'>206</a>\u001b[0m \u001b[39m# Assertion disabled for performance\u001b[39;00m\n\u001b[0;32m    <a href='file:///c%3A/Users/kuian/miniconda3/envs/AAA/lib/site-packages/pandas/core/internals/concat.py?line=206'>207</a>\u001b[0m \u001b[39m# assert all(not x[1] for x in mgrs_indexers)\u001b[39;00m\n",
      "File \u001b[1;32mc:\\Users\\kuian\\miniconda3\\envs\\AAA\\lib\\site-packages\\pandas\\core\\internals\\concat.py:264\u001b[0m, in \u001b[0;36m_concat_managers_axis0\u001b[1;34m(mgrs_indexers, axes, copy)\u001b[0m\n\u001b[0;32m    <a href='file:///c%3A/Users/kuian/miniconda3/envs/AAA/lib/site-packages/pandas/core/internals/concat.py?line=256'>257</a>\u001b[0m \u001b[39m\"\"\"\u001b[39;00m\n\u001b[0;32m    <a href='file:///c%3A/Users/kuian/miniconda3/envs/AAA/lib/site-packages/pandas/core/internals/concat.py?line=257'>258</a>\u001b[0m \u001b[39mconcat_managers specialized to concat_axis=0, with reindexing already\u001b[39;00m\n\u001b[0;32m    <a href='file:///c%3A/Users/kuian/miniconda3/envs/AAA/lib/site-packages/pandas/core/internals/concat.py?line=258'>259</a>\u001b[0m \u001b[39mhaving been done in _maybe_reindex_columns_na_proxy.\u001b[39;00m\n\u001b[0;32m    <a href='file:///c%3A/Users/kuian/miniconda3/envs/AAA/lib/site-packages/pandas/core/internals/concat.py?line=259'>260</a>\u001b[0m \u001b[39m\"\"\"\u001b[39;00m\n\u001b[0;32m    <a href='file:///c%3A/Users/kuian/miniconda3/envs/AAA/lib/site-packages/pandas/core/internals/concat.py?line=260'>261</a>\u001b[0m had_reindexers \u001b[39m=\u001b[39m {\n\u001b[0;32m    <a href='file:///c%3A/Users/kuian/miniconda3/envs/AAA/lib/site-packages/pandas/core/internals/concat.py?line=261'>262</a>\u001b[0m     i: \u001b[39mlen\u001b[39m(mgrs_indexers[i][\u001b[39m1\u001b[39m]) \u001b[39m>\u001b[39m \u001b[39m0\u001b[39m \u001b[39mfor\u001b[39;00m i \u001b[39min\u001b[39;00m \u001b[39mrange\u001b[39m(\u001b[39mlen\u001b[39m(mgrs_indexers))\n\u001b[0;32m    <a href='file:///c%3A/Users/kuian/miniconda3/envs/AAA/lib/site-packages/pandas/core/internals/concat.py?line=262'>263</a>\u001b[0m }\n\u001b[1;32m--> <a href='file:///c%3A/Users/kuian/miniconda3/envs/AAA/lib/site-packages/pandas/core/internals/concat.py?line=263'>264</a>\u001b[0m mgrs_indexers \u001b[39m=\u001b[39m _maybe_reindex_columns_na_proxy(axes, mgrs_indexers)\n\u001b[0;32m    <a href='file:///c%3A/Users/kuian/miniconda3/envs/AAA/lib/site-packages/pandas/core/internals/concat.py?line=265'>266</a>\u001b[0m mgrs \u001b[39m=\u001b[39m [x[\u001b[39m0\u001b[39m] \u001b[39mfor\u001b[39;00m x \u001b[39min\u001b[39;00m mgrs_indexers]\n\u001b[0;32m    <a href='file:///c%3A/Users/kuian/miniconda3/envs/AAA/lib/site-packages/pandas/core/internals/concat.py?line=267'>268</a>\u001b[0m offset \u001b[39m=\u001b[39m \u001b[39m0\u001b[39m\n",
      "File \u001b[1;32mc:\\Users\\kuian\\miniconda3\\envs\\AAA\\lib\\site-packages\\pandas\\core\\internals\\concat.py:306\u001b[0m, in \u001b[0;36m_maybe_reindex_columns_na_proxy\u001b[1;34m(axes, mgrs_indexers)\u001b[0m\n\u001b[0;32m    <a href='file:///c%3A/Users/kuian/miniconda3/envs/AAA/lib/site-packages/pandas/core/internals/concat.py?line=301'>302</a>\u001b[0m \u001b[39mfor\u001b[39;00m mgr, indexers \u001b[39min\u001b[39;00m mgrs_indexers:\n\u001b[0;32m    <a href='file:///c%3A/Users/kuian/miniconda3/envs/AAA/lib/site-packages/pandas/core/internals/concat.py?line=302'>303</a>\u001b[0m     \u001b[39m# For axis=0 (i.e. columns) we use_na_proxy and only_slice, so this\u001b[39;00m\n\u001b[0;32m    <a href='file:///c%3A/Users/kuian/miniconda3/envs/AAA/lib/site-packages/pandas/core/internals/concat.py?line=303'>304</a>\u001b[0m     \u001b[39m#  is a cheap reindexing.\u001b[39;00m\n\u001b[0;32m    <a href='file:///c%3A/Users/kuian/miniconda3/envs/AAA/lib/site-packages/pandas/core/internals/concat.py?line=304'>305</a>\u001b[0m     \u001b[39mfor\u001b[39;00m i, indexer \u001b[39min\u001b[39;00m indexers\u001b[39m.\u001b[39mitems():\n\u001b[1;32m--> <a href='file:///c%3A/Users/kuian/miniconda3/envs/AAA/lib/site-packages/pandas/core/internals/concat.py?line=305'>306</a>\u001b[0m         mgr \u001b[39m=\u001b[39m mgr\u001b[39m.\u001b[39;49mreindex_indexer(\n\u001b[0;32m    <a href='file:///c%3A/Users/kuian/miniconda3/envs/AAA/lib/site-packages/pandas/core/internals/concat.py?line=306'>307</a>\u001b[0m             axes[i],\n\u001b[0;32m    <a href='file:///c%3A/Users/kuian/miniconda3/envs/AAA/lib/site-packages/pandas/core/internals/concat.py?line=307'>308</a>\u001b[0m             indexers[i],\n\u001b[0;32m    <a href='file:///c%3A/Users/kuian/miniconda3/envs/AAA/lib/site-packages/pandas/core/internals/concat.py?line=308'>309</a>\u001b[0m             axis\u001b[39m=\u001b[39;49mi,\n\u001b[0;32m    <a href='file:///c%3A/Users/kuian/miniconda3/envs/AAA/lib/site-packages/pandas/core/internals/concat.py?line=309'>310</a>\u001b[0m             copy\u001b[39m=\u001b[39;49m\u001b[39mFalse\u001b[39;49;00m,\n\u001b[0;32m    <a href='file:///c%3A/Users/kuian/miniconda3/envs/AAA/lib/site-packages/pandas/core/internals/concat.py?line=310'>311</a>\u001b[0m             only_slice\u001b[39m=\u001b[39;49m\u001b[39mTrue\u001b[39;49;00m,  \u001b[39m# only relevant for i==0\u001b[39;49;00m\n\u001b[0;32m    <a href='file:///c%3A/Users/kuian/miniconda3/envs/AAA/lib/site-packages/pandas/core/internals/concat.py?line=311'>312</a>\u001b[0m             allow_dups\u001b[39m=\u001b[39;49m\u001b[39mTrue\u001b[39;49;00m,\n\u001b[0;32m    <a href='file:///c%3A/Users/kuian/miniconda3/envs/AAA/lib/site-packages/pandas/core/internals/concat.py?line=312'>313</a>\u001b[0m             use_na_proxy\u001b[39m=\u001b[39;49m\u001b[39mTrue\u001b[39;49;00m,  \u001b[39m# only relevant for i==0\u001b[39;49;00m\n\u001b[0;32m    <a href='file:///c%3A/Users/kuian/miniconda3/envs/AAA/lib/site-packages/pandas/core/internals/concat.py?line=313'>314</a>\u001b[0m         )\n\u001b[0;32m    <a href='file:///c%3A/Users/kuian/miniconda3/envs/AAA/lib/site-packages/pandas/core/internals/concat.py?line=314'>315</a>\u001b[0m     new_mgrs_indexers\u001b[39m.\u001b[39mappend((mgr, {}))\n\u001b[0;32m    <a href='file:///c%3A/Users/kuian/miniconda3/envs/AAA/lib/site-packages/pandas/core/internals/concat.py?line=316'>317</a>\u001b[0m \u001b[39mreturn\u001b[39;00m new_mgrs_indexers\n",
      "File \u001b[1;32mc:\\Users\\kuian\\miniconda3\\envs\\AAA\\lib\\site-packages\\pandas\\core\\internals\\managers.py:692\u001b[0m, in \u001b[0;36mBaseBlockManager.reindex_indexer\u001b[1;34m(self, new_axis, indexer, axis, fill_value, allow_dups, copy, consolidate, only_slice, use_na_proxy)\u001b[0m\n\u001b[0;32m    <a href='file:///c%3A/Users/kuian/miniconda3/envs/AAA/lib/site-packages/pandas/core/internals/managers.py?line=684'>685</a>\u001b[0m     new_blocks \u001b[39m=\u001b[39m \u001b[39mself\u001b[39m\u001b[39m.\u001b[39m_slice_take_blocks_ax0(\n\u001b[0;32m    <a href='file:///c%3A/Users/kuian/miniconda3/envs/AAA/lib/site-packages/pandas/core/internals/managers.py?line=685'>686</a>\u001b[0m         indexer,\n\u001b[0;32m    <a href='file:///c%3A/Users/kuian/miniconda3/envs/AAA/lib/site-packages/pandas/core/internals/managers.py?line=686'>687</a>\u001b[0m         fill_value\u001b[39m=\u001b[39mfill_value,\n\u001b[0;32m    <a href='file:///c%3A/Users/kuian/miniconda3/envs/AAA/lib/site-packages/pandas/core/internals/managers.py?line=687'>688</a>\u001b[0m         only_slice\u001b[39m=\u001b[39monly_slice,\n\u001b[0;32m    <a href='file:///c%3A/Users/kuian/miniconda3/envs/AAA/lib/site-packages/pandas/core/internals/managers.py?line=688'>689</a>\u001b[0m         use_na_proxy\u001b[39m=\u001b[39muse_na_proxy,\n\u001b[0;32m    <a href='file:///c%3A/Users/kuian/miniconda3/envs/AAA/lib/site-packages/pandas/core/internals/managers.py?line=689'>690</a>\u001b[0m     )\n\u001b[0;32m    <a href='file:///c%3A/Users/kuian/miniconda3/envs/AAA/lib/site-packages/pandas/core/internals/managers.py?line=690'>691</a>\u001b[0m \u001b[39melse\u001b[39;00m:\n\u001b[1;32m--> <a href='file:///c%3A/Users/kuian/miniconda3/envs/AAA/lib/site-packages/pandas/core/internals/managers.py?line=691'>692</a>\u001b[0m     new_blocks \u001b[39m=\u001b[39m [\n\u001b[0;32m    <a href='file:///c%3A/Users/kuian/miniconda3/envs/AAA/lib/site-packages/pandas/core/internals/managers.py?line=692'>693</a>\u001b[0m         blk\u001b[39m.\u001b[39mtake_nd(\n\u001b[0;32m    <a href='file:///c%3A/Users/kuian/miniconda3/envs/AAA/lib/site-packages/pandas/core/internals/managers.py?line=693'>694</a>\u001b[0m             indexer,\n\u001b[0;32m    <a href='file:///c%3A/Users/kuian/miniconda3/envs/AAA/lib/site-packages/pandas/core/internals/managers.py?line=694'>695</a>\u001b[0m             axis\u001b[39m=\u001b[39m\u001b[39m1\u001b[39m,\n\u001b[0;32m    <a href='file:///c%3A/Users/kuian/miniconda3/envs/AAA/lib/site-packages/pandas/core/internals/managers.py?line=695'>696</a>\u001b[0m             fill_value\u001b[39m=\u001b[39m(\n\u001b[0;32m    <a href='file:///c%3A/Users/kuian/miniconda3/envs/AAA/lib/site-packages/pandas/core/internals/managers.py?line=696'>697</a>\u001b[0m                 fill_value \u001b[39mif\u001b[39;00m fill_value \u001b[39mis\u001b[39;00m \u001b[39mnot\u001b[39;00m \u001b[39mNone\u001b[39;00m \u001b[39melse\u001b[39;00m blk\u001b[39m.\u001b[39mfill_value\n\u001b[0;32m    <a href='file:///c%3A/Users/kuian/miniconda3/envs/AAA/lib/site-packages/pandas/core/internals/managers.py?line=697'>698</a>\u001b[0m             ),\n\u001b[0;32m    <a href='file:///c%3A/Users/kuian/miniconda3/envs/AAA/lib/site-packages/pandas/core/internals/managers.py?line=698'>699</a>\u001b[0m         )\n\u001b[0;32m    <a href='file:///c%3A/Users/kuian/miniconda3/envs/AAA/lib/site-packages/pandas/core/internals/managers.py?line=699'>700</a>\u001b[0m         \u001b[39mfor\u001b[39;00m blk \u001b[39min\u001b[39;00m \u001b[39mself\u001b[39m\u001b[39m.\u001b[39mblocks\n\u001b[0;32m    <a href='file:///c%3A/Users/kuian/miniconda3/envs/AAA/lib/site-packages/pandas/core/internals/managers.py?line=700'>701</a>\u001b[0m     ]\n\u001b[0;32m    <a href='file:///c%3A/Users/kuian/miniconda3/envs/AAA/lib/site-packages/pandas/core/internals/managers.py?line=702'>703</a>\u001b[0m new_axes \u001b[39m=\u001b[39m \u001b[39mlist\u001b[39m(\u001b[39mself\u001b[39m\u001b[39m.\u001b[39maxes)\n\u001b[0;32m    <a href='file:///c%3A/Users/kuian/miniconda3/envs/AAA/lib/site-packages/pandas/core/internals/managers.py?line=703'>704</a>\u001b[0m new_axes[axis] \u001b[39m=\u001b[39m new_axis\n",
      "File \u001b[1;32mc:\\Users\\kuian\\miniconda3\\envs\\AAA\\lib\\site-packages\\pandas\\core\\internals\\managers.py:693\u001b[0m, in \u001b[0;36m<listcomp>\u001b[1;34m(.0)\u001b[0m\n\u001b[0;32m    <a href='file:///c%3A/Users/kuian/miniconda3/envs/AAA/lib/site-packages/pandas/core/internals/managers.py?line=684'>685</a>\u001b[0m     new_blocks \u001b[39m=\u001b[39m \u001b[39mself\u001b[39m\u001b[39m.\u001b[39m_slice_take_blocks_ax0(\n\u001b[0;32m    <a href='file:///c%3A/Users/kuian/miniconda3/envs/AAA/lib/site-packages/pandas/core/internals/managers.py?line=685'>686</a>\u001b[0m         indexer,\n\u001b[0;32m    <a href='file:///c%3A/Users/kuian/miniconda3/envs/AAA/lib/site-packages/pandas/core/internals/managers.py?line=686'>687</a>\u001b[0m         fill_value\u001b[39m=\u001b[39mfill_value,\n\u001b[0;32m    <a href='file:///c%3A/Users/kuian/miniconda3/envs/AAA/lib/site-packages/pandas/core/internals/managers.py?line=687'>688</a>\u001b[0m         only_slice\u001b[39m=\u001b[39monly_slice,\n\u001b[0;32m    <a href='file:///c%3A/Users/kuian/miniconda3/envs/AAA/lib/site-packages/pandas/core/internals/managers.py?line=688'>689</a>\u001b[0m         use_na_proxy\u001b[39m=\u001b[39muse_na_proxy,\n\u001b[0;32m    <a href='file:///c%3A/Users/kuian/miniconda3/envs/AAA/lib/site-packages/pandas/core/internals/managers.py?line=689'>690</a>\u001b[0m     )\n\u001b[0;32m    <a href='file:///c%3A/Users/kuian/miniconda3/envs/AAA/lib/site-packages/pandas/core/internals/managers.py?line=690'>691</a>\u001b[0m \u001b[39melse\u001b[39;00m:\n\u001b[0;32m    <a href='file:///c%3A/Users/kuian/miniconda3/envs/AAA/lib/site-packages/pandas/core/internals/managers.py?line=691'>692</a>\u001b[0m     new_blocks \u001b[39m=\u001b[39m [\n\u001b[1;32m--> <a href='file:///c%3A/Users/kuian/miniconda3/envs/AAA/lib/site-packages/pandas/core/internals/managers.py?line=692'>693</a>\u001b[0m         blk\u001b[39m.\u001b[39;49mtake_nd(\n\u001b[0;32m    <a href='file:///c%3A/Users/kuian/miniconda3/envs/AAA/lib/site-packages/pandas/core/internals/managers.py?line=693'>694</a>\u001b[0m             indexer,\n\u001b[0;32m    <a href='file:///c%3A/Users/kuian/miniconda3/envs/AAA/lib/site-packages/pandas/core/internals/managers.py?line=694'>695</a>\u001b[0m             axis\u001b[39m=\u001b[39;49m\u001b[39m1\u001b[39;49m,\n\u001b[0;32m    <a href='file:///c%3A/Users/kuian/miniconda3/envs/AAA/lib/site-packages/pandas/core/internals/managers.py?line=695'>696</a>\u001b[0m             fill_value\u001b[39m=\u001b[39;49m(\n\u001b[0;32m    <a href='file:///c%3A/Users/kuian/miniconda3/envs/AAA/lib/site-packages/pandas/core/internals/managers.py?line=696'>697</a>\u001b[0m                 fill_value \u001b[39mif\u001b[39;49;00m fill_value \u001b[39mis\u001b[39;49;00m \u001b[39mnot\u001b[39;49;00m \u001b[39mNone\u001b[39;49;00m \u001b[39melse\u001b[39;49;00m blk\u001b[39m.\u001b[39;49mfill_value\n\u001b[0;32m    <a href='file:///c%3A/Users/kuian/miniconda3/envs/AAA/lib/site-packages/pandas/core/internals/managers.py?line=697'>698</a>\u001b[0m             ),\n\u001b[0;32m    <a href='file:///c%3A/Users/kuian/miniconda3/envs/AAA/lib/site-packages/pandas/core/internals/managers.py?line=698'>699</a>\u001b[0m         )\n\u001b[0;32m    <a href='file:///c%3A/Users/kuian/miniconda3/envs/AAA/lib/site-packages/pandas/core/internals/managers.py?line=699'>700</a>\u001b[0m         \u001b[39mfor\u001b[39;00m blk \u001b[39min\u001b[39;00m \u001b[39mself\u001b[39m\u001b[39m.\u001b[39mblocks\n\u001b[0;32m    <a href='file:///c%3A/Users/kuian/miniconda3/envs/AAA/lib/site-packages/pandas/core/internals/managers.py?line=700'>701</a>\u001b[0m     ]\n\u001b[0;32m    <a href='file:///c%3A/Users/kuian/miniconda3/envs/AAA/lib/site-packages/pandas/core/internals/managers.py?line=702'>703</a>\u001b[0m new_axes \u001b[39m=\u001b[39m \u001b[39mlist\u001b[39m(\u001b[39mself\u001b[39m\u001b[39m.\u001b[39maxes)\n\u001b[0;32m    <a href='file:///c%3A/Users/kuian/miniconda3/envs/AAA/lib/site-packages/pandas/core/internals/managers.py?line=703'>704</a>\u001b[0m new_axes[axis] \u001b[39m=\u001b[39m new_axis\n",
      "File \u001b[1;32mc:\\Users\\kuian\\miniconda3\\envs\\AAA\\lib\\site-packages\\pandas\\core\\internals\\blocks.py:1137\u001b[0m, in \u001b[0;36mBlock.take_nd\u001b[1;34m(self, indexer, axis, new_mgr_locs, fill_value)\u001b[0m\n\u001b[0;32m   <a href='file:///c%3A/Users/kuian/miniconda3/envs/AAA/lib/site-packages/pandas/core/internals/blocks.py?line=1133'>1134</a>\u001b[0m \u001b[39melse\u001b[39;00m:\n\u001b[0;32m   <a href='file:///c%3A/Users/kuian/miniconda3/envs/AAA/lib/site-packages/pandas/core/internals/blocks.py?line=1134'>1135</a>\u001b[0m     allow_fill \u001b[39m=\u001b[39m \u001b[39mTrue\u001b[39;00m\n\u001b[1;32m-> <a href='file:///c%3A/Users/kuian/miniconda3/envs/AAA/lib/site-packages/pandas/core/internals/blocks.py?line=1136'>1137</a>\u001b[0m new_values \u001b[39m=\u001b[39m algos\u001b[39m.\u001b[39;49mtake_nd(\n\u001b[0;32m   <a href='file:///c%3A/Users/kuian/miniconda3/envs/AAA/lib/site-packages/pandas/core/internals/blocks.py?line=1137'>1138</a>\u001b[0m     values, indexer, axis\u001b[39m=\u001b[39;49maxis, allow_fill\u001b[39m=\u001b[39;49mallow_fill, fill_value\u001b[39m=\u001b[39;49mfill_value\n\u001b[0;32m   <a href='file:///c%3A/Users/kuian/miniconda3/envs/AAA/lib/site-packages/pandas/core/internals/blocks.py?line=1138'>1139</a>\u001b[0m )\n\u001b[0;32m   <a href='file:///c%3A/Users/kuian/miniconda3/envs/AAA/lib/site-packages/pandas/core/internals/blocks.py?line=1140'>1141</a>\u001b[0m \u001b[39m# Called from three places in managers, all of which satisfy\u001b[39;00m\n\u001b[0;32m   <a href='file:///c%3A/Users/kuian/miniconda3/envs/AAA/lib/site-packages/pandas/core/internals/blocks.py?line=1141'>1142</a>\u001b[0m \u001b[39m#  this assertion\u001b[39;00m\n\u001b[0;32m   <a href='file:///c%3A/Users/kuian/miniconda3/envs/AAA/lib/site-packages/pandas/core/internals/blocks.py?line=1142'>1143</a>\u001b[0m \u001b[39massert\u001b[39;00m \u001b[39mnot\u001b[39;00m (axis \u001b[39m==\u001b[39m \u001b[39m0\u001b[39m \u001b[39mand\u001b[39;00m new_mgr_locs \u001b[39mis\u001b[39;00m \u001b[39mNone\u001b[39;00m)\n",
      "File \u001b[1;32mc:\\Users\\kuian\\miniconda3\\envs\\AAA\\lib\\site-packages\\pandas\\core\\array_algos\\take.py:117\u001b[0m, in \u001b[0;36mtake_nd\u001b[1;34m(arr, indexer, axis, fill_value, allow_fill)\u001b[0m\n\u001b[0;32m    <a href='file:///c%3A/Users/kuian/miniconda3/envs/AAA/lib/site-packages/pandas/core/array_algos/take.py?line=113'>114</a>\u001b[0m     \u001b[39mreturn\u001b[39;00m arr\u001b[39m.\u001b[39mtake(indexer, fill_value\u001b[39m=\u001b[39mfill_value, allow_fill\u001b[39m=\u001b[39mallow_fill)\n\u001b[0;32m    <a href='file:///c%3A/Users/kuian/miniconda3/envs/AAA/lib/site-packages/pandas/core/array_algos/take.py?line=115'>116</a>\u001b[0m arr \u001b[39m=\u001b[39m np\u001b[39m.\u001b[39masarray(arr)\n\u001b[1;32m--> <a href='file:///c%3A/Users/kuian/miniconda3/envs/AAA/lib/site-packages/pandas/core/array_algos/take.py?line=116'>117</a>\u001b[0m \u001b[39mreturn\u001b[39;00m _take_nd_ndarray(arr, indexer, axis, fill_value, allow_fill)\n",
      "File \u001b[1;32mc:\\Users\\kuian\\miniconda3\\envs\\AAA\\lib\\site-packages\\pandas\\core\\array_algos\\take.py:158\u001b[0m, in \u001b[0;36m_take_nd_ndarray\u001b[1;34m(arr, indexer, axis, fill_value, allow_fill)\u001b[0m\n\u001b[0;32m    <a href='file:///c%3A/Users/kuian/miniconda3/envs/AAA/lib/site-packages/pandas/core/array_algos/take.py?line=155'>156</a>\u001b[0m     out \u001b[39m=\u001b[39m np\u001b[39m.\u001b[39mempty(out_shape, dtype\u001b[39m=\u001b[39mdtype, order\u001b[39m=\u001b[39m\u001b[39m\"\u001b[39m\u001b[39mF\u001b[39m\u001b[39m\"\u001b[39m)\n\u001b[0;32m    <a href='file:///c%3A/Users/kuian/miniconda3/envs/AAA/lib/site-packages/pandas/core/array_algos/take.py?line=156'>157</a>\u001b[0m \u001b[39melse\u001b[39;00m:\n\u001b[1;32m--> <a href='file:///c%3A/Users/kuian/miniconda3/envs/AAA/lib/site-packages/pandas/core/array_algos/take.py?line=157'>158</a>\u001b[0m     out \u001b[39m=\u001b[39m np\u001b[39m.\u001b[39;49mempty(out_shape, dtype\u001b[39m=\u001b[39;49mdtype)\n\u001b[0;32m    <a href='file:///c%3A/Users/kuian/miniconda3/envs/AAA/lib/site-packages/pandas/core/array_algos/take.py?line=159'>160</a>\u001b[0m func \u001b[39m=\u001b[39m _get_take_nd_function(\n\u001b[0;32m    <a href='file:///c%3A/Users/kuian/miniconda3/envs/AAA/lib/site-packages/pandas/core/array_algos/take.py?line=160'>161</a>\u001b[0m     arr\u001b[39m.\u001b[39mndim, arr\u001b[39m.\u001b[39mdtype, out\u001b[39m.\u001b[39mdtype, axis\u001b[39m=\u001b[39maxis, mask_info\u001b[39m=\u001b[39mmask_info\n\u001b[0;32m    <a href='file:///c%3A/Users/kuian/miniconda3/envs/AAA/lib/site-packages/pandas/core/array_algos/take.py?line=161'>162</a>\u001b[0m )\n\u001b[0;32m    <a href='file:///c%3A/Users/kuian/miniconda3/envs/AAA/lib/site-packages/pandas/core/array_algos/take.py?line=162'>163</a>\u001b[0m func(arr, indexer, out, fill_value)\n",
      "\u001b[1;31mMemoryError\u001b[0m: Unable to allocate 22.2 GiB for an array with shape (17, 174903069) and data type int64"
     ]
    }
   ],
   "source": [
    "# add poi data on start and end hexagon of the trip\n",
    "hexagons_with_pois_df = pd.read_parquet(HEXAGON_WITH_POIS_PATH)\n",
    "\n",
    "trips_aggregated_df = pd.merge(trips_aggregated_df, hexagons_with_pois_df, left_on=\"start_hex_id\", right_on=\"hex\")\n",
    "trips_aggregated_df = trips_aggregated_df.drop(columns={\"hex\", \"hex_and_neighbors\", \"h3_res_x\"})\n",
    "\n",
    "# add '_start' suffix to poi columns\n",
    "trips_aggregated_df = trips_aggregated_df.rename(\n",
    "    columns={\n",
    "        \"sustenance_poi\": \"sustenance_poi_start\",\n",
    "        \"public_transport_poi\": \"public_transport_poi_start\",\n",
    "        \"education_poi\": \"education_poi_start\",\n",
    "        \"arts_and_culture_poi\": \"arts_and_culture_poi_start\",\n",
    "        \"sports_poi\": \"sports_poi_start\",\n",
    "    }\n",
    ")\n",
    "trips_aggregated_df.head(2)"
   ]
  },
  {
   "cell_type": "code",
   "execution_count": null,
   "metadata": {},
   "outputs": [],
   "source": [
    "trips_aggregated_df = pd.merge(trips_aggregated_df, hexagons_with_pois_df, left_on=\"end_hex_id\", right_on=\"hex\")\n",
    "trips_aggregated_df = trips_aggregated_df.drop(columns={\"hex\", \"hex_and_neighbors\", \"h3_res_x\"})\n",
    "\n",
    "# add '_end' suffix to poi columns\n",
    "trips_aggregated_df = trips_aggregated_df.rename(\n",
    "    columns={\n",
    "        \"sustenance_poi\": \"sustenance_poi_end\",\n",
    "        \"public_transport_poi\": \"public_transport_poi_end\",\n",
    "        \"education_poi\": \"education_poi_end\",\n",
    "        \"arts_and_culture_poi\": \"arts_and_culture_poi_end\",\n",
    "        \"sports_poi\": \"sports_poi_end\",\n",
    "    }\n",
    ")\n",
    "trips_aggregated_df.head(2)"
   ]
  },
  {
   "cell_type": "code",
   "execution_count": 6,
   "metadata": {},
   "outputs": [
    {
     "ename": "KeyError",
     "evalue": "\"Only a column name can be used for the key in a dtype mappings argument. 'h3_res_x' not found in columns.\"",
     "output_type": "error",
     "traceback": [
      "\u001b[1;31m---------------------------------------------------------------------------\u001b[0m",
      "\u001b[1;31mKeyError\u001b[0m                                  Traceback (most recent call last)",
      "\u001b[1;32mc:\\Dev\\aaa-2022-magma\\04_predictive_analysis\\00_feature_generation.ipynb Cell 7'\u001b[0m in \u001b[0;36m<cell line: 1>\u001b[1;34m()\u001b[0m\n\u001b[1;32m----> <a href='vscode-notebook-cell:/c%3A/Dev/aaa-2022-magma/04_predictive_analysis/00_feature_generation.ipynb#ch0000007?line=0'>1</a>\u001b[0m trips_aggregated_df \u001b[39m=\u001b[39m trips_aggregated_df\u001b[39m.\u001b[39;49mastype(\n\u001b[0;32m      <a href='vscode-notebook-cell:/c%3A/Dev/aaa-2022-magma/04_predictive_analysis/00_feature_generation.ipynb#ch0000007?line=1'>2</a>\u001b[0m {  \n\u001b[0;32m      <a href='vscode-notebook-cell:/c%3A/Dev/aaa-2022-magma/04_predictive_analysis/00_feature_generation.ipynb#ch0000007?line=2'>3</a>\u001b[0m     \u001b[39m'\u001b[39;49m\u001b[39mstart_hex_id\u001b[39;49m\u001b[39m'\u001b[39;49m: \u001b[39mstr\u001b[39;49m,\n\u001b[0;32m      <a href='vscode-notebook-cell:/c%3A/Dev/aaa-2022-magma/04_predictive_analysis/00_feature_generation.ipynb#ch0000007?line=3'>4</a>\u001b[0m     \u001b[39m'\u001b[39;49m\u001b[39mend_hex_id\u001b[39;49m\u001b[39m'\u001b[39;49m: \u001b[39mstr\u001b[39;49m,\n\u001b[0;32m      <a href='vscode-notebook-cell:/c%3A/Dev/aaa-2022-magma/04_predictive_analysis/00_feature_generation.ipynb#ch0000007?line=4'>5</a>\u001b[0m     \u001b[39m'\u001b[39;49m\u001b[39mdemand\u001b[39;49m\u001b[39m'\u001b[39;49m: np\u001b[39m.\u001b[39;49muint16,\n\u001b[0;32m      <a href='vscode-notebook-cell:/c%3A/Dev/aaa-2022-magma/04_predictive_analysis/00_feature_generation.ipynb#ch0000007?line=5'>6</a>\u001b[0m     \u001b[39m'\u001b[39;49m\u001b[39mh3_res_x\u001b[39;49m\u001b[39m'\u001b[39;49m: np\u001b[39m.\u001b[39;49muint8,\n\u001b[0;32m      <a href='vscode-notebook-cell:/c%3A/Dev/aaa-2022-magma/04_predictive_analysis/00_feature_generation.ipynb#ch0000007?line=6'>7</a>\u001b[0m     \u001b[39m'\u001b[39;49m\u001b[39mtime_interval_length\u001b[39;49m\u001b[39m'\u001b[39;49m: np\u001b[39m.\u001b[39;49muint8,\n\u001b[0;32m      <a href='vscode-notebook-cell:/c%3A/Dev/aaa-2022-magma/04_predictive_analysis/00_feature_generation.ipynb#ch0000007?line=7'>8</a>\u001b[0m     \u001b[39m'\u001b[39;49m\u001b[39mhour\u001b[39;49m\u001b[39m'\u001b[39;49m: np\u001b[39m.\u001b[39;49muint8,\n\u001b[0;32m      <a href='vscode-notebook-cell:/c%3A/Dev/aaa-2022-magma/04_predictive_analysis/00_feature_generation.ipynb#ch0000007?line=8'>9</a>\u001b[0m     \u001b[39m'\u001b[39;49m\u001b[39mday\u001b[39;49m\u001b[39m'\u001b[39;49m: np\u001b[39m.\u001b[39;49muint8,\n\u001b[0;32m     <a href='vscode-notebook-cell:/c%3A/Dev/aaa-2022-magma/04_predictive_analysis/00_feature_generation.ipynb#ch0000007?line=9'>10</a>\u001b[0m     \u001b[39m'\u001b[39;49m\u001b[39mweekday\u001b[39;49m\u001b[39m'\u001b[39;49m: np\u001b[39m.\u001b[39;49muint8,\n\u001b[0;32m     <a href='vscode-notebook-cell:/c%3A/Dev/aaa-2022-magma/04_predictive_analysis/00_feature_generation.ipynb#ch0000007?line=10'>11</a>\u001b[0m     \u001b[39m'\u001b[39;49m\u001b[39mmonth\u001b[39;49m\u001b[39m'\u001b[39;49m: np\u001b[39m.\u001b[39;49muint8,\n\u001b[0;32m     <a href='vscode-notebook-cell:/c%3A/Dev/aaa-2022-magma/04_predictive_analysis/00_feature_generation.ipynb#ch0000007?line=11'>12</a>\u001b[0m     \u001b[39m'\u001b[39;49m\u001b[39mh3_res_y\u001b[39;49m\u001b[39m'\u001b[39;49m: np\u001b[39m.\u001b[39;49muint8,\n\u001b[0;32m     <a href='vscode-notebook-cell:/c%3A/Dev/aaa-2022-magma/04_predictive_analysis/00_feature_generation.ipynb#ch0000007?line=12'>13</a>\u001b[0m     \u001b[39m'\u001b[39;49m\u001b[39msustenance_poi_start\u001b[39;49m\u001b[39m'\u001b[39;49m: np\u001b[39m.\u001b[39;49muint8,\n\u001b[0;32m     <a href='vscode-notebook-cell:/c%3A/Dev/aaa-2022-magma/04_predictive_analysis/00_feature_generation.ipynb#ch0000007?line=13'>14</a>\u001b[0m     \u001b[39m'\u001b[39;49m\u001b[39mpublic_transport_poi_start\u001b[39;49m\u001b[39m'\u001b[39;49m: np\u001b[39m.\u001b[39;49muint8,\n\u001b[0;32m     <a href='vscode-notebook-cell:/c%3A/Dev/aaa-2022-magma/04_predictive_analysis/00_feature_generation.ipynb#ch0000007?line=14'>15</a>\u001b[0m     \u001b[39m'\u001b[39;49m\u001b[39meducation_poi_start\u001b[39;49m\u001b[39m'\u001b[39;49m: np\u001b[39m.\u001b[39;49muint8,\n\u001b[0;32m     <a href='vscode-notebook-cell:/c%3A/Dev/aaa-2022-magma/04_predictive_analysis/00_feature_generation.ipynb#ch0000007?line=15'>16</a>\u001b[0m     \u001b[39m'\u001b[39;49m\u001b[39marts_and_culture_poi_start\u001b[39;49m\u001b[39m'\u001b[39;49m: np\u001b[39m.\u001b[39;49muint8,\n\u001b[0;32m     <a href='vscode-notebook-cell:/c%3A/Dev/aaa-2022-magma/04_predictive_analysis/00_feature_generation.ipynb#ch0000007?line=16'>17</a>\u001b[0m     \u001b[39m'\u001b[39;49m\u001b[39msports_poi_start\u001b[39;49m\u001b[39m'\u001b[39;49m: np\u001b[39m.\u001b[39;49muint8,\n\u001b[0;32m     <a href='vscode-notebook-cell:/c%3A/Dev/aaa-2022-magma/04_predictive_analysis/00_feature_generation.ipynb#ch0000007?line=17'>18</a>\u001b[0m     \u001b[39m'\u001b[39;49m\u001b[39mh3_res\u001b[39;49m\u001b[39m'\u001b[39;49m: np\u001b[39m.\u001b[39;49muint8,\n\u001b[0;32m     <a href='vscode-notebook-cell:/c%3A/Dev/aaa-2022-magma/04_predictive_analysis/00_feature_generation.ipynb#ch0000007?line=18'>19</a>\u001b[0m     \u001b[39m'\u001b[39;49m\u001b[39msustenance_poi_end\u001b[39;49m\u001b[39m'\u001b[39;49m: np\u001b[39m.\u001b[39;49muint8,\n\u001b[0;32m     <a href='vscode-notebook-cell:/c%3A/Dev/aaa-2022-magma/04_predictive_analysis/00_feature_generation.ipynb#ch0000007?line=19'>20</a>\u001b[0m     \u001b[39m'\u001b[39;49m\u001b[39mpublic_transport_poi_end\u001b[39;49m\u001b[39m'\u001b[39;49m: np\u001b[39m.\u001b[39;49muint8,\n\u001b[0;32m     <a href='vscode-notebook-cell:/c%3A/Dev/aaa-2022-magma/04_predictive_analysis/00_feature_generation.ipynb#ch0000007?line=20'>21</a>\u001b[0m     \u001b[39m'\u001b[39;49m\u001b[39meducation_poi_end\u001b[39;49m\u001b[39m'\u001b[39;49m: np\u001b[39m.\u001b[39;49muint8,\n\u001b[0;32m     <a href='vscode-notebook-cell:/c%3A/Dev/aaa-2022-magma/04_predictive_analysis/00_feature_generation.ipynb#ch0000007?line=21'>22</a>\u001b[0m     \u001b[39m'\u001b[39;49m\u001b[39marts_and_culture_poi_end\u001b[39;49m\u001b[39m'\u001b[39;49m: np\u001b[39m.\u001b[39;49muint8,\n\u001b[0;32m     <a href='vscode-notebook-cell:/c%3A/Dev/aaa-2022-magma/04_predictive_analysis/00_feature_generation.ipynb#ch0000007?line=22'>23</a>\u001b[0m     \u001b[39m'\u001b[39;49m\u001b[39msports_poi_end\u001b[39;49m\u001b[39m'\u001b[39;49m: np\u001b[39m.\u001b[39;49muint8,\n\u001b[0;32m     <a href='vscode-notebook-cell:/c%3A/Dev/aaa-2022-magma/04_predictive_analysis/00_feature_generation.ipynb#ch0000007?line=23'>24</a>\u001b[0m }\n\u001b[0;32m     <a href='vscode-notebook-cell:/c%3A/Dev/aaa-2022-magma/04_predictive_analysis/00_feature_generation.ipynb#ch0000007?line=24'>25</a>\u001b[0m )\n",
      "File \u001b[1;32mc:\\Users\\kuian\\miniconda3\\envs\\AAA\\lib\\site-packages\\pandas\\core\\generic.py:5879\u001b[0m, in \u001b[0;36mNDFrame.astype\u001b[1;34m(self, dtype, copy, errors)\u001b[0m\n\u001b[0;32m   <a href='file:///c%3A/Users/kuian/miniconda3/envs/AAA/lib/site-packages/pandas/core/generic.py?line=5876'>5877</a>\u001b[0m \u001b[39mfor\u001b[39;00m col_name \u001b[39min\u001b[39;00m dtype\u001b[39m.\u001b[39mkeys():\n\u001b[0;32m   <a href='file:///c%3A/Users/kuian/miniconda3/envs/AAA/lib/site-packages/pandas/core/generic.py?line=5877'>5878</a>\u001b[0m     \u001b[39mif\u001b[39;00m col_name \u001b[39mnot\u001b[39;00m \u001b[39min\u001b[39;00m \u001b[39mself\u001b[39m:\n\u001b[1;32m-> <a href='file:///c%3A/Users/kuian/miniconda3/envs/AAA/lib/site-packages/pandas/core/generic.py?line=5878'>5879</a>\u001b[0m         \u001b[39mraise\u001b[39;00m \u001b[39mKeyError\u001b[39;00m(\n\u001b[0;32m   <a href='file:///c%3A/Users/kuian/miniconda3/envs/AAA/lib/site-packages/pandas/core/generic.py?line=5879'>5880</a>\u001b[0m             \u001b[39m\"\u001b[39m\u001b[39mOnly a column name can be used for the \u001b[39m\u001b[39m\"\u001b[39m\n\u001b[0;32m   <a href='file:///c%3A/Users/kuian/miniconda3/envs/AAA/lib/site-packages/pandas/core/generic.py?line=5880'>5881</a>\u001b[0m             \u001b[39m\"\u001b[39m\u001b[39mkey in a dtype mappings argument. \u001b[39m\u001b[39m\"\u001b[39m\n\u001b[0;32m   <a href='file:///c%3A/Users/kuian/miniconda3/envs/AAA/lib/site-packages/pandas/core/generic.py?line=5881'>5882</a>\u001b[0m             \u001b[39mf\u001b[39m\u001b[39m\"\u001b[39m\u001b[39m'\u001b[39m\u001b[39m{\u001b[39;00mcol_name\u001b[39m}\u001b[39;00m\u001b[39m'\u001b[39m\u001b[39m not found in columns.\u001b[39m\u001b[39m\"\u001b[39m\n\u001b[0;32m   <a href='file:///c%3A/Users/kuian/miniconda3/envs/AAA/lib/site-packages/pandas/core/generic.py?line=5882'>5883</a>\u001b[0m         )\n\u001b[0;32m   <a href='file:///c%3A/Users/kuian/miniconda3/envs/AAA/lib/site-packages/pandas/core/generic.py?line=5884'>5885</a>\u001b[0m \u001b[39m# GH#44417 cast to Series so we can use .iat below, which will be\u001b[39;00m\n\u001b[0;32m   <a href='file:///c%3A/Users/kuian/miniconda3/envs/AAA/lib/site-packages/pandas/core/generic.py?line=5885'>5886</a>\u001b[0m \u001b[39m#  robust in case we\u001b[39;00m\n\u001b[0;32m   <a href='file:///c%3A/Users/kuian/miniconda3/envs/AAA/lib/site-packages/pandas/core/generic.py?line=5886'>5887</a>\u001b[0m \u001b[39mfrom\u001b[39;00m \u001b[39mpandas\u001b[39;00m \u001b[39mimport\u001b[39;00m Series\n",
      "\u001b[1;31mKeyError\u001b[0m: \"Only a column name can be used for the key in a dtype mappings argument. 'h3_res_x' not found in columns.\""
     ]
    }
   ],
   "source": [
    "trips_aggregated_df = trips_aggregated_df.astype(\n",
    "{  \n",
    "    'start_hex_id': str,\n",
    "    'end_hex_id': str,\n",
    "    'demand': np.uint16,\n",
    "    'h3_res_x': np.uint8,\n",
    "    'time_interval_length': np.uint8,\n",
    "    'hour': np.uint8,\n",
    "    'day': np.uint8,\n",
    "    'weekday': np.uint8,\n",
    "    'month': np.uint8,\n",
    "    'h3_res_y': np.uint8,\n",
    "    'sustenance_poi_start': np.uint8,\n",
    "    'public_transport_poi_start': np.uint8,\n",
    "    'education_poi_start': np.uint8,\n",
    "    'arts_and_culture_poi_start': np.uint8,\n",
    "    'sports_poi_start': np.uint8,\n",
    "    'h3_res': np.uint8,\n",
    "    'sustenance_poi_end': np.uint8,\n",
    "    'public_transport_poi_end': np.uint8,\n",
    "    'education_poi_end': np.uint8,\n",
    "    'arts_and_culture_poi_end': np.uint8,\n",
    "    'sports_poi_end': np.uint8,\n",
    "}\n",
    ")"
   ]
  },
  {
   "cell_type": "code",
   "execution_count": 8,
   "metadata": {},
   "outputs": [],
   "source": [
    "def reduce_mem_usage(df):\n",
    "    start_mem = df.memory_usage().sum() / 1024**2\n",
    "    print('Memory usage of dataframe is {:.2f} MB'.format(start_mem))\n",
    "    \n",
    "    for col in df.columns:\n",
    "        col_type = df[col].dtype\n",
    "        \n",
    "        if col_type != object:\n",
    "            c_min = df[col].min()\n",
    "            c_max = df[col].max()\n",
    "            if str(col_type)[:3] == 'int':\n",
    "                if c_min > np.iinfo(np.int8).min and c_max < np.iinfo(np.int8).max:\n",
    "                    df[col] = df[col].astype(np.int8)\n",
    "                elif c_min > np.iinfo(np.int16).min and c_max < np.iinfo(np.int16).max:\n",
    "                    df[col] = df[col].astype(np.int16)\n",
    "                elif c_min > np.iinfo(np.int32).min and c_max < np.iinfo(np.int32).max:\n",
    "                    df[col] = df[col].astype(np.int32)\n",
    "                elif c_min > np.iinfo(np.int64).min and c_max < np.iinfo(np.int64).max:\n",
    "                    df[col] = df[col].astype(np.int64)  \n",
    "            else:\n",
    "                if c_min > np.finfo(np.float16).min and c_max < np.finfo(np.float16).max:\n",
    "                    df[col] = df[col].astype(np.float16)\n",
    "                elif c_min > np.finfo(np.float32).min and c_max < np.finfo(np.float32).max:\n",
    "                    df[col] = df[col].astype(np.float32)\n",
    "                else:\n",
    "                    df[col] = df[col].astype(np.float64)\n",
    "        else:\n",
    "            df[col] = df[col].astype('category')\n",
    "\n",
    "    end_mem = df.memory_usage().sum() / 1024**2\n",
    "    print('Memory usage after optimization is: {:.2f} MB'.format(end_mem))\n",
    "    print('Decreased by {:.1f}%'.format(100 * (start_mem - end_mem) / start_mem))\n",
    "    \n",
    "    return df"
   ]
  },
  {
   "cell_type": "code",
   "execution_count": 9,
   "metadata": {},
   "outputs": [
    {
     "name": "stdout",
     "output_type": "stream",
     "text": [
      "Memory usage of dataframe is 6282.38 MB\n",
      "Memory usage after optimization is: 1338.28 MB\n",
      "Decreased by 78.7%\n"
     ]
    }
   ],
   "source": [
    "trips_aggregated_df = reduce_mem_usage(trips_aggregated_df)"
   ]
  },
  {
   "cell_type": "code",
   "execution_count": 7,
   "metadata": {},
   "outputs": [
    {
     "ename": "MemoryError",
     "evalue": "Unable to allocate 5.23 GiB for an array with shape (18, 38979597) and data type int64",
     "output_type": "error",
     "traceback": [
      "\u001b[1;31m---------------------------------------------------------------------------\u001b[0m",
      "\u001b[1;31mMemoryError\u001b[0m                               Traceback (most recent call last)",
      "\u001b[1;32mc:\\Dev\\aaa-2022-magma\\04_predictive_analysis\\00_feature_generation.ipynb Cell 10'\u001b[0m in \u001b[0;36m<cell line: 4>\u001b[1;34m()\u001b[0m\n\u001b[0;32m      <a href='vscode-notebook-cell:/c%3A/Dev/aaa-2022-magma/04_predictive_analysis/00_feature_generation.ipynb#ch0000011?line=1'>2</a>\u001b[0m start_hex_dummies \u001b[39m=\u001b[39m pd\u001b[39m.\u001b[39mget_dummies(trips_aggregated_df\u001b[39m.\u001b[39mstart_hex_id, prefix\u001b[39m=\u001b[39m\u001b[39m\"\u001b[39m\u001b[39mstart_\u001b[39m\u001b[39m\"\u001b[39m)\n\u001b[0;32m      <a href='vscode-notebook-cell:/c%3A/Dev/aaa-2022-magma/04_predictive_analysis/00_feature_generation.ipynb#ch0000011?line=2'>3</a>\u001b[0m end_hex_dummies \u001b[39m=\u001b[39m pd\u001b[39m.\u001b[39mget_dummies(trips_aggregated_df\u001b[39m.\u001b[39mstart_hex_id, prefix\u001b[39m=\u001b[39m\u001b[39m\"\u001b[39m\u001b[39mstart_\u001b[39m\u001b[39m\"\u001b[39m)\n\u001b[1;32m----> <a href='vscode-notebook-cell:/c%3A/Dev/aaa-2022-magma/04_predictive_analysis/00_feature_generation.ipynb#ch0000011?line=3'>4</a>\u001b[0m trips_aggregated_df \u001b[39m=\u001b[39m pd\u001b[39m.\u001b[39;49mconcat([trips_aggregated_df, start_hex_dummies, end_hex_dummies], axis\u001b[39m=\u001b[39;49m\u001b[39m1\u001b[39;49m)\n\u001b[0;32m      <a href='vscode-notebook-cell:/c%3A/Dev/aaa-2022-magma/04_predictive_analysis/00_feature_generation.ipynb#ch0000011?line=4'>5</a>\u001b[0m trips_aggregated_df \u001b[39m=\u001b[39m trips_aggregated_df\u001b[39m.\u001b[39mdrop(columns\u001b[39m=\u001b[39m[\u001b[39m'\u001b[39m\u001b[39mstart_hex_id\u001b[39m\u001b[39m'\u001b[39m, \u001b[39m'\u001b[39m\u001b[39mend_hex_id\u001b[39m\u001b[39m'\u001b[39m])\n\u001b[0;32m      <a href='vscode-notebook-cell:/c%3A/Dev/aaa-2022-magma/04_predictive_analysis/00_feature_generation.ipynb#ch0000011?line=5'>6</a>\u001b[0m trips_aggregated_df\u001b[39m.\u001b[39mhead(\u001b[39m2\u001b[39m)\n",
      "File \u001b[1;32mc:\\Users\\kuian\\miniconda3\\envs\\AAA\\lib\\site-packages\\pandas\\util\\_decorators.py:311\u001b[0m, in \u001b[0;36mdeprecate_nonkeyword_arguments.<locals>.decorate.<locals>.wrapper\u001b[1;34m(*args, **kwargs)\u001b[0m\n\u001b[0;32m    <a href='file:///c%3A/Users/kuian/miniconda3/envs/AAA/lib/site-packages/pandas/util/_decorators.py?line=304'>305</a>\u001b[0m \u001b[39mif\u001b[39;00m \u001b[39mlen\u001b[39m(args) \u001b[39m>\u001b[39m num_allow_args:\n\u001b[0;32m    <a href='file:///c%3A/Users/kuian/miniconda3/envs/AAA/lib/site-packages/pandas/util/_decorators.py?line=305'>306</a>\u001b[0m     warnings\u001b[39m.\u001b[39mwarn(\n\u001b[0;32m    <a href='file:///c%3A/Users/kuian/miniconda3/envs/AAA/lib/site-packages/pandas/util/_decorators.py?line=306'>307</a>\u001b[0m         msg\u001b[39m.\u001b[39mformat(arguments\u001b[39m=\u001b[39marguments),\n\u001b[0;32m    <a href='file:///c%3A/Users/kuian/miniconda3/envs/AAA/lib/site-packages/pandas/util/_decorators.py?line=307'>308</a>\u001b[0m         \u001b[39mFutureWarning\u001b[39;00m,\n\u001b[0;32m    <a href='file:///c%3A/Users/kuian/miniconda3/envs/AAA/lib/site-packages/pandas/util/_decorators.py?line=308'>309</a>\u001b[0m         stacklevel\u001b[39m=\u001b[39mstacklevel,\n\u001b[0;32m    <a href='file:///c%3A/Users/kuian/miniconda3/envs/AAA/lib/site-packages/pandas/util/_decorators.py?line=309'>310</a>\u001b[0m     )\n\u001b[1;32m--> <a href='file:///c%3A/Users/kuian/miniconda3/envs/AAA/lib/site-packages/pandas/util/_decorators.py?line=310'>311</a>\u001b[0m \u001b[39mreturn\u001b[39;00m func(\u001b[39m*\u001b[39margs, \u001b[39m*\u001b[39m\u001b[39m*\u001b[39mkwargs)\n",
      "File \u001b[1;32mc:\\Users\\kuian\\miniconda3\\envs\\AAA\\lib\\site-packages\\pandas\\core\\reshape\\concat.py:360\u001b[0m, in \u001b[0;36mconcat\u001b[1;34m(objs, axis, join, ignore_index, keys, levels, names, verify_integrity, sort, copy)\u001b[0m\n\u001b[0;32m    <a href='file:///c%3A/Users/kuian/miniconda3/envs/AAA/lib/site-packages/pandas/core/reshape/concat.py?line=155'>156</a>\u001b[0m \u001b[39m\"\"\"\u001b[39;00m\n\u001b[0;32m    <a href='file:///c%3A/Users/kuian/miniconda3/envs/AAA/lib/site-packages/pandas/core/reshape/concat.py?line=156'>157</a>\u001b[0m \u001b[39mConcatenate pandas objects along a particular axis with optional set logic\u001b[39;00m\n\u001b[0;32m    <a href='file:///c%3A/Users/kuian/miniconda3/envs/AAA/lib/site-packages/pandas/core/reshape/concat.py?line=157'>158</a>\u001b[0m \u001b[39malong the other axes.\u001b[39;00m\n\u001b[1;32m   (...)\u001b[0m\n\u001b[0;32m    <a href='file:///c%3A/Users/kuian/miniconda3/envs/AAA/lib/site-packages/pandas/core/reshape/concat.py?line=344'>345</a>\u001b[0m \u001b[39mValueError: Indexes have overlapping values: ['a']\u001b[39;00m\n\u001b[0;32m    <a href='file:///c%3A/Users/kuian/miniconda3/envs/AAA/lib/site-packages/pandas/core/reshape/concat.py?line=345'>346</a>\u001b[0m \u001b[39m\"\"\"\u001b[39;00m\n\u001b[0;32m    <a href='file:///c%3A/Users/kuian/miniconda3/envs/AAA/lib/site-packages/pandas/core/reshape/concat.py?line=346'>347</a>\u001b[0m op \u001b[39m=\u001b[39m _Concatenator(\n\u001b[0;32m    <a href='file:///c%3A/Users/kuian/miniconda3/envs/AAA/lib/site-packages/pandas/core/reshape/concat.py?line=347'>348</a>\u001b[0m     objs,\n\u001b[0;32m    <a href='file:///c%3A/Users/kuian/miniconda3/envs/AAA/lib/site-packages/pandas/core/reshape/concat.py?line=348'>349</a>\u001b[0m     axis\u001b[39m=\u001b[39maxis,\n\u001b[1;32m   (...)\u001b[0m\n\u001b[0;32m    <a href='file:///c%3A/Users/kuian/miniconda3/envs/AAA/lib/site-packages/pandas/core/reshape/concat.py?line=356'>357</a>\u001b[0m     sort\u001b[39m=\u001b[39msort,\n\u001b[0;32m    <a href='file:///c%3A/Users/kuian/miniconda3/envs/AAA/lib/site-packages/pandas/core/reshape/concat.py?line=357'>358</a>\u001b[0m )\n\u001b[1;32m--> <a href='file:///c%3A/Users/kuian/miniconda3/envs/AAA/lib/site-packages/pandas/core/reshape/concat.py?line=359'>360</a>\u001b[0m \u001b[39mreturn\u001b[39;00m op\u001b[39m.\u001b[39;49mget_result()\n",
      "File \u001b[1;32mc:\\Users\\kuian\\miniconda3\\envs\\AAA\\lib\\site-packages\\pandas\\core\\reshape\\concat.py:595\u001b[0m, in \u001b[0;36m_Concatenator.get_result\u001b[1;34m(self)\u001b[0m\n\u001b[0;32m    <a href='file:///c%3A/Users/kuian/miniconda3/envs/AAA/lib/site-packages/pandas/core/reshape/concat.py?line=590'>591</a>\u001b[0m             indexers[ax] \u001b[39m=\u001b[39m obj_labels\u001b[39m.\u001b[39mget_indexer(new_labels)\n\u001b[0;32m    <a href='file:///c%3A/Users/kuian/miniconda3/envs/AAA/lib/site-packages/pandas/core/reshape/concat.py?line=592'>593</a>\u001b[0m     mgrs_indexers\u001b[39m.\u001b[39mappend((obj\u001b[39m.\u001b[39m_mgr, indexers))\n\u001b[1;32m--> <a href='file:///c%3A/Users/kuian/miniconda3/envs/AAA/lib/site-packages/pandas/core/reshape/concat.py?line=594'>595</a>\u001b[0m new_data \u001b[39m=\u001b[39m concatenate_managers(\n\u001b[0;32m    <a href='file:///c%3A/Users/kuian/miniconda3/envs/AAA/lib/site-packages/pandas/core/reshape/concat.py?line=595'>596</a>\u001b[0m     mgrs_indexers, \u001b[39mself\u001b[39;49m\u001b[39m.\u001b[39;49mnew_axes, concat_axis\u001b[39m=\u001b[39;49m\u001b[39mself\u001b[39;49m\u001b[39m.\u001b[39;49mbm_axis, copy\u001b[39m=\u001b[39;49m\u001b[39mself\u001b[39;49m\u001b[39m.\u001b[39;49mcopy\n\u001b[0;32m    <a href='file:///c%3A/Users/kuian/miniconda3/envs/AAA/lib/site-packages/pandas/core/reshape/concat.py?line=596'>597</a>\u001b[0m )\n\u001b[0;32m    <a href='file:///c%3A/Users/kuian/miniconda3/envs/AAA/lib/site-packages/pandas/core/reshape/concat.py?line=597'>598</a>\u001b[0m \u001b[39mif\u001b[39;00m \u001b[39mnot\u001b[39;00m \u001b[39mself\u001b[39m\u001b[39m.\u001b[39mcopy:\n\u001b[0;32m    <a href='file:///c%3A/Users/kuian/miniconda3/envs/AAA/lib/site-packages/pandas/core/reshape/concat.py?line=598'>599</a>\u001b[0m     new_data\u001b[39m.\u001b[39m_consolidate_inplace()\n",
      "File \u001b[1;32mc:\\Users\\kuian\\miniconda3\\envs\\AAA\\lib\\site-packages\\pandas\\core\\internals\\concat.py:202\u001b[0m, in \u001b[0;36mconcatenate_managers\u001b[1;34m(mgrs_indexers, axes, concat_axis, copy)\u001b[0m\n\u001b[0;32m    <a href='file:///c%3A/Users/kuian/miniconda3/envs/AAA/lib/site-packages/pandas/core/internals/concat.py?line=194'>195</a>\u001b[0m \u001b[39m# Assertions disabled for performance\u001b[39;00m\n\u001b[0;32m    <a href='file:///c%3A/Users/kuian/miniconda3/envs/AAA/lib/site-packages/pandas/core/internals/concat.py?line=195'>196</a>\u001b[0m \u001b[39m# for tup in mgrs_indexers:\u001b[39;00m\n\u001b[0;32m    <a href='file:///c%3A/Users/kuian/miniconda3/envs/AAA/lib/site-packages/pandas/core/internals/concat.py?line=196'>197</a>\u001b[0m \u001b[39m#    # caller is responsible for ensuring this\u001b[39;00m\n\u001b[0;32m    <a href='file:///c%3A/Users/kuian/miniconda3/envs/AAA/lib/site-packages/pandas/core/internals/concat.py?line=197'>198</a>\u001b[0m \u001b[39m#    indexers = tup[1]\u001b[39;00m\n\u001b[0;32m    <a href='file:///c%3A/Users/kuian/miniconda3/envs/AAA/lib/site-packages/pandas/core/internals/concat.py?line=198'>199</a>\u001b[0m \u001b[39m#    assert concat_axis not in indexers\u001b[39;00m\n\u001b[0;32m    <a href='file:///c%3A/Users/kuian/miniconda3/envs/AAA/lib/site-packages/pandas/core/internals/concat.py?line=200'>201</a>\u001b[0m \u001b[39mif\u001b[39;00m concat_axis \u001b[39m==\u001b[39m \u001b[39m0\u001b[39m:\n\u001b[1;32m--> <a href='file:///c%3A/Users/kuian/miniconda3/envs/AAA/lib/site-packages/pandas/core/internals/concat.py?line=201'>202</a>\u001b[0m     \u001b[39mreturn\u001b[39;00m _concat_managers_axis0(mgrs_indexers, axes, copy)\n\u001b[0;32m    <a href='file:///c%3A/Users/kuian/miniconda3/envs/AAA/lib/site-packages/pandas/core/internals/concat.py?line=203'>204</a>\u001b[0m mgrs_indexers \u001b[39m=\u001b[39m _maybe_reindex_columns_na_proxy(axes, mgrs_indexers)\n\u001b[0;32m    <a href='file:///c%3A/Users/kuian/miniconda3/envs/AAA/lib/site-packages/pandas/core/internals/concat.py?line=205'>206</a>\u001b[0m \u001b[39m# Assertion disabled for performance\u001b[39;00m\n\u001b[0;32m    <a href='file:///c%3A/Users/kuian/miniconda3/envs/AAA/lib/site-packages/pandas/core/internals/concat.py?line=206'>207</a>\u001b[0m \u001b[39m# assert all(not x[1] for x in mgrs_indexers)\u001b[39;00m\n",
      "File \u001b[1;32mc:\\Users\\kuian\\miniconda3\\envs\\AAA\\lib\\site-packages\\pandas\\core\\internals\\concat.py:278\u001b[0m, in \u001b[0;36m_concat_managers_axis0\u001b[1;34m(mgrs_indexers, axes, copy)\u001b[0m\n\u001b[0;32m    <a href='file:///c%3A/Users/kuian/miniconda3/envs/AAA/lib/site-packages/pandas/core/internals/concat.py?line=275'>276</a>\u001b[0m     nb \u001b[39m=\u001b[39m blk\u001b[39m.\u001b[39mcopy(deep\u001b[39m=\u001b[39m\u001b[39mFalse\u001b[39;00m)\n\u001b[0;32m    <a href='file:///c%3A/Users/kuian/miniconda3/envs/AAA/lib/site-packages/pandas/core/internals/concat.py?line=276'>277</a>\u001b[0m \u001b[39melif\u001b[39;00m copy:\n\u001b[1;32m--> <a href='file:///c%3A/Users/kuian/miniconda3/envs/AAA/lib/site-packages/pandas/core/internals/concat.py?line=277'>278</a>\u001b[0m     nb \u001b[39m=\u001b[39m blk\u001b[39m.\u001b[39;49mcopy()\n\u001b[0;32m    <a href='file:///c%3A/Users/kuian/miniconda3/envs/AAA/lib/site-packages/pandas/core/internals/concat.py?line=278'>279</a>\u001b[0m \u001b[39melse\u001b[39;00m:\n\u001b[0;32m    <a href='file:///c%3A/Users/kuian/miniconda3/envs/AAA/lib/site-packages/pandas/core/internals/concat.py?line=279'>280</a>\u001b[0m     \u001b[39m# by slicing instead of copy(deep=False), we get a new array\u001b[39;00m\n\u001b[0;32m    <a href='file:///c%3A/Users/kuian/miniconda3/envs/AAA/lib/site-packages/pandas/core/internals/concat.py?line=280'>281</a>\u001b[0m     \u001b[39m#  object, see test_concat_copy\u001b[39;00m\n\u001b[0;32m    <a href='file:///c%3A/Users/kuian/miniconda3/envs/AAA/lib/site-packages/pandas/core/internals/concat.py?line=281'>282</a>\u001b[0m     nb \u001b[39m=\u001b[39m blk\u001b[39m.\u001b[39mgetitem_block(\u001b[39mslice\u001b[39m(\u001b[39mNone\u001b[39;00m))\n",
      "File \u001b[1;32mc:\\Users\\kuian\\miniconda3\\envs\\AAA\\lib\\site-packages\\pandas\\core\\internals\\blocks.py:643\u001b[0m, in \u001b[0;36mBlock.copy\u001b[1;34m(self, deep)\u001b[0m\n\u001b[0;32m    <a href='file:///c%3A/Users/kuian/miniconda3/envs/AAA/lib/site-packages/pandas/core/internals/blocks.py?line=640'>641</a>\u001b[0m values \u001b[39m=\u001b[39m \u001b[39mself\u001b[39m\u001b[39m.\u001b[39mvalues\n\u001b[0;32m    <a href='file:///c%3A/Users/kuian/miniconda3/envs/AAA/lib/site-packages/pandas/core/internals/blocks.py?line=641'>642</a>\u001b[0m \u001b[39mif\u001b[39;00m deep:\n\u001b[1;32m--> <a href='file:///c%3A/Users/kuian/miniconda3/envs/AAA/lib/site-packages/pandas/core/internals/blocks.py?line=642'>643</a>\u001b[0m     values \u001b[39m=\u001b[39m values\u001b[39m.\u001b[39;49mcopy()\n\u001b[0;32m    <a href='file:///c%3A/Users/kuian/miniconda3/envs/AAA/lib/site-packages/pandas/core/internals/blocks.py?line=643'>644</a>\u001b[0m \u001b[39mreturn\u001b[39;00m \u001b[39mtype\u001b[39m(\u001b[39mself\u001b[39m)(values, placement\u001b[39m=\u001b[39m\u001b[39mself\u001b[39m\u001b[39m.\u001b[39m_mgr_locs, ndim\u001b[39m=\u001b[39m\u001b[39mself\u001b[39m\u001b[39m.\u001b[39mndim)\n",
      "\u001b[1;31mMemoryError\u001b[0m: Unable to allocate 5.23 GiB for an array with shape (18, 38979597) and data type int64"
     ]
    }
   ],
   "source": [
    "# encode start and end hexagons as one-hot vectors\n",
    "start_hex_dummies = pd.get_dummies(trips_aggregated_df.start_hex_id, prefix=\"start_\")\n",
    "end_hex_dummies = pd.get_dummies(trips_aggregated_df.start_hex_id, prefix=\"start_\")\n",
    "trips_aggregated_df = pd.concat([trips_aggregated_df, start_hex_dummies, end_hex_dummies], axis=1)\n",
    "trips_aggregated_df = trips_aggregated_df.drop(columns=['start_hex_id', 'end_hex_id'])\n",
    "trips_aggregated_df.head(2)"
   ]
  },
  {
   "cell_type": "code",
   "execution_count": null,
   "metadata": {},
   "outputs": [],
   "source": [
    "trips_aggregated_df.to_parquet(MODEL_DATA_PATH)"
   ]
  }
 ],
 "metadata": {
  "interpreter": {
   "hash": "dfe5d669475e0224b78c5039dd4048f8afdfbc0a8400e3514111f5faddc37912"
  },
  "kernelspec": {
   "display_name": "Python 3.9.12 ('base')",
   "language": "python",
   "name": "python3"
  },
  "language_info": {
   "codemirror_mode": {
    "name": "ipython",
    "version": 3
   },
   "file_extension": ".py",
   "mimetype": "text/x-python",
   "name": "python",
   "nbconvert_exporter": "python",
   "pygments_lexer": "ipython3",
   "version": "3.9.12"
  },
  "orig_nbformat": 4
 },
 "nbformat": 4,
 "nbformat_minor": 2
}
