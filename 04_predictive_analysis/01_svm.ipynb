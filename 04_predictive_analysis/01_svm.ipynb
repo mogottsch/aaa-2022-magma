{
 "cells": [
  {
   "cell_type": "code",
   "execution_count": 1,
   "metadata": {},
   "outputs": [],
   "source": [
    "import pandas as pd\n",
    "from itertools import product\n",
    "from tqdm.notebook import tqdm\n",
    "\n",
    "import sys, os\n",
    "\n",
    "sys.path.append(os.path.abspath('..'))\n",
    "%load_ext autoreload\n",
    "%autoreload 2\n",
    "from modules.config import *\n",
    "from modules.storage import (\n",
    "    get_model_data,\n",
    "    store_results\n",
    ")\n",
    "from modules.svm import *"
   ]
  },
  {
   "cell_type": "code",
   "execution_count": 2,
   "metadata": {},
   "outputs": [],
   "source": [
    "def get_svm_metas():\n",
    "    return [\n",
    "        {'kernel': ['linear'], 'C': [1, 10, 100], 'gamma': [-1],            'degree': [-1],         'max_iter': [1000000]},\n",
    "        {'kernel': ['rbf'],    'C': [1, 10, 100], 'gamma': [0.001, 0.0001], 'degree': [-1],         'max_iter': [1000000]},\n",
    "        {'kernel': ['poly'],   'C': [1, 10, 100], 'gamma': [-1],            'degree': [2, 3, 4, 5], 'max_iter': [1000000]}\n",
    "    ]"
   ]
  },
  {
   "cell_type": "code",
   "execution_count": 3,
   "metadata": {},
   "outputs": [],
   "source": [
    "def execute_stage(path, h3_res, time_interval_length, get_available_model_metas_for_stage, do_evaluate_model, silent):\n",
    "    all_possible_metas = get_svm_metas()\n",
    "    metas = get_available_model_metas_for_stage(h3_res, time_interval_length, all_possible_metas)\n",
    "    \n",
    "    iterator = tqdm(metas) if silent else metas \n",
    "    for param_grid in iterator:\n",
    "        if not silent:\n",
    "            feedback = f\"h3: {h3_res} | t:{time_interval_length} | - \" + param_grid[0][\"kernel\"][0]\n",
    "            tqdm.write(feedback, end=\"\\r\")\n",
    "        \n",
    "        model_data = get_model_data(h3_res, time_interval_length)\n",
    "        model_data = model_data.sample(1000)\n",
    "\n",
    "        X_train, X_test, y_train, y_test = split_and_scale_data(model_data, \"demand\")\n",
    "        models = train_model(param_grid, X_train, y_train)\n",
    "        results = get_results(models, h3_res, time_interval_length, do_evaluate_model, X_test, y_test)\n",
    "        store_results(results, path)  \n",
    "        \n",
    "        if not silent:\n",
    "            tqdm.write(feedback + \" ✓\")"
   ]
  },
  {
   "cell_type": "code",
   "execution_count": 4,
   "metadata": {},
   "outputs": [
    {
     "name": "stdout",
     "output_type": "stream",
     "text": [
      "h3: 8 | t:6 | - linear\r"
     ]
    },
    {
     "name": "stderr",
     "output_type": "stream",
     "text": [
      "c:\\Dev\\miniconda\\envs\\AAA_MAGMA\\lib\\site-packages\\sklearn\\svm\\_base.py:301: ConvergenceWarning: Solver terminated early (max_iter=1000000).  Consider pre-processing your data with StandardScaler or MinMaxScaler.\n",
      "  warnings.warn(\n"
     ]
    },
    {
     "name": "stdout",
     "output_type": "stream",
     "text": [
      "h3: 8 | t:6 | - linear ✓\n",
      "h3: 8 | t:6 | - rbf ✓\n",
      "h3: 8 | t:6 | - poly ✓\n"
     ]
    }
   ],
   "source": [
    "execute_stage(\n",
    "    SVM_FIRST_STAGE_RESULTS_PATH,\n",
    "    TUNE_H3_RESOLUTION,\n",
    "    TUNE_TIME_INTERVAL_LENGTH,\n",
    "    get_availabe_models_metas_first_stage,\n",
    "    do_evaluate_model=False,\n",
    "    silent=False,\n",
    ")"
   ]
  },
  {
   "cell_type": "code",
   "execution_count": 5,
   "metadata": {},
   "outputs": [
    {
     "data": {
      "text/html": [
       "<div>\n",
       "<style scoped>\n",
       "    .dataframe tbody tr th:only-of-type {\n",
       "        vertical-align: middle;\n",
       "    }\n",
       "\n",
       "    .dataframe tbody tr th {\n",
       "        vertical-align: top;\n",
       "    }\n",
       "\n",
       "    .dataframe thead th {\n",
       "        text-align: right;\n",
       "    }\n",
       "</style>\n",
       "<table border=\"1\" class=\"dataframe\">\n",
       "  <thead>\n",
       "    <tr style=\"text-align: right;\">\n",
       "      <th></th>\n",
       "      <th>iter</th>\n",
       "      <th>n_resources</th>\n",
       "      <th>mean_fit_time</th>\n",
       "      <th>std_fit_time</th>\n",
       "      <th>mean_score_time</th>\n",
       "      <th>std_score_time</th>\n",
       "      <th>param_C</th>\n",
       "      <th>param_kernel</th>\n",
       "      <th>param_max_iter</th>\n",
       "      <th>params</th>\n",
       "      <th>...</th>\n",
       "      <th>split2_train_score</th>\n",
       "      <th>split3_train_score</th>\n",
       "      <th>split4_train_score</th>\n",
       "      <th>mean_train_score</th>\n",
       "      <th>std_train_score</th>\n",
       "      <th>n_iter</th>\n",
       "      <th>h3_res</th>\n",
       "      <th>time_interval_length</th>\n",
       "      <th>param_gamma</th>\n",
       "      <th>param_degree</th>\n",
       "    </tr>\n",
       "  </thead>\n",
       "  <tbody>\n",
       "    <tr>\n",
       "      <th>20</th>\n",
       "      <td>0</td>\n",
       "      <td>77</td>\n",
       "      <td>0.003004</td>\n",
       "      <td>0.000009</td>\n",
       "      <td>0.001003</td>\n",
       "      <td>0.000008</td>\n",
       "      <td>100</td>\n",
       "      <td>poly</td>\n",
       "      <td>1000000</td>\n",
       "      <td>{'C': 100, 'degree': 2.0, 'gamma': None, 'kern...</td>\n",
       "      <td>...</td>\n",
       "      <td>-0.009338</td>\n",
       "      <td>-0.009860</td>\n",
       "      <td>-0.009585</td>\n",
       "      <td>-0.009679</td>\n",
       "      <td>0.000195</td>\n",
       "      <td>0</td>\n",
       "      <td>8</td>\n",
       "      <td>6</td>\n",
       "      <td>NaN</td>\n",
       "      <td>2.0</td>\n",
       "    </tr>\n",
       "    <tr>\n",
       "      <th>21</th>\n",
       "      <td>0</td>\n",
       "      <td>77</td>\n",
       "      <td>0.002997</td>\n",
       "      <td>0.000011</td>\n",
       "      <td>0.000400</td>\n",
       "      <td>0.000490</td>\n",
       "      <td>100</td>\n",
       "      <td>poly</td>\n",
       "      <td>1000000</td>\n",
       "      <td>{'C': 100, 'degree': 3.0, 'gamma': None, 'kern...</td>\n",
       "      <td>...</td>\n",
       "      <td>-0.010972</td>\n",
       "      <td>-0.009572</td>\n",
       "      <td>-0.036832</td>\n",
       "      <td>-0.015437</td>\n",
       "      <td>0.010708</td>\n",
       "      <td>0</td>\n",
       "      <td>8</td>\n",
       "      <td>6</td>\n",
       "      <td>NaN</td>\n",
       "      <td>3.0</td>\n",
       "    </tr>\n",
       "  </tbody>\n",
       "</table>\n",
       "<p>2 rows × 30 columns</p>\n",
       "</div>"
      ],
      "text/plain": [
       "    iter  n_resources  mean_fit_time  std_fit_time  mean_score_time  \\\n",
       "20     0           77       0.003004      0.000009         0.001003   \n",
       "21     0           77       0.002997      0.000011         0.000400   \n",
       "\n",
       "    std_score_time  param_C param_kernel  param_max_iter  \\\n",
       "20        0.000008      100         poly         1000000   \n",
       "21        0.000490      100         poly         1000000   \n",
       "\n",
       "                                               params  ...  \\\n",
       "20  {'C': 100, 'degree': 2.0, 'gamma': None, 'kern...  ...   \n",
       "21  {'C': 100, 'degree': 3.0, 'gamma': None, 'kern...  ...   \n",
       "\n",
       "    split2_train_score  split3_train_score  split4_train_score  \\\n",
       "20           -0.009338           -0.009860           -0.009585   \n",
       "21           -0.010972           -0.009572           -0.036832   \n",
       "\n",
       "    mean_train_score  std_train_score  n_iter  h3_res  time_interval_length  \\\n",
       "20         -0.009679         0.000195       0       8                     6   \n",
       "21         -0.015437         0.010708       0       8                     6   \n",
       "\n",
       "    param_gamma  param_degree  \n",
       "20          NaN           2.0  \n",
       "21          NaN           3.0  \n",
       "\n",
       "[2 rows x 30 columns]"
      ]
     },
     "execution_count": 5,
     "metadata": {},
     "output_type": "execute_result"
    }
   ],
   "source": [
    "results = pd.read_parquet(SVM_FIRST_STAGE_RESULTS_PATH)\n",
    "results.sort_values(by=['mean_train_score'], ascending=False).head(2)"
   ]
  },
  {
   "cell_type": "code",
   "execution_count": 6,
   "metadata": {},
   "outputs": [
    {
     "data": {
      "text/plain": [
       "[(7, 1), (7, 2), (7, 6), (7, 24), (8, 1), (8, 2), (8, 6), (8, 24), (9, 24)]"
      ]
     },
     "execution_count": 6,
     "metadata": {},
     "output_type": "execute_result"
    }
   ],
   "source": [
    "resolutions = list(product(PREDICTIVE_H3_RESOLUTIONS, CALC_TIME_INTERVAL_LENGTHS))\n",
    "resolutions = resolutions + (ADDITIONAL_PREDICTIVE_RESOLUTIONS)\n",
    "resolutions"
   ]
  },
  {
   "cell_type": "code",
   "execution_count": 7,
   "metadata": {},
   "outputs": [
    {
     "data": {
      "application/vnd.jupyter.widget-view+json": {
       "model_id": "a65140406bc7464b88b31711157b4cd6",
       "version_major": 2,
       "version_minor": 0
      },
      "text/plain": [
       "  0%|          | 0/9 [00:00<?, ?it/s]"
      ]
     },
     "metadata": {},
     "output_type": "display_data"
    },
    {
     "data": {
      "application/vnd.jupyter.widget-view+json": {
       "model_id": "c6bdf72164774a3982116ad9c01b3a17",
       "version_major": 2,
       "version_minor": 0
      },
      "text/plain": [
       "  0%|          | 0/1 [00:00<?, ?it/s]"
      ]
     },
     "metadata": {},
     "output_type": "display_data"
    },
    {
     "data": {
      "application/vnd.jupyter.widget-view+json": {
       "model_id": "be1c61209fc24a11a97f4067da0c459b",
       "version_major": 2,
       "version_minor": 0
      },
      "text/plain": [
       "  0%|          | 0/1 [00:00<?, ?it/s]"
      ]
     },
     "metadata": {},
     "output_type": "display_data"
    },
    {
     "data": {
      "application/vnd.jupyter.widget-view+json": {
       "model_id": "019da9e14129498cb9fab6286166d819",
       "version_major": 2,
       "version_minor": 0
      },
      "text/plain": [
       "  0%|          | 0/1 [00:00<?, ?it/s]"
      ]
     },
     "metadata": {},
     "output_type": "display_data"
    },
    {
     "data": {
      "application/vnd.jupyter.widget-view+json": {
       "model_id": "263bbc9346a74e73ab9798cd0be803d1",
       "version_major": 2,
       "version_minor": 0
      },
      "text/plain": [
       "  0%|          | 0/1 [00:00<?, ?it/s]"
      ]
     },
     "metadata": {},
     "output_type": "display_data"
    },
    {
     "data": {
      "application/vnd.jupyter.widget-view+json": {
       "model_id": "b385e7cb0f0e4fecb9b667bbe25d5800",
       "version_major": 2,
       "version_minor": 0
      },
      "text/plain": [
       "  0%|          | 0/1 [00:00<?, ?it/s]"
      ]
     },
     "metadata": {},
     "output_type": "display_data"
    },
    {
     "data": {
      "application/vnd.jupyter.widget-view+json": {
       "model_id": "10fd7225212e4d3bbaf72f194b2cb170",
       "version_major": 2,
       "version_minor": 0
      },
      "text/plain": [
       "  0%|          | 0/1 [00:00<?, ?it/s]"
      ]
     },
     "metadata": {},
     "output_type": "display_data"
    },
    {
     "data": {
      "application/vnd.jupyter.widget-view+json": {
       "model_id": "e043c403781d44b5a1bf9f2778e48e35",
       "version_major": 2,
       "version_minor": 0
      },
      "text/plain": [
       "  0%|          | 0/1 [00:00<?, ?it/s]"
      ]
     },
     "metadata": {},
     "output_type": "display_data"
    },
    {
     "data": {
      "application/vnd.jupyter.widget-view+json": {
       "model_id": "220c9f45de5c4055bd27e8bdf4864bdf",
       "version_major": 2,
       "version_minor": 0
      },
      "text/plain": [
       "  0%|          | 0/1 [00:00<?, ?it/s]"
      ]
     },
     "metadata": {},
     "output_type": "display_data"
    },
    {
     "data": {
      "application/vnd.jupyter.widget-view+json": {
       "model_id": "41359504931e4a96b45124333ef9c08b",
       "version_major": 2,
       "version_minor": 0
      },
      "text/plain": [
       "  0%|          | 0/1 [00:00<?, ?it/s]"
      ]
     },
     "metadata": {},
     "output_type": "display_data"
    }
   ],
   "source": [
    "for h3_res, time_interval_length in tqdm(resolutions):\n",
    "    execute_stage(\n",
    "        SVM_SECOND_STAGE_RESULTS_PATH,\n",
    "        h3_res,\n",
    "        time_interval_length,\n",
    "        get_availabe_models_metas_second_stage,\n",
    "        do_evaluate_model=True,\n",
    "        silent=True,\n",
    "    )"
   ]
  },
  {
   "cell_type": "code",
   "execution_count": 8,
   "metadata": {},
   "outputs": [
    {
     "data": {
      "text/html": [
       "<div>\n",
       "<style scoped>\n",
       "    .dataframe tbody tr th:only-of-type {\n",
       "        vertical-align: middle;\n",
       "    }\n",
       "\n",
       "    .dataframe tbody tr th {\n",
       "        vertical-align: top;\n",
       "    }\n",
       "\n",
       "    .dataframe thead th {\n",
       "        text-align: right;\n",
       "    }\n",
       "</style>\n",
       "<table border=\"1\" class=\"dataframe\">\n",
       "  <thead>\n",
       "    <tr style=\"text-align: right;\">\n",
       "      <th></th>\n",
       "      <th>iter</th>\n",
       "      <th>n_resources</th>\n",
       "      <th>mean_fit_time</th>\n",
       "      <th>std_fit_time</th>\n",
       "      <th>mean_score_time</th>\n",
       "      <th>std_score_time</th>\n",
       "      <th>param_C</th>\n",
       "      <th>param_kernel</th>\n",
       "      <th>param_max_iter</th>\n",
       "      <th>params</th>\n",
       "      <th>...</th>\n",
       "      <th>split2_train_score</th>\n",
       "      <th>split3_train_score</th>\n",
       "      <th>split4_train_score</th>\n",
       "      <th>mean_train_score</th>\n",
       "      <th>std_train_score</th>\n",
       "      <th>n_iter</th>\n",
       "      <th>h3_res</th>\n",
       "      <th>time_interval_length</th>\n",
       "      <th>param_gamma</th>\n",
       "      <th>param_degree</th>\n",
       "    </tr>\n",
       "  </thead>\n",
       "  <tbody>\n",
       "    <tr>\n",
       "      <th>20</th>\n",
       "      <td>0</td>\n",
       "      <td>77</td>\n",
       "      <td>0.003004</td>\n",
       "      <td>0.000009</td>\n",
       "      <td>0.001003</td>\n",
       "      <td>0.000008</td>\n",
       "      <td>100</td>\n",
       "      <td>poly</td>\n",
       "      <td>1000000</td>\n",
       "      <td>{'C': 100, 'degree': 2.0, 'gamma': None, 'kern...</td>\n",
       "      <td>...</td>\n",
       "      <td>-0.009338</td>\n",
       "      <td>-0.009860</td>\n",
       "      <td>-0.009585</td>\n",
       "      <td>-0.009679</td>\n",
       "      <td>0.000195</td>\n",
       "      <td>0</td>\n",
       "      <td>8</td>\n",
       "      <td>6</td>\n",
       "      <td>NaN</td>\n",
       "      <td>2.0</td>\n",
       "    </tr>\n",
       "    <tr>\n",
       "      <th>21</th>\n",
       "      <td>0</td>\n",
       "      <td>77</td>\n",
       "      <td>0.002997</td>\n",
       "      <td>0.000011</td>\n",
       "      <td>0.000400</td>\n",
       "      <td>0.000490</td>\n",
       "      <td>100</td>\n",
       "      <td>poly</td>\n",
       "      <td>1000000</td>\n",
       "      <td>{'C': 100, 'degree': 3.0, 'gamma': None, 'kern...</td>\n",
       "      <td>...</td>\n",
       "      <td>-0.010972</td>\n",
       "      <td>-0.009572</td>\n",
       "      <td>-0.036832</td>\n",
       "      <td>-0.015437</td>\n",
       "      <td>0.010708</td>\n",
       "      <td>0</td>\n",
       "      <td>8</td>\n",
       "      <td>6</td>\n",
       "      <td>NaN</td>\n",
       "      <td>3.0</td>\n",
       "    </tr>\n",
       "  </tbody>\n",
       "</table>\n",
       "<p>2 rows × 30 columns</p>\n",
       "</div>"
      ],
      "text/plain": [
       "    iter  n_resources  mean_fit_time  std_fit_time  mean_score_time  \\\n",
       "20     0           77       0.003004      0.000009         0.001003   \n",
       "21     0           77       0.002997      0.000011         0.000400   \n",
       "\n",
       "    std_score_time  param_C param_kernel  param_max_iter  \\\n",
       "20        0.000008      100         poly         1000000   \n",
       "21        0.000490      100         poly         1000000   \n",
       "\n",
       "                                               params  ...  \\\n",
       "20  {'C': 100, 'degree': 2.0, 'gamma': None, 'kern...  ...   \n",
       "21  {'C': 100, 'degree': 3.0, 'gamma': None, 'kern...  ...   \n",
       "\n",
       "    split2_train_score  split3_train_score  split4_train_score  \\\n",
       "20           -0.009338           -0.009860           -0.009585   \n",
       "21           -0.010972           -0.009572           -0.036832   \n",
       "\n",
       "    mean_train_score  std_train_score  n_iter  h3_res  time_interval_length  \\\n",
       "20         -0.009679         0.000195       0       8                     6   \n",
       "21         -0.015437         0.010708       0       8                     6   \n",
       "\n",
       "    param_gamma  param_degree  \n",
       "20          NaN           2.0  \n",
       "21          NaN           3.0  \n",
       "\n",
       "[2 rows x 30 columns]"
      ]
     },
     "execution_count": 8,
     "metadata": {},
     "output_type": "execute_result"
    }
   ],
   "source": [
    "results = pd.read_parquet(SVM_FIRST_STAGE_RESULTS_PATH)\n",
    "results.sort_values(by=['mean_train_score'], ascending=False).head(2)"
   ]
  },
  {
   "cell_type": "code",
   "execution_count": 9,
   "metadata": {},
   "outputs": [
    {
     "data": {
      "text/html": [
       "<div>\n",
       "<style scoped>\n",
       "    .dataframe tbody tr th:only-of-type {\n",
       "        vertical-align: middle;\n",
       "    }\n",
       "\n",
       "    .dataframe tbody tr th {\n",
       "        vertical-align: top;\n",
       "    }\n",
       "\n",
       "    .dataframe thead th {\n",
       "        text-align: right;\n",
       "    }\n",
       "</style>\n",
       "<table border=\"1\" class=\"dataframe\">\n",
       "  <thead>\n",
       "    <tr style=\"text-align: right;\">\n",
       "      <th></th>\n",
       "      <th>iter</th>\n",
       "      <th>n_resources</th>\n",
       "      <th>mean_fit_time</th>\n",
       "      <th>std_fit_time</th>\n",
       "      <th>mean_score_time</th>\n",
       "      <th>std_score_time</th>\n",
       "      <th>param_C</th>\n",
       "      <th>param_degree</th>\n",
       "      <th>param_kernel</th>\n",
       "      <th>param_max_iter</th>\n",
       "      <th>...</th>\n",
       "      <th>split4_train_score</th>\n",
       "      <th>mean_train_score</th>\n",
       "      <th>std_train_score</th>\n",
       "      <th>n_iter</th>\n",
       "      <th>h3_res</th>\n",
       "      <th>time_interval_length</th>\n",
       "      <th>mse</th>\n",
       "      <th>mae</th>\n",
       "      <th>mape</th>\n",
       "      <th>rmse</th>\n",
       "    </tr>\n",
       "  </thead>\n",
       "  <tbody>\n",
       "    <tr>\n",
       "      <th>0</th>\n",
       "      <td>0</td>\n",
       "      <td>700</td>\n",
       "      <td>0.094798</td>\n",
       "      <td>0.008173</td>\n",
       "      <td>0.005003</td>\n",
       "      <td>0.000010</td>\n",
       "      <td>100</td>\n",
       "      <td>2.0</td>\n",
       "      <td>poly</td>\n",
       "      <td>1000000</td>\n",
       "      <td>...</td>\n",
       "      <td>-0.597791</td>\n",
       "      <td>-0.875397</td>\n",
       "      <td>0.284594</td>\n",
       "      <td>21274</td>\n",
       "      <td>7</td>\n",
       "      <td>1</td>\n",
       "      <td>9.382943</td>\n",
       "      <td>2.353098</td>\n",
       "      <td>1.153479</td>\n",
       "      <td>3.063159</td>\n",
       "    </tr>\n",
       "    <tr>\n",
       "      <th>1</th>\n",
       "      <td>0</td>\n",
       "      <td>700</td>\n",
       "      <td>0.110498</td>\n",
       "      <td>0.003413</td>\n",
       "      <td>0.004597</td>\n",
       "      <td>0.000599</td>\n",
       "      <td>100</td>\n",
       "      <td>2.0</td>\n",
       "      <td>poly</td>\n",
       "      <td>1000000</td>\n",
       "      <td>...</td>\n",
       "      <td>-6.260171</td>\n",
       "      <td>-5.354192</td>\n",
       "      <td>0.608826</td>\n",
       "      <td>28613</td>\n",
       "      <td>7</td>\n",
       "      <td>2</td>\n",
       "      <td>23.033967</td>\n",
       "      <td>3.390855</td>\n",
       "      <td>1.050885</td>\n",
       "      <td>4.799372</td>\n",
       "    </tr>\n",
       "    <tr>\n",
       "      <th>2</th>\n",
       "      <td>0</td>\n",
       "      <td>700</td>\n",
       "      <td>0.101160</td>\n",
       "      <td>0.012082</td>\n",
       "      <td>0.004801</td>\n",
       "      <td>0.001167</td>\n",
       "      <td>100</td>\n",
       "      <td>2.0</td>\n",
       "      <td>poly</td>\n",
       "      <td>1000000</td>\n",
       "      <td>...</td>\n",
       "      <td>-28.281038</td>\n",
       "      <td>-36.000983</td>\n",
       "      <td>4.939644</td>\n",
       "      <td>28462</td>\n",
       "      <td>7</td>\n",
       "      <td>6</td>\n",
       "      <td>80.508167</td>\n",
       "      <td>5.303404</td>\n",
       "      <td>1.023823</td>\n",
       "      <td>8.972634</td>\n",
       "    </tr>\n",
       "    <tr>\n",
       "      <th>3</th>\n",
       "      <td>0</td>\n",
       "      <td>700</td>\n",
       "      <td>0.056994</td>\n",
       "      <td>0.009572</td>\n",
       "      <td>0.004602</td>\n",
       "      <td>0.000487</td>\n",
       "      <td>100</td>\n",
       "      <td>2.0</td>\n",
       "      <td>poly</td>\n",
       "      <td>1000000</td>\n",
       "      <td>...</td>\n",
       "      <td>-491.326329</td>\n",
       "      <td>-420.977401</td>\n",
       "      <td>65.621148</td>\n",
       "      <td>13466</td>\n",
       "      <td>7</td>\n",
       "      <td>24</td>\n",
       "      <td>495.580942</td>\n",
       "      <td>12.470649</td>\n",
       "      <td>1.089774</td>\n",
       "      <td>22.261647</td>\n",
       "    </tr>\n",
       "    <tr>\n",
       "      <th>4</th>\n",
       "      <td>0</td>\n",
       "      <td>700</td>\n",
       "      <td>0.051532</td>\n",
       "      <td>0.001782</td>\n",
       "      <td>0.007605</td>\n",
       "      <td>0.000789</td>\n",
       "      <td>100</td>\n",
       "      <td>2.0</td>\n",
       "      <td>poly</td>\n",
       "      <td>1000000</td>\n",
       "      <td>...</td>\n",
       "      <td>-0.010381</td>\n",
       "      <td>-0.009905</td>\n",
       "      <td>0.000641</td>\n",
       "      <td>4416</td>\n",
       "      <td>8</td>\n",
       "      <td>1</td>\n",
       "      <td>0.933754</td>\n",
       "      <td>0.621257</td>\n",
       "      <td>0.517714</td>\n",
       "      <td>0.966310</td>\n",
       "    </tr>\n",
       "    <tr>\n",
       "      <th>5</th>\n",
       "      <td>0</td>\n",
       "      <td>700</td>\n",
       "      <td>0.066337</td>\n",
       "      <td>0.002946</td>\n",
       "      <td>0.009050</td>\n",
       "      <td>0.001953</td>\n",
       "      <td>100</td>\n",
       "      <td>2.0</td>\n",
       "      <td>poly</td>\n",
       "      <td>1000000</td>\n",
       "      <td>...</td>\n",
       "      <td>-0.029367</td>\n",
       "      <td>-0.021426</td>\n",
       "      <td>0.010082</td>\n",
       "      <td>8040</td>\n",
       "      <td>8</td>\n",
       "      <td>2</td>\n",
       "      <td>4.903391</td>\n",
       "      <td>0.877397</td>\n",
       "      <td>0.709485</td>\n",
       "      <td>2.214360</td>\n",
       "    </tr>\n",
       "    <tr>\n",
       "      <th>6</th>\n",
       "      <td>0</td>\n",
       "      <td>700</td>\n",
       "      <td>0.192638</td>\n",
       "      <td>0.063073</td>\n",
       "      <td>0.023020</td>\n",
       "      <td>0.011662</td>\n",
       "      <td>100</td>\n",
       "      <td>2.0</td>\n",
       "      <td>poly</td>\n",
       "      <td>1000000</td>\n",
       "      <td>...</td>\n",
       "      <td>-0.009459</td>\n",
       "      <td>-0.009511</td>\n",
       "      <td>0.000096</td>\n",
       "      <td>3286</td>\n",
       "      <td>8</td>\n",
       "      <td>6</td>\n",
       "      <td>1.195327</td>\n",
       "      <td>0.853376</td>\n",
       "      <td>0.570184</td>\n",
       "      <td>1.093310</td>\n",
       "    </tr>\n",
       "    <tr>\n",
       "      <th>7</th>\n",
       "      <td>0</td>\n",
       "      <td>700</td>\n",
       "      <td>0.063513</td>\n",
       "      <td>0.003041</td>\n",
       "      <td>0.008251</td>\n",
       "      <td>0.001384</td>\n",
       "      <td>100</td>\n",
       "      <td>2.0</td>\n",
       "      <td>poly</td>\n",
       "      <td>1000000</td>\n",
       "      <td>...</td>\n",
       "      <td>-0.998329</td>\n",
       "      <td>-0.919021</td>\n",
       "      <td>0.225460</td>\n",
       "      <td>7951</td>\n",
       "      <td>8</td>\n",
       "      <td>24</td>\n",
       "      <td>7.114808</td>\n",
       "      <td>1.847271</td>\n",
       "      <td>0.834610</td>\n",
       "      <td>2.667360</td>\n",
       "    </tr>\n",
       "    <tr>\n",
       "      <th>8</th>\n",
       "      <td>0</td>\n",
       "      <td>700</td>\n",
       "      <td>0.296464</td>\n",
       "      <td>0.084701</td>\n",
       "      <td>0.053609</td>\n",
       "      <td>0.028031</td>\n",
       "      <td>100</td>\n",
       "      <td>2.0</td>\n",
       "      <td>poly</td>\n",
       "      <td>1000000</td>\n",
       "      <td>...</td>\n",
       "      <td>-0.024159</td>\n",
       "      <td>-0.017974</td>\n",
       "      <td>0.005527</td>\n",
       "      <td>2512</td>\n",
       "      <td>9</td>\n",
       "      <td>24</td>\n",
       "      <td>0.702102</td>\n",
       "      <td>0.468359</td>\n",
       "      <td>0.381815</td>\n",
       "      <td>0.837915</td>\n",
       "    </tr>\n",
       "  </tbody>\n",
       "</table>\n",
       "<p>9 rows × 33 columns</p>\n",
       "</div>"
      ],
      "text/plain": [
       "   iter  n_resources  mean_fit_time  std_fit_time  mean_score_time  \\\n",
       "0     0          700       0.094798      0.008173         0.005003   \n",
       "1     0          700       0.110498      0.003413         0.004597   \n",
       "2     0          700       0.101160      0.012082         0.004801   \n",
       "3     0          700       0.056994      0.009572         0.004602   \n",
       "4     0          700       0.051532      0.001782         0.007605   \n",
       "5     0          700       0.066337      0.002946         0.009050   \n",
       "6     0          700       0.192638      0.063073         0.023020   \n",
       "7     0          700       0.063513      0.003041         0.008251   \n",
       "8     0          700       0.296464      0.084701         0.053609   \n",
       "\n",
       "   std_score_time  param_C  param_degree param_kernel  param_max_iter  ...  \\\n",
       "0        0.000010      100           2.0         poly         1000000  ...   \n",
       "1        0.000599      100           2.0         poly         1000000  ...   \n",
       "2        0.001167      100           2.0         poly         1000000  ...   \n",
       "3        0.000487      100           2.0         poly         1000000  ...   \n",
       "4        0.000789      100           2.0         poly         1000000  ...   \n",
       "5        0.001953      100           2.0         poly         1000000  ...   \n",
       "6        0.011662      100           2.0         poly         1000000  ...   \n",
       "7        0.001384      100           2.0         poly         1000000  ...   \n",
       "8        0.028031      100           2.0         poly         1000000  ...   \n",
       "\n",
       "  split4_train_score  mean_train_score  std_train_score  n_iter  h3_res  \\\n",
       "0          -0.597791         -0.875397         0.284594   21274       7   \n",
       "1          -6.260171         -5.354192         0.608826   28613       7   \n",
       "2         -28.281038        -36.000983         4.939644   28462       7   \n",
       "3        -491.326329       -420.977401        65.621148   13466       7   \n",
       "4          -0.010381         -0.009905         0.000641    4416       8   \n",
       "5          -0.029367         -0.021426         0.010082    8040       8   \n",
       "6          -0.009459         -0.009511         0.000096    3286       8   \n",
       "7          -0.998329         -0.919021         0.225460    7951       8   \n",
       "8          -0.024159         -0.017974         0.005527    2512       9   \n",
       "\n",
       "   time_interval_length         mse        mae      mape       rmse  \n",
       "0                     1    9.382943   2.353098  1.153479   3.063159  \n",
       "1                     2   23.033967   3.390855  1.050885   4.799372  \n",
       "2                     6   80.508167   5.303404  1.023823   8.972634  \n",
       "3                    24  495.580942  12.470649  1.089774  22.261647  \n",
       "4                     1    0.933754   0.621257  0.517714   0.966310  \n",
       "5                     2    4.903391   0.877397  0.709485   2.214360  \n",
       "6                     6    1.195327   0.853376  0.570184   1.093310  \n",
       "7                    24    7.114808   1.847271  0.834610   2.667360  \n",
       "8                    24    0.702102   0.468359  0.381815   0.837915  \n",
       "\n",
       "[9 rows x 33 columns]"
      ]
     },
     "execution_count": 9,
     "metadata": {},
     "output_type": "execute_result"
    }
   ],
   "source": [
    "results_final = pd.read_parquet(SVM_SECOND_STAGE_RESULTS_PATH)\n",
    "results_final"
   ]
  },
  {
   "cell_type": "code",
   "execution_count": null,
   "metadata": {},
   "outputs": [],
   "source": []
  }
 ],
 "metadata": {
  "interpreter": {
   "hash": "480189c8b893ba0e665d676e4d8fbaa7064789f8cb0c8dbdf4a412ac1da4cf12"
  },
  "kernelspec": {
   "display_name": "Python 3.9.13 ('AAA_MAGMA')",
   "language": "python",
   "name": "python3"
  },
  "language_info": {
   "codemirror_mode": {
    "name": "ipython",
    "version": 3
   },
   "file_extension": ".py",
   "mimetype": "text/x-python",
   "name": "python",
   "nbconvert_exporter": "python",
   "pygments_lexer": "ipython3",
   "version": "3.9.13"
  },
  "orig_nbformat": 4
 },
 "nbformat": 4,
 "nbformat_minor": 2
}
