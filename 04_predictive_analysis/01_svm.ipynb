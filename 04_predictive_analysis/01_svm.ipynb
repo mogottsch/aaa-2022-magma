{
 "cells": [
  {
   "cell_type": "code",
   "execution_count": 52,
   "metadata": {},
   "outputs": [],
   "source": [
    "from time import time\n",
    "import pandas as pd\n",
    "\n",
    "# for model training\n",
    "from sklearn.svm import SVR\n",
    "\n",
    "# for evaluation & preprocessing\n",
    "from sklearn.model_selection import (\n",
    "    train_test_split,\n",
    "    GridSearchCV,\n",
    ")\n",
    "from sklearn.preprocessing import StandardScaler\n",
    "from sklearn.metrics import (\n",
    "    mean_squared_error,\n",
    "    mean_absolute_error,\n",
    ")\n",
    "import sys, os\n",
    "sys.path.append(os.path.abspath(os.path.join(\"..\")))\n",
    "\n",
    "# for displaying results & feedback\n",
    "# from tabulate import tabulate\n",
    "import matplotlib.pyplot as plt"
   ]
  },
  {
   "cell_type": "code",
   "execution_count": 53,
   "metadata": {},
   "outputs": [
    {
     "name": "stdout",
     "output_type": "stream",
     "text": [
      "The autoreload extension is already loaded. To reload it, use:\n",
      "  %reload_ext autoreload\n"
     ]
    }
   ],
   "source": [
    "import sys, os\n",
    "\n",
    "sys.path.append(os.path.abspath('..'))\n",
    "%load_ext autoreload\n",
    "%autoreload 2\n",
    "from modules.config import *"
   ]
  },
  {
   "cell_type": "code",
   "execution_count": 54,
   "metadata": {},
   "outputs": [],
   "source": [
    "model_data = pd.read_parquet(MODEL_DATA_PATH)\n",
    "model_data.head(2)"
   ]
  },
  {
   "cell_type": "code",
   "execution_count": null,
   "metadata": {},
   "outputs": [],
   "source": [
    "# encode start and end hexagons as one-hot vectors\n",
    "model_data = model_data[(model_data['h3_res'] == 7) & (model_data['time_interval_length'] == 24)]\n",
    "start_hex_dummies = pd.get_dummies(model_data.start_hex_id, prefix=\"start_\")\n",
    "end_hex_dummies = pd.get_dummies(model_data.end_hex_id, prefix=\"end_\")\n",
    "model_data = pd.concat([model_data, start_hex_dummies, end_hex_dummies], axis=1)\n",
    "model_data = model_data.drop(columns=['start_hex_id', 'end_hex_id'])"
   ]
  },
  {
   "cell_type": "code",
   "execution_count": 7,
   "metadata": {},
   "outputs": [],
   "source": [
    "model_data = model_data.iloc[:100000]"
   ]
  },
  {
   "cell_type": "code",
   "execution_count": 8,
   "metadata": {},
   "outputs": [
    {
     "name": "stdout",
     "output_type": "stream",
     "text": [
      "Size of the train dataset is: 7000\n",
      "Size of the test dataset is: 3000\n"
     ]
    }
   ],
   "source": [
    "y = model_data[\"demand\"]\n",
    "X = model_data.drop(columns=[\"demand\"])\n",
    "\n",
    "X_train, X_test, y_train, y_test = train_test_split(X, y, train_size=0.7, random_state=42)\n",
    "# X_train, X_rest, y_train, y_rest = train_test_split(X, y, train_size=0.7, random_state=42)\n",
    "# X_valid, X_test, y_valid, y_test = train_test_split(X_rest, y_rest, test_size=0.5, random_state=42)\n",
    "\n",
    "print(f\"Size of the train dataset is: {X_train.shape[0]}\")\n",
    "# print(f\"Size of the validation dataset is: {X_valid.shape[0]}\")\n",
    "print(f\"Size of the test dataset is: {X_test.shape[0]}\")"
   ]
  },
  {
   "cell_type": "code",
   "execution_count": 11,
   "metadata": {},
   "outputs": [
    {
     "name": "stderr",
     "output_type": "stream",
     "text": [
      "c:\\Users\\kuian\\miniconda3\\envs\\AAA\\lib\\site-packages\\sklearn\\base.py:443: UserWarning: X has feature names, but StandardScaler was fitted without feature names\n",
      "  warnings.warn(\n"
     ]
    }
   ],
   "source": [
    "scaler = StandardScaler()\n",
    "X_train = scaler.fit_transform(X_train)\n",
    "# X_valid = scaler.transform(X_valid)\n",
    "X_test = scaler.transform(X_test)"
   ]
  },
  {
   "cell_type": "code",
   "execution_count": 12,
   "metadata": {},
   "outputs": [],
   "source": [
    "def mean_average_percentage_error(y_true, y_pred):\n",
    "    return mean_absolute_error(y_true, y_pred) / y_true.mean()\n",
    "\n",
    "\n",
    "def root_mean_squared_error(y_true, y_pred):\n",
    "    return mean_squared_error(y_true, y_pred) ** 0.5"
   ]
  },
  {
   "cell_type": "code",
   "execution_count": 13,
   "metadata": {},
   "outputs": [],
   "source": [
    "results = []\n",
    "def get_results_array(y_pred_for_validation, y_pred_for_test, kernel, C, degree):\n",
    "    return [\n",
    "        kernel,\n",
    "        C,\n",
    "        degree,\n",
    "        \n",
    "        mean_squared_error(y_valid, y_pred_for_validation),\n",
    "        mean_absolute_error(y_valid, y_pred_for_validation),\n",
    "        mean_average_percentage_error(y_valid, y_pred_for_validation),\n",
    "        root_mean_squared_error(y_valid, y_pred_for_validation),\n",
    "        \n",
    "        mean_squared_error(y_test, y_pred_for_test),\n",
    "        mean_absolute_error(y_test, y_pred_for_test),\n",
    "        mean_average_percentage_error(y_test, y_pred_for_test),\n",
    "        root_mean_squared_error(y_test, y_pred_for_test),\n",
    "    ]"
   ]
  },
  {
   "cell_type": "code",
   "execution_count": 14,
   "metadata": {},
   "outputs": [],
   "source": [
    "def train_model_and_calculate_results(kernel, C, degree):\n",
    "    model = SVR(kernel=kernel, degree=degree, C=C)\n",
    "    model.fit(X_train, y_train)\n",
    "\n",
    "    y_pred_for_validation = model.predict(X_valid)\n",
    "    y_pred_for_test = model.predict(X_test)\n",
    "    \n",
    "    results_array = get_results_array(y_pred_for_validation, y_pred_for_test, kernel, C, degree)\n",
    "    results.append(results_array)"
   ]
  },
  {
   "cell_type": "code",
   "execution_count": 15,
   "metadata": {},
   "outputs": [],
   "source": [
    "# kernel_options = [\"linear\", \"poly\", \"rbf\"]\n",
    "# degree = 0\n",
    "# polynomial_degree_options = [2, 3, 4, 5, 6, 7]\n",
    "# C_options = [1, 10, 100]\n",
    "\n",
    "# for kernel in kernel_options:\n",
    "#     for C in C_options:\n",
    "#         if kernel != 'poly':\n",
    "#             train_model_and_calculate_results(kernel, C, degree)\n",
    "#             continue\n",
    "\n",
    "#         for degree in polynomial_degree_options:\n",
    "#             train_model_and_calculate_results(kernel, C, degree)"
   ]
  },
  {
   "cell_type": "code",
   "execution_count": 16,
   "metadata": {},
   "outputs": [],
   "source": [
    "# results = pd.DataFrame(results, columns=[\n",
    "#     \"kernel\", \"C\", \"degree\",\n",
    "#     \"val_MSE\", \"val_MAE\", \"val_MAPE\", \"val_RMSE\",\n",
    "#     \"test_MSE\", \"test_MAE\", \"test_MAPE\", \"test_RMSE\"\n",
    "# ])\n",
    "# results.sort_values(by=\"val_MAPE\")"
   ]
  },
  {
   "cell_type": "code",
   "execution_count": 41,
   "metadata": {},
   "outputs": [
    {
     "name": "stdout",
     "output_type": "stream",
     "text": [
      "Fitting 5 folds for each of 36 candidates, totalling 180 fits\n"
     ]
    },
    {
     "data": {
      "text/html": [
       "<style>#sk-container-id-4 {color: black;background-color: white;}#sk-container-id-4 pre{padding: 0;}#sk-container-id-4 div.sk-toggleable {background-color: white;}#sk-container-id-4 label.sk-toggleable__label {cursor: pointer;display: block;width: 100%;margin-bottom: 0;padding: 0.3em;box-sizing: border-box;text-align: center;}#sk-container-id-4 label.sk-toggleable__label-arrow:before {content: \"▸\";float: left;margin-right: 0.25em;color: #696969;}#sk-container-id-4 label.sk-toggleable__label-arrow:hover:before {color: black;}#sk-container-id-4 div.sk-estimator:hover label.sk-toggleable__label-arrow:before {color: black;}#sk-container-id-4 div.sk-toggleable__content {max-height: 0;max-width: 0;overflow: hidden;text-align: left;background-color: #f0f8ff;}#sk-container-id-4 div.sk-toggleable__content pre {margin: 0.2em;color: black;border-radius: 0.25em;background-color: #f0f8ff;}#sk-container-id-4 input.sk-toggleable__control:checked~div.sk-toggleable__content {max-height: 200px;max-width: 100%;overflow: auto;}#sk-container-id-4 input.sk-toggleable__control:checked~label.sk-toggleable__label-arrow:before {content: \"▾\";}#sk-container-id-4 div.sk-estimator input.sk-toggleable__control:checked~label.sk-toggleable__label {background-color: #d4ebff;}#sk-container-id-4 div.sk-label input.sk-toggleable__control:checked~label.sk-toggleable__label {background-color: #d4ebff;}#sk-container-id-4 input.sk-hidden--visually {border: 0;clip: rect(1px 1px 1px 1px);clip: rect(1px, 1px, 1px, 1px);height: 1px;margin: -1px;overflow: hidden;padding: 0;position: absolute;width: 1px;}#sk-container-id-4 div.sk-estimator {font-family: monospace;background-color: #f0f8ff;border: 1px dotted black;border-radius: 0.25em;box-sizing: border-box;margin-bottom: 0.5em;}#sk-container-id-4 div.sk-estimator:hover {background-color: #d4ebff;}#sk-container-id-4 div.sk-parallel-item::after {content: \"\";width: 100%;border-bottom: 1px solid gray;flex-grow: 1;}#sk-container-id-4 div.sk-label:hover label.sk-toggleable__label {background-color: #d4ebff;}#sk-container-id-4 div.sk-serial::before {content: \"\";position: absolute;border-left: 1px solid gray;box-sizing: border-box;top: 0;bottom: 0;left: 50%;z-index: 0;}#sk-container-id-4 div.sk-serial {display: flex;flex-direction: column;align-items: center;background-color: white;padding-right: 0.2em;padding-left: 0.2em;position: relative;}#sk-container-id-4 div.sk-item {position: relative;z-index: 1;}#sk-container-id-4 div.sk-parallel {display: flex;align-items: stretch;justify-content: center;background-color: white;position: relative;}#sk-container-id-4 div.sk-item::before, #sk-container-id-4 div.sk-parallel-item::before {content: \"\";position: absolute;border-left: 1px solid gray;box-sizing: border-box;top: 0;bottom: 0;left: 50%;z-index: -1;}#sk-container-id-4 div.sk-parallel-item {display: flex;flex-direction: column;z-index: 1;position: relative;background-color: white;}#sk-container-id-4 div.sk-parallel-item:first-child::after {align-self: flex-end;width: 50%;}#sk-container-id-4 div.sk-parallel-item:last-child::after {align-self: flex-start;width: 50%;}#sk-container-id-4 div.sk-parallel-item:only-child::after {width: 0;}#sk-container-id-4 div.sk-dashed-wrapped {border: 1px dashed gray;margin: 0 0.4em 0.5em 0.4em;box-sizing: border-box;padding-bottom: 0.4em;background-color: white;}#sk-container-id-4 div.sk-label label {font-family: monospace;font-weight: bold;display: inline-block;line-height: 1.2em;}#sk-container-id-4 div.sk-label-container {text-align: center;}#sk-container-id-4 div.sk-container {/* jupyter's `normalize.less` sets `[hidden] { display: none; }` but bootstrap.min.css set `[hidden] { display: none !important; }` so we also need the `!important` here to be able to override the default hidden behavior on the sphinx rendered scikit-learn.org. See: https://github.com/scikit-learn/scikit-learn/issues/21755 */display: inline-block !important;position: relative;}#sk-container-id-4 div.sk-text-repr-fallback {display: none;}</style><div id=\"sk-container-id-4\" class=\"sk-top-container\"><div class=\"sk-text-repr-fallback\"><pre>GridSearchCV(estimator=SVR(), n_jobs=-1,\n",
       "             param_grid={&#x27;C&#x27;: [1, 10], &#x27;degree&#x27;: [2, 3, 4, 5, 6, 7],\n",
       "                         &#x27;kernel&#x27;: (&#x27;linear&#x27;, &#x27;poly&#x27;, &#x27;rbf&#x27;)},\n",
       "             scoring=&#x27;neg_mean_squared_error&#x27;, verbose=3)</pre><b>In a Jupyter environment, please rerun this cell to show the HTML representation or trust the notebook. <br />On GitHub, the HTML representation is unable to render, please try loading this page with nbviewer.org.</b></div><div class=\"sk-container\" hidden><div class=\"sk-item sk-dashed-wrapped\"><div class=\"sk-label-container\"><div class=\"sk-label sk-toggleable\"><input class=\"sk-toggleable__control sk-hidden--visually\" id=\"sk-estimator-id-8\" type=\"checkbox\" ><label for=\"sk-estimator-id-8\" class=\"sk-toggleable__label sk-toggleable__label-arrow\">GridSearchCV</label><div class=\"sk-toggleable__content\"><pre>GridSearchCV(estimator=SVR(), n_jobs=-1,\n",
       "             param_grid={&#x27;C&#x27;: [1, 10], &#x27;degree&#x27;: [2, 3, 4, 5, 6, 7],\n",
       "                         &#x27;kernel&#x27;: (&#x27;linear&#x27;, &#x27;poly&#x27;, &#x27;rbf&#x27;)},\n",
       "             scoring=&#x27;neg_mean_squared_error&#x27;, verbose=3)</pre></div></div></div><div class=\"sk-parallel\"><div class=\"sk-parallel-item\"><div class=\"sk-item\"><div class=\"sk-label-container\"><div class=\"sk-label sk-toggleable\"><input class=\"sk-toggleable__control sk-hidden--visually\" id=\"sk-estimator-id-9\" type=\"checkbox\" ><label for=\"sk-estimator-id-9\" class=\"sk-toggleable__label sk-toggleable__label-arrow\">estimator: SVR</label><div class=\"sk-toggleable__content\"><pre>SVR()</pre></div></div></div><div class=\"sk-serial\"><div class=\"sk-item\"><div class=\"sk-estimator sk-toggleable\"><input class=\"sk-toggleable__control sk-hidden--visually\" id=\"sk-estimator-id-10\" type=\"checkbox\" ><label for=\"sk-estimator-id-10\" class=\"sk-toggleable__label sk-toggleable__label-arrow\">SVR</label><div class=\"sk-toggleable__content\"><pre>SVR()</pre></div></div></div></div></div></div></div></div></div></div>"
      ],
      "text/plain": [
       "GridSearchCV(estimator=SVR(), n_jobs=-1,\n",
       "             param_grid={'C': [1, 10], 'degree': [2, 3, 4, 5, 6, 7],\n",
       "                         'kernel': ('linear', 'poly', 'rbf')},\n",
       "             scoring='neg_mean_squared_error', verbose=3)"
      ]
     },
     "execution_count": 41,
     "metadata": {},
     "output_type": "execute_result"
    }
   ],
   "source": [
    "parameters = {\n",
    "    'kernel':(\"linear\", \"poly\", \"rbf\"),\n",
    "    'C':[1, 10],\n",
    "    'degree':[2, 3, 4, 5, 6, 7]\n",
    "}\n",
    "svr = SVR()\n",
    "clf = GridSearchCV(svr, parameters, n_jobs=-1, verbose=3, scoring=\"neg_mean_squared_error\")\n",
    "clf.fit(X_train, y_train)"
   ]
  },
  {
   "cell_type": "code",
   "execution_count": 42,
   "metadata": {},
   "outputs": [
    {
     "data": {
      "text/plain": [
       "['mean_fit_time',\n",
       " 'mean_score_time',\n",
       " 'mean_test_score',\n",
       " 'param_C',\n",
       " 'param_degree',\n",
       " 'param_kernel',\n",
       " 'params',\n",
       " 'rank_test_score',\n",
       " 'split0_test_score',\n",
       " 'split1_test_score',\n",
       " 'split2_test_score',\n",
       " 'split3_test_score',\n",
       " 'split4_test_score',\n",
       " 'std_fit_time',\n",
       " 'std_score_time',\n",
       " 'std_test_score']"
      ]
     },
     "execution_count": 42,
     "metadata": {},
     "output_type": "execute_result"
    }
   ],
   "source": [
    "sorted(clf.cv_results_.keys())"
   ]
  },
  {
   "cell_type": "code",
   "execution_count": 49,
   "metadata": {},
   "outputs": [
    {
     "data": {
      "text/html": [
       "<div>\n",
       "<style scoped>\n",
       "    .dataframe tbody tr th:only-of-type {\n",
       "        vertical-align: middle;\n",
       "    }\n",
       "\n",
       "    .dataframe tbody tr th {\n",
       "        vertical-align: top;\n",
       "    }\n",
       "\n",
       "    .dataframe thead th {\n",
       "        text-align: right;\n",
       "    }\n",
       "</style>\n",
       "<table border=\"1\" class=\"dataframe\">\n",
       "  <thead>\n",
       "    <tr style=\"text-align: right;\">\n",
       "      <th></th>\n",
       "      <th>mean_fit_time</th>\n",
       "      <th>std_fit_time</th>\n",
       "      <th>mean_score_time</th>\n",
       "      <th>std_score_time</th>\n",
       "      <th>param_C</th>\n",
       "      <th>param_degree</th>\n",
       "      <th>param_kernel</th>\n",
       "      <th>params</th>\n",
       "      <th>split0_test_score</th>\n",
       "      <th>split1_test_score</th>\n",
       "      <th>split2_test_score</th>\n",
       "      <th>split3_test_score</th>\n",
       "      <th>split4_test_score</th>\n",
       "      <th>mean_test_score</th>\n",
       "      <th>std_test_score</th>\n",
       "      <th>rank_test_score</th>\n",
       "    </tr>\n",
       "  </thead>\n",
       "  <tbody>\n",
       "    <tr>\n",
       "      <th>25</th>\n",
       "      <td>6.623288</td>\n",
       "      <td>1.002218</td>\n",
       "      <td>1.849753</td>\n",
       "      <td>0.853562</td>\n",
       "      <td>10</td>\n",
       "      <td>4</td>\n",
       "      <td>poly</td>\n",
       "      <td>{'C': 10, 'degree': 4, 'kernel': 'poly'}</td>\n",
       "      <td>-100.917669</td>\n",
       "      <td>-114.316443</td>\n",
       "      <td>-132.611728</td>\n",
       "      <td>-107.313398</td>\n",
       "      <td>-116.914132</td>\n",
       "      <td>-114.414674</td>\n",
       "      <td>10.676956</td>\n",
       "      <td>1</td>\n",
       "    </tr>\n",
       "    <tr>\n",
       "      <th>22</th>\n",
       "      <td>7.186136</td>\n",
       "      <td>0.888642</td>\n",
       "      <td>2.226804</td>\n",
       "      <td>1.358889</td>\n",
       "      <td>10</td>\n",
       "      <td>3</td>\n",
       "      <td>poly</td>\n",
       "      <td>{'C': 10, 'degree': 3, 'kernel': 'poly'}</td>\n",
       "      <td>-112.316617</td>\n",
       "      <td>-122.000309</td>\n",
       "      <td>-132.929557</td>\n",
       "      <td>-112.196657</td>\n",
       "      <td>-122.960364</td>\n",
       "      <td>-120.480701</td>\n",
       "      <td>7.729290</td>\n",
       "      <td>2</td>\n",
       "    </tr>\n",
       "  </tbody>\n",
       "</table>\n",
       "</div>"
      ],
      "text/plain": [
       "    mean_fit_time  std_fit_time  mean_score_time  std_score_time param_C  \\\n",
       "25       6.623288      1.002218         1.849753        0.853562      10   \n",
       "22       7.186136      0.888642         2.226804        1.358889      10   \n",
       "\n",
       "   param_degree param_kernel                                    params  \\\n",
       "25            4         poly  {'C': 10, 'degree': 4, 'kernel': 'poly'}   \n",
       "22            3         poly  {'C': 10, 'degree': 3, 'kernel': 'poly'}   \n",
       "\n",
       "    split0_test_score  split1_test_score  split2_test_score  \\\n",
       "25        -100.917669        -114.316443        -132.611728   \n",
       "22        -112.316617        -122.000309        -132.929557   \n",
       "\n",
       "    split3_test_score  split4_test_score  mean_test_score  std_test_score  \\\n",
       "25        -107.313398        -116.914132      -114.414674       10.676956   \n",
       "22        -112.196657        -122.960364      -120.480701        7.729290   \n",
       "\n",
       "    rank_test_score  \n",
       "25                1  \n",
       "22                2  "
      ]
     },
     "execution_count": 49,
     "metadata": {},
     "output_type": "execute_result"
    }
   ],
   "source": [
    "res = pd.DataFrame(clf.cv_results_)\n",
    "res.sort_values(by=\"mean_test_score\", ascending=False).head(2)"
   ]
  },
  {
   "cell_type": "code",
   "execution_count": 51,
   "metadata": {},
   "outputs": [
    {
     "name": "stdout",
     "output_type": "stream",
     "text": [
      "MSE: 1181543985494955.0\n",
      "MAE: 32848471.12409008\n"
     ]
    }
   ],
   "source": [
    "from sklearn.metrics import mean_squared_error, mean_absolute_error\n",
    "\n",
    "y_pred = clf.predict(X_test)\n",
    "mse = mean_squared_error(y_test, y_pred)\n",
    "mae = mean_absolute_error(y_test, y_pred)\n",
    "\n",
    "print(f\"MSE: {mse}\")\n",
    "print(f\"MAE: {mae}\")"
   ]
  },
  {
   "cell_type": "code",
   "execution_count": 50,
   "metadata": {},
   "outputs": [
    {
     "data": {
      "text/plain": [
       "array([  9.09993172,  55.10001362,  58.10009214, ..., 100.10005765,\n",
       "        23.09988907,  71.90007431])"
      ]
     },
     "execution_count": 50,
     "metadata": {},
     "output_type": "execute_result"
    }
   ],
   "source": [
    "y_pred"
   ]
  },
  {
   "cell_type": "code",
   "execution_count": 46,
   "metadata": {},
   "outputs": [
    {
     "data": {
      "text/plain": [
       "277077     48\n",
       "275509    133\n",
       "272556     34\n",
       "275567    120\n",
       "275346    107\n",
       "         ... \n",
       "278839     48\n",
       "271899     23\n",
       "273888     95\n",
       "277312     55\n",
       "275530    131\n",
       "Name: demand, Length: 3000, dtype: int64"
      ]
     },
     "execution_count": 46,
     "metadata": {},
     "output_type": "execute_result"
    }
   ],
   "source": [
    "y_test"
   ]
  },
  {
   "cell_type": "code",
   "execution_count": null,
   "metadata": {},
   "outputs": [],
   "source": []
  },
  {
   "cell_type": "code",
   "execution_count": null,
   "metadata": {},
   "outputs": [],
   "source": [
    "retrain best model on all data"
   ]
  }
 ],
 "metadata": {
  "interpreter": {
   "hash": "dfe5d669475e0224b78c5039dd4048f8afdfbc0a8400e3514111f5faddc37912"
  },
  "kernelspec": {
   "display_name": "Python 3.9.12 ('base')",
   "language": "python",
   "name": "python3"
  },
  "language_info": {
   "codemirror_mode": {
    "name": "ipython",
    "version": 3
   },
   "file_extension": ".py",
   "mimetype": "text/x-python",
   "name": "python",
   "nbconvert_exporter": "python",
   "pygments_lexer": "ipython3",
   "version": "3.9.12"
  },
  "orig_nbformat": 4
 },
 "nbformat": 4,
 "nbformat_minor": 2
}
