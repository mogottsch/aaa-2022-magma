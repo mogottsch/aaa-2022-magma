{
 "cells": [
  {
   "cell_type": "code",
   "execution_count": 1,
   "metadata": {},
   "outputs": [],
   "source": [
    "from time import time\n",
    "import pandas as pd\n",
    "\n",
    "# for model training\n",
    "from sklearn.svm import SVR\n",
    "\n",
    "# for evaluation & preprocessing\n",
    "from sklearn.model_selection import (\n",
    "    train_test_split,\n",
    "    GridSearchCV,\n",
    ")\n",
    "from sklearn.preprocessing import StandardScaler\n",
    "from sklearn.metrics import (\n",
    "    mean_squared_error,\n",
    "    mean_absolute_error,\n",
    ")\n",
    "import sys, os\n",
    "sys.path.append(os.path.abspath(os.path.join(\"..\")))\n",
    "\n",
    "# for displaying results & feedback\n",
    "# from tabulate import tabulate\n",
    "import matplotlib.pyplot as plt"
   ]
  },
  {
   "cell_type": "code",
   "execution_count": 2,
   "metadata": {},
   "outputs": [],
   "source": [
    "import sys, os\n",
    "\n",
    "sys.path.append(os.path.abspath('..'))\n",
    "%load_ext autoreload\n",
    "%autoreload 2\n",
    "from modules.config import *"
   ]
  },
  {
   "cell_type": "code",
   "execution_count": 3,
   "metadata": {},
   "outputs": [
    {
     "data": {
      "text/html": [
       "<div>\n",
       "<style scoped>\n",
       "    .dataframe tbody tr th:only-of-type {\n",
       "        vertical-align: middle;\n",
       "    }\n",
       "\n",
       "    .dataframe tbody tr th {\n",
       "        vertical-align: top;\n",
       "    }\n",
       "\n",
       "    .dataframe thead th {\n",
       "        text-align: right;\n",
       "    }\n",
       "</style>\n",
       "<table border=\"1\" class=\"dataframe\">\n",
       "  <thead>\n",
       "    <tr style=\"text-align: right;\">\n",
       "      <th></th>\n",
       "      <th>start_hex_id</th>\n",
       "      <th>end_hex_id</th>\n",
       "      <th>demand</th>\n",
       "      <th>time_interval_length</th>\n",
       "      <th>hour_0</th>\n",
       "      <th>hour_1</th>\n",
       "      <th>hour_2</th>\n",
       "      <th>hour_3</th>\n",
       "      <th>hour_4</th>\n",
       "      <th>hour_5</th>\n",
       "      <th>...</th>\n",
       "      <th>public_transport_poi_start</th>\n",
       "      <th>education_poi_start</th>\n",
       "      <th>arts_and_culture_poi_start</th>\n",
       "      <th>sports_poi_start</th>\n",
       "      <th>h3_res</th>\n",
       "      <th>sustenance_poi_end</th>\n",
       "      <th>public_transport_poi_end</th>\n",
       "      <th>education_poi_end</th>\n",
       "      <th>arts_and_culture_poi_end</th>\n",
       "      <th>sports_poi_end</th>\n",
       "    </tr>\n",
       "  </thead>\n",
       "  <tbody>\n",
       "    <tr>\n",
       "      <th>0</th>\n",
       "      <td>871f1a164ffffff</td>\n",
       "      <td>871f1a164ffffff</td>\n",
       "      <td>1</td>\n",
       "      <td>1</td>\n",
       "      <td>1</td>\n",
       "      <td>0</td>\n",
       "      <td>0</td>\n",
       "      <td>0</td>\n",
       "      <td>0</td>\n",
       "      <td>0</td>\n",
       "      <td>...</td>\n",
       "      <td>503</td>\n",
       "      <td>101</td>\n",
       "      <td>40</td>\n",
       "      <td>45</td>\n",
       "      <td>7</td>\n",
       "      <td>862</td>\n",
       "      <td>503</td>\n",
       "      <td>101</td>\n",
       "      <td>40</td>\n",
       "      <td>45</td>\n",
       "    </tr>\n",
       "    <tr>\n",
       "      <th>1</th>\n",
       "      <td>871f1a164ffffff</td>\n",
       "      <td>871f1a164ffffff</td>\n",
       "      <td>1</td>\n",
       "      <td>1</td>\n",
       "      <td>1</td>\n",
       "      <td>0</td>\n",
       "      <td>0</td>\n",
       "      <td>0</td>\n",
       "      <td>0</td>\n",
       "      <td>0</td>\n",
       "      <td>...</td>\n",
       "      <td>503</td>\n",
       "      <td>101</td>\n",
       "      <td>40</td>\n",
       "      <td>45</td>\n",
       "      <td>7</td>\n",
       "      <td>862</td>\n",
       "      <td>503</td>\n",
       "      <td>101</td>\n",
       "      <td>40</td>\n",
       "      <td>45</td>\n",
       "    </tr>\n",
       "  </tbody>\n",
       "</table>\n",
       "<p>2 rows × 64 columns</p>\n",
       "</div>"
      ],
      "text/plain": [
       "      start_hex_id       end_hex_id  demand  time_interval_length  hour_0  \\\n",
       "0  871f1a164ffffff  871f1a164ffffff       1                     1       1   \n",
       "1  871f1a164ffffff  871f1a164ffffff       1                     1       1   \n",
       "\n",
       "   hour_1  hour_2  hour_3  hour_4  hour_5  ...  public_transport_poi_start  \\\n",
       "0       0       0       0       0       0  ...                         503   \n",
       "1       0       0       0       0       0  ...                         503   \n",
       "\n",
       "   education_poi_start  arts_and_culture_poi_start  sports_poi_start  h3_res  \\\n",
       "0                  101                          40                45       7   \n",
       "1                  101                          40                45       7   \n",
       "\n",
       "   sustenance_poi_end  public_transport_poi_end  education_poi_end  \\\n",
       "0                 862                       503                101   \n",
       "1                 862                       503                101   \n",
       "\n",
       "   arts_and_culture_poi_end  sports_poi_end  \n",
       "0                        40              45  \n",
       "1                        40              45  \n",
       "\n",
       "[2 rows x 64 columns]"
      ]
     },
     "execution_count": 3,
     "metadata": {},
     "output_type": "execute_result"
    }
   ],
   "source": [
    "model_data = pd.read_parquet(MODEL_DATA_PATH)\n",
    "model_data.head(2)"
   ]
  },
  {
   "cell_type": "code",
   "execution_count": 4,
   "metadata": {},
   "outputs": [],
   "source": [
    "# encode start and end hexagons as one-hot vectors\n",
    "model_data = model_data[(model_data['h3_res'] == 7) & (model_data['time_interval_length'] == 24)]\n",
    "start_hex_dummies = pd.get_dummies(model_data.start_hex_id, prefix=\"start_\")\n",
    "end_hex_dummies = pd.get_dummies(model_data.end_hex_id, prefix=\"end_\")\n",
    "model_data = pd.concat([model_data, start_hex_dummies, end_hex_dummies], axis=1)\n",
    "model_data = model_data.drop(columns=['start_hex_id', 'end_hex_id'])"
   ]
  },
  {
   "cell_type": "code",
   "execution_count": 5,
   "metadata": {},
   "outputs": [
    {
     "data": {
      "text/plain": [
       "921849"
      ]
     },
     "execution_count": 5,
     "metadata": {},
     "output_type": "execute_result"
    }
   ],
   "source": [
    "len(model_data.index)"
   ]
  },
  {
   "cell_type": "code",
   "execution_count": 6,
   "metadata": {},
   "outputs": [],
   "source": [
    "model_data = model_data.iloc[:50000]"
   ]
  },
  {
   "cell_type": "code",
   "execution_count": 7,
   "metadata": {},
   "outputs": [
    {
     "name": "stdout",
     "output_type": "stream",
     "text": [
      "Size of the train dataset is: 35000\n",
      "Size of the test dataset is: 15000\n"
     ]
    }
   ],
   "source": [
    "y = model_data[\"demand\"]\n",
    "X = model_data.drop(columns=[\"demand\"])\n",
    "\n",
    "X_train, X_test, y_train, y_test = train_test_split(X, y, train_size=0.7, random_state=42)\n",
    "\n",
    "print(f\"Size of the train dataset is: {X_train.shape[0]}\")\n",
    "print(f\"Size of the test dataset is: {X_test.shape[0]}\")"
   ]
  },
  {
   "cell_type": "code",
   "execution_count": 8,
   "metadata": {},
   "outputs": [],
   "source": [
    "scaler = StandardScaler()\n",
    "X_train = scaler.fit_transform(X_train)\n",
    "X_test = scaler.transform(X_test)"
   ]
  },
  {
   "cell_type": "code",
   "execution_count": 9,
   "metadata": {},
   "outputs": [],
   "source": [
    "def mean_average_percentage_error(y_true, y_pred):\n",
    "    return mean_absolute_error(y_true, y_pred) / y_true.mean()\n",
    "\n",
    "\n",
    "def root_mean_squared_error(y_true, y_pred):\n",
    "    return mean_squared_error(y_true, y_pred) ** 0.5"
   ]
  },
  {
   "cell_type": "code",
   "execution_count": 10,
   "metadata": {},
   "outputs": [
    {
     "name": "stdout",
     "output_type": "stream",
     "text": [
      "Fitting 5 folds for each of 21 candidates, totalling 105 fits\n"
     ]
    },
    {
     "data": {
      "text/html": [
       "<style>#sk-container-id-1 {color: black;background-color: white;}#sk-container-id-1 pre{padding: 0;}#sk-container-id-1 div.sk-toggleable {background-color: white;}#sk-container-id-1 label.sk-toggleable__label {cursor: pointer;display: block;width: 100%;margin-bottom: 0;padding: 0.3em;box-sizing: border-box;text-align: center;}#sk-container-id-1 label.sk-toggleable__label-arrow:before {content: \"▸\";float: left;margin-right: 0.25em;color: #696969;}#sk-container-id-1 label.sk-toggleable__label-arrow:hover:before {color: black;}#sk-container-id-1 div.sk-estimator:hover label.sk-toggleable__label-arrow:before {color: black;}#sk-container-id-1 div.sk-toggleable__content {max-height: 0;max-width: 0;overflow: hidden;text-align: left;background-color: #f0f8ff;}#sk-container-id-1 div.sk-toggleable__content pre {margin: 0.2em;color: black;border-radius: 0.25em;background-color: #f0f8ff;}#sk-container-id-1 input.sk-toggleable__control:checked~div.sk-toggleable__content {max-height: 200px;max-width: 100%;overflow: auto;}#sk-container-id-1 input.sk-toggleable__control:checked~label.sk-toggleable__label-arrow:before {content: \"▾\";}#sk-container-id-1 div.sk-estimator input.sk-toggleable__control:checked~label.sk-toggleable__label {background-color: #d4ebff;}#sk-container-id-1 div.sk-label input.sk-toggleable__control:checked~label.sk-toggleable__label {background-color: #d4ebff;}#sk-container-id-1 input.sk-hidden--visually {border: 0;clip: rect(1px 1px 1px 1px);clip: rect(1px, 1px, 1px, 1px);height: 1px;margin: -1px;overflow: hidden;padding: 0;position: absolute;width: 1px;}#sk-container-id-1 div.sk-estimator {font-family: monospace;background-color: #f0f8ff;border: 1px dotted black;border-radius: 0.25em;box-sizing: border-box;margin-bottom: 0.5em;}#sk-container-id-1 div.sk-estimator:hover {background-color: #d4ebff;}#sk-container-id-1 div.sk-parallel-item::after {content: \"\";width: 100%;border-bottom: 1px solid gray;flex-grow: 1;}#sk-container-id-1 div.sk-label:hover label.sk-toggleable__label {background-color: #d4ebff;}#sk-container-id-1 div.sk-serial::before {content: \"\";position: absolute;border-left: 1px solid gray;box-sizing: border-box;top: 0;bottom: 0;left: 50%;z-index: 0;}#sk-container-id-1 div.sk-serial {display: flex;flex-direction: column;align-items: center;background-color: white;padding-right: 0.2em;padding-left: 0.2em;position: relative;}#sk-container-id-1 div.sk-item {position: relative;z-index: 1;}#sk-container-id-1 div.sk-parallel {display: flex;align-items: stretch;justify-content: center;background-color: white;position: relative;}#sk-container-id-1 div.sk-item::before, #sk-container-id-1 div.sk-parallel-item::before {content: \"\";position: absolute;border-left: 1px solid gray;box-sizing: border-box;top: 0;bottom: 0;left: 50%;z-index: -1;}#sk-container-id-1 div.sk-parallel-item {display: flex;flex-direction: column;z-index: 1;position: relative;background-color: white;}#sk-container-id-1 div.sk-parallel-item:first-child::after {align-self: flex-end;width: 50%;}#sk-container-id-1 div.sk-parallel-item:last-child::after {align-self: flex-start;width: 50%;}#sk-container-id-1 div.sk-parallel-item:only-child::after {width: 0;}#sk-container-id-1 div.sk-dashed-wrapped {border: 1px dashed gray;margin: 0 0.4em 0.5em 0.4em;box-sizing: border-box;padding-bottom: 0.4em;background-color: white;}#sk-container-id-1 div.sk-label label {font-family: monospace;font-weight: bold;display: inline-block;line-height: 1.2em;}#sk-container-id-1 div.sk-label-container {text-align: center;}#sk-container-id-1 div.sk-container {/* jupyter's `normalize.less` sets `[hidden] { display: none; }` but bootstrap.min.css set `[hidden] { display: none !important; }` so we also need the `!important` here to be able to override the default hidden behavior on the sphinx rendered scikit-learn.org. See: https://github.com/scikit-learn/scikit-learn/issues/21755 */display: inline-block !important;position: relative;}#sk-container-id-1 div.sk-text-repr-fallback {display: none;}</style><div id=\"sk-container-id-1\" class=\"sk-top-container\"><div class=\"sk-text-repr-fallback\"><pre>GridSearchCV(estimator=SVR(), n_jobs=-1,\n",
       "             param_grid=[{&#x27;C&#x27;: [1, 10, 100], &#x27;kernel&#x27;: [&#x27;linear&#x27;]},\n",
       "                         {&#x27;C&#x27;: [1, 10, 100], &#x27;gamma&#x27;: [0.001, 0.0001],\n",
       "                          &#x27;kernel&#x27;: [&#x27;rbf&#x27;]},\n",
       "                         {&#x27;C&#x27;: [1, 10, 100], &#x27;degree&#x27;: [2, 3, 4, 5],\n",
       "                          &#x27;kernel&#x27;: [&#x27;poly&#x27;]}],\n",
       "             scoring=&#x27;neg_mean_squared_error&#x27;, verbose=4)</pre><b>In a Jupyter environment, please rerun this cell to show the HTML representation or trust the notebook. <br />On GitHub, the HTML representation is unable to render, please try loading this page with nbviewer.org.</b></div><div class=\"sk-container\" hidden><div class=\"sk-item sk-dashed-wrapped\"><div class=\"sk-label-container\"><div class=\"sk-label sk-toggleable\"><input class=\"sk-toggleable__control sk-hidden--visually\" id=\"sk-estimator-id-1\" type=\"checkbox\" ><label for=\"sk-estimator-id-1\" class=\"sk-toggleable__label sk-toggleable__label-arrow\">GridSearchCV</label><div class=\"sk-toggleable__content\"><pre>GridSearchCV(estimator=SVR(), n_jobs=-1,\n",
       "             param_grid=[{&#x27;C&#x27;: [1, 10, 100], &#x27;kernel&#x27;: [&#x27;linear&#x27;]},\n",
       "                         {&#x27;C&#x27;: [1, 10, 100], &#x27;gamma&#x27;: [0.001, 0.0001],\n",
       "                          &#x27;kernel&#x27;: [&#x27;rbf&#x27;]},\n",
       "                         {&#x27;C&#x27;: [1, 10, 100], &#x27;degree&#x27;: [2, 3, 4, 5],\n",
       "                          &#x27;kernel&#x27;: [&#x27;poly&#x27;]}],\n",
       "             scoring=&#x27;neg_mean_squared_error&#x27;, verbose=4)</pre></div></div></div><div class=\"sk-parallel\"><div class=\"sk-parallel-item\"><div class=\"sk-item\"><div class=\"sk-label-container\"><div class=\"sk-label sk-toggleable\"><input class=\"sk-toggleable__control sk-hidden--visually\" id=\"sk-estimator-id-2\" type=\"checkbox\" ><label for=\"sk-estimator-id-2\" class=\"sk-toggleable__label sk-toggleable__label-arrow\">estimator: SVR</label><div class=\"sk-toggleable__content\"><pre>SVR()</pre></div></div></div><div class=\"sk-serial\"><div class=\"sk-item\"><div class=\"sk-estimator sk-toggleable\"><input class=\"sk-toggleable__control sk-hidden--visually\" id=\"sk-estimator-id-3\" type=\"checkbox\" ><label for=\"sk-estimator-id-3\" class=\"sk-toggleable__label sk-toggleable__label-arrow\">SVR</label><div class=\"sk-toggleable__content\"><pre>SVR()</pre></div></div></div></div></div></div></div></div></div></div>"
      ],
      "text/plain": [
       "GridSearchCV(estimator=SVR(), n_jobs=-1,\n",
       "             param_grid=[{'C': [1, 10, 100], 'kernel': ['linear']},\n",
       "                         {'C': [1, 10, 100], 'gamma': [0.001, 0.0001],\n",
       "                          'kernel': ['rbf']},\n",
       "                         {'C': [1, 10, 100], 'degree': [2, 3, 4, 5],\n",
       "                          'kernel': ['poly']}],\n",
       "             scoring='neg_mean_squared_error', verbose=4)"
      ]
     },
     "execution_count": 10,
     "metadata": {},
     "output_type": "execute_result"
    }
   ],
   "source": [
    "param_grid = [\n",
    "  {'kernel': ['linear'], 'C': [1, 10, 100]},\n",
    "  {'kernel': ['rbf'], 'C': [1, 10, 100], 'gamma': [0.001, 0.0001]},\n",
    "  {'kernel': ['poly'], 'C': [1, 10, 100], 'degree': [2, 3, 4, 5]}\n",
    " ]\n",
    "svr = SVR()\n",
    "clf = GridSearchCV(svr, param_grid, n_jobs=-1, verbose=4, scoring=\"neg_mean_squared_error\")\n",
    "clf.fit(X_train, y_train)"
   ]
  },
  {
   "cell_type": "code",
   "execution_count": 14,
   "metadata": {},
   "outputs": [
    {
     "data": {
      "text/html": [
       "<div>\n",
       "<style scoped>\n",
       "    .dataframe tbody tr th:only-of-type {\n",
       "        vertical-align: middle;\n",
       "    }\n",
       "\n",
       "    .dataframe tbody tr th {\n",
       "        vertical-align: top;\n",
       "    }\n",
       "\n",
       "    .dataframe thead th {\n",
       "        text-align: right;\n",
       "    }\n",
       "</style>\n",
       "<table border=\"1\" class=\"dataframe\">\n",
       "  <thead>\n",
       "    <tr style=\"text-align: right;\">\n",
       "      <th></th>\n",
       "      <th>mean_fit_time</th>\n",
       "      <th>std_fit_time</th>\n",
       "      <th>mean_score_time</th>\n",
       "      <th>std_score_time</th>\n",
       "      <th>param_C</th>\n",
       "      <th>param_kernel</th>\n",
       "      <th>param_gamma</th>\n",
       "      <th>param_degree</th>\n",
       "      <th>params</th>\n",
       "      <th>split0_test_score</th>\n",
       "      <th>split1_test_score</th>\n",
       "      <th>split2_test_score</th>\n",
       "      <th>split3_test_score</th>\n",
       "      <th>split4_test_score</th>\n",
       "      <th>mean_test_score</th>\n",
       "      <th>std_test_score</th>\n",
       "      <th>rank_test_score</th>\n",
       "    </tr>\n",
       "  </thead>\n",
       "  <tbody>\n",
       "    <tr>\n",
       "      <th>20</th>\n",
       "      <td>409.630961</td>\n",
       "      <td>49.149970</td>\n",
       "      <td>20.986492</td>\n",
       "      <td>6.767375</td>\n",
       "      <td>100</td>\n",
       "      <td>poly</td>\n",
       "      <td>NaN</td>\n",
       "      <td>5</td>\n",
       "      <td>{'C': 100, 'degree': 5, 'kernel': 'poly'}</td>\n",
       "      <td>-2.450408</td>\n",
       "      <td>-2.158209</td>\n",
       "      <td>-2.360602</td>\n",
       "      <td>-2.858119</td>\n",
       "      <td>-3.441552</td>\n",
       "      <td>-2.653778</td>\n",
       "      <td>0.455026</td>\n",
       "      <td>1</td>\n",
       "    </tr>\n",
       "    <tr>\n",
       "      <th>19</th>\n",
       "      <td>959.026009</td>\n",
       "      <td>79.463981</td>\n",
       "      <td>37.585580</td>\n",
       "      <td>8.075796</td>\n",
       "      <td>100</td>\n",
       "      <td>poly</td>\n",
       "      <td>NaN</td>\n",
       "      <td>4</td>\n",
       "      <td>{'C': 100, 'degree': 4, 'kernel': 'poly'}</td>\n",
       "      <td>-5.584190</td>\n",
       "      <td>-4.644717</td>\n",
       "      <td>-5.600465</td>\n",
       "      <td>-5.697597</td>\n",
       "      <td>-6.855771</td>\n",
       "      <td>-5.676548</td>\n",
       "      <td>0.702852</td>\n",
       "      <td>2</td>\n",
       "    </tr>\n",
       "    <tr>\n",
       "      <th>16</th>\n",
       "      <td>608.832966</td>\n",
       "      <td>108.535160</td>\n",
       "      <td>79.123269</td>\n",
       "      <td>5.808289</td>\n",
       "      <td>10</td>\n",
       "      <td>poly</td>\n",
       "      <td>NaN</td>\n",
       "      <td>5</td>\n",
       "      <td>{'C': 10, 'degree': 5, 'kernel': 'poly'}</td>\n",
       "      <td>-29.902758</td>\n",
       "      <td>-29.097552</td>\n",
       "      <td>-29.826218</td>\n",
       "      <td>-33.652816</td>\n",
       "      <td>-34.894592</td>\n",
       "      <td>-31.474787</td>\n",
       "      <td>2.335773</td>\n",
       "      <td>3</td>\n",
       "    </tr>\n",
       "    <tr>\n",
       "      <th>15</th>\n",
       "      <td>658.872283</td>\n",
       "      <td>83.125998</td>\n",
       "      <td>82.840855</td>\n",
       "      <td>11.312941</td>\n",
       "      <td>10</td>\n",
       "      <td>poly</td>\n",
       "      <td>NaN</td>\n",
       "      <td>4</td>\n",
       "      <td>{'C': 10, 'degree': 4, 'kernel': 'poly'}</td>\n",
       "      <td>-34.496676</td>\n",
       "      <td>-32.971192</td>\n",
       "      <td>-33.749712</td>\n",
       "      <td>-37.644783</td>\n",
       "      <td>-38.940257</td>\n",
       "      <td>-35.560524</td>\n",
       "      <td>2.318714</td>\n",
       "      <td>4</td>\n",
       "    </tr>\n",
       "    <tr>\n",
       "      <th>18</th>\n",
       "      <td>3914.482007</td>\n",
       "      <td>150.344142</td>\n",
       "      <td>16.593600</td>\n",
       "      <td>1.234687</td>\n",
       "      <td>100</td>\n",
       "      <td>poly</td>\n",
       "      <td>NaN</td>\n",
       "      <td>3</td>\n",
       "      <td>{'C': 100, 'degree': 3, 'kernel': 'poly'}</td>\n",
       "      <td>-43.544568</td>\n",
       "      <td>-44.397436</td>\n",
       "      <td>-43.382867</td>\n",
       "      <td>-45.679110</td>\n",
       "      <td>-46.251486</td>\n",
       "      <td>-44.651093</td>\n",
       "      <td>1.141509</td>\n",
       "      <td>5</td>\n",
       "    </tr>\n",
       "  </tbody>\n",
       "</table>\n",
       "</div>"
      ],
      "text/plain": [
       "    mean_fit_time  std_fit_time  mean_score_time  std_score_time param_C  \\\n",
       "20     409.630961     49.149970        20.986492        6.767375     100   \n",
       "19     959.026009     79.463981        37.585580        8.075796     100   \n",
       "16     608.832966    108.535160        79.123269        5.808289      10   \n",
       "15     658.872283     83.125998        82.840855       11.312941      10   \n",
       "18    3914.482007    150.344142        16.593600        1.234687     100   \n",
       "\n",
       "   param_kernel param_gamma param_degree  \\\n",
       "20         poly         NaN            5   \n",
       "19         poly         NaN            4   \n",
       "16         poly         NaN            5   \n",
       "15         poly         NaN            4   \n",
       "18         poly         NaN            3   \n",
       "\n",
       "                                       params  split0_test_score  \\\n",
       "20  {'C': 100, 'degree': 5, 'kernel': 'poly'}          -2.450408   \n",
       "19  {'C': 100, 'degree': 4, 'kernel': 'poly'}          -5.584190   \n",
       "16   {'C': 10, 'degree': 5, 'kernel': 'poly'}         -29.902758   \n",
       "15   {'C': 10, 'degree': 4, 'kernel': 'poly'}         -34.496676   \n",
       "18  {'C': 100, 'degree': 3, 'kernel': 'poly'}         -43.544568   \n",
       "\n",
       "    split1_test_score  split2_test_score  split3_test_score  \\\n",
       "20          -2.158209          -2.360602          -2.858119   \n",
       "19          -4.644717          -5.600465          -5.697597   \n",
       "16         -29.097552         -29.826218         -33.652816   \n",
       "15         -32.971192         -33.749712         -37.644783   \n",
       "18         -44.397436         -43.382867         -45.679110   \n",
       "\n",
       "    split4_test_score  mean_test_score  std_test_score  rank_test_score  \n",
       "20          -3.441552        -2.653778        0.455026                1  \n",
       "19          -6.855771        -5.676548        0.702852                2  \n",
       "16         -34.894592       -31.474787        2.335773                3  \n",
       "15         -38.940257       -35.560524        2.318714                4  \n",
       "18         -46.251486       -44.651093        1.141509                5  "
      ]
     },
     "execution_count": 14,
     "metadata": {},
     "output_type": "execute_result"
    }
   ],
   "source": [
    "results = pd.DataFrame(clf.cv_results_)\n",
    "results.sort_values(by=\"mean_test_score\", ascending=False).head(5)"
   ]
  },
  {
   "cell_type": "code",
   "execution_count": 15,
   "metadata": {},
   "outputs": [
    {
     "name": "stdout",
     "output_type": "stream",
     "text": [
      "MSE: 1.7919743465746079\n",
      "MAE: 0.2095090314897931\n",
      "MAPE: 0.005517780749168895\n",
      "RMSE: 1.3386464606364923\n"
     ]
    }
   ],
   "source": [
    "y_pred = clf.best_estimator_.predict(X_test)\n",
    "\n",
    "mse = mean_squared_error(y_test, y_pred)\n",
    "mae = mean_absolute_error(y_test, y_pred)\n",
    "mape = mean_average_percentage_error(y_test, y_pred)\n",
    "rmse = root_mean_squared_error(y_test, y_pred)\n",
    "\n",
    "print(f\"MSE: {mse}\")\n",
    "print(f\"MAE: {mae}\")\n",
    "print(f\"MAPE: {mape}\")\n",
    "print(f\"RMSE: {rmse}\")"
   ]
  },
  {
   "cell_type": "code",
   "execution_count": 16,
   "metadata": {},
   "outputs": [
    {
     "data": {
      "text/plain": [
       "count    15000.000000\n",
       "mean        37.945909\n",
       "std         33.676102\n",
       "min          0.899873\n",
       "25%         12.899903\n",
       "50%         28.100005\n",
       "75%         51.099998\n",
       "max        193.899954\n",
       "dtype: float64"
      ]
     },
     "execution_count": 16,
     "metadata": {},
     "output_type": "execute_result"
    }
   ],
   "source": [
    "pd.Series(y_pred).describe()"
   ]
  },
  {
   "cell_type": "code",
   "execution_count": null,
   "metadata": {},
   "outputs": [],
   "source": []
  }
 ],
 "metadata": {
  "interpreter": {
   "hash": "480189c8b893ba0e665d676e4d8fbaa7064789f8cb0c8dbdf4a412ac1da4cf12"
  },
  "kernelspec": {
   "display_name": "Python 3.9.13 ('AAA_MAGMA')",
   "language": "python",
   "name": "python3"
  },
  "language_info": {
   "codemirror_mode": {
    "name": "ipython",
    "version": 3
   },
   "file_extension": ".py",
   "mimetype": "text/x-python",
   "name": "python",
   "nbconvert_exporter": "python",
   "pygments_lexer": "ipython3",
   "version": "3.9.13"
  },
  "orig_nbformat": 4
 },
 "nbformat": 4,
 "nbformat_minor": 2
}
