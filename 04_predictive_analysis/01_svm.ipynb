{
 "cells": [
  {
   "cell_type": "code",
   "execution_count": 1,
   "metadata": {},
   "outputs": [],
   "source": [
    "import pandas as pd\n",
    "from itertools import product\n",
    "from tqdm.notebook import tqdm\n",
    "\n",
    "import sys, os\n",
    "\n",
    "sys.path.append(os.path.abspath('..'))\n",
    "%load_ext autoreload\n",
    "%autoreload 2\n",
    "from modules.config import *\n",
    "from modules.storage import (\n",
    "    get_model_data,\n",
    "    store_results\n",
    ")\n",
    "from modules.svm import *"
   ]
  },
  {
   "cell_type": "code",
   "execution_count": 2,
   "metadata": {},
   "outputs": [],
   "source": [
    "def get_svm_metas():\n",
    "    return [\n",
    "        {'kernel': ['linear'], 'C': [1, 10, 100], 'gamma': [-1],            'degree': [-1],         'max_iter': [1000000]},\n",
    "        {'kernel': ['rbf'],    'C': [1, 10, 100], 'gamma': [0.001, 0.0001], 'degree': [-1],         'max_iter': [1000000]},\n",
    "        {'kernel': ['poly'],   'C': [1, 10, 100], 'gamma': [-1],            'degree': [2, 3, 4, 5], 'max_iter': [1000000]}\n",
    "    ]"
   ]
  },
  {
   "cell_type": "code",
   "execution_count": 3,
   "metadata": {},
   "outputs": [],
   "source": [
    "def execute_stage(path, h3_res, time_interval_length, get_available_model_metas_for_stage, do_evaluate_model, silent):\n",
    "    all_possible_metas = get_svm_metas()\n",
    "    metas = get_available_model_metas_for_stage(h3_res, time_interval_length, all_possible_metas)\n",
    "    \n",
    "    iterator = tqdm(metas) if silent else metas \n",
    "    for param_grid in iterator:\n",
    "        if iterator:\n",
    "            feedback = f\"h3: {h3_res} | t:{time_interval_length} | - \" + param_grid[0][\"kernel\"][0]\n",
    "            tqdm.write(feedback, end=\"\\r\")\n",
    "        \n",
    "        model_data = get_model_data(h3_res, time_interval_length)\n",
    "        model_data = model_data.sample(1000)\n",
    "\n",
    "        X_train, X_test, y_train, y_test = split_and_scale_data(model_data, \"demand\")\n",
    "        models = train_model(param_grid, X_train, y_train)\n",
    "        results = get_results(models, h3_res, time_interval_length, do_evaluate_model, X_test, y_test)\n",
    "        store_results(results, path)  \n",
    "        \n",
    "        if iterator:\n",
    "            tqdm.write(feedback + \" ✓\")"
   ]
  },
  {
   "cell_type": "code",
   "execution_count": 4,
   "metadata": {},
   "outputs": [
    {
     "data": {
      "application/vnd.jupyter.widget-view+json": {
       "model_id": "638e6f73690845ce884767cc6a446429",
       "version_major": 2,
       "version_minor": 0
      },
      "text/plain": [
       "  0%|          | 0/3 [00:00<?, ?it/s]"
      ]
     },
     "metadata": {},
     "output_type": "display_data"
    },
    {
     "name": "stdout",
     "output_type": "stream",
     "text": [
      "h3: 8 | t:6 | - linear ✓\n",
      "h3: 8 | t:6 | - rbf ✓\n",
      "h3: 8 | t:6 | - poly ✓\n"
     ]
    }
   ],
   "source": [
    "execute_stage(\n",
    "    SVM_FIRST_STAGE_RESULTS_PATH,\n",
    "    TUNE_H3_RESOLUTION,\n",
    "    TUNE_TIME_INTERVAL_LENGTH,\n",
    "    get_availabe_models_metas_first_stage,\n",
    "    do_evaluate_model=False,\n",
    "    silent=False,\n",
    ")"
   ]
  },
  {
   "cell_type": "code",
   "execution_count": 5,
   "metadata": {},
   "outputs": [
    {
     "data": {
      "text/html": [
       "<div>\n",
       "<style scoped>\n",
       "    .dataframe tbody tr th:only-of-type {\n",
       "        vertical-align: middle;\n",
       "    }\n",
       "\n",
       "    .dataframe tbody tr th {\n",
       "        vertical-align: top;\n",
       "    }\n",
       "\n",
       "    .dataframe thead th {\n",
       "        text-align: right;\n",
       "    }\n",
       "</style>\n",
       "<table border=\"1\" class=\"dataframe\">\n",
       "  <thead>\n",
       "    <tr style=\"text-align: right;\">\n",
       "      <th></th>\n",
       "      <th>iter</th>\n",
       "      <th>n_resources</th>\n",
       "      <th>mean_fit_time</th>\n",
       "      <th>std_fit_time</th>\n",
       "      <th>mean_score_time</th>\n",
       "      <th>std_score_time</th>\n",
       "      <th>param_C</th>\n",
       "      <th>param_kernel</th>\n",
       "      <th>param_max_iter</th>\n",
       "      <th>params</th>\n",
       "      <th>...</th>\n",
       "      <th>split2_train_score</th>\n",
       "      <th>split3_train_score</th>\n",
       "      <th>split4_train_score</th>\n",
       "      <th>mean_train_score</th>\n",
       "      <th>std_train_score</th>\n",
       "      <th>n_iter</th>\n",
       "      <th>h3_res</th>\n",
       "      <th>time_interval_length</th>\n",
       "      <th>param_gamma</th>\n",
       "      <th>param_degree</th>\n",
       "    </tr>\n",
       "  </thead>\n",
       "  <tbody>\n",
       "    <tr>\n",
       "      <th>20</th>\n",
       "      <td>0</td>\n",
       "      <td>77</td>\n",
       "      <td>0.002971</td>\n",
       "      <td>0.000047</td>\n",
       "      <td>0.000802</td>\n",
       "      <td>0.000401</td>\n",
       "      <td>100</td>\n",
       "      <td>poly</td>\n",
       "      <td>1000000</td>\n",
       "      <td>{'C': 100, 'degree': 2.0, 'gamma': None, 'kern...</td>\n",
       "      <td>...</td>\n",
       "      <td>-0.01</td>\n",
       "      <td>-0.010002</td>\n",
       "      <td>-0.009945</td>\n",
       "      <td>-0.009969</td>\n",
       "      <td>0.000044</td>\n",
       "      <td>0</td>\n",
       "      <td>8</td>\n",
       "      <td>6</td>\n",
       "      <td>NaN</td>\n",
       "      <td>2.0</td>\n",
       "    </tr>\n",
       "    <tr>\n",
       "      <th>22</th>\n",
       "      <td>0</td>\n",
       "      <td>77</td>\n",
       "      <td>0.002798</td>\n",
       "      <td>0.000407</td>\n",
       "      <td>0.001001</td>\n",
       "      <td>0.000009</td>\n",
       "      <td>100</td>\n",
       "      <td>poly</td>\n",
       "      <td>1000000</td>\n",
       "      <td>{'C': 100, 'degree': 4.0, 'gamma': None, 'kern...</td>\n",
       "      <td>...</td>\n",
       "      <td>-0.01</td>\n",
       "      <td>-0.010001</td>\n",
       "      <td>-0.009894</td>\n",
       "      <td>-0.009980</td>\n",
       "      <td>0.000043</td>\n",
       "      <td>0</td>\n",
       "      <td>8</td>\n",
       "      <td>6</td>\n",
       "      <td>NaN</td>\n",
       "      <td>4.0</td>\n",
       "    </tr>\n",
       "  </tbody>\n",
       "</table>\n",
       "<p>2 rows × 30 columns</p>\n",
       "</div>"
      ],
      "text/plain": [
       "    iter  n_resources  mean_fit_time  std_fit_time  mean_score_time  \\\n",
       "20     0           77       0.002971      0.000047         0.000802   \n",
       "22     0           77       0.002798      0.000407         0.001001   \n",
       "\n",
       "    std_score_time  param_C param_kernel  param_max_iter  \\\n",
       "20        0.000401      100         poly         1000000   \n",
       "22        0.000009      100         poly         1000000   \n",
       "\n",
       "                                               params  ...  \\\n",
       "20  {'C': 100, 'degree': 2.0, 'gamma': None, 'kern...  ...   \n",
       "22  {'C': 100, 'degree': 4.0, 'gamma': None, 'kern...  ...   \n",
       "\n",
       "    split2_train_score  split3_train_score  split4_train_score  \\\n",
       "20               -0.01           -0.010002           -0.009945   \n",
       "22               -0.01           -0.010001           -0.009894   \n",
       "\n",
       "    mean_train_score  std_train_score  n_iter  h3_res  time_interval_length  \\\n",
       "20         -0.009969         0.000044       0       8                     6   \n",
       "22         -0.009980         0.000043       0       8                     6   \n",
       "\n",
       "    param_gamma  param_degree  \n",
       "20          NaN           2.0  \n",
       "22          NaN           4.0  \n",
       "\n",
       "[2 rows x 30 columns]"
      ]
     },
     "execution_count": 5,
     "metadata": {},
     "output_type": "execute_result"
    }
   ],
   "source": [
    "results = pd.read_parquet(SVM_FIRST_STAGE_RESULTS_PATH)\n",
    "results.sort_values(by=['mean_train_score'], ascending=False).head(2)"
   ]
  },
  {
   "cell_type": "code",
   "execution_count": 6,
   "metadata": {},
   "outputs": [
    {
     "data": {
      "application/vnd.jupyter.widget-view+json": {
       "model_id": "b146795a385d46c7a5dde399a44eecb6",
       "version_major": 2,
       "version_minor": 0
      },
      "text/plain": [
       "  0%|          | 0/1 [00:00<?, ?it/s]"
      ]
     },
     "metadata": {},
     "output_type": "display_data"
    },
    {
     "name": "stdout",
     "output_type": "stream",
     "text": [
      "h3: 7 | t:1 | - poly ✓\n"
     ]
    },
    {
     "data": {
      "application/vnd.jupyter.widget-view+json": {
       "model_id": "d87179f36952459bb4db2d29dc190c8b",
       "version_major": 2,
       "version_minor": 0
      },
      "text/plain": [
       "  0%|          | 0/1 [00:00<?, ?it/s]"
      ]
     },
     "metadata": {},
     "output_type": "display_data"
    },
    {
     "name": "stdout",
     "output_type": "stream",
     "text": [
      "h3: 7 | t:2 | - poly ✓\n"
     ]
    },
    {
     "data": {
      "application/vnd.jupyter.widget-view+json": {
       "model_id": "4096bc02a9254f77bfed389382c46535",
       "version_major": 2,
       "version_minor": 0
      },
      "text/plain": [
       "  0%|          | 0/1 [00:00<?, ?it/s]"
      ]
     },
     "metadata": {},
     "output_type": "display_data"
    },
    {
     "name": "stdout",
     "output_type": "stream",
     "text": [
      "h3: 7 | t:6 | - poly ✓\n"
     ]
    },
    {
     "data": {
      "application/vnd.jupyter.widget-view+json": {
       "model_id": "69ea583199e148069c49146905fa0f5b",
       "version_major": 2,
       "version_minor": 0
      },
      "text/plain": [
       "  0%|          | 0/1 [00:00<?, ?it/s]"
      ]
     },
     "metadata": {},
     "output_type": "display_data"
    },
    {
     "name": "stdout",
     "output_type": "stream",
     "text": [
      "h3: 7 | t:24 | - poly ✓\n"
     ]
    },
    {
     "data": {
      "application/vnd.jupyter.widget-view+json": {
       "model_id": "46b2366e3bc94b329b824fc4322cb91d",
       "version_major": 2,
       "version_minor": 0
      },
      "text/plain": [
       "  0%|          | 0/1 [00:00<?, ?it/s]"
      ]
     },
     "metadata": {},
     "output_type": "display_data"
    },
    {
     "name": "stdout",
     "output_type": "stream",
     "text": [
      "h3: 8 | t:1 | - poly ✓\n"
     ]
    },
    {
     "data": {
      "application/vnd.jupyter.widget-view+json": {
       "model_id": "a59e47c11f3a4a639631bc1145c489cf",
       "version_major": 2,
       "version_minor": 0
      },
      "text/plain": [
       "  0%|          | 0/1 [00:00<?, ?it/s]"
      ]
     },
     "metadata": {},
     "output_type": "display_data"
    },
    {
     "name": "stdout",
     "output_type": "stream",
     "text": [
      "h3: 8 | t:2 | - poly ✓\n"
     ]
    },
    {
     "data": {
      "application/vnd.jupyter.widget-view+json": {
       "model_id": "2d240a0b7d664848a474ced15108ef93",
       "version_major": 2,
       "version_minor": 0
      },
      "text/plain": [
       "  0%|          | 0/1 [00:00<?, ?it/s]"
      ]
     },
     "metadata": {},
     "output_type": "display_data"
    },
    {
     "name": "stdout",
     "output_type": "stream",
     "text": [
      "h3: 8 | t:6 | - poly ✓\n"
     ]
    },
    {
     "data": {
      "application/vnd.jupyter.widget-view+json": {
       "model_id": "f53f7a52e1ce4ddda4c0a4a5e87ef5af",
       "version_major": 2,
       "version_minor": 0
      },
      "text/plain": [
       "  0%|          | 0/1 [00:00<?, ?it/s]"
      ]
     },
     "metadata": {},
     "output_type": "display_data"
    },
    {
     "name": "stdout",
     "output_type": "stream",
     "text": [
      "h3: 8 | t:24 | - poly ✓\n"
     ]
    }
   ],
   "source": [
    "for h3_res in PREDICTIVE_H3_RESOLUTIONS:\n",
    "    for time_interval_length in CALC_TIME_INTERVAL_LENGTHS:\n",
    "        execute_stage(\n",
    "            SVM_SECOND_STAGE_RESULTS_PATH,\n",
    "            h3_res,\n",
    "            time_interval_length,\n",
    "            get_availabe_models_metas_second_stage,\n",
    "            do_evaluate_model=True,\n",
    "            silent=True,\n",
    "        )"
   ]
  },
  {
   "cell_type": "code",
   "execution_count": 7,
   "metadata": {},
   "outputs": [
    {
     "data": {
      "text/html": [
       "<div>\n",
       "<style scoped>\n",
       "    .dataframe tbody tr th:only-of-type {\n",
       "        vertical-align: middle;\n",
       "    }\n",
       "\n",
       "    .dataframe tbody tr th {\n",
       "        vertical-align: top;\n",
       "    }\n",
       "\n",
       "    .dataframe thead th {\n",
       "        text-align: right;\n",
       "    }\n",
       "</style>\n",
       "<table border=\"1\" class=\"dataframe\">\n",
       "  <thead>\n",
       "    <tr style=\"text-align: right;\">\n",
       "      <th></th>\n",
       "      <th>iter</th>\n",
       "      <th>n_resources</th>\n",
       "      <th>mean_fit_time</th>\n",
       "      <th>std_fit_time</th>\n",
       "      <th>mean_score_time</th>\n",
       "      <th>std_score_time</th>\n",
       "      <th>param_C</th>\n",
       "      <th>param_kernel</th>\n",
       "      <th>param_max_iter</th>\n",
       "      <th>params</th>\n",
       "      <th>...</th>\n",
       "      <th>split2_train_score</th>\n",
       "      <th>split3_train_score</th>\n",
       "      <th>split4_train_score</th>\n",
       "      <th>mean_train_score</th>\n",
       "      <th>std_train_score</th>\n",
       "      <th>n_iter</th>\n",
       "      <th>h3_res</th>\n",
       "      <th>time_interval_length</th>\n",
       "      <th>param_gamma</th>\n",
       "      <th>param_degree</th>\n",
       "    </tr>\n",
       "  </thead>\n",
       "  <tbody>\n",
       "    <tr>\n",
       "      <th>20</th>\n",
       "      <td>0</td>\n",
       "      <td>77</td>\n",
       "      <td>0.002971</td>\n",
       "      <td>0.000047</td>\n",
       "      <td>0.000802</td>\n",
       "      <td>0.000401</td>\n",
       "      <td>100</td>\n",
       "      <td>poly</td>\n",
       "      <td>1000000</td>\n",
       "      <td>{'C': 100, 'degree': 2.0, 'gamma': None, 'kern...</td>\n",
       "      <td>...</td>\n",
       "      <td>-0.01</td>\n",
       "      <td>-0.010002</td>\n",
       "      <td>-0.009945</td>\n",
       "      <td>-0.009969</td>\n",
       "      <td>0.000044</td>\n",
       "      <td>0</td>\n",
       "      <td>8</td>\n",
       "      <td>6</td>\n",
       "      <td>NaN</td>\n",
       "      <td>2.0</td>\n",
       "    </tr>\n",
       "    <tr>\n",
       "      <th>22</th>\n",
       "      <td>0</td>\n",
       "      <td>77</td>\n",
       "      <td>0.002798</td>\n",
       "      <td>0.000407</td>\n",
       "      <td>0.001001</td>\n",
       "      <td>0.000009</td>\n",
       "      <td>100</td>\n",
       "      <td>poly</td>\n",
       "      <td>1000000</td>\n",
       "      <td>{'C': 100, 'degree': 4.0, 'gamma': None, 'kern...</td>\n",
       "      <td>...</td>\n",
       "      <td>-0.01</td>\n",
       "      <td>-0.010001</td>\n",
       "      <td>-0.009894</td>\n",
       "      <td>-0.009980</td>\n",
       "      <td>0.000043</td>\n",
       "      <td>0</td>\n",
       "      <td>8</td>\n",
       "      <td>6</td>\n",
       "      <td>NaN</td>\n",
       "      <td>4.0</td>\n",
       "    </tr>\n",
       "  </tbody>\n",
       "</table>\n",
       "<p>2 rows × 30 columns</p>\n",
       "</div>"
      ],
      "text/plain": [
       "    iter  n_resources  mean_fit_time  std_fit_time  mean_score_time  \\\n",
       "20     0           77       0.002971      0.000047         0.000802   \n",
       "22     0           77       0.002798      0.000407         0.001001   \n",
       "\n",
       "    std_score_time  param_C param_kernel  param_max_iter  \\\n",
       "20        0.000401      100         poly         1000000   \n",
       "22        0.000009      100         poly         1000000   \n",
       "\n",
       "                                               params  ...  \\\n",
       "20  {'C': 100, 'degree': 2.0, 'gamma': None, 'kern...  ...   \n",
       "22  {'C': 100, 'degree': 4.0, 'gamma': None, 'kern...  ...   \n",
       "\n",
       "    split2_train_score  split3_train_score  split4_train_score  \\\n",
       "20               -0.01           -0.010002           -0.009945   \n",
       "22               -0.01           -0.010001           -0.009894   \n",
       "\n",
       "    mean_train_score  std_train_score  n_iter  h3_res  time_interval_length  \\\n",
       "20         -0.009969         0.000044       0       8                     6   \n",
       "22         -0.009980         0.000043       0       8                     6   \n",
       "\n",
       "    param_gamma  param_degree  \n",
       "20          NaN           2.0  \n",
       "22          NaN           4.0  \n",
       "\n",
       "[2 rows x 30 columns]"
      ]
     },
     "execution_count": 7,
     "metadata": {},
     "output_type": "execute_result"
    }
   ],
   "source": [
    "results = pd.read_parquet(SVM_FIRST_STAGE_RESULTS_PATH)\n",
    "results.sort_values(by=['mean_train_score'], ascending=False).head(2)"
   ]
  },
  {
   "cell_type": "code",
   "execution_count": 8,
   "metadata": {},
   "outputs": [
    {
     "data": {
      "text/html": [
       "<div>\n",
       "<style scoped>\n",
       "    .dataframe tbody tr th:only-of-type {\n",
       "        vertical-align: middle;\n",
       "    }\n",
       "\n",
       "    .dataframe tbody tr th {\n",
       "        vertical-align: top;\n",
       "    }\n",
       "\n",
       "    .dataframe thead th {\n",
       "        text-align: right;\n",
       "    }\n",
       "</style>\n",
       "<table border=\"1\" class=\"dataframe\">\n",
       "  <thead>\n",
       "    <tr style=\"text-align: right;\">\n",
       "      <th></th>\n",
       "      <th>iter</th>\n",
       "      <th>n_resources</th>\n",
       "      <th>mean_fit_time</th>\n",
       "      <th>std_fit_time</th>\n",
       "      <th>mean_score_time</th>\n",
       "      <th>std_score_time</th>\n",
       "      <th>param_C</th>\n",
       "      <th>param_degree</th>\n",
       "      <th>param_kernel</th>\n",
       "      <th>param_max_iter</th>\n",
       "      <th>...</th>\n",
       "      <th>split4_train_score</th>\n",
       "      <th>mean_train_score</th>\n",
       "      <th>std_train_score</th>\n",
       "      <th>n_iter</th>\n",
       "      <th>h3_res</th>\n",
       "      <th>time_interval_length</th>\n",
       "      <th>mse</th>\n",
       "      <th>mae</th>\n",
       "      <th>mape</th>\n",
       "      <th>rmse</th>\n",
       "    </tr>\n",
       "  </thead>\n",
       "  <tbody>\n",
       "    <tr>\n",
       "      <th>0</th>\n",
       "      <td>0</td>\n",
       "      <td>700</td>\n",
       "      <td>0.085993</td>\n",
       "      <td>0.008556</td>\n",
       "      <td>0.005001</td>\n",
       "      <td>0.000631</td>\n",
       "      <td>100</td>\n",
       "      <td>2.0</td>\n",
       "      <td>poly</td>\n",
       "      <td>1000000</td>\n",
       "      <td>...</td>\n",
       "      <td>-0.921735</td>\n",
       "      <td>-1.474168</td>\n",
       "      <td>0.315868</td>\n",
       "      <td>20034</td>\n",
       "      <td>7</td>\n",
       "      <td>1</td>\n",
       "      <td>10.215582</td>\n",
       "      <td>2.453907</td>\n",
       "      <td>1.070018</td>\n",
       "      <td>3.196182</td>\n",
       "    </tr>\n",
       "    <tr>\n",
       "      <th>1</th>\n",
       "      <td>0</td>\n",
       "      <td>700</td>\n",
       "      <td>0.115137</td>\n",
       "      <td>0.009045</td>\n",
       "      <td>0.004662</td>\n",
       "      <td>0.000615</td>\n",
       "      <td>100</td>\n",
       "      <td>2.0</td>\n",
       "      <td>poly</td>\n",
       "      <td>1000000</td>\n",
       "      <td>...</td>\n",
       "      <td>-4.227780</td>\n",
       "      <td>-3.649198</td>\n",
       "      <td>0.576507</td>\n",
       "      <td>42492</td>\n",
       "      <td>7</td>\n",
       "      <td>2</td>\n",
       "      <td>20.247135</td>\n",
       "      <td>3.462498</td>\n",
       "      <td>1.210664</td>\n",
       "      <td>4.499682</td>\n",
       "    </tr>\n",
       "    <tr>\n",
       "      <th>2</th>\n",
       "      <td>0</td>\n",
       "      <td>700</td>\n",
       "      <td>0.075061</td>\n",
       "      <td>0.008247</td>\n",
       "      <td>0.003855</td>\n",
       "      <td>0.000955</td>\n",
       "      <td>100</td>\n",
       "      <td>2.0</td>\n",
       "      <td>poly</td>\n",
       "      <td>1000000</td>\n",
       "      <td>...</td>\n",
       "      <td>-79.818517</td>\n",
       "      <td>-101.326197</td>\n",
       "      <td>13.329427</td>\n",
       "      <td>39690</td>\n",
       "      <td>7</td>\n",
       "      <td>6</td>\n",
       "      <td>65.700426</td>\n",
       "      <td>5.506617</td>\n",
       "      <td>1.116206</td>\n",
       "      <td>8.105580</td>\n",
       "    </tr>\n",
       "    <tr>\n",
       "      <th>3</th>\n",
       "      <td>0</td>\n",
       "      <td>700</td>\n",
       "      <td>0.048791</td>\n",
       "      <td>0.002480</td>\n",
       "      <td>0.005403</td>\n",
       "      <td>0.001743</td>\n",
       "      <td>100</td>\n",
       "      <td>2.0</td>\n",
       "      <td>poly</td>\n",
       "      <td>1000000</td>\n",
       "      <td>...</td>\n",
       "      <td>-571.773590</td>\n",
       "      <td>-666.423665</td>\n",
       "      <td>84.385445</td>\n",
       "      <td>9846</td>\n",
       "      <td>7</td>\n",
       "      <td>24</td>\n",
       "      <td>629.835237</td>\n",
       "      <td>12.356898</td>\n",
       "      <td>1.016750</td>\n",
       "      <td>25.096518</td>\n",
       "    </tr>\n",
       "    <tr>\n",
       "      <th>4</th>\n",
       "      <td>0</td>\n",
       "      <td>700</td>\n",
       "      <td>0.050784</td>\n",
       "      <td>0.005983</td>\n",
       "      <td>0.007007</td>\n",
       "      <td>0.000020</td>\n",
       "      <td>100</td>\n",
       "      <td>2.0</td>\n",
       "      <td>poly</td>\n",
       "      <td>1000000</td>\n",
       "      <td>...</td>\n",
       "      <td>-0.027570</td>\n",
       "      <td>-0.021068</td>\n",
       "      <td>0.007900</td>\n",
       "      <td>3395</td>\n",
       "      <td>8</td>\n",
       "      <td>1</td>\n",
       "      <td>0.396341</td>\n",
       "      <td>0.454566</td>\n",
       "      <td>0.395275</td>\n",
       "      <td>0.629556</td>\n",
       "    </tr>\n",
       "    <tr>\n",
       "      <th>5</th>\n",
       "      <td>0</td>\n",
       "      <td>700</td>\n",
       "      <td>0.058474</td>\n",
       "      <td>0.002833</td>\n",
       "      <td>0.007188</td>\n",
       "      <td>0.000403</td>\n",
       "      <td>100</td>\n",
       "      <td>2.0</td>\n",
       "      <td>poly</td>\n",
       "      <td>1000000</td>\n",
       "      <td>...</td>\n",
       "      <td>-0.025367</td>\n",
       "      <td>-0.032442</td>\n",
       "      <td>0.012910</td>\n",
       "      <td>7478</td>\n",
       "      <td>8</td>\n",
       "      <td>2</td>\n",
       "      <td>1.179758</td>\n",
       "      <td>0.792153</td>\n",
       "      <td>0.625384</td>\n",
       "      <td>1.086167</td>\n",
       "    </tr>\n",
       "    <tr>\n",
       "      <th>6</th>\n",
       "      <td>0</td>\n",
       "      <td>700</td>\n",
       "      <td>0.260489</td>\n",
       "      <td>0.018463</td>\n",
       "      <td>0.022787</td>\n",
       "      <td>0.007764</td>\n",
       "      <td>100</td>\n",
       "      <td>2.0</td>\n",
       "      <td>poly</td>\n",
       "      <td>1000000</td>\n",
       "      <td>...</td>\n",
       "      <td>-0.009669</td>\n",
       "      <td>-0.018740</td>\n",
       "      <td>0.007038</td>\n",
       "      <td>2926</td>\n",
       "      <td>8</td>\n",
       "      <td>6</td>\n",
       "      <td>1.459292</td>\n",
       "      <td>0.888741</td>\n",
       "      <td>0.568491</td>\n",
       "      <td>1.208012</td>\n",
       "    </tr>\n",
       "    <tr>\n",
       "      <th>7</th>\n",
       "      <td>0</td>\n",
       "      <td>700</td>\n",
       "      <td>0.060897</td>\n",
       "      <td>0.001352</td>\n",
       "      <td>0.007272</td>\n",
       "      <td>0.001210</td>\n",
       "      <td>100</td>\n",
       "      <td>2.0</td>\n",
       "      <td>poly</td>\n",
       "      <td>1000000</td>\n",
       "      <td>...</td>\n",
       "      <td>-2.249394</td>\n",
       "      <td>-2.541990</td>\n",
       "      <td>0.318314</td>\n",
       "      <td>10005</td>\n",
       "      <td>8</td>\n",
       "      <td>24</td>\n",
       "      <td>9.884722</td>\n",
       "      <td>2.001288</td>\n",
       "      <td>0.888145</td>\n",
       "      <td>3.143998</td>\n",
       "    </tr>\n",
       "  </tbody>\n",
       "</table>\n",
       "<p>8 rows × 33 columns</p>\n",
       "</div>"
      ],
      "text/plain": [
       "   iter  n_resources  mean_fit_time  std_fit_time  mean_score_time  \\\n",
       "0     0          700       0.085993      0.008556         0.005001   \n",
       "1     0          700       0.115137      0.009045         0.004662   \n",
       "2     0          700       0.075061      0.008247         0.003855   \n",
       "3     0          700       0.048791      0.002480         0.005403   \n",
       "4     0          700       0.050784      0.005983         0.007007   \n",
       "5     0          700       0.058474      0.002833         0.007188   \n",
       "6     0          700       0.260489      0.018463         0.022787   \n",
       "7     0          700       0.060897      0.001352         0.007272   \n",
       "\n",
       "   std_score_time  param_C  param_degree param_kernel  param_max_iter  ...  \\\n",
       "0        0.000631      100           2.0         poly         1000000  ...   \n",
       "1        0.000615      100           2.0         poly         1000000  ...   \n",
       "2        0.000955      100           2.0         poly         1000000  ...   \n",
       "3        0.001743      100           2.0         poly         1000000  ...   \n",
       "4        0.000020      100           2.0         poly         1000000  ...   \n",
       "5        0.000403      100           2.0         poly         1000000  ...   \n",
       "6        0.007764      100           2.0         poly         1000000  ...   \n",
       "7        0.001210      100           2.0         poly         1000000  ...   \n",
       "\n",
       "  split4_train_score  mean_train_score  std_train_score  n_iter  h3_res  \\\n",
       "0          -0.921735         -1.474168         0.315868   20034       7   \n",
       "1          -4.227780         -3.649198         0.576507   42492       7   \n",
       "2         -79.818517       -101.326197        13.329427   39690       7   \n",
       "3        -571.773590       -666.423665        84.385445    9846       7   \n",
       "4          -0.027570         -0.021068         0.007900    3395       8   \n",
       "5          -0.025367         -0.032442         0.012910    7478       8   \n",
       "6          -0.009669         -0.018740         0.007038    2926       8   \n",
       "7          -2.249394         -2.541990         0.318314   10005       8   \n",
       "\n",
       "   time_interval_length         mse        mae      mape       rmse  \n",
       "0                     1   10.215582   2.453907  1.070018   3.196182  \n",
       "1                     2   20.247135   3.462498  1.210664   4.499682  \n",
       "2                     6   65.700426   5.506617  1.116206   8.105580  \n",
       "3                    24  629.835237  12.356898  1.016750  25.096518  \n",
       "4                     1    0.396341   0.454566  0.395275   0.629556  \n",
       "5                     2    1.179758   0.792153  0.625384   1.086167  \n",
       "6                     6    1.459292   0.888741  0.568491   1.208012  \n",
       "7                    24    9.884722   2.001288  0.888145   3.143998  \n",
       "\n",
       "[8 rows x 33 columns]"
      ]
     },
     "execution_count": 8,
     "metadata": {},
     "output_type": "execute_result"
    }
   ],
   "source": [
    "results_final = pd.read_parquet(SVM_SECOND_STAGE_RESULTS_PATH)\n",
    "results_final"
   ]
  },
  {
   "cell_type": "code",
   "execution_count": null,
   "metadata": {},
   "outputs": [],
   "source": []
  }
 ],
 "metadata": {
  "interpreter": {
   "hash": "480189c8b893ba0e665d676e4d8fbaa7064789f8cb0c8dbdf4a412ac1da4cf12"
  },
  "kernelspec": {
   "display_name": "Python 3.9.13 ('AAA_MAGMA')",
   "language": "python",
   "name": "python3"
  },
  "language_info": {
   "codemirror_mode": {
    "name": "ipython",
    "version": 3
   },
   "file_extension": ".py",
   "mimetype": "text/x-python",
   "name": "python",
   "nbconvert_exporter": "python",
   "pygments_lexer": "ipython3",
   "version": "3.9.13"
  },
  "orig_nbformat": 4
 },
 "nbformat": 4,
 "nbformat_minor": 2
}
