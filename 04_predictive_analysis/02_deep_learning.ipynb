{
 "cells": [
  {
   "cell_type": "code",
   "execution_count": 18,
   "metadata": {},
   "outputs": [],
   "source": [
    "import pandas as pd\n",
    "import numpy as np\n",
    "from tqdm.notebook import tqdm\n",
    "from itertools import product\n",
    "import warnings\n",
    "\n",
    "# for neural networks\n",
    "from keras.models import Sequential\n",
    "from keras.layers import Dense, Dropout\n",
    "from keras.callbacks import EarlyStopping\n",
    "\n",
    "# for evaluation & preprocessing\n",
    "from sklearn.model_selection import train_test_split\n",
    "from sklearn.preprocessing import StandardScaler\n",
    "from sklearn.metrics import (\n",
    "    mean_squared_error,\n",
    "    mean_absolute_error,\n",
    ")\n",
    "import sys, os\n",
    "sys.path.append(os.path.abspath(os.path.join(\"..\")))"
   ]
  },
  {
   "cell_type": "code",
   "execution_count": 19,
   "metadata": {},
   "outputs": [
    {
     "name": "stdout",
     "output_type": "stream",
     "text": [
      "The autoreload extension is already loaded. To reload it, use:\n",
      "  %reload_ext autoreload\n"
     ]
    }
   ],
   "source": [
    "import sys, os\n",
    "\n",
    "sys.path.append(os.path.abspath('..'))\n",
    "%load_ext autoreload\n",
    "%autoreload 2\n",
    "from modules.config import *"
   ]
  },
  {
   "cell_type": "code",
   "execution_count": 20,
   "metadata": {},
   "outputs": [],
   "source": [
    "def get_nn_results_columns():\n",
    "    return [\n",
    "        \"h3_res\",\n",
    "        \"time_interval_length\",\n",
    "        \"batch_size\",\n",
    "        \"nodes_per_feature\",\n",
    "        \"n_layers\",\n",
    "        \"activation\",\n",
    "        \"dropout\",\n",
    "        \"val_mse\", \"val_mae\", \"val_mape\", \"val_rmse\",\n",
    "        \"test_mse\", \"test_mae\", \"test_mape\", \"test_rmse\"\n",
    "    ]\n",
    "\n",
    "def get_results_df(path):\n",
    "    if os.path.isfile(path):\n",
    "        return pd.read_parquet(path)\n",
    "\n",
    "    results = pd.DataFrame(columns=get_nn_results_columns())\n",
    "    results.to_parquet(path)\n",
    "    return results\n",
    "\n",
    "\n",
    "def store_results(new_results, path):\n",
    "    results = pd.read_parquet(path)\n",
    "    results = pd.concat([results, new_results], ignore_index=True)\n",
    "    results.to_parquet(path)"
   ]
  },
  {
   "cell_type": "code",
   "execution_count": 21,
   "metadata": {},
   "outputs": [],
   "source": [
    "# this method will get model data for a specific h3 resolution and time interval length\n",
    "def get_model_data(h3_res, time_interval_length):\n",
    "    path = os.path.join(MODEL_DATA_DIR_PATH, f\"{h3_res}_{time_interval_length}.feather\")\n",
    "    model_data = pd.read_feather( path)\n",
    "    return model_data\n"
   ]
  },
  {
   "cell_type": "code",
   "execution_count": 22,
   "metadata": {},
   "outputs": [],
   "source": [
    "def split_and_scale_data(model_data):\n",
    "    y = model_data[\"demand\"]\n",
    "    X = model_data.drop(columns=[\"demand\"])\n",
    "\n",
    "    X_train, X_test, y_train, y_test = train_test_split(\n",
    "        X, y, train_size=0.7, random_state=42\n",
    "    )\n",
    "    X_train, X_valid, y_train, y_valid = train_test_split(\n",
    "        X_train, y_train, train_size=0.7, random_state=42\n",
    "    )\n",
    "\n",
    "    scaler = StandardScaler()\n",
    "    X_train = scaler.fit_transform(X_train)\n",
    "    X_valid = scaler.transform(X_valid)\n",
    "    X_test = scaler.transform(X_test)\n",
    "    return X_train, X_valid, X_test, y_train, y_valid, y_test\n"
   ]
  },
  {
   "cell_type": "code",
   "execution_count": 23,
   "metadata": {},
   "outputs": [],
   "source": [
    "def train_model(\n",
    "    X_train, y_train, batch_size, nodes_per_feature, n_layers, activation, dropout\n",
    "):\n",
    "    model = Sequential()\n",
    "    model.add(\n",
    "        Dense(nodes_per_feature, activation=activation, input_shape=(X_train.shape[1],))\n",
    "    )\n",
    "    n_features = X_train.shape[1]\n",
    "    for _ in range(n_layers):\n",
    "\n",
    "        model.add(Dense(nodes_per_feature * n_features, activation=activation))\n",
    "        if dropout >= 0:\n",
    "            model.add(Dropout(dropout))\n",
    "    model.add(Dense(1, activation=\"relu\"))\n",
    "\n",
    "    model.compile(optimizer=\"adam\", loss=\"mean_squared_error\", metrics=[\"mae\"])\n",
    "\n",
    "    early_stopping = EarlyStopping(patience=5, min_delta=0.001)\n",
    "    n_epochs = 40\n",
    "    history = model.fit(\n",
    "        X_train,\n",
    "        y_train,\n",
    "        epochs=n_epochs,\n",
    "        batch_size=batch_size,\n",
    "        validation_split=0.25,\n",
    "        callbacks=[early_stopping],\n",
    "        verbose=0,\n",
    "    )\n",
    "    n_trained_epochs = len(history.history[\"loss\"])\n",
    "    if n_trained_epochs == n_epochs:\n",
    "        warnings.warn(\"Model was stopped while validation loss was still improving\")\n",
    "    return model\n"
   ]
  },
  {
   "cell_type": "code",
   "execution_count": 24,
   "metadata": {},
   "outputs": [],
   "source": [
    "def mean_average_percentage_error(y_true, y_pred):\n",
    "    return mean_absolute_error(y_true, y_pred) / y_true.mean()\n",
    "\n",
    "\n",
    "def root_mean_squared_error(y_true, y_pred):\n",
    "    return mean_squared_error(y_true, y_pred) ** 0.5\n",
    "\n",
    "def get_evaluation_metrics(y_true, y_pred, prefix):\n",
    "    return {\n",
    "        prefix+'_mse': mean_squared_error(y_true, y_pred),\n",
    "        prefix+'_mae': mean_absolute_error(y_true, y_pred),\n",
    "        prefix+'_mape': mean_average_percentage_error(y_true, y_pred),\n",
    "        prefix+'_rmse': root_mean_squared_error(y_true, y_pred),\n",
    "    }"
   ]
  },
  {
   "cell_type": "code",
   "execution_count": 25,
   "metadata": {},
   "outputs": [],
   "source": [
    "def get_model_meta_as_dict(model_meta):\n",
    "    return {\n",
    "        \"batch_size\": model_meta[0],\n",
    "        \"nodes_per_feature\": model_meta[1],\n",
    "        \"n_layers\": model_meta[2],\n",
    "        \"activation\": model_meta[3],\n",
    "        \"dropout\": model_meta[4],\n",
    "    }\n",
    "\n",
    "\n",
    "def get_first_stage_hyperparameters():\n",
    "    metas = {\n",
    "        \"batch_size\": [32, 64, 128, 256],\n",
    "        \"nodes_per_feature\": [1],\n",
    "        \"n_layers\": [1],\n",
    "        \"activation\": [\"relu\"],\n",
    "        \"dropout\": [-1],\n",
    "    }\n",
    "    metas_list = list(product(*metas.values()))\n",
    "    models_metas = [get_model_meta_as_dict(model_meta) for model_meta in metas_list]\n",
    "    return models_metas\n",
    "\n",
    "\n",
    "def get_second_stage_hyperparameters(best_batch_size):\n",
    "    metas = {\n",
    "        \"batch_size\": [best_batch_size],\n",
    "        \"nodes_per_feature\": [0.5, 1, 1.5],\n",
    "        \"n_layers\": [1, 2, 3],\n",
    "        \"activation\": [\"relu\", \"sigmoid\", \"tanh\"],\n",
    "        \"dropout\": [-1],\n",
    "    }\n",
    "    metas_list = list(product(*metas.values()))\n",
    "    models_metas = [get_model_meta_as_dict(model_meta) for model_meta in metas_list]\n",
    "    return models_metas\n",
    "\n",
    "\n",
    "def get_third_stage_hyperparameters(\n",
    "    best_batch_size, best_nodes_per_feature, best_n_layers, best_activation\n",
    "):\n",
    "    metas = {\n",
    "        \"batch_size\": [best_batch_size],\n",
    "        \"nodes_per_feature\": [best_nodes_per_feature],\n",
    "        \"n_layers\": [best_n_layers],\n",
    "        \"activation\": [best_activation],\n",
    "        \"dropout\": [0, 0.05, 0.1, 0.2],\n",
    "    }\n",
    "    metas_list = list(product(*metas.values()))\n",
    "    models_metas = [get_model_meta_as_dict(model_meta) for model_meta in metas_list]\n",
    "    return models_metas\n"
   ]
  },
  {
   "cell_type": "code",
   "execution_count": 26,
   "metadata": {},
   "outputs": [],
   "source": [
    "def model_was_already_trained(results_path, h3_res, time_interval_length, model_params):\n",
    "    results = get_results_df(results_path)\n",
    "    return not results[\n",
    "        (results[\"h3_res\"] == h3_res)\n",
    "        & (results[\"time_interval_length\"] == time_interval_length)\n",
    "        & (results[\"batch_size\"] == model_params[\"batch_size\"])\n",
    "        & (results[\"nodes_per_feature\"] == model_params[\"nodes_per_feature\"])\n",
    "        & (results[\"n_layers\"] == model_params[\"n_layers\"])\n",
    "        & (results[\"activation\"] == model_params[\"activation\"])\n",
    "        & (results[\"dropout\"] == model_params[\"dropout\"])\n",
    "    ][\"val_mape\"].empty\n"
   ]
  },
  {
   "cell_type": "code",
   "execution_count": 27,
   "metadata": {},
   "outputs": [],
   "source": [
    "def execute_stage(\n",
    "    results_path, get_hyperparameters, h3_res, time_interval_length, test_phase=False, \n",
    "):\n",
    "    model_data = get_model_data(h3_res, time_interval_length)\n",
    "    model_data = model_data.iloc[:1000]\n",
    "    X_train, X_valid, X_test, y_train, y_valid, y_test = split_and_scale_data(\n",
    "        model_data\n",
    "    )\n",
    "    if test_phase:\n",
    "        X_train = np.concatenate([X_train, X_valid])\n",
    "        y_train = np.concatenate([y_train, y_valid])\n",
    "\n",
    "        X_valid = X_test\n",
    "        y_valid = y_test\n",
    "\n",
    "    for model_params in tqdm(get_hyperparameters()):\n",
    "        console_out = (\n",
    "            f\"batch_size: {model_params['batch_size']} - \"\n",
    "            + f\"nodes_per_feature: {model_params['nodes_per_feature']} - \"\n",
    "            + f\"n_layers: {model_params['n_layers']} - \"\n",
    "            + f\"activation: {model_params['activation']} - \"\n",
    "            + f\"dropout: {model_params['dropout']}\"\n",
    "        )\n",
    "        tqdm.write(console_out, end=\"\\r\")\n",
    "        if model_was_already_trained(\n",
    "            results_path, h3_res, time_interval_length, model_params\n",
    "        ):\n",
    "            tqdm.write(console_out + \" # already trained\")\n",
    "            continue\n",
    "\n",
    "        model = train_model(\n",
    "            X_train,\n",
    "            y_train,\n",
    "            model_params[\"batch_size\"],\n",
    "            model_params[\"nodes_per_feature\"],\n",
    "            model_params[\"n_layers\"],\n",
    "            model_params[\"activation\"],\n",
    "            model_params[\"dropout\"],\n",
    "        )\n",
    "        tqdm.write(console_out + \" # trained\", end=\"\\r\")\n",
    "        y_pred_for_validation = model.predict(X_valid)\n",
    "\n",
    "        results = {\n",
    "            \"h3_res\": h3_res,\n",
    "            \"time_interval_length\": time_interval_length,\n",
    "            \"batch_size\": model_params[\"batch_size\"],\n",
    "            \"nodes_per_feature\": model_params[\"nodes_per_feature\"],\n",
    "            \"n_layers\": model_params[\"n_layers\"],\n",
    "            \"activation\": model_params[\"activation\"],\n",
    "            \"dropout\": model_params[\"dropout\"],\n",
    "            **get_evaluation_metrics(\n",
    "                y_valid, y_pred_for_validation, \"test\" if test_phase else \"val\"\n",
    "            ),\n",
    "        }\n",
    "        store_results(pd.DataFrame(data=results, index=[0]), results_path)\n",
    "        tqdm.write(console_out + \" # evaluated\")\n"
   ]
  },
  {
   "cell_type": "code",
   "execution_count": 28,
   "metadata": {},
   "outputs": [
    {
     "data": {
      "application/vnd.jupyter.widget-view+json": {
       "model_id": "2272fde537b54665a4877612ab115c34",
       "version_major": 2,
       "version_minor": 0
      },
      "text/plain": [
       "  0%|          | 0/4 [00:00<?, ?it/s]"
      ]
     },
     "metadata": {},
     "output_type": "display_data"
    },
    {
     "name": "stdout",
     "output_type": "stream",
     "text": [
      "batch_size: 32 - nodes_per_feature: 1 - n_layers: 1 - activation: relu - dropout: -1 # already trained\n",
      "batch_size: 64 - nodes_per_feature: 1 - n_layers: 1 - activation: relu - dropout: -1 # already trained\n",
      "batch_size: 128 - nodes_per_feature: 1 - n_layers: 1 - activation: relu - dropout: -1 # already trained\n",
      "batch_size: 256 - nodes_per_feature: 1 - n_layers: 1 - activation: relu - dropout: -1 # already trained\n"
     ]
    }
   ],
   "source": [
    "execute_stage(\n",
    "    NN_FIRST_STAGE_RESULTS_PATH,\n",
    "    get_first_stage_hyperparameters,\n",
    "    TUNE_H3_RESOLUTION,\n",
    "    TUNE_TIME_INTERVAL_LENGTH,\n",
    ")"
   ]
  },
  {
   "cell_type": "code",
   "execution_count": 29,
   "metadata": {},
   "outputs": [
    {
     "name": "stdout",
     "output_type": "stream",
     "text": [
      "best batch_size: **256** - min: 32 - max: 256\n"
     ]
    }
   ],
   "source": [
    "results = get_results_df(NN_FIRST_STAGE_RESULTS_PATH)\n",
    "\n",
    "best_batch_size = (\n",
    "    results[\n",
    "        (results[\"h3_res\"] == TUNE_H3_RESOLUTION)\n",
    "        & (results[\"time_interval_length\"] == TUNE_TIME_INTERVAL_LENGTH)\n",
    "    ]\n",
    "    .sort_values(by=\"val_mape\", ascending=True)[\"batch_size\"]\n",
    "    .iloc[0]\n",
    ")\n",
    "\n",
    "first_stage_hyperparameters = get_first_stage_hyperparameters()\n",
    "batch_sizes = list(map(lambda x: x['batch_size'], first_stage_hyperparameters))\n",
    "max_batch_size = max(batch_sizes)\n",
    "min_batch_size = min(batch_sizes)\n",
    "\n",
    "print(f\"best batch_size: **{best_batch_size}** - min: {min_batch_size} - max: {max_batch_size}\")\n"
   ]
  },
  {
   "cell_type": "code",
   "execution_count": 30,
   "metadata": {},
   "outputs": [
    {
     "data": {
      "application/vnd.jupyter.widget-view+json": {
       "model_id": "009c6af3353b42d6a460ca8a69982f71",
       "version_major": 2,
       "version_minor": 0
      },
      "text/plain": [
       "  0%|          | 0/27 [00:00<?, ?it/s]"
      ]
     },
     "metadata": {},
     "output_type": "display_data"
    },
    {
     "name": "stdout",
     "output_type": "stream",
     "text": [
      "batch_size: 256 - nodes_per_feature: 0.5 - n_layers: 1 - activation: relu - dropout: -1 # already trained\n",
      "batch_size: 256 - nodes_per_feature: 0.5 - n_layers: 1 - activation: sigmoid - dropout: -1 # already trained\n",
      "batch_size: 256 - nodes_per_feature: 0.5 - n_layers: 1 - activation: tanh - dropout: -1 # already trained\n",
      "batch_size: 256 - nodes_per_feature: 0.5 - n_layers: 2 - activation: relu - dropout: -1 # already trained\n",
      "batch_size: 256 - nodes_per_feature: 0.5 - n_layers: 2 - activation: sigmoid - dropout: -1 # already trained\n",
      "batch_size: 256 - nodes_per_feature: 0.5 - n_layers: 2 - activation: tanh - dropout: -1 # already trained\n",
      "batch_size: 256 - nodes_per_feature: 0.5 - n_layers: 3 - activation: relu - dropout: -1 # already trained\n",
      "batch_size: 256 - nodes_per_feature: 0.5 - n_layers: 3 - activation: sigmoid - dropout: -1 # already trained\n",
      "batch_size: 256 - nodes_per_feature: 0.5 - n_layers: 3 - activation: tanh - dropout: -1 # already trained\n",
      "batch_size: 256 - nodes_per_feature: 1 - n_layers: 1 - activation: relu - dropout: -1 # already trained\n",
      "batch_size: 256 - nodes_per_feature: 1 - n_layers: 1 - activation: sigmoid - dropout: -1 # already trained\n",
      "batch_size: 256 - nodes_per_feature: 1 - n_layers: 1 - activation: tanh - dropout: -1 # already trained\n",
      "batch_size: 256 - nodes_per_feature: 1 - n_layers: 2 - activation: relu - dropout: -1 # already trained\n",
      "batch_size: 256 - nodes_per_feature: 1 - n_layers: 2 - activation: sigmoid - dropout: -1 # already trained\n",
      "batch_size: 256 - nodes_per_feature: 1 - n_layers: 2 - activation: tanh - dropout: -1 # already trained\n",
      "batch_size: 256 - nodes_per_feature: 1 - n_layers: 3 - activation: relu - dropout: -1 # already trained\n",
      "batch_size: 256 - nodes_per_feature: 1 - n_layers: 3 - activation: sigmoid - dropout: -1 # already trained\n",
      "batch_size: 256 - nodes_per_feature: 1 - n_layers: 3 - activation: tanh - dropout: -1 # already trained\n",
      "batch_size: 256 - nodes_per_feature: 1.5 - n_layers: 1 - activation: relu - dropout: -1 # already trained\n",
      "batch_size: 256 - nodes_per_feature: 1.5 - n_layers: 1 - activation: sigmoid - dropout: -1 # already trained\n",
      "batch_size: 256 - nodes_per_feature: 1.5 - n_layers: 1 - activation: tanh - dropout: -1 # already trained\n",
      "batch_size: 256 - nodes_per_feature: 1.5 - n_layers: 2 - activation: relu - dropout: -1 # already trained\n",
      "batch_size: 256 - nodes_per_feature: 1.5 - n_layers: 2 - activation: sigmoid - dropout: -1 # already trained\n",
      "batch_size: 256 - nodes_per_feature: 1.5 - n_layers: 2 - activation: tanh - dropout: -1 # already trained\n",
      "batch_size: 256 - nodes_per_feature: 1.5 - n_layers: 3 - activation: relu - dropout: -1 # already trained\n",
      "batch_size: 256 - nodes_per_feature: 1.5 - n_layers: 3 - activation: sigmoid - dropout: -1 # already trained\n",
      "batch_size: 256 - nodes_per_feature: 1.5 - n_layers: 3 - activation: tanh - dropout: -1 # already trained\n"
     ]
    }
   ],
   "source": [
    "get_hyperparameters = lambda : get_second_stage_hyperparameters(best_batch_size)\n",
    "execute_stage(\n",
    "    NN_SECOND_STAGE_RESULTS_PATH,\n",
    "    get_hyperparameters,\n",
    "    TUNE_H3_RESOLUTION,\n",
    "    TUNE_TIME_INTERVAL_LENGTH,\n",
    ")"
   ]
  },
  {
   "cell_type": "code",
   "execution_count": 31,
   "metadata": {},
   "outputs": [
    {
     "data": {
      "text/plain": [
       "{'batch_size': 256,\n",
       " 'nodes_per_feature': 1.5,\n",
       " 'n_layers': 2,\n",
       " 'activation': 'relu'}"
      ]
     },
     "execution_count": 31,
     "metadata": {},
     "output_type": "execute_result"
    }
   ],
   "source": [
    "results = get_results_df(NN_SECOND_STAGE_RESULTS_PATH)\n",
    "best_model = (\n",
    "    results[\n",
    "        (results[\"h3_res\"] == TUNE_H3_RESOLUTION)\n",
    "        & (results[\"time_interval_length\"] == TUNE_TIME_INTERVAL_LENGTH)\n",
    "    ]\n",
    "    .sort_values(by=\"val_mape\", ascending=True)\n",
    "    .iloc[0]\n",
    ")\n",
    "\n",
    "best_config = {\n",
    "    \"batch_size\": best_model[\"batch_size\"],\n",
    "    \"nodes_per_feature\": best_model[\"nodes_per_feature\"],\n",
    "    \"n_layers\": best_model[\"n_layers\"],\n",
    "    \"activation\": best_model[\"activation\"],\n",
    "}\n",
    "\n",
    "best_config\n"
   ]
  },
  {
   "cell_type": "code",
   "execution_count": 32,
   "metadata": {},
   "outputs": [
    {
     "data": {
      "application/vnd.jupyter.widget-view+json": {
       "model_id": "4a5eca0053d644d2b8cd37f1de80bbfe",
       "version_major": 2,
       "version_minor": 0
      },
      "text/plain": [
       "  0%|          | 0/4 [00:00<?, ?it/s]"
      ]
     },
     "metadata": {},
     "output_type": "display_data"
    },
    {
     "name": "stdout",
     "output_type": "stream",
     "text": [
      "batch_size: 256 - nodes_per_feature: 1.5 - n_layers: 2 - activation: relu - dropout: 0 # already trained\n",
      "batch_size: 256 - nodes_per_feature: 1.5 - n_layers: 2 - activation: relu - dropout: 0.05 # already trained\n",
      "batch_size: 256 - nodes_per_feature: 1.5 - n_layers: 2 - activation: relu - dropout: 0.1 # already trained\n",
      "batch_size: 256 - nodes_per_feature: 1.5 - n_layers: 2 - activation: relu - dropout: 0.2 # already trained\n"
     ]
    }
   ],
   "source": [
    "get_hyperparameters = lambda : get_third_stage_hyperparameters(\n",
    "    best_batch_size=best_model[\"batch_size\"],\n",
    "    best_nodes_per_feature=best_model[\"nodes_per_feature\"],\n",
    "    best_n_layers=best_model[\"n_layers\"],\n",
    "    best_activation=best_model[\"activation\"],\n",
    ")\n",
    "execute_stage(\n",
    "    NN_THIRD_STAGE_RESULTS_PATH,\n",
    "    get_hyperparameters,\n",
    "    TUNE_H3_RESOLUTION,\n",
    "    TUNE_TIME_INTERVAL_LENGTH,\n",
    ")\n"
   ]
  },
  {
   "cell_type": "code",
   "execution_count": 33,
   "metadata": {},
   "outputs": [
    {
     "data": {
      "text/plain": [
       "{'batch_size': 256,\n",
       " 'nodes_per_feature': 1.5,\n",
       " 'n_layers': 2,\n",
       " 'activation': 'relu',\n",
       " 'dropout': 0.05}"
      ]
     },
     "execution_count": 33,
     "metadata": {},
     "output_type": "execute_result"
    }
   ],
   "source": [
    "results = get_results_df(NN_THIRD_STAGE_RESULTS_PATH)\n",
    "results\n",
    "best_dropout = (\n",
    "\tresults[\n",
    "\t\t(results[\"h3_res\"] == TUNE_H3_RESOLUTION)\n",
    "\t\t& (results[\"time_interval_length\"] == TUNE_TIME_INTERVAL_LENGTH)\n",
    "\t]\n",
    "\t.sort_values(by=\"val_mape\", ascending=True)[\"dropout\"]\n",
    "\t.iloc[0]\n",
    ")\n",
    "best_config = {\n",
    "\t**best_config,\n",
    "\t\"dropout\": best_dropout,\n",
    "}\n",
    "best_config\n",
    "\t\t"
   ]
  },
  {
   "cell_type": "code",
   "execution_count": 38,
   "metadata": {},
   "outputs": [
    {
     "data": {
      "text/html": [
       "<div>\n",
       "<style scoped>\n",
       "    .dataframe tbody tr th:only-of-type {\n",
       "        vertical-align: middle;\n",
       "    }\n",
       "\n",
       "    .dataframe tbody tr th {\n",
       "        vertical-align: top;\n",
       "    }\n",
       "\n",
       "    .dataframe thead th {\n",
       "        text-align: right;\n",
       "    }\n",
       "</style>\n",
       "<table border=\"1\" class=\"dataframe\">\n",
       "  <thead>\n",
       "    <tr style=\"text-align: right;\">\n",
       "      <th></th>\n",
       "      <th>demand</th>\n",
       "      <th>h3_res</th>\n",
       "      <th>time_interval_length</th>\n",
       "      <th>hour_0</th>\n",
       "      <th>hour_1</th>\n",
       "      <th>hour_2</th>\n",
       "      <th>hour_3</th>\n",
       "      <th>hour_4</th>\n",
       "      <th>hour_5</th>\n",
       "      <th>hour_6</th>\n",
       "      <th>...</th>\n",
       "      <th>start_land_use_13</th>\n",
       "      <th>start_land_use_14</th>\n",
       "      <th>start_land_use_15</th>\n",
       "      <th>start_land_use_16</th>\n",
       "      <th>start_land_use_17</th>\n",
       "      <th>start_land_use_18</th>\n",
       "      <th>start_land_use_19</th>\n",
       "      <th>start_land_use_20</th>\n",
       "      <th>start_land_use_21</th>\n",
       "      <th>start_land_use_22</th>\n",
       "    </tr>\n",
       "  </thead>\n",
       "  <tbody>\n",
       "  </tbody>\n",
       "</table>\n",
       "<p>0 rows × 78 columns</p>\n",
       "</div>"
      ],
      "text/plain": [
       "Empty DataFrame\n",
       "Columns: [demand, h3_res, time_interval_length, hour_0, hour_1, hour_2, hour_3, hour_4, hour_5, hour_6, hour_7, hour_8, hour_9, hour_10, hour_11, hour_12, hour_13, hour_14, hour_15, hour_16, hour_17, hour_18, hour_19, hour_20, hour_21, hour_22, hour_23, weekday_0, weekday_1, weekday_2, weekday_3, weekday_4, weekday_5, weekday_6, month_1, month_2, month_3, month_4, month_5, month_6, month_7, month_8, month_9, month_10, month_11, month_12, min_temperature, max_temperature, mean_mean_wind_speed, mean_total_cloud_cover, sum_precipitation, sustenance_poi_start, public_transport_poi_start, education_poi_start, arts_and_culture_poi_start, sports_poi_start, start_land_use_1, start_land_use_2, start_land_use_3, start_land_use_4, start_land_use_5, start_land_use_6, start_land_use_7, start_land_use_8, start_land_use_9, start_land_use_10, start_land_use_11, start_land_use_12, start_land_use_13, start_land_use_14, start_land_use_15, start_land_use_16, start_land_use_17, start_land_use_18, start_land_use_19, start_land_use_20, start_land_use_21, start_land_use_22]\n",
       "Index: []\n",
       "\n",
       "[0 rows x 78 columns]"
      ]
     },
     "execution_count": 38,
     "metadata": {},
     "output_type": "execute_result"
    }
   ],
   "source": [
    "get_model_data(7,6)"
   ]
  },
  {
   "cell_type": "code",
   "execution_count": 39,
   "metadata": {},
   "outputs": [
    {
     "name": "stdout",
     "output_type": "stream",
     "text": [
      "7 1\n"
     ]
    },
    {
     "data": {
      "application/vnd.jupyter.widget-view+json": {
       "model_id": "624b338cad6449f0acc70835da119f4d",
       "version_major": 2,
       "version_minor": 0
      },
      "text/plain": [
       "  0%|          | 0/1 [00:00<?, ?it/s]"
      ]
     },
     "metadata": {},
     "output_type": "display_data"
    },
    {
     "name": "stdout",
     "output_type": "stream",
     "text": [
      "batch_size: 256 - nodes_per_feature: 1.5 - n_layers: 2 - activation: relu - dropout: 0.05 # already trained\n",
      "7 2\n"
     ]
    },
    {
     "data": {
      "application/vnd.jupyter.widget-view+json": {
       "model_id": "75fbdc4061d94f0580e60f65516305b6",
       "version_major": 2,
       "version_minor": 0
      },
      "text/plain": [
       "  0%|          | 0/1 [00:00<?, ?it/s]"
      ]
     },
     "metadata": {},
     "output_type": "display_data"
    },
    {
     "name": "stdout",
     "output_type": "stream",
     "text": [
      "batch_size: 256 - nodes_per_feature: 1.5 - n_layers: 2 - activation: relu - dropout: 0.05 # already trained\n",
      "7 6\n",
      "7 24\n"
     ]
    },
    {
     "data": {
      "application/vnd.jupyter.widget-view+json": {
       "model_id": "b7e6fc2f9ceb40e3a595f13c3e0d9d9c",
       "version_major": 2,
       "version_minor": 0
      },
      "text/plain": [
       "  0%|          | 0/1 [00:00<?, ?it/s]"
      ]
     },
     "metadata": {},
     "output_type": "display_data"
    },
    {
     "name": "stdout",
     "output_type": "stream",
     "text": [
      "batch_size: 256 - nodes_per_feature: 1.5 - n_layers: 2 - activation: relu - dropout: 0.05\r"
     ]
    },
    {
     "name": "stderr",
     "output_type": "stream",
     "text": [
      "/tmp/ipykernel_34202/2411882979.py:31: UserWarning: Model was stopped while validation loss was still improving\n",
      "  warnings.warn(\"Model was stopped while validation loss was still improving\")\n"
     ]
    },
    {
     "name": "stdout",
     "output_type": "stream",
     "text": [
      "batch_size: 256 - nodes_per_feature: 1.5 - n_layers: 2 - activation: relu - dropout: 0.05 # evaluated\n",
      "8 1\n",
      "8 2\n",
      "8 6\n"
     ]
    },
    {
     "data": {
      "application/vnd.jupyter.widget-view+json": {
       "model_id": "5ce4fd74dd3e432b806c067a19abe64e",
       "version_major": 2,
       "version_minor": 0
      },
      "text/plain": [
       "  0%|          | 0/1 [00:00<?, ?it/s]"
      ]
     },
     "metadata": {},
     "output_type": "display_data"
    },
    {
     "name": "stdout",
     "output_type": "stream",
     "text": [
      "batch_size: 256 - nodes_per_feature: 1.5 - n_layers: 2 - activation: relu - dropout: 0.05 # evaluated\n",
      "8 24\n",
      "9 1\n"
     ]
    },
    {
     "data": {
      "application/vnd.jupyter.widget-view+json": {
       "model_id": "7746a133fff04a769d62dc420648b58f",
       "version_major": 2,
       "version_minor": 0
      },
      "text/plain": [
       "  0%|          | 0/1 [00:00<?, ?it/s]"
      ]
     },
     "metadata": {},
     "output_type": "display_data"
    },
    {
     "name": "stdout",
     "output_type": "stream",
     "text": [
      "batch_size: 256 - nodes_per_feature: 1.5 - n_layers: 2 - activation: relu - dropout: 0.05 # evaluated\n",
      "9 2\n"
     ]
    },
    {
     "data": {
      "application/vnd.jupyter.widget-view+json": {
       "model_id": "832383dd6a12463c968c6fc6bc159227",
       "version_major": 2,
       "version_minor": 0
      },
      "text/plain": [
       "  0%|          | 0/1 [00:00<?, ?it/s]"
      ]
     },
     "metadata": {},
     "output_type": "display_data"
    },
    {
     "name": "stdout",
     "output_type": "stream",
     "text": [
      "batch_size: 256 - nodes_per_feature: 1.5 - n_layers: 2 - activation: relu - dropout: 0.05 # evaluated\n",
      "9 6\n",
      "9 24\n"
     ]
    },
    {
     "data": {
      "application/vnd.jupyter.widget-view+json": {
       "model_id": "3d469a605eeb46bbac65b6d4c4096a6b",
       "version_major": 2,
       "version_minor": 0
      },
      "text/plain": [
       "  0%|          | 0/1 [00:00<?, ?it/s]"
      ]
     },
     "metadata": {},
     "output_type": "display_data"
    },
    {
     "name": "stdout",
     "output_type": "stream",
     "text": [
      "batch_size: 256 - nodes_per_feature: 1.5 - n_layers: 2 - activation: relu - dropout: 0.05 # evaluated\n"
     ]
    }
   ],
   "source": [
    "for h3_res, time_interval_length in product(CALC_H3_RESOLUTIONS, CALC_TIME_INTERVAL_LENGTHS):\n",
    "\tprint(h3_res, time_interval_length)\n",
    "\ttry:\n",
    "\t\texecute_stage(\n",
    "\t\t\tNN_FOURTH_STAGE_RESULTS_PATH,\n",
    "\t\t\tlambda : [best_config],\n",
    "\t\t\th3_res,\n",
    "\t\t\ttime_interval_length,\n",
    "\t\t\ttest_phase=True,\n",
    "\t\t)\n",
    "\texcept:\n",
    "\t\tpass"
   ]
  },
  {
   "cell_type": "code",
   "execution_count": 41,
   "metadata": {},
   "outputs": [
    {
     "data": {
      "text/html": [
       "<div>\n",
       "<style scoped>\n",
       "    .dataframe tbody tr th:only-of-type {\n",
       "        vertical-align: middle;\n",
       "    }\n",
       "\n",
       "    .dataframe tbody tr th {\n",
       "        vertical-align: top;\n",
       "    }\n",
       "\n",
       "    .dataframe thead th {\n",
       "        text-align: right;\n",
       "    }\n",
       "</style>\n",
       "<table border=\"1\" class=\"dataframe\">\n",
       "  <thead>\n",
       "    <tr style=\"text-align: right;\">\n",
       "      <th></th>\n",
       "      <th>h3_res</th>\n",
       "      <th>time_interval_length</th>\n",
       "      <th>batch_size</th>\n",
       "      <th>nodes_per_feature</th>\n",
       "      <th>n_layers</th>\n",
       "      <th>activation</th>\n",
       "      <th>dropout</th>\n",
       "      <th>val_mse</th>\n",
       "      <th>val_mae</th>\n",
       "      <th>val_mape</th>\n",
       "      <th>val_rmse</th>\n",
       "      <th>test_mse</th>\n",
       "      <th>test_mae</th>\n",
       "      <th>test_mape</th>\n",
       "      <th>test_rmse</th>\n",
       "    </tr>\n",
       "  </thead>\n",
       "  <tbody>\n",
       "    <tr>\n",
       "      <th>0</th>\n",
       "      <td>7</td>\n",
       "      <td>1</td>\n",
       "      <td>256</td>\n",
       "      <td>1.5</td>\n",
       "      <td>2</td>\n",
       "      <td>relu</td>\n",
       "      <td>0.05</td>\n",
       "      <td>None</td>\n",
       "      <td>None</td>\n",
       "      <td>None</td>\n",
       "      <td>None</td>\n",
       "      <td>0.801164</td>\n",
       "      <td>0.661631</td>\n",
       "      <td>0.438166</td>\n",
       "      <td>0.895078</td>\n",
       "    </tr>\n",
       "    <tr>\n",
       "      <th>1</th>\n",
       "      <td>7</td>\n",
       "      <td>2</td>\n",
       "      <td>256</td>\n",
       "      <td>1.5</td>\n",
       "      <td>2</td>\n",
       "      <td>relu</td>\n",
       "      <td>0.05</td>\n",
       "      <td>None</td>\n",
       "      <td>None</td>\n",
       "      <td>None</td>\n",
       "      <td>None</td>\n",
       "      <td>2.238201</td>\n",
       "      <td>1.110350</td>\n",
       "      <td>0.520476</td>\n",
       "      <td>1.496062</td>\n",
       "    </tr>\n",
       "    <tr>\n",
       "      <th>2</th>\n",
       "      <td>7</td>\n",
       "      <td>24</td>\n",
       "      <td>256</td>\n",
       "      <td>1.5</td>\n",
       "      <td>2</td>\n",
       "      <td>relu</td>\n",
       "      <td>0.05</td>\n",
       "      <td>None</td>\n",
       "      <td>None</td>\n",
       "      <td>None</td>\n",
       "      <td>None</td>\n",
       "      <td>239.377734</td>\n",
       "      <td>11.813052</td>\n",
       "      <td>0.859131</td>\n",
       "      <td>15.471837</td>\n",
       "    </tr>\n",
       "    <tr>\n",
       "      <th>3</th>\n",
       "      <td>8</td>\n",
       "      <td>6</td>\n",
       "      <td>256</td>\n",
       "      <td>1.5</td>\n",
       "      <td>2</td>\n",
       "      <td>relu</td>\n",
       "      <td>0.05</td>\n",
       "      <td>None</td>\n",
       "      <td>None</td>\n",
       "      <td>None</td>\n",
       "      <td>None</td>\n",
       "      <td>2.270000</td>\n",
       "      <td>1.323333</td>\n",
       "      <td>1.000000</td>\n",
       "      <td>1.506652</td>\n",
       "    </tr>\n",
       "    <tr>\n",
       "      <th>4</th>\n",
       "      <td>9</td>\n",
       "      <td>1</td>\n",
       "      <td>256</td>\n",
       "      <td>1.5</td>\n",
       "      <td>2</td>\n",
       "      <td>relu</td>\n",
       "      <td>0.05</td>\n",
       "      <td>None</td>\n",
       "      <td>None</td>\n",
       "      <td>None</td>\n",
       "      <td>None</td>\n",
       "      <td>0.109484</td>\n",
       "      <td>0.217080</td>\n",
       "      <td>0.194982</td>\n",
       "      <td>0.330884</td>\n",
       "    </tr>\n",
       "    <tr>\n",
       "      <th>5</th>\n",
       "      <td>9</td>\n",
       "      <td>2</td>\n",
       "      <td>256</td>\n",
       "      <td>1.5</td>\n",
       "      <td>2</td>\n",
       "      <td>relu</td>\n",
       "      <td>0.05</td>\n",
       "      <td>None</td>\n",
       "      <td>None</td>\n",
       "      <td>None</td>\n",
       "      <td>None</td>\n",
       "      <td>1.463333</td>\n",
       "      <td>1.136667</td>\n",
       "      <td>1.000000</td>\n",
       "      <td>1.209683</td>\n",
       "    </tr>\n",
       "    <tr>\n",
       "      <th>6</th>\n",
       "      <td>9</td>\n",
       "      <td>24</td>\n",
       "      <td>256</td>\n",
       "      <td>1.5</td>\n",
       "      <td>2</td>\n",
       "      <td>relu</td>\n",
       "      <td>0.05</td>\n",
       "      <td>None</td>\n",
       "      <td>None</td>\n",
       "      <td>None</td>\n",
       "      <td>None</td>\n",
       "      <td>0.349757</td>\n",
       "      <td>0.326694</td>\n",
       "      <td>0.264173</td>\n",
       "      <td>0.591403</td>\n",
       "    </tr>\n",
       "  </tbody>\n",
       "</table>\n",
       "</div>"
      ],
      "text/plain": [
       "   h3_res  time_interval_length  batch_size  nodes_per_feature  n_layers  \\\n",
       "0       7                     1         256                1.5         2   \n",
       "1       7                     2         256                1.5         2   \n",
       "2       7                    24         256                1.5         2   \n",
       "3       8                     6         256                1.5         2   \n",
       "4       9                     1         256                1.5         2   \n",
       "5       9                     2         256                1.5         2   \n",
       "6       9                    24         256                1.5         2   \n",
       "\n",
       "  activation  dropout val_mse val_mae val_mape val_rmse    test_mse  \\\n",
       "0       relu     0.05    None    None     None     None    0.801164   \n",
       "1       relu     0.05    None    None     None     None    2.238201   \n",
       "2       relu     0.05    None    None     None     None  239.377734   \n",
       "3       relu     0.05    None    None     None     None    2.270000   \n",
       "4       relu     0.05    None    None     None     None    0.109484   \n",
       "5       relu     0.05    None    None     None     None    1.463333   \n",
       "6       relu     0.05    None    None     None     None    0.349757   \n",
       "\n",
       "    test_mae  test_mape  test_rmse  \n",
       "0   0.661631   0.438166   0.895078  \n",
       "1   1.110350   0.520476   1.496062  \n",
       "2  11.813052   0.859131  15.471837  \n",
       "3   1.323333   1.000000   1.506652  \n",
       "4   0.217080   0.194982   0.330884  \n",
       "5   1.136667   1.000000   1.209683  \n",
       "6   0.326694   0.264173   0.591403  "
      ]
     },
     "execution_count": 41,
     "metadata": {},
     "output_type": "execute_result"
    }
   ],
   "source": [
    "results = get_results_df(NN_FOURTH_STAGE_RESULTS_PATH)\n",
    "results"
   ]
  },
  {
   "cell_type": "code",
   "execution_count": null,
   "metadata": {},
   "outputs": [],
   "source": []
  }
 ],
 "metadata": {
  "kernelspec": {
   "display_name": "Python 3.9.12 ('AAA_MAGMA')",
   "language": "python",
   "name": "python3"
  },
  "language_info": {
   "codemirror_mode": {
    "name": "ipython",
    "version": 3
   },
   "file_extension": ".py",
   "mimetype": "text/x-python",
   "name": "python",
   "nbconvert_exporter": "python",
   "pygments_lexer": "ipython3",
   "version": "3.9.12"
  },
  "orig_nbformat": 4,
  "vscode": {
   "interpreter": {
    "hash": "6f128d9a36ac5782f4755de02247e2ed06e0bf1d935493c1f1cb8e21863a0d39"
   }
  }
 },
 "nbformat": 4,
 "nbformat_minor": 2
}
