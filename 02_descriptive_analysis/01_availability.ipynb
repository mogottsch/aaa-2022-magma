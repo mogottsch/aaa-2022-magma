{
 "cells": [
  {
   "cell_type": "code",
   "execution_count": null,
   "metadata": {},
   "outputs": [],
   "source": [
    "import sys, os\n",
    "sys.path.append(os.path.abspath('..'))\n",
    "%load_ext autoreload\n",
    "%autoreload 2\n",
    "\n",
    "from modules.config import *\n",
    "from modules import h3_visualization"
   ]
  },
  {
   "cell_type": "code",
   "execution_count": null,
   "metadata": {},
   "outputs": [],
   "source": [
    "import pandas as pd\n",
    "import numpy as np\n",
    "import matplotlib.pyplot as plt"
   ]
  },
  {
   "cell_type": "markdown",
   "metadata": {},
   "source": [
    "**Note**:\n",
    "Before committing we removed all cell outputs. We understand that this is inconvenient, but the plotly maps are too large to be included in the repository.\n",
    "We are sorry and hope that the execution of this notebook does not take too long. \n",
    "\n",
    "As an alternative we uploaded a version with the outputs to [sciebo](https://uni-koeln.sciebo.de/s/uOWeBconyLHOzLf) (the password is the same as for the sciebo folder as provided on ilias)."
   ]
  },
  {
   "cell_type": "markdown",
   "metadata": {},
   "source": [
    "# Spatial And Temporal Analysis Of Availability\n",
    "In this notebook we will analyse the temporal and spatial availability of bicycles.\n",
    "We will also vary the spatial and temporal resolution to see how the displayed information changes."
   ]
  },
  {
   "cell_type": "code",
   "execution_count": null,
   "metadata": {},
   "outputs": [],
   "source": [
    "availability_all = pd.read_parquet(AVAILABILITY_PATH)"
   ]
  },
  {
   "cell_type": "code",
   "execution_count": null,
   "metadata": {},
   "outputs": [],
   "source": [
    "availability_all.head()"
   ]
  },
  {
   "cell_type": "markdown",
   "metadata": {},
   "source": [
    "First we define methods that return the data in different shapes, in which we\n",
    "can easiliy create plots.  \n",
    "These methods also take the temporal and spatial resolution as an input."
   ]
  },
  {
   "cell_type": "code",
   "execution_count": null,
   "metadata": {},
   "outputs": [],
   "source": [
    "def get_availability(h3_res: int, time_interval_length: int):\n",
    "    return availability_all.xs((h3_res, time_interval_length)).reset_index()\n",
    "\n",
    "\n",
    "def get_average_availability_per_hexagon(h3_res: int, time_interval_length: int):\n",
    "    return get_availability(h3_res, time_interval_length).groupby(\"hex_id\").mean()\n",
    "\n",
    "\n",
    "def get_average_availability_per_hexagon_per_freq(\n",
    "    h3_res: int, time_interval_length: int, freq: str\n",
    "):\n",
    "    return (\n",
    "        get_availability(h3_res, time_interval_length)\n",
    "        .set_index([\"hex_id\", \"datetime\"])\n",
    "        .groupby([pd.Grouper(level=\"hex_id\"), pd.Grouper(level=\"datetime\", freq=freq)])\n",
    "        .sum()\n",
    "        .reset_index()\n",
    "    )\n",
    "\n",
    "\n",
    "def get_average_daily_availability(h3_res: int, time_interval_length: int):\n",
    "    return (\n",
    "        get_average_availability_per_hexagon_per_freq(h3_res, time_interval_length, \"d\")\n",
    "        .groupby(\"datetime\")\n",
    "        .mean()\n",
    "    )\n"
   ]
  },
  {
   "cell_type": "markdown",
   "metadata": {},
   "source": [
    "## Availability Per Hexagon"
   ]
  },
  {
   "cell_type": "markdown",
   "metadata": {},
   "source": [
    "First we will look at the average availability of bicycles in each hexagon."
   ]
  },
  {
   "cell_type": "code",
   "execution_count": null,
   "metadata": {},
   "outputs": [],
   "source": [
    "def plot_availability_per_hexagon(h3_res: int, time_interval_length: int):\n",
    "\th3_visualization.plot_choropleth(\n",
    "\t\tget_average_availability_per_hexagon(h3_res, time_interval_length).reset_index(),\n",
    "\t\thex_col=\"hex_id\",\n",
    "\t\tcolor_by_col=\"n_bikes\",\n",
    "\n",
    "\t\thover_name=\"hex_id\",\n",
    "\t\thover_data=['n_bikes'],\n",
    "\t\tlabels={'n_bikes': '# available bikes'},\n",
    "\t\topacity=0.7,\n",
    "\t\tcolor_continuous_scale=\"blues\",\n",
    "\n",
    "\t\tzoom=10,\n",
    "\t\twidth=800,\n",
    "\t\theight=600,\n",
    "\t\tcenter={\"lat\": 51.3397, \"lon\": 12.3731},\n",
    "\t\tmapbox_style=\"open-street-map\",\n",
    "\t)"
   ]
  },
  {
   "cell_type": "code",
   "execution_count": null,
   "metadata": {},
   "outputs": [],
   "source": [
    "plot_availability_per_hexagon(9, 6)"
   ]
  },
  {
   "cell_type": "markdown",
   "metadata": {},
   "source": [
    "We can see the hexagon with the highest average availability of roughly 6 bicycles per 6 hour time interval is in the west of the city.\n",
    "When investigating the area around it using Google Street View, we can see that the hexagon moslty consists of residential buildings and some restaurants.\n",
    "![](../figures/availability_max_location.png)\n",
    "It seems as many people use bicycles to get home and less people use them to get from home away.\n",
    "Let us also look at the landuse for that hexagon."
   ]
  },
  {
   "cell_type": "markdown",
   "metadata": {},
   "source": [
    "### Compare With Landuse "
   ]
  },
  {
   "cell_type": "code",
   "execution_count": null,
   "metadata": {},
   "outputs": [],
   "source": [
    "top_available_hexagons = (\n",
    "    get_average_availability_per_hexagon(9, 6)\n",
    "    .reset_index()\n",
    "    .sort_values(\"n_bikes\", ascending=False)\n",
    "    .head(3)\n",
    ")\n",
    "top_available_hexagons\n"
   ]
  },
  {
   "cell_type": "code",
   "execution_count": null,
   "metadata": {},
   "outputs": [],
   "source": [
    "landuse = pd.read_parquet(HEXAGONS_WITH_LAND_USE_PATH)\n",
    "landuse.loc[top_available_hexagons['hex_id'].iloc[0]].idxmax()"
   ]
  },
  {
   "cell_type": "markdown",
   "metadata": {},
   "source": [
    "As we cann see the hexagon ist mostly covered in `land_use_3`, which is \"Continuous urban fabric\". This is coherent with our observation from Google Street View. "
   ]
  },
  {
   "cell_type": "markdown",
   "metadata": {},
   "source": [
    "The hexagon next to the highest availability hexagon that go along the main road also have an increased availability of bicycles."
   ]
  },
  {
   "cell_type": "markdown",
   "metadata": {},
   "source": [
    "If we focus our attention to the center of the map, we can see three neighboring hexagons that have high availability. Inside of those hexagons is Leipzig's main train station, which is very busy. Therefore it seems plausible that the availability of bicycles in these hexagons is high."
   ]
  },
  {
   "cell_type": "markdown",
   "metadata": {},
   "source": [
    "### Vary Spatial Resolution"
   ]
  },
  {
   "cell_type": "markdown",
   "metadata": {},
   "source": [
    "Let us look what happens when we decrease the spatial resolution. "
   ]
  },
  {
   "cell_type": "code",
   "execution_count": null,
   "metadata": {},
   "outputs": [],
   "source": [
    "plot_availability_per_hexagon(8, 6)"
   ]
  },
  {
   "cell_type": "markdown",
   "metadata": {},
   "source": [
    "As we can see the patterns of the previous resolution are still visible, however the hexagon with the highest availability is now in the center of the map, where the train station is. In this resolution we are not really able to identify the smaller hotspot from the previous resolution."
   ]
  },
  {
   "cell_type": "markdown",
   "metadata": {},
   "source": [
    "### Availability Per Hexagon Per Month"
   ]
  },
  {
   "cell_type": "markdown",
   "metadata": {},
   "source": [
    "Next let's plot the availability per hexagon again, but this time for each month. Then we can try to find seasonal patterns in the spatial availability of bicycles."
   ]
  },
  {
   "cell_type": "code",
   "execution_count": null,
   "metadata": {},
   "outputs": [],
   "source": [
    "availability_month_hex = get_average_availability_per_hexagon_per_freq(\n",
    "    9, 6, \"M\"\n",
    ")"
   ]
  },
  {
   "cell_type": "code",
   "execution_count": null,
   "metadata": {},
   "outputs": [],
   "source": [
    "availability_month_hex['month'] = availability_month_hex.datetime.dt.month"
   ]
  },
  {
   "cell_type": "code",
   "execution_count": null,
   "metadata": {},
   "outputs": [],
   "source": [
    "# only for vscode\n",
    "# https://github.com/microsoft/vscode-jupyter/issues/4364#issuecomment-817352686\n",
    "import plotly.io as pio\n",
    "pio.renderers.default = 'notebook_connected'"
   ]
  },
  {
   "cell_type": "code",
   "execution_count": null,
   "metadata": {},
   "outputs": [],
   "source": [
    "h3_visualization.plot_choropleth(\n",
    "    availability_month_hex.reset_index(),\n",
    "    hex_col=\"hex_id\",\n",
    "    color_by_col=\"n_bikes\",\n",
    "\tanimation_frame=\"month\",\n",
    "\n",
    "    hover_data=['n_bikes'],\n",
    "    labels={'n_bikes': '# available bikes'},\n",
    "\n",
    "    opacity=0.7,\n",
    "    color_continuous_scale=\"blues\",\n",
    "\n",
    "\n",
    "    center={\"lat\": 51.3397, \"lon\": 12.3731},\n",
    "    height=600,\n",
    "    width=800,\n",
    "\tzoom=10,\n",
    "    mapbox_style=\"open-street-map\",\n",
    ")\n"
   ]
  },
  {
   "cell_type": "markdown",
   "metadata": {},
   "source": [
    "For seasonal patterns we can see a small increase of availability in August in the far east of the map, next to a Lake called \"Kulkwitzer See\". This increase could be due to the fact that people like to go to the lake in the summer. However, we cannot observe the same behaviour for other lakes in in the area.  \n",
    "We also observe that during the winter the availability at the train station in the center of the map is very high, while it decreases compared to other hotspots during the summer. This could be due to the fact that when it's cold outside people prefer public transport to bicycles and only use bicycles to get to the nearest train station (e.g. the main train station)."
   ]
  },
  {
   "cell_type": "markdown",
   "metadata": {},
   "source": [
    "### Daily Availability\n",
    "Next we will look at the daily availability of bicycles."
   ]
  },
  {
   "cell_type": "code",
   "execution_count": null,
   "metadata": {},
   "outputs": [],
   "source": [
    "fig, ax = plt.subplots(figsize=(12, 6))\n",
    "get_average_daily_availability(9,6).plot(ax=ax)\n",
    "ax.set_ylabel('Number of bikes')\n",
    "ax.set_xlabel('Date')\n",
    "ax.set_title('Daily availability')\n",
    "plt.show()"
   ]
  },
  {
   "cell_type": "markdown",
   "metadata": {},
   "source": [
    "**Note:** When plotted only along the time dimension the availability basically approximates the fleet size.\n",
    "We can clearly see that the availability of bicycles increases in the summer months. Most likely NextBike increases the fleet size during the summer as they expect an increased amount of demand.  \n",
    "Interestingly, we see a drop in availability in the middle of March, that is followed by an increase in availability. It is possible that NextBike takes a large proportion of bicycles out of the system for maintenance before the summer starts. \n"
   ]
  },
  {
   "cell_type": "code",
   "execution_count": null,
   "metadata": {},
   "outputs": [],
   "source": [
    "fig, ax = plt.subplots(figsize=(12, 6))\n",
    "get_average_daily_availability(9,1).plot(ax=ax)\n",
    "ax.set_ylabel('Number of bikes')\n",
    "ax.set_xlabel('Date')\n",
    "ax.set_title('Daily availability')\n",
    "plt.show()"
   ]
  },
  {
   "cell_type": "markdown",
   "metadata": {},
   "source": [
    "Varying the temporal resolution results in a very similar graphs with more fluctuations."
   ]
  }
 ],
 "metadata": {
  "kernelspec": {
   "display_name": "Python 3.9.7 ('aaMagma')",
   "language": "python",
   "name": "python3"
  },
  "language_info": {
   "codemirror_mode": {
    "name": "ipython",
    "version": 3
   },
   "file_extension": ".py",
   "mimetype": "text/x-python",
   "name": "python",
   "nbconvert_exporter": "python",
   "pygments_lexer": "ipython3",
   "version": "3.9.7"
  },
  "orig_nbformat": 4,
  "vscode": {
   "interpreter": {
    "hash": "c6872d53834705ff56e0e0f213a633d472959f0f219c1d5fc7183cc6712306d5"
   }
  }
 },
 "nbformat": 4,
 "nbformat_minor": 2
}
