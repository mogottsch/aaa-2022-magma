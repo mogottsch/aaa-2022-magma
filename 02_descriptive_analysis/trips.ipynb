{
 "cells": [
  {
   "cell_type": "code",
   "execution_count": null,
   "metadata": {},
   "outputs": [],
   "source": [
    "import sys, os\n",
    "sys.path.append(os.path.abspath('..'))\n",
    "%load_ext autoreload\n",
    "%autoreload 2\n",
    "\n",
    "from modules.config import *\n",
    "from modules import h3_visualization"
   ]
  },
  {
   "cell_type": "code",
   "execution_count": null,
   "metadata": {},
   "outputs": [],
   "source": [
    "import pandas as pd\n",
    "import numpy as np\n",
    "import matplotlib.pyplot as plt\n",
    "import h3"
   ]
  },
  {
   "cell_type": "markdown",
   "metadata": {},
   "source": [
    "**Note**:\n",
    "Before committing we removed all cell outputs. We understand that this is inconvenient, but the plotly maps are too large to be included in the repository.\n",
    "We are sorry and hope that the execution of this notebook does not take too long. "
   ]
  },
  {
   "cell_type": "markdown",
   "metadata": {},
   "source": [
    "# Spatial And Temporal Analysis Of Trips\n",
    "In this notebook we will analyze the total flow, net flow and idle time of trips\n",
    "along multiple spatial and temporal resolutions.\n"
   ]
  },
  {
   "cell_type": "code",
   "execution_count": null,
   "metadata": {},
   "outputs": [],
   "source": [
    "trips_grouped_all = pd.read_parquet(TRIPS_GROUPED_SPATIO_TEMPORAL_PATH)"
   ]
  },
  {
   "cell_type": "code",
   "execution_count": null,
   "metadata": {},
   "outputs": [],
   "source": [
    "def get_trips_grouped(h3_res: int, time_interval_length: int) -> pd.DataFrame:\n",
    "    return trips_grouped_all[\n",
    "        (trips_grouped_all[\"h3_res\"] == h3_res)\n",
    "        & (trips_grouped_all[\"time_interval_length\"] == time_interval_length)\n",
    "    ]\n",
    "\n",
    "def get_trips_net(h3_res: int, time_interval_length: int) -> pd.DataFrame:\n",
    "\ttrips_grouped = get_trips_grouped(h3_res, time_interval_length)\n",
    "\ttrips_by_start_hex = trips_grouped.groupby(\"start_hex_id\").sum()\n",
    "\ttrips_by_end_hex = trips_grouped.groupby(\"end_hex_id\").sum()\n",
    "\ttrips_net = (trips_by_end_hex - trips_by_start_hex).fillna(0)\n",
    "\treturn trips_net.reset_index().rename(columns={\"index\": \"hex_id\"})\n",
    "\n",
    "def get_trips_total(h3_res: int, time_interval_length: int) -> pd.DataFrame:\n",
    "\ttrips_grouped = get_trips_grouped(h3_res, time_interval_length)\n",
    "\ttrips_by_start_hex = trips_grouped.groupby(\"start_hex_id\").sum()\n",
    "\ttrips_by_end_hex = trips_grouped.groupby(\"end_hex_id\").sum()\n",
    "\ttrips_total = (trips_by_end_hex + trips_by_start_hex).fillna(0)\n",
    "\treturn trips_total.reset_index().rename(columns={\"index\": \"hex_id\"})\n"
   ]
  },
  {
   "cell_type": "code",
   "execution_count": null,
   "metadata": {},
   "outputs": [],
   "source": [
    "lat_lon_leipzig = {\"lat\": 51.33, \"lon\": 12.37}"
   ]
  },
  {
   "cell_type": "markdown",
   "metadata": {},
   "source": [
    "## Total Flow Of Bicycles\n",
    "First we will plot the total flow of bicycles per hexagon, that is the sum of incoming and outgoing trips."
   ]
  },
  {
   "cell_type": "code",
   "execution_count": null,
   "metadata": {},
   "outputs": [],
   "source": [
    "def plot_total_trips(h3_res: int, time_interval_length):\n",
    "\th3_visualization.plot_choropleth(\n",
    "\t\tget_trips_total(h3_res, time_interval_length).reset_index(),\n",
    "\t\thex_col=\"hex_id\",\n",
    "\t\tcolor_by_col=\"demand\",\n",
    "\t\tcenter=lat_lon_leipzig,\n",
    "\t\tcolor_continuous_scale=\"magma\",\n",
    "\t\topacity=0.7,\n",
    "\t\tzoom=10,\n",
    "\t\tlabels={'demand': '# starting & ending trips'},\n",
    "\t)"
   ]
  },
  {
   "cell_type": "code",
   "execution_count": null,
   "metadata": {},
   "outputs": [],
   "source": [
    "plot_total_trips(9, 1)"
   ]
  },
  {
   "cell_type": "markdown",
   "metadata": {},
   "source": [
    "As we can see the most flow is in the center of city, where the train station as well as the most shopping areas are. In addition we can see a cluster of hexagons with high flow in the west and east where residential areas are.\n",
    "We also see that the the hexagons around the borders of the city have very low flow. This shows that it is possible to satisfy a large portion of the demand by just focusing on the hotspots, which is an important consideration when entering the shared mobility market."
   ]
  },
  {
   "cell_type": "code",
   "execution_count": null,
   "metadata": {},
   "outputs": [],
   "source": [
    "plot_total_trips(8, 1)"
   ]
  },
  {
   "cell_type": "markdown",
   "metadata": {},
   "source": [
    "Changing the resolution of we can draw the same conclusions."
   ]
  },
  {
   "cell_type": "markdown",
   "metadata": {},
   "source": [
    "## Net Flow Of Bicycles Per Hexagon\n",
    "Next we will look at the net flow of bicycles per hexagon, which is the difference between incoming and outgoing trips.\n",
    "This measure is highly relevant for vehicle sharing system operators as it shows possible imbalance in the system.\n",
    "Imbalance in the system can lead to unmet demand and therefore wasted resources.\n",
    "Seeing where these imbalances occur is essential when performing relocations."
   ]
  },
  {
   "cell_type": "code",
   "execution_count": null,
   "metadata": {},
   "outputs": [],
   "source": [
    "def plot_net_trips(h3_res: int, time_interval_length, quantile=None):\n",
    "    trips_net_reset = get_trips_net(h3_res, time_interval_length)\n",
    "    max_mag = max(trips_net_reset[\"demand\"].max(), abs(trips_net_reset[\"demand\"].min()))\n",
    "\n",
    "    mininum = -max_mag if quantile == None else -trips_net_reset[\"demand\"].quantile(quantile)\n",
    "    maximum = max_mag if quantile == None else trips_net_reset[\"demand\"].quantile(quantile)\n",
    "\n",
    "    h3_visualization.plot_choropleth(\n",
    "        trips_net_reset,\n",
    "        hex_col=\"hex_id\",\n",
    "        color_by_col=\"demand\",\n",
    "        center=lat_lon_leipzig,\n",
    "        color_continuous_scale=\"RdBu\",\n",
    "        range_color=(\n",
    "            mininum,\n",
    "            maximum\n",
    "        ),\n",
    "        opacity=0.7,\n",
    "        zoom=10,\n",
    "        labels={'demand': 'inflow - outflow'}\n",
    "    )\n"
   ]
  },
  {
   "cell_type": "code",
   "execution_count": null,
   "metadata": {},
   "outputs": [],
   "source": [
    "plot_net_trips(9, 1)"
   ]
  },
  {
   "cell_type": "markdown",
   "metadata": {},
   "source": [
    "With our current color scale which is set the maximum absolute value of both\n",
    "inflow and outflow we can barely see any hexagons. The hexagon in which is next\n",
    "to the main train station has a incredibly high negative net flow, which means\n",
    "that a lot of people are leaving the station than they are coming in. Our custom\n",
    "should expect to observe the same behaviour when entering the market and\n",
    "therefore should consider to relocate bicycles to that hexagon, in order to\n",
    "avoid unmet demand.\n",
    "\n",
    "To continue our analysis we will lower the color scale. This means that some hexagons will have higher/lower values than those that can be represented by our current color scale. However, this still is necessary to see other interesting imbalances.\n"
   ]
  },
  {
   "cell_type": "code",
   "execution_count": null,
   "metadata": {},
   "outputs": [],
   "source": [
    "plot_net_trips(9, 1, 0.9999)"
   ]
  },
  {
   "cell_type": "markdown",
   "metadata": {},
   "source": [
    "With the adjusted color scale we can see multiple imbalanced hexagons. Most of them are in the center of the map. The hexagon with the highest inflow is at a small park called the \"Fritz-von-Harck-Anlage\". A very high inflow shows that more people end their trips at this hexagon than they start. Maybe the park is used by students from the main university nearby to relax. \n",
    "A local guide on google maps backs this cojection.  \n",
    "\n",
    "\"Ist sehr gut zum chillen\"  \n",
    "\"Is very good for chilling out\" (Translated by Google)  \n",
    "\\- [Franz Constapel](https://goo.gl/maps/gU6xMgQ1b7X7tcq5A) (a local guide)\n"
   ]
  },
  {
   "cell_type": "markdown",
   "metadata": {},
   "source": [
    "### Decrease Spatial Resolution\n",
    "Next we will decrease the spatial resolution to see if the portrayed imbalances are still present."
   ]
  },
  {
   "cell_type": "code",
   "execution_count": null,
   "metadata": {},
   "outputs": [],
   "source": [
    "plot_net_trips(8, 1, 0.9999)"
   ]
  },
  {
   "cell_type": "markdown",
   "metadata": {},
   "source": [
    "The lower resolution still shows some imbalances, however the hexagon with the high inflow we just analyzed is not present anymore.\n",
    "This happens because if two neighboring hexagons have negative and positive net flow, then they cancel each other out when the resolution is decreased. \n",
    "Therefore we advise to be careful when lowering the h3 resolution.\n",
    "\n",
    "However, we also see the imbalance of hexagons around the area of Plagwitz much more clearly now. Previously this imbalanced was distributed across multiple hexagon, that were all colored lightblue, but now it is one hexagon with a much more saturated blue. Therefore observing the same map in different spatial resolutions can help to identify the imbalances.\n"
   ]
  },
  {
   "cell_type": "code",
   "execution_count": null,
   "metadata": {},
   "outputs": [],
   "source": [
    "def get_trips_net_monthly(h3_res: int, time_interval_length: int) -> pd.DataFrame:\n",
    "\ttrips_grouped = get_trips_grouped(h3_res, time_interval_length)\n",
    "\ttrips_monthly_start = (\n",
    "\t\ttrips_grouped.groupby(\n",
    "\t\t\t[\n",
    "\t\t\t\tpd.Grouper(key=\"start_hex_id\"),\n",
    "\t\t\t\tpd.Grouper(key=\"datetime_start_floored\", freq=\"M\"),\n",
    "\t\t\t]\n",
    "\t\t)\n",
    "\t\t.sum()\n",
    "\t)\n",
    "\ttrips_monthly_end = (\n",
    "\t\ttrips_grouped.groupby(\n",
    "\t\t\t[\n",
    "\t\t\t\tpd.Grouper(key=\"end_hex_id\"),\n",
    "\t\t\t\tpd.Grouper(key=\"datetime_start_floored\", freq=\"M\"),\n",
    "\t\t\t]\n",
    "\t\t)\n",
    "\t\t.sum()\n",
    "\t)\n",
    "\n",
    "\ttrips_monthly_start.index.names = ['hex_id', 'datetime']\n",
    "\ttrips_monthly_end.index.names = ['hex_id', 'datetime']\n",
    "\n",
    "\treturn (trips_monthly_end - trips_monthly_start).fillna(0).reset_index()"
   ]
  },
  {
   "cell_type": "code",
   "execution_count": null,
   "metadata": {},
   "outputs": [],
   "source": [
    "def plot_trips_net_monthly(h3_res: int, time_interval_length: int):\n",
    "\ttrips_monthly_net = get_trips_net_monthly(h3_res, time_interval_length)\n",
    "\n",
    "\ttrips_monthly_net['month'] = trips_monthly_net['datetime'].dt.month\n",
    "\ttrips_monthly_net = trips_monthly_net.sort_values(by=['month'])\n",
    "\n",
    "\th3_visualization.plot_choropleth(\n",
    "\t\ttrips_monthly_net,\n",
    "\t\thex_col=\"hex_id\",\n",
    "\t\tcolor_by_col=\"demand\",\n",
    "\t\tcenter=lat_lon_leipzig,\n",
    "\t\tcolor_continuous_scale=\"RdBu\",\n",
    "\t\trange_color=(\n",
    "\t\t\t-50,\n",
    "\t\t\t50\n",
    "\t\t),\n",
    "\t\tanimation_frame=\"month\",\n",
    "\t\topacity=0.7,\n",
    "\t\tzoom=10,\n",
    "\t\tlabels={'demand': 'inflow - outflow'},\n",
    "\t\tmapbox_style=\"open-street-map\",\n",
    "\t)"
   ]
  },
  {
   "cell_type": "code",
   "execution_count": null,
   "metadata": {},
   "outputs": [],
   "source": [
    "# only for vscode\n",
    "# https://github.com/microsoft/vscode-jupyter/issues/4364#issuecomment-817352686\n",
    "import plotly.io as pio\n",
    "pio.renderers.default = 'notebook_connected'"
   ]
  },
  {
   "cell_type": "code",
   "execution_count": null,
   "metadata": {},
   "outputs": [],
   "source": [
    "plot_trips_net_monthly(9, 1)"
   ]
  },
  {
   "cell_type": "markdown",
   "metadata": {},
   "source": [
    "In terms of seasonal patterns we can see that the hexagon that covers the \"Floßplatz\"-park has very high outflow during the winter (september-december) and is relatively balanced for the other months. \n",
    "![](../figures/location_flossplatz_park.png)\n",
    "While we don't have a conjecture why there is so much outflow, we can reason why the overall balance is better during the summer, as it is very likely that more people will go to the park when it is warm.  \n",
    "This was just one example of such a seasonal pattern. There are many more seasonal dependent imbalances, which are all useful for operational decisions, such as relocations.\n"
   ]
  },
  {
   "cell_type": "markdown",
   "metadata": {},
   "source": [
    "## Idle Times Of Bicycles\n",
    "Next we will analyze the idle times of bicycles. The idle time is the time between two consecutive trips of the same bicycle.  \n",
    "\n",
    "The idle time is important for the bicycle sharing system operator as it might indicate an oversaturation of demand.  \n",
    "Also bicycles with unusually high idle times could indicate that the bicycle is damaged or hidden so that users cannot find it."
   ]
  },
  {
   "cell_type": "code",
   "execution_count": null,
   "metadata": {},
   "outputs": [],
   "source": [
    "trips = pd.read_parquet(TRIPS_PATH)"
   ]
  },
  {
   "cell_type": "code",
   "execution_count": null,
   "metadata": {},
   "outputs": [],
   "source": [
    "trips_shifted = trips.groupby(\"b_number\").shift(1).dropna(subset=[\"trip_start\"])\n",
    "# trips_shifted.trip_end.isna().sum()\n",
    "trips_with_next = trips.merge(\n",
    "    trips_shifted, left_index=True, right_index=True, how=\"inner\", suffixes=(\"\", \"_next\")\n",
    ")\n",
    "trips_with_next['b_number'] = trips['b_number']"
   ]
  },
  {
   "cell_type": "code",
   "execution_count": null,
   "metadata": {},
   "outputs": [],
   "source": [
    "trips_with_next['idle_time'] = (\n",
    "\ttrips_with_next.datetime_end - trips_with_next.datetime_start_next\n",
    ")"
   ]
  },
  {
   "cell_type": "code",
   "execution_count": null,
   "metadata": {},
   "outputs": [],
   "source": [
    "trips_with_next.idle_time.describe()"
   ]
  },
  {
   "cell_type": "code",
   "execution_count": null,
   "metadata": {},
   "outputs": [],
   "source": [
    "trips_with_next['timeinterval'] = (\n",
    "\ttrips_with_next.datetime_start.dt.floor('1D')\n",
    ")"
   ]
  },
  {
   "cell_type": "code",
   "execution_count": null,
   "metadata": {},
   "outputs": [],
   "source": [
    "fig, ax = plt.subplots(figsize=(12, 6))\n",
    "\n",
    "ax.plot(\n",
    "    trips_with_next.groupby(\"timeinterval\").idle_time.median().dt.total_seconds()\n",
    "    / 60\n",
    "    / 60,\n",
    ")\n",
    "ax.set_xlabel(\"Time interval\")\n",
    "ax.set_ylabel(\"Median idle time (hours)\")\n",
    "\n",
    "\n",
    "plt.savefig(\"../figures/idle_time_daily.png\")\n",
    "plt.show()\n"
   ]
  },
  {
   "cell_type": "markdown",
   "metadata": {},
   "source": [
    "We see that the idle time of bicycles seems to decrease until around July, after\n",
    "which it keeps steady.\n",
    "One possible explanation is that the operator was able to improve the relocation\n",
    "strategy, which results in less idle time of bicycles.\n",
    "Therefore, we advise the analysis of the bicycle relocations, to learn more about\n",
    "NextBikes relocation strategy."
   ]
  },
  {
   "cell_type": "markdown",
   "metadata": {},
   "source": [
    "Next we will plot the idle time of bicycles per hexagon. This will allow operators to identify hexagons with unusual high idle times, in order to, mitigate inefficiencies."
   ]
  },
  {
   "cell_type": "code",
   "execution_count": null,
   "metadata": {},
   "outputs": [],
   "source": [
    "trips_with_next[\"hex_id\"] = trips_with_next.apply(\n",
    "    lambda row: h3.geo_to_h3(row.lat_start, row.lng_start, H3_RESOLUTION), axis=1\n",
    ")\n"
   ]
  },
  {
   "cell_type": "code",
   "execution_count": null,
   "metadata": {},
   "outputs": [],
   "source": [
    "trips_with_next['month'] = trips_with_next.datetime_start.dt.month"
   ]
  },
  {
   "cell_type": "code",
   "execution_count": null,
   "metadata": {},
   "outputs": [],
   "source": [
    "idle_by_hex_time_median = trips_with_next.groupby([\"hex_id\", \"month\"])[\n",
    "    \"idle_time\"\n",
    "].median().rename(\"idle_time_median\")\n",
    "idle_by_hex_time_mean = trips_with_next.groupby([\"hex_id\", \"month\"])[\n",
    "    \"idle_time\"\n",
    "].mean().rename(\"idle_time_mean\")\n",
    "\n",
    "idle_by_hex_time = pd.concat(\n",
    "\t[idle_by_hex_time_median, idle_by_hex_time_mean], axis=1\n",
    ").reset_index()"
   ]
  },
  {
   "cell_type": "code",
   "execution_count": null,
   "metadata": {},
   "outputs": [],
   "source": [
    "idle_by_hex_time[\"idle_time_median_days\"] = (\n",
    "    idle_by_hex_time[\"idle_time_median\"].dt.total_seconds() / 60 / 60 / 24\n",
    ")\n",
    "idle_by_hex_time[\"idle_time_mean_days\"] = (\n",
    "    idle_by_hex_time[\"idle_time_mean\"].dt.total_seconds() / 60 / 60 / 24\n",
    ")\n"
   ]
  },
  {
   "cell_type": "code",
   "execution_count": null,
   "metadata": {},
   "outputs": [],
   "source": [
    "idle_by_hex = idle_by_hex_time.groupby(\"hex_id\").mean().reset_index()"
   ]
  },
  {
   "cell_type": "code",
   "execution_count": null,
   "metadata": {},
   "outputs": [],
   "source": [
    "h3_visualization.plot_choropleth(\n",
    "\tidle_by_hex,\n",
    "\thex_col=\"hex_id\",\n",
    "\tcolor_by_col=\"idle_time_median_days\",\n",
    "\tcenter=lat_lon_leipzig,\n",
    "\tzoom=10,\n",
    "\tcolor_continuous_scale=\"OrRd\",\n",
    "\tlabels={'idle_time_median_days': 'median idle time (days)'},\n",
    "\twidth=800,\n",
    "\theight=600,\n",
    ")"
   ]
  },
  {
   "cell_type": "markdown",
   "metadata": {},
   "source": [
    "Unexpectedly, we see that most of the hexagons with high idle time are at the border of the city.  \n",
    "To additionally accomodate seasonal patterns, we will now plot the idle time of bicycles per hexagon for each month."
   ]
  },
  {
   "cell_type": "code",
   "execution_count": null,
   "metadata": {},
   "outputs": [],
   "source": [
    "idle_by_hex_time = idle_by_hex_time.sort_values('month')"
   ]
  },
  {
   "cell_type": "code",
   "execution_count": null,
   "metadata": {},
   "outputs": [],
   "source": [
    "h3_visualization.plot_choropleth(\n",
    "\tidle_by_hex_time,\n",
    "\thex_col=\"hex_id\",\n",
    "\tcolor_by_col=\"idle_time_median_days\",\n",
    "\tcenter=lat_lon_leipzig,\n",
    "\tzoom=10,\n",
    "\tanimation_frame=\"month\",\n",
    "\tcolor_continuous_scale=\"OrRd\",\n",
    "\tlabels={'idle_time_median_days': 'median idle time (days)'},\n",
    "\twidth=800,\n",
    "\theight=600,\n",
    ")\n"
   ]
  },
  {
   "cell_type": "markdown",
   "metadata": {},
   "source": [
    "This interactive map now allows to identify hexagons with high idle time for each month. We see that the most critical hexagons differ vastly between the months."
   ]
  }
 ],
 "metadata": {
  "interpreter": {
   "hash": "6f128d9a36ac5782f4755de02247e2ed06e0bf1d935493c1f1cb8e21863a0d39"
  },
  "kernelspec": {
   "display_name": "Python 3.9.12 ('AAA_MAGMA')",
   "language": "python",
   "name": "python3"
  },
  "language_info": {
   "codemirror_mode": {
    "name": "ipython",
    "version": 3
   },
   "file_extension": ".py",
   "mimetype": "text/x-python",
   "name": "python",
   "nbconvert_exporter": "python",
   "pygments_lexer": "ipython3",
   "version": "3.9.12"
  },
  "orig_nbformat": 4
 },
 "nbformat": 4,
 "nbformat_minor": 2
}
